{
  "cells": [
    {
      "cell_type": "markdown",
      "metadata": {
        "id": "3rYiDeEH0q0f"
      },
      "source": [
        "# ¿Cuál es la mejor tarifa?\n",
        "\n",
        "Vas a realizar un análisis preliminar de las tarifas basado en una selección de clientes relativamente pequeña. Tendrás los datos de 500 clientes de Megaline: quiénes son los clientes, de dónde son, qué tarifa usan, así como la cantidad de llamadas que hicieron y los mensajes de texto que enviaron en 2018. Tu trabajo es analizar el comportamiento de los clientes y determinar qué tarifa de prepago genera más ingresos."
      ]
    },
    {
      "cell_type": "markdown",
      "metadata": {
        "id": "FNZENjsCPyvu"
      },
      "source": [
        "Realizaré un preprocesamiento de datos, buscando datos duplicados y ausentes.\n",
        "Luego pasaré a comprobar lo que se le pueda añadir a cada tabla, como nuevas columnas y redondear diferentes unidades de medir.\n",
        "Finalmente pasaré a la prueba de hipótesis, después de comprobación de gastos e ingresos para poder determinar qué tarifa de prepago genera más ingresos."
      ]
    },
    {
      "cell_type": "markdown",
      "metadata": {
        "id": "MQi4IPy70q0y"
      },
      "source": [
        "## Inicialización"
      ]
    },
    {
      "cell_type": "code",
      "execution_count": null,
      "metadata": {
        "id": "MtYIuBxu0q0z"
      },
      "outputs": [],
      "source": [
        "# Cargar todas las librerías\n",
        "\n",
        "import pandas as pd\n",
        "import numpy as np\n",
        "import matplotlib.pyplot as plt\n",
        "import seaborn as sns\n",
        "from math import factorial\n",
        "from scipy import stats as st"
      ]
    },
    {
      "cell_type": "markdown",
      "metadata": {
        "id": "4ysWWC5i0q00"
      },
      "source": [
        "## Cargar datos"
      ]
    },
    {
      "cell_type": "code",
      "execution_count": null,
      "metadata": {
        "id": "CCqPW7rS0q01"
      },
      "outputs": [],
      "source": [
        "# Carga los archivos de datos en diferentes DataFrames\n",
        "\n",
        "calls_df = pd.read_csv('/datasets/megaline_calls.csv')\n",
        "internet_df = pd.read_csv('/datasets/megaline_internet.csv')\n",
        "messages_df = pd.read_csv('/datasets/megaline_messages.csv')\n",
        "plans_df =  pd.read_csv('/datasets/megaline_plans.csv')\n",
        "users_df = pd.read_csv('/datasets/megaline_users.csv')\n"
      ]
    },
    {
      "cell_type": "markdown",
      "metadata": {
        "id": "69qqoJ3r0q01"
      },
      "source": [
        "## Preparar los datos"
      ]
    },
    {
      "cell_type": "markdown",
      "metadata": {
        "id": "ohBhimvH0q01"
      },
      "source": [
        "## Tarifas"
      ]
    },
    {
      "cell_type": "code",
      "execution_count": null,
      "metadata": {
        "id": "GptqP3Q40q02",
        "outputId": "40f586f7-031f-49f6-da46-6bedd6156fa0"
      },
      "outputs": [
        {
          "name": "stdout",
          "output_type": "stream",
          "text": [
            "Info general del Dataframe de las tarifas:\n",
            "<class 'pandas.core.frame.DataFrame'>\n",
            "RangeIndex: 2 entries, 0 to 1\n",
            "Data columns (total 8 columns):\n",
            " #   Column                 Non-Null Count  Dtype  \n",
            "---  ------                 --------------  -----  \n",
            " 0   messages_included      2 non-null      int64  \n",
            " 1   mb_per_month_included  2 non-null      int64  \n",
            " 2   minutes_included       2 non-null      int64  \n",
            " 3   usd_monthly_pay        2 non-null      int64  \n",
            " 4   usd_per_gb             2 non-null      int64  \n",
            " 5   usd_per_message        2 non-null      float64\n",
            " 6   usd_per_minute         2 non-null      float64\n",
            " 7   plan_name              2 non-null      object \n",
            "dtypes: float64(2), int64(5), object(1)\n",
            "memory usage: 256.0+ bytes\n",
            "\n",
            "Estadísticas descriptivas del Dataframe de las tarifas:\n",
            "       messages_included  mb_per_month_included  minutes_included  \\\n",
            "count           2.000000               2.000000          2.000000   \n",
            "mean          525.000000           23040.000000       1750.000000   \n",
            "std           671.751442           10861.160159       1767.766953   \n",
            "min            50.000000           15360.000000        500.000000   \n",
            "25%           287.500000           19200.000000       1125.000000   \n",
            "50%           525.000000           23040.000000       1750.000000   \n",
            "75%           762.500000           26880.000000       2375.000000   \n",
            "max          1000.000000           30720.000000       3000.000000   \n",
            "\n",
            "       usd_monthly_pay  usd_per_gb  usd_per_message  usd_per_minute  \n",
            "count         2.000000     2.00000         2.000000        2.000000  \n",
            "mean         45.000000     8.50000         0.020000        0.020000  \n",
            "std          35.355339     2.12132         0.014142        0.014142  \n",
            "min          20.000000     7.00000         0.010000        0.010000  \n",
            "25%          32.500000     7.75000         0.015000        0.015000  \n",
            "50%          45.000000     8.50000         0.020000        0.020000  \n",
            "75%          57.500000     9.25000         0.025000        0.025000  \n",
            "max          70.000000    10.00000         0.030000        0.030000  \n",
            "\n",
            "Valores únicos en cada columna del Dataframe de las tarifas:\n",
            "messages_included: 2 valores únicos.\n",
            "mb_per_month_included: 2 valores únicos.\n",
            "minutes_included: 2 valores únicos.\n",
            "usd_monthly_pay: 2 valores únicos.\n",
            "usd_per_gb: 2 valores únicos.\n",
            "usd_per_message: 2 valores únicos.\n",
            "usd_per_minute: 2 valores únicos.\n",
            "plan_name: 2 valores únicos.\n"
          ]
        }
      ],
      "source": [
        "# Imprime la información general/resumida sobre el DataFrame de las tarifas\n",
        "print('Info general del Dataframe de las tarifas:')\n",
        "plans_df.info()\n",
        "\n",
        "print('\\nEstadísticas descriptivas del Dataframe de las tarifas:')\n",
        "print(plans_df.describe())\n",
        "\n",
        "print('\\nValores únicos en cada columna del Dataframe de las tarifas:')\n",
        "for column in plans_df.columns:\n",
        "    print(f'{column}: {plans_df[column].nunique()} valores únicos.')"
      ]
    },
    {
      "cell_type": "code",
      "execution_count": null,
      "metadata": {
        "id": "64xzjwL70q02",
        "outputId": "0f5c4e5c-15a8-4742-98eb-d91ebe17cb7b"
      },
      "outputs": [
        {
          "data": {
            "text/html": [
              "<div>\n",
              "<style scoped>\n",
              "    .dataframe tbody tr th:only-of-type {\n",
              "        vertical-align: middle;\n",
              "    }\n",
              "\n",
              "    .dataframe tbody tr th {\n",
              "        vertical-align: top;\n",
              "    }\n",
              "\n",
              "    .dataframe thead th {\n",
              "        text-align: right;\n",
              "    }\n",
              "</style>\n",
              "<table border=\"1\" class=\"dataframe\">\n",
              "  <thead>\n",
              "    <tr style=\"text-align: right;\">\n",
              "      <th></th>\n",
              "      <th>messages_included</th>\n",
              "      <th>mb_per_month_included</th>\n",
              "      <th>minutes_included</th>\n",
              "      <th>usd_monthly_pay</th>\n",
              "      <th>usd_per_gb</th>\n",
              "      <th>usd_per_message</th>\n",
              "      <th>usd_per_minute</th>\n",
              "      <th>plan_name</th>\n",
              "    </tr>\n",
              "  </thead>\n",
              "  <tbody>\n",
              "    <tr>\n",
              "      <th>0</th>\n",
              "      <td>50</td>\n",
              "      <td>15360</td>\n",
              "      <td>500</td>\n",
              "      <td>20</td>\n",
              "      <td>10</td>\n",
              "      <td>0.03</td>\n",
              "      <td>0.03</td>\n",
              "      <td>surf</td>\n",
              "    </tr>\n",
              "    <tr>\n",
              "      <th>1</th>\n",
              "      <td>1000</td>\n",
              "      <td>30720</td>\n",
              "      <td>3000</td>\n",
              "      <td>70</td>\n",
              "      <td>7</td>\n",
              "      <td>0.01</td>\n",
              "      <td>0.01</td>\n",
              "      <td>ultimate</td>\n",
              "    </tr>\n",
              "  </tbody>\n",
              "</table>\n",
              "</div>"
            ],
            "text/plain": [
              "   messages_included  mb_per_month_included  minutes_included  \\\n",
              "0                 50                  15360               500   \n",
              "1               1000                  30720              3000   \n",
              "\n",
              "   usd_monthly_pay  usd_per_gb  usd_per_message  usd_per_minute plan_name  \n",
              "0               20          10             0.03            0.03      surf  \n",
              "1               70           7             0.01            0.01  ultimate  "
            ]
          },
          "execution_count": 4,
          "metadata": {},
          "output_type": "execute_result"
        }
      ],
      "source": [
        "# Imprime una muestra de los datos para las tarifas\n",
        "plans_df.head()\n"
      ]
    },
    {
      "cell_type": "markdown",
      "metadata": {
        "id": "R3C05i1l0q03"
      },
      "source": [
        "## Corregir datos"
      ]
    },
    {
      "cell_type": "code",
      "execution_count": null,
      "metadata": {
        "id": "Y7SVmjGn0q03"
      },
      "outputs": [],
      "source": [
        "# TENER EN CUENTA QUE EL PAGO DE INTERNET ENTÁ EN GB Y EL CONSUMO EN MG"
      ]
    },
    {
      "cell_type": "markdown",
      "metadata": {
        "id": "LJir7bml0q03"
      },
      "source": [
        "## Enriquecer los datos"
      ]
    },
    {
      "cell_type": "code",
      "execution_count": null,
      "metadata": {
        "id": "gfcIEuXV0q04",
        "scrolled": true,
        "outputId": "a91e6486-fb23-47b8-ea23-35805315593d"
      },
      "outputs": [
        {
          "data": {
            "text/html": [
              "<div>\n",
              "<style scoped>\n",
              "    .dataframe tbody tr th:only-of-type {\n",
              "        vertical-align: middle;\n",
              "    }\n",
              "\n",
              "    .dataframe tbody tr th {\n",
              "        vertical-align: top;\n",
              "    }\n",
              "\n",
              "    .dataframe thead th {\n",
              "        text-align: right;\n",
              "    }\n",
              "</style>\n",
              "<table border=\"1\" class=\"dataframe\">\n",
              "  <thead>\n",
              "    <tr style=\"text-align: right;\">\n",
              "      <th></th>\n",
              "      <th>messages_included</th>\n",
              "      <th>mb_per_month_included</th>\n",
              "      <th>minutes_included</th>\n",
              "      <th>usd_monthly_pay</th>\n",
              "      <th>usd_per_gb</th>\n",
              "      <th>usd_per_message</th>\n",
              "      <th>usd_per_minute</th>\n",
              "      <th>plan_id</th>\n",
              "    </tr>\n",
              "  </thead>\n",
              "  <tbody>\n",
              "    <tr>\n",
              "      <th>0</th>\n",
              "      <td>50</td>\n",
              "      <td>15360</td>\n",
              "      <td>500</td>\n",
              "      <td>20</td>\n",
              "      <td>10</td>\n",
              "      <td>0.03</td>\n",
              "      <td>0.03</td>\n",
              "      <td>surf</td>\n",
              "    </tr>\n",
              "    <tr>\n",
              "      <th>1</th>\n",
              "      <td>1000</td>\n",
              "      <td>30720</td>\n",
              "      <td>3000</td>\n",
              "      <td>70</td>\n",
              "      <td>7</td>\n",
              "      <td>0.01</td>\n",
              "      <td>0.01</td>\n",
              "      <td>ultimate</td>\n",
              "    </tr>\n",
              "  </tbody>\n",
              "</table>\n",
              "</div>"
            ],
            "text/plain": [
              "   messages_included  mb_per_month_included  minutes_included  \\\n",
              "0                 50                  15360               500   \n",
              "1               1000                  30720              3000   \n",
              "\n",
              "   usd_monthly_pay  usd_per_gb  usd_per_message  usd_per_minute   plan_id  \n",
              "0               20          10             0.03            0.03      surf  \n",
              "1               70           7             0.01            0.01  ultimate  "
            ]
          },
          "execution_count": 6,
          "metadata": {},
          "output_type": "execute_result"
        }
      ],
      "source": [
        "# le cambio el nombre de la columna plan_name a plan_id\n",
        "# ya que veo que solo hay dos identificadores para el plan: surf y ultimate\n",
        "\n",
        "plans_df.rename(columns={'plan_name':'plan_id'}, inplace=True)\n",
        "plans_df.head()\n"
      ]
    },
    {
      "cell_type": "markdown",
      "metadata": {
        "id": "1n2X6WXf0q04"
      },
      "source": [
        "## Usuarios/as"
      ]
    },
    {
      "cell_type": "code",
      "execution_count": null,
      "metadata": {
        "id": "2NgjWFqx0q05",
        "outputId": "79c10846-1591-4a75-f38a-5794bb41e29e"
      },
      "outputs": [
        {
          "name": "stdout",
          "output_type": "stream",
          "text": [
            "<class 'pandas.core.frame.DataFrame'>\n",
            "RangeIndex: 500 entries, 0 to 499\n",
            "Data columns (total 8 columns):\n",
            " #   Column      Non-Null Count  Dtype \n",
            "---  ------      --------------  ----- \n",
            " 0   user_id     500 non-null    int64 \n",
            " 1   first_name  500 non-null    object\n",
            " 2   last_name   500 non-null    object\n",
            " 3   age         500 non-null    int64 \n",
            " 4   city        500 non-null    object\n",
            " 5   reg_date    500 non-null    object\n",
            " 6   plan        500 non-null    object\n",
            " 7   churn_date  34 non-null     object\n",
            "dtypes: int64(2), object(6)\n",
            "memory usage: 31.4+ KB\n"
          ]
        }
      ],
      "source": [
        "# Imprime la información general/resumida sobre el DataFrame de usuarios\n",
        "\n",
        "users_df.info()"
      ]
    },
    {
      "cell_type": "code",
      "execution_count": null,
      "metadata": {
        "id": "1IN1L9uh0q05",
        "outputId": "06c22c3e-ffab-441e-9b90-3de1ce515744"
      },
      "outputs": [
        {
          "data": {
            "text/html": [
              "<div>\n",
              "<style scoped>\n",
              "    .dataframe tbody tr th:only-of-type {\n",
              "        vertical-align: middle;\n",
              "    }\n",
              "\n",
              "    .dataframe tbody tr th {\n",
              "        vertical-align: top;\n",
              "    }\n",
              "\n",
              "    .dataframe thead th {\n",
              "        text-align: right;\n",
              "    }\n",
              "</style>\n",
              "<table border=\"1\" class=\"dataframe\">\n",
              "  <thead>\n",
              "    <tr style=\"text-align: right;\">\n",
              "      <th></th>\n",
              "      <th>user_id</th>\n",
              "      <th>first_name</th>\n",
              "      <th>last_name</th>\n",
              "      <th>age</th>\n",
              "      <th>city</th>\n",
              "      <th>reg_date</th>\n",
              "      <th>plan</th>\n",
              "      <th>churn_date</th>\n",
              "    </tr>\n",
              "  </thead>\n",
              "  <tbody>\n",
              "    <tr>\n",
              "      <th>0</th>\n",
              "      <td>1000</td>\n",
              "      <td>Anamaria</td>\n",
              "      <td>Bauer</td>\n",
              "      <td>45</td>\n",
              "      <td>Atlanta-Sandy Springs-Roswell, GA MSA</td>\n",
              "      <td>2018-12-24</td>\n",
              "      <td>ultimate</td>\n",
              "      <td>NaN</td>\n",
              "    </tr>\n",
              "    <tr>\n",
              "      <th>1</th>\n",
              "      <td>1001</td>\n",
              "      <td>Mickey</td>\n",
              "      <td>Wilkerson</td>\n",
              "      <td>28</td>\n",
              "      <td>Seattle-Tacoma-Bellevue, WA MSA</td>\n",
              "      <td>2018-08-13</td>\n",
              "      <td>surf</td>\n",
              "      <td>NaN</td>\n",
              "    </tr>\n",
              "    <tr>\n",
              "      <th>2</th>\n",
              "      <td>1002</td>\n",
              "      <td>Carlee</td>\n",
              "      <td>Hoffman</td>\n",
              "      <td>36</td>\n",
              "      <td>Las Vegas-Henderson-Paradise, NV MSA</td>\n",
              "      <td>2018-10-21</td>\n",
              "      <td>surf</td>\n",
              "      <td>NaN</td>\n",
              "    </tr>\n",
              "    <tr>\n",
              "      <th>3</th>\n",
              "      <td>1003</td>\n",
              "      <td>Reynaldo</td>\n",
              "      <td>Jenkins</td>\n",
              "      <td>52</td>\n",
              "      <td>Tulsa, OK MSA</td>\n",
              "      <td>2018-01-28</td>\n",
              "      <td>surf</td>\n",
              "      <td>NaN</td>\n",
              "    </tr>\n",
              "    <tr>\n",
              "      <th>4</th>\n",
              "      <td>1004</td>\n",
              "      <td>Leonila</td>\n",
              "      <td>Thompson</td>\n",
              "      <td>40</td>\n",
              "      <td>Seattle-Tacoma-Bellevue, WA MSA</td>\n",
              "      <td>2018-05-23</td>\n",
              "      <td>surf</td>\n",
              "      <td>NaN</td>\n",
              "    </tr>\n",
              "  </tbody>\n",
              "</table>\n",
              "</div>"
            ],
            "text/plain": [
              "   user_id first_name  last_name  age                                   city  \\\n",
              "0     1000   Anamaria      Bauer   45  Atlanta-Sandy Springs-Roswell, GA MSA   \n",
              "1     1001     Mickey  Wilkerson   28        Seattle-Tacoma-Bellevue, WA MSA   \n",
              "2     1002     Carlee    Hoffman   36   Las Vegas-Henderson-Paradise, NV MSA   \n",
              "3     1003   Reynaldo    Jenkins   52                          Tulsa, OK MSA   \n",
              "4     1004    Leonila   Thompson   40        Seattle-Tacoma-Bellevue, WA MSA   \n",
              "\n",
              "     reg_date      plan churn_date  \n",
              "0  2018-12-24  ultimate        NaN  \n",
              "1  2018-08-13      surf        NaN  \n",
              "2  2018-10-21      surf        NaN  \n",
              "3  2018-01-28      surf        NaN  \n",
              "4  2018-05-23      surf        NaN  "
            ]
          },
          "execution_count": 8,
          "metadata": {},
          "output_type": "execute_result"
        }
      ],
      "source": [
        "# Imprime una muestra de datos para usuarios\n",
        "\n",
        "users_df.head()\n",
        "\n",
        "# churn_date -> fecha de cancelación\n",
        "# los valores NaN en esta columna, no significan algo malo, significa que los usuarios no han cancelado su plan/servicio"
      ]
    },
    {
      "cell_type": "markdown",
      "metadata": {
        "id": "BX5FQh_I0q06"
      },
      "source": [
        "### Corregir los datos"
      ]
    },
    {
      "cell_type": "code",
      "execution_count": null,
      "metadata": {
        "id": "yUqX-K0C0q07",
        "scrolled": true,
        "outputId": "b018bd27-6bb2-4936-f822-fece5fb5dcd3"
      },
      "outputs": [
        {
          "name": "stdout",
          "output_type": "stream",
          "text": [
            "user_id         0\n",
            "first_name      0\n",
            "last_name       0\n",
            "age             0\n",
            "city            0\n",
            "reg_date        0\n",
            "plan            0\n",
            "churn_date    466\n",
            "dtype: int64\n",
            "\n",
            "Hay 0 datos duplicados\n"
          ]
        }
      ],
      "source": [
        "# comprobamos si hay datos nulos\n",
        "print(users_df.isna().sum())\n",
        "\n",
        "# verificamos si hay datos duplicados\n",
        "print(f'\\nHay {users_df.duplicated().sum()} datos duplicados')\n",
        "\n",
        "# verificamos si hay inconsistencia de datos:\n",
        "# verificamos que no exista la misma llamada para el mismo usuario\n",
        "# users_df.duplicated(subset=['call_id', 'user_id']).sum()"
      ]
    },
    {
      "cell_type": "markdown",
      "metadata": {
        "id": "ycwuARJp0q07"
      },
      "source": [
        "### Enriquecer los datos"
      ]
    },
    {
      "cell_type": "code",
      "execution_count": null,
      "metadata": {
        "id": "iq0AaBS90q08",
        "scrolled": true,
        "outputId": "53bc1ce6-eaaf-4381-87f9-67a3736125a8"
      },
      "outputs": [
        {
          "name": "stdout",
          "output_type": "stream",
          "text": [
            "<class 'pandas.core.frame.DataFrame'>\n",
            "RangeIndex: 500 entries, 0 to 499\n",
            "Data columns (total 9 columns):\n",
            " #   Column      Non-Null Count  Dtype         \n",
            "---  ------      --------------  -----         \n",
            " 0   user_id     500 non-null    int64         \n",
            " 1   first_name  500 non-null    object        \n",
            " 2   last_name   500 non-null    object        \n",
            " 3   age         500 non-null    int64         \n",
            " 4   city        500 non-null    object        \n",
            " 5   reg_date    500 non-null    datetime64[ns]\n",
            " 6   plan_id     500 non-null    object        \n",
            " 7   churn_date  34 non-null     object        \n",
            " 8   reg_month   500 non-null    int64         \n",
            "dtypes: datetime64[ns](1), int64(3), object(5)\n",
            "memory usage: 35.3+ KB\n",
            "<class 'pandas.core.frame.DataFrame'>\n",
            "RangeIndex: 500 entries, 0 to 499\n",
            "Data columns (total 10 columns):\n",
            " #   Column       Non-Null Count  Dtype         \n",
            "---  ------       --------------  -----         \n",
            " 0   user_id      500 non-null    int64         \n",
            " 1   first_name   500 non-null    object        \n",
            " 2   last_name    500 non-null    object        \n",
            " 3   age          500 non-null    int64         \n",
            " 4   city         500 non-null    object        \n",
            " 5   reg_date     500 non-null    datetime64[ns]\n",
            " 6   plan_id      500 non-null    object        \n",
            " 7   churn_date   34 non-null     datetime64[ns]\n",
            " 8   reg_month    500 non-null    int64         \n",
            " 9   churn_month  34 non-null     float64       \n",
            "dtypes: datetime64[ns](2), float64(1), int64(3), object(4)\n",
            "memory usage: 39.2+ KB\n"
          ]
        }
      ],
      "source": [
        "# cambiaremos el plan a plan_id para facilitar su uso\n",
        "\n",
        "users_df.rename(columns={'plan':'plan_id'}, inplace=True)\n",
        "users_df.head()\n",
        "\n",
        "# para interpretar bien los datos, convertiremos el tipo de dato de reg_date (object) a DateTime.\n",
        "users_df['reg_date'] = pd.to_datetime(users_df['reg_date'], format='%Y-%m-%d')\n",
        "users_df.head()\n",
        "\n",
        "# crearemos una nueva columna en donde extraeremos el mes con el constructor DatetimeIndex\n",
        "users_df['reg_month'] = pd.DatetimeIndex(users_df['reg_date']).month\n",
        "users_df.info()\n",
        "\n",
        "# para interpretar bien los datos, convertiremos el tipo de dato de churn_date (object) a DateTime.\n",
        "users_df['churn_date'] = pd.to_datetime(users_df['churn_date'], format='%Y-%m-%d')\n",
        "users_df.head()\n",
        "\n",
        "users_df['churn_month'] = pd.DatetimeIndex(users_df['churn_date']).month\n",
        "users_df.info()\n"
      ]
    },
    {
      "cell_type": "markdown",
      "metadata": {
        "id": "0Y0rAS6QPyv_"
      },
      "source": [
        "Sólo 34 usuarios han cancelado su plan"
      ]
    },
    {
      "cell_type": "markdown",
      "metadata": {
        "id": "o7MeKCid0q08"
      },
      "source": [
        "## Llamadas"
      ]
    },
    {
      "cell_type": "code",
      "execution_count": null,
      "metadata": {
        "id": "6dDlnoDm0q08",
        "outputId": "2c9ac9d8-2687-455f-dbb6-e9a39b618599"
      },
      "outputs": [
        {
          "name": "stdout",
          "output_type": "stream",
          "text": [
            "<class 'pandas.core.frame.DataFrame'>\n",
            "RangeIndex: 137735 entries, 0 to 137734\n",
            "Data columns (total 4 columns):\n",
            " #   Column     Non-Null Count   Dtype  \n",
            "---  ------     --------------   -----  \n",
            " 0   id         137735 non-null  object \n",
            " 1   user_id    137735 non-null  int64  \n",
            " 2   call_date  137735 non-null  object \n",
            " 3   duration   137735 non-null  float64\n",
            "dtypes: float64(1), int64(1), object(2)\n",
            "memory usage: 4.2+ MB\n"
          ]
        },
        {
          "data": {
            "text/html": [
              "<div>\n",
              "<style scoped>\n",
              "    .dataframe tbody tr th:only-of-type {\n",
              "        vertical-align: middle;\n",
              "    }\n",
              "\n",
              "    .dataframe tbody tr th {\n",
              "        vertical-align: top;\n",
              "    }\n",
              "\n",
              "    .dataframe thead th {\n",
              "        text-align: right;\n",
              "    }\n",
              "</style>\n",
              "<table border=\"1\" class=\"dataframe\">\n",
              "  <thead>\n",
              "    <tr style=\"text-align: right;\">\n",
              "      <th></th>\n",
              "      <th>user_id</th>\n",
              "      <th>duration</th>\n",
              "    </tr>\n",
              "  </thead>\n",
              "  <tbody>\n",
              "    <tr>\n",
              "      <th>count</th>\n",
              "      <td>137735.000000</td>\n",
              "      <td>137735.000000</td>\n",
              "    </tr>\n",
              "    <tr>\n",
              "      <th>mean</th>\n",
              "      <td>1247.658046</td>\n",
              "      <td>6.745927</td>\n",
              "    </tr>\n",
              "    <tr>\n",
              "      <th>std</th>\n",
              "      <td>139.416268</td>\n",
              "      <td>5.839241</td>\n",
              "    </tr>\n",
              "    <tr>\n",
              "      <th>min</th>\n",
              "      <td>1000.000000</td>\n",
              "      <td>0.000000</td>\n",
              "    </tr>\n",
              "    <tr>\n",
              "      <th>25%</th>\n",
              "      <td>1128.000000</td>\n",
              "      <td>1.290000</td>\n",
              "    </tr>\n",
              "    <tr>\n",
              "      <th>50%</th>\n",
              "      <td>1247.000000</td>\n",
              "      <td>5.980000</td>\n",
              "    </tr>\n",
              "    <tr>\n",
              "      <th>75%</th>\n",
              "      <td>1365.000000</td>\n",
              "      <td>10.690000</td>\n",
              "    </tr>\n",
              "    <tr>\n",
              "      <th>max</th>\n",
              "      <td>1499.000000</td>\n",
              "      <td>37.600000</td>\n",
              "    </tr>\n",
              "  </tbody>\n",
              "</table>\n",
              "</div>"
            ],
            "text/plain": [
              "             user_id       duration\n",
              "count  137735.000000  137735.000000\n",
              "mean     1247.658046       6.745927\n",
              "std       139.416268       5.839241\n",
              "min      1000.000000       0.000000\n",
              "25%      1128.000000       1.290000\n",
              "50%      1247.000000       5.980000\n",
              "75%      1365.000000      10.690000\n",
              "max      1499.000000      37.600000"
            ]
          },
          "execution_count": 11,
          "metadata": {},
          "output_type": "execute_result"
        }
      ],
      "source": [
        "# Imprime la información general/resumida sobre el DataFrame de las llamadas\n",
        "calls_df.info()\n",
        "calls_df.describe()"
      ]
    },
    {
      "cell_type": "code",
      "execution_count": null,
      "metadata": {
        "id": "kuh1vlNB0q09",
        "outputId": "1548d36e-f299-4f78-9583-ee92e90e105c"
      },
      "outputs": [
        {
          "data": {
            "text/html": [
              "<div>\n",
              "<style scoped>\n",
              "    .dataframe tbody tr th:only-of-type {\n",
              "        vertical-align: middle;\n",
              "    }\n",
              "\n",
              "    .dataframe tbody tr th {\n",
              "        vertical-align: top;\n",
              "    }\n",
              "\n",
              "    .dataframe thead th {\n",
              "        text-align: right;\n",
              "    }\n",
              "</style>\n",
              "<table border=\"1\" class=\"dataframe\">\n",
              "  <thead>\n",
              "    <tr style=\"text-align: right;\">\n",
              "      <th></th>\n",
              "      <th>id</th>\n",
              "      <th>user_id</th>\n",
              "      <th>call_date</th>\n",
              "      <th>duration</th>\n",
              "    </tr>\n",
              "  </thead>\n",
              "  <tbody>\n",
              "    <tr>\n",
              "      <th>0</th>\n",
              "      <td>1000_93</td>\n",
              "      <td>1000</td>\n",
              "      <td>2018-12-27</td>\n",
              "      <td>8.52</td>\n",
              "    </tr>\n",
              "    <tr>\n",
              "      <th>1</th>\n",
              "      <td>1000_145</td>\n",
              "      <td>1000</td>\n",
              "      <td>2018-12-27</td>\n",
              "      <td>13.66</td>\n",
              "    </tr>\n",
              "    <tr>\n",
              "      <th>2</th>\n",
              "      <td>1000_247</td>\n",
              "      <td>1000</td>\n",
              "      <td>2018-12-27</td>\n",
              "      <td>14.48</td>\n",
              "    </tr>\n",
              "    <tr>\n",
              "      <th>3</th>\n",
              "      <td>1000_309</td>\n",
              "      <td>1000</td>\n",
              "      <td>2018-12-28</td>\n",
              "      <td>5.76</td>\n",
              "    </tr>\n",
              "    <tr>\n",
              "      <th>4</th>\n",
              "      <td>1000_380</td>\n",
              "      <td>1000</td>\n",
              "      <td>2018-12-30</td>\n",
              "      <td>4.22</td>\n",
              "    </tr>\n",
              "  </tbody>\n",
              "</table>\n",
              "</div>"
            ],
            "text/plain": [
              "         id  user_id   call_date  duration\n",
              "0   1000_93     1000  2018-12-27      8.52\n",
              "1  1000_145     1000  2018-12-27     13.66\n",
              "2  1000_247     1000  2018-12-27     14.48\n",
              "3  1000_309     1000  2018-12-28      5.76\n",
              "4  1000_380     1000  2018-12-30      4.22"
            ]
          },
          "execution_count": 12,
          "metadata": {},
          "output_type": "execute_result"
        }
      ],
      "source": [
        "# Imprime una muestra de datos para las llamadas\n",
        "calls_df.head()"
      ]
    },
    {
      "cell_type": "markdown",
      "metadata": {
        "id": "S7hzxmbX0q0-"
      },
      "source": [
        "### Corregir los datos"
      ]
    },
    {
      "cell_type": "code",
      "execution_count": null,
      "metadata": {
        "id": "S2r8xA4f0q0-",
        "outputId": "e78de899-bccf-40c8-f557-cd2692a120d5"
      },
      "outputs": [
        {
          "name": "stdout",
          "output_type": "stream",
          "text": [
            "id           0\n",
            "user_id      0\n",
            "call_date    0\n",
            "duration     0\n",
            "dtype: int64\n",
            "\n",
            "Hay 0 datos duplicados\n"
          ]
        }
      ],
      "source": [
        "# comprobamos si hay datos nulos\n",
        "print(calls_df.isna().sum())\n",
        "\n",
        "# verificamos si hay datos duplicados\n",
        "print(f'\\nHay {calls_df.duplicated().sum()} datos duplicados')\n",
        "\n",
        "# verificamos si hay inconsistencia de datos:\n",
        "# verificamos que no exista la misma llamada para el mismo usuario dos veces\n",
        "# calls_df.duplicated(subset=['call_id', 'user_id']).sum()"
      ]
    },
    {
      "cell_type": "markdown",
      "metadata": {
        "id": "KrMgTrlG0q0_"
      },
      "source": [
        "### Enriquecer los datos"
      ]
    },
    {
      "cell_type": "code",
      "execution_count": null,
      "metadata": {
        "id": "iZ1avpA_0q0_",
        "outputId": "aa90764e-aca9-4b3e-c688-dfdbc4af6250"
      },
      "outputs": [
        {
          "data": {
            "text/html": [
              "<div>\n",
              "<style scoped>\n",
              "    .dataframe tbody tr th:only-of-type {\n",
              "        vertical-align: middle;\n",
              "    }\n",
              "\n",
              "    .dataframe tbody tr th {\n",
              "        vertical-align: top;\n",
              "    }\n",
              "\n",
              "    .dataframe thead th {\n",
              "        text-align: right;\n",
              "    }\n",
              "</style>\n",
              "<table border=\"1\" class=\"dataframe\">\n",
              "  <thead>\n",
              "    <tr style=\"text-align: right;\">\n",
              "      <th></th>\n",
              "      <th>call_id</th>\n",
              "      <th>user_id</th>\n",
              "      <th>call_date</th>\n",
              "      <th>duration</th>\n",
              "    </tr>\n",
              "  </thead>\n",
              "  <tbody>\n",
              "    <tr>\n",
              "      <th>0</th>\n",
              "      <td>1000_93</td>\n",
              "      <td>1000</td>\n",
              "      <td>2018-12-27</td>\n",
              "      <td>8.52</td>\n",
              "    </tr>\n",
              "    <tr>\n",
              "      <th>1</th>\n",
              "      <td>1000_145</td>\n",
              "      <td>1000</td>\n",
              "      <td>2018-12-27</td>\n",
              "      <td>13.66</td>\n",
              "    </tr>\n",
              "    <tr>\n",
              "      <th>2</th>\n",
              "      <td>1000_247</td>\n",
              "      <td>1000</td>\n",
              "      <td>2018-12-27</td>\n",
              "      <td>14.48</td>\n",
              "    </tr>\n",
              "    <tr>\n",
              "      <th>3</th>\n",
              "      <td>1000_309</td>\n",
              "      <td>1000</td>\n",
              "      <td>2018-12-28</td>\n",
              "      <td>5.76</td>\n",
              "    </tr>\n",
              "    <tr>\n",
              "      <th>4</th>\n",
              "      <td>1000_380</td>\n",
              "      <td>1000</td>\n",
              "      <td>2018-12-30</td>\n",
              "      <td>4.22</td>\n",
              "    </tr>\n",
              "  </tbody>\n",
              "</table>\n",
              "</div>"
            ],
            "text/plain": [
              "    call_id  user_id   call_date  duration\n",
              "0   1000_93     1000  2018-12-27      8.52\n",
              "1  1000_145     1000  2018-12-27     13.66\n",
              "2  1000_247     1000  2018-12-27     14.48\n",
              "3  1000_309     1000  2018-12-28      5.76\n",
              "4  1000_380     1000  2018-12-30      4.22"
            ]
          },
          "execution_count": 14,
          "metadata": {},
          "output_type": "execute_result"
        }
      ],
      "source": [
        "# cambiaremos el id a call_id para facilitar su uso\n",
        "\n",
        "calls_df.rename(columns={'id':'call_id'}, inplace=True)\n",
        "calls_df.head()"
      ]
    },
    {
      "cell_type": "code",
      "execution_count": null,
      "metadata": {
        "id": "wOX2YrodPywC",
        "outputId": "572bccef-6162-4dfc-a7fc-70c067dbd91e"
      },
      "outputs": [
        {
          "data": {
            "text/html": [
              "<div>\n",
              "<style scoped>\n",
              "    .dataframe tbody tr th:only-of-type {\n",
              "        vertical-align: middle;\n",
              "    }\n",
              "\n",
              "    .dataframe tbody tr th {\n",
              "        vertical-align: top;\n",
              "    }\n",
              "\n",
              "    .dataframe thead th {\n",
              "        text-align: right;\n",
              "    }\n",
              "</style>\n",
              "<table border=\"1\" class=\"dataframe\">\n",
              "  <thead>\n",
              "    <tr style=\"text-align: right;\">\n",
              "      <th></th>\n",
              "      <th>call_id</th>\n",
              "      <th>user_id</th>\n",
              "      <th>call_date</th>\n",
              "      <th>duration</th>\n",
              "    </tr>\n",
              "  </thead>\n",
              "  <tbody>\n",
              "    <tr>\n",
              "      <th>0</th>\n",
              "      <td>1000_93</td>\n",
              "      <td>1000</td>\n",
              "      <td>2018-12-27</td>\n",
              "      <td>8.52</td>\n",
              "    </tr>\n",
              "    <tr>\n",
              "      <th>1</th>\n",
              "      <td>1000_145</td>\n",
              "      <td>1000</td>\n",
              "      <td>2018-12-27</td>\n",
              "      <td>13.66</td>\n",
              "    </tr>\n",
              "    <tr>\n",
              "      <th>2</th>\n",
              "      <td>1000_247</td>\n",
              "      <td>1000</td>\n",
              "      <td>2018-12-27</td>\n",
              "      <td>14.48</td>\n",
              "    </tr>\n",
              "    <tr>\n",
              "      <th>3</th>\n",
              "      <td>1000_309</td>\n",
              "      <td>1000</td>\n",
              "      <td>2018-12-28</td>\n",
              "      <td>5.76</td>\n",
              "    </tr>\n",
              "    <tr>\n",
              "      <th>4</th>\n",
              "      <td>1000_380</td>\n",
              "      <td>1000</td>\n",
              "      <td>2018-12-30</td>\n",
              "      <td>4.22</td>\n",
              "    </tr>\n",
              "  </tbody>\n",
              "</table>\n",
              "</div>"
            ],
            "text/plain": [
              "    call_id  user_id  call_date  duration\n",
              "0   1000_93     1000 2018-12-27      8.52\n",
              "1  1000_145     1000 2018-12-27     13.66\n",
              "2  1000_247     1000 2018-12-27     14.48\n",
              "3  1000_309     1000 2018-12-28      5.76\n",
              "4  1000_380     1000 2018-12-30      4.22"
            ]
          },
          "execution_count": 15,
          "metadata": {},
          "output_type": "execute_result"
        }
      ],
      "source": [
        "# para interpretar bien los datos, convertiremos el tipo de dato de...\n",
        "# call_date (object) a DateTime.\n",
        "\n",
        "calls_df['call_date'] = pd.to_datetime(calls_df['call_date'], format='%Y-%m-%d')\n",
        "calls_df.head()"
      ]
    },
    {
      "cell_type": "code",
      "execution_count": null,
      "metadata": {
        "id": "abVOMHtHPywD",
        "outputId": "1d9ee6cf-32ff-4b06-ab2b-ff059ec5120a"
      },
      "outputs": [
        {
          "name": "stdout",
          "output_type": "stream",
          "text": [
            "<class 'pandas.core.frame.DataFrame'>\n",
            "RangeIndex: 137735 entries, 0 to 137734\n",
            "Data columns (total 5 columns):\n",
            " #   Column     Non-Null Count   Dtype         \n",
            "---  ------     --------------   -----         \n",
            " 0   call_id    137735 non-null  object        \n",
            " 1   user_id    137735 non-null  int64         \n",
            " 2   call_date  137735 non-null  datetime64[ns]\n",
            " 3   duration   137735 non-null  float64       \n",
            " 4   month      137735 non-null  int64         \n",
            "dtypes: datetime64[ns](1), float64(1), int64(2), object(1)\n",
            "memory usage: 5.3+ MB\n"
          ]
        }
      ],
      "source": [
        "# normalmente las empresas, analizan mes a mes su información.\n",
        "# crearemos una nueva columna en donde extraeremos el mes con el constructor DatetimeIndex\n",
        "\n",
        "calls_df['month'] = pd.DatetimeIndex(calls_df['call_date']).month\n",
        "calls_df.info()\n",
        "\n"
      ]
    },
    {
      "cell_type": "code",
      "execution_count": null,
      "metadata": {
        "id": "9cyP8kfCPywD",
        "outputId": "77d3b76a-340f-4ad2-f501-dabe625bd25d"
      },
      "outputs": [
        {
          "data": {
            "text/html": [
              "<div>\n",
              "<style scoped>\n",
              "    .dataframe tbody tr th:only-of-type {\n",
              "        vertical-align: middle;\n",
              "    }\n",
              "\n",
              "    .dataframe tbody tr th {\n",
              "        vertical-align: top;\n",
              "    }\n",
              "\n",
              "    .dataframe thead th {\n",
              "        text-align: right;\n",
              "    }\n",
              "</style>\n",
              "<table border=\"1\" class=\"dataframe\">\n",
              "  <thead>\n",
              "    <tr style=\"text-align: right;\">\n",
              "      <th></th>\n",
              "      <th>call_id</th>\n",
              "      <th>user_id</th>\n",
              "      <th>call_date</th>\n",
              "      <th>duration</th>\n",
              "      <th>month</th>\n",
              "    </tr>\n",
              "  </thead>\n",
              "  <tbody>\n",
              "    <tr>\n",
              "      <th>0</th>\n",
              "      <td>1000_93</td>\n",
              "      <td>1000</td>\n",
              "      <td>2018-12-27</td>\n",
              "      <td>8.52</td>\n",
              "      <td>12</td>\n",
              "    </tr>\n",
              "    <tr>\n",
              "      <th>1</th>\n",
              "      <td>1000_145</td>\n",
              "      <td>1000</td>\n",
              "      <td>2018-12-27</td>\n",
              "      <td>13.66</td>\n",
              "      <td>12</td>\n",
              "    </tr>\n",
              "    <tr>\n",
              "      <th>2</th>\n",
              "      <td>1000_247</td>\n",
              "      <td>1000</td>\n",
              "      <td>2018-12-27</td>\n",
              "      <td>14.48</td>\n",
              "      <td>12</td>\n",
              "    </tr>\n",
              "    <tr>\n",
              "      <th>3</th>\n",
              "      <td>1000_309</td>\n",
              "      <td>1000</td>\n",
              "      <td>2018-12-28</td>\n",
              "      <td>5.76</td>\n",
              "      <td>12</td>\n",
              "    </tr>\n",
              "    <tr>\n",
              "      <th>4</th>\n",
              "      <td>1000_380</td>\n",
              "      <td>1000</td>\n",
              "      <td>2018-12-30</td>\n",
              "      <td>4.22</td>\n",
              "      <td>12</td>\n",
              "    </tr>\n",
              "  </tbody>\n",
              "</table>\n",
              "</div>"
            ],
            "text/plain": [
              "    call_id  user_id  call_date  duration  month\n",
              "0   1000_93     1000 2018-12-27      8.52     12\n",
              "1  1000_145     1000 2018-12-27     13.66     12\n",
              "2  1000_247     1000 2018-12-27     14.48     12\n",
              "3  1000_309     1000 2018-12-28      5.76     12\n",
              "4  1000_380     1000 2018-12-30      4.22     12"
            ]
          },
          "execution_count": 17,
          "metadata": {},
          "output_type": "execute_result"
        }
      ],
      "source": [
        "calls_df.head()"
      ]
    },
    {
      "cell_type": "markdown",
      "metadata": {
        "id": "mOUZSi180q0_"
      },
      "source": [
        "## Mensajes"
      ]
    },
    {
      "cell_type": "code",
      "execution_count": null,
      "metadata": {
        "id": "R-bYJpdV0q1A",
        "outputId": "dec2ab10-50c0-448f-8fae-e078c863dfa5"
      },
      "outputs": [
        {
          "name": "stdout",
          "output_type": "stream",
          "text": [
            "<class 'pandas.core.frame.DataFrame'>\n",
            "RangeIndex: 76051 entries, 0 to 76050\n",
            "Data columns (total 3 columns):\n",
            " #   Column        Non-Null Count  Dtype \n",
            "---  ------        --------------  ----- \n",
            " 0   id            76051 non-null  object\n",
            " 1   user_id       76051 non-null  int64 \n",
            " 2   message_date  76051 non-null  object\n",
            "dtypes: int64(1), object(2)\n",
            "memory usage: 1.7+ MB\n"
          ]
        }
      ],
      "source": [
        "# Imprime la información general/resumida sobre el DataFrame de los mensajes\n",
        "messages_df.info()\n",
        "# messages_df.describe()"
      ]
    },
    {
      "cell_type": "code",
      "execution_count": null,
      "metadata": {
        "id": "mCEl2iGE0q1A",
        "outputId": "94187f20-6a83-482c-f1ba-24bd551e6feb"
      },
      "outputs": [
        {
          "data": {
            "text/html": [
              "<div>\n",
              "<style scoped>\n",
              "    .dataframe tbody tr th:only-of-type {\n",
              "        vertical-align: middle;\n",
              "    }\n",
              "\n",
              "    .dataframe tbody tr th {\n",
              "        vertical-align: top;\n",
              "    }\n",
              "\n",
              "    .dataframe thead th {\n",
              "        text-align: right;\n",
              "    }\n",
              "</style>\n",
              "<table border=\"1\" class=\"dataframe\">\n",
              "  <thead>\n",
              "    <tr style=\"text-align: right;\">\n",
              "      <th></th>\n",
              "      <th>id</th>\n",
              "      <th>user_id</th>\n",
              "      <th>message_date</th>\n",
              "    </tr>\n",
              "  </thead>\n",
              "  <tbody>\n",
              "    <tr>\n",
              "      <th>0</th>\n",
              "      <td>1000_125</td>\n",
              "      <td>1000</td>\n",
              "      <td>2018-12-27</td>\n",
              "    </tr>\n",
              "    <tr>\n",
              "      <th>1</th>\n",
              "      <td>1000_160</td>\n",
              "      <td>1000</td>\n",
              "      <td>2018-12-31</td>\n",
              "    </tr>\n",
              "    <tr>\n",
              "      <th>2</th>\n",
              "      <td>1000_223</td>\n",
              "      <td>1000</td>\n",
              "      <td>2018-12-31</td>\n",
              "    </tr>\n",
              "    <tr>\n",
              "      <th>3</th>\n",
              "      <td>1000_251</td>\n",
              "      <td>1000</td>\n",
              "      <td>2018-12-27</td>\n",
              "    </tr>\n",
              "    <tr>\n",
              "      <th>4</th>\n",
              "      <td>1000_255</td>\n",
              "      <td>1000</td>\n",
              "      <td>2018-12-26</td>\n",
              "    </tr>\n",
              "  </tbody>\n",
              "</table>\n",
              "</div>"
            ],
            "text/plain": [
              "         id  user_id message_date\n",
              "0  1000_125     1000   2018-12-27\n",
              "1  1000_160     1000   2018-12-31\n",
              "2  1000_223     1000   2018-12-31\n",
              "3  1000_251     1000   2018-12-27\n",
              "4  1000_255     1000   2018-12-26"
            ]
          },
          "execution_count": 19,
          "metadata": {},
          "output_type": "execute_result"
        }
      ],
      "source": [
        "# Imprime una muestra de datos para los mensajes\n",
        "\n",
        "messages_df.head()"
      ]
    },
    {
      "cell_type": "markdown",
      "metadata": {
        "id": "Sprfak900q1B"
      },
      "source": [
        "### Corregir los datos"
      ]
    },
    {
      "cell_type": "code",
      "execution_count": null,
      "metadata": {
        "id": "vsllvkoa0q1B",
        "outputId": "ddc9d8ea-0183-4717-e3ff-fbe92c97aaa4"
      },
      "outputs": [
        {
          "name": "stdout",
          "output_type": "stream",
          "text": [
            "id              0\n",
            "user_id         0\n",
            "message_date    0\n",
            "dtype: int64\n",
            "\n",
            "Hay 0 datos duplicados\n"
          ]
        },
        {
          "data": {
            "text/plain": [
              "0"
            ]
          },
          "execution_count": 20,
          "metadata": {},
          "output_type": "execute_result"
        }
      ],
      "source": [
        "# comprobamos si hay datos nulos\n",
        "print(messages_df.isna().sum())\n",
        "\n",
        "# verificamos si hay datos duplicados\n",
        "print(f'\\nHay {messages_df.duplicated().sum()} datos duplicados')\n",
        "\n",
        "# verificamos si hay inconsistencia de datos:\n",
        "# verificamos que no exista el mismo id de mensaje para el mismo usuario (repetición)\n",
        "messages_df.duplicated(subset=['id', 'user_id']).sum()"
      ]
    },
    {
      "cell_type": "markdown",
      "metadata": {
        "id": "HvLid7iD0q1B"
      },
      "source": [
        "### Enriquecer los datos"
      ]
    },
    {
      "cell_type": "code",
      "execution_count": null,
      "metadata": {
        "id": "zYEXZac10q1C",
        "outputId": "d5dd80be-2c7b-475a-9a86-fa438cd46e3f"
      },
      "outputs": [
        {
          "data": {
            "text/html": [
              "<div>\n",
              "<style scoped>\n",
              "    .dataframe tbody tr th:only-of-type {\n",
              "        vertical-align: middle;\n",
              "    }\n",
              "\n",
              "    .dataframe tbody tr th {\n",
              "        vertical-align: top;\n",
              "    }\n",
              "\n",
              "    .dataframe thead th {\n",
              "        text-align: right;\n",
              "    }\n",
              "</style>\n",
              "<table border=\"1\" class=\"dataframe\">\n",
              "  <thead>\n",
              "    <tr style=\"text-align: right;\">\n",
              "      <th></th>\n",
              "      <th>message_id</th>\n",
              "      <th>user_id</th>\n",
              "      <th>message_date</th>\n",
              "    </tr>\n",
              "  </thead>\n",
              "  <tbody>\n",
              "    <tr>\n",
              "      <th>0</th>\n",
              "      <td>1000_125</td>\n",
              "      <td>1000</td>\n",
              "      <td>2018-12-27</td>\n",
              "    </tr>\n",
              "    <tr>\n",
              "      <th>1</th>\n",
              "      <td>1000_160</td>\n",
              "      <td>1000</td>\n",
              "      <td>2018-12-31</td>\n",
              "    </tr>\n",
              "    <tr>\n",
              "      <th>2</th>\n",
              "      <td>1000_223</td>\n",
              "      <td>1000</td>\n",
              "      <td>2018-12-31</td>\n",
              "    </tr>\n",
              "    <tr>\n",
              "      <th>3</th>\n",
              "      <td>1000_251</td>\n",
              "      <td>1000</td>\n",
              "      <td>2018-12-27</td>\n",
              "    </tr>\n",
              "    <tr>\n",
              "      <th>4</th>\n",
              "      <td>1000_255</td>\n",
              "      <td>1000</td>\n",
              "      <td>2018-12-26</td>\n",
              "    </tr>\n",
              "  </tbody>\n",
              "</table>\n",
              "</div>"
            ],
            "text/plain": [
              "  message_id  user_id message_date\n",
              "0   1000_125     1000   2018-12-27\n",
              "1   1000_160     1000   2018-12-31\n",
              "2   1000_223     1000   2018-12-31\n",
              "3   1000_251     1000   2018-12-27\n",
              "4   1000_255     1000   2018-12-26"
            ]
          },
          "execution_count": 21,
          "metadata": {},
          "output_type": "execute_result"
        }
      ],
      "source": [
        "# cambiaremos el id a message_id para facilitar su uso\n",
        "\n",
        "messages_df.rename(columns={'id':'message_id'}, inplace=True)\n",
        "messages_df.head()"
      ]
    },
    {
      "cell_type": "code",
      "execution_count": null,
      "metadata": {
        "id": "s0iCkE1hPywG",
        "outputId": "59bfae61-7578-4b3a-a0ee-ed3d89780cb6"
      },
      "outputs": [
        {
          "name": "stdout",
          "output_type": "stream",
          "text": [
            "Fecha mínima de nuestro dataset 2018-01-15 00:00:00\n",
            "Fecha máxima de nuestro dataset 2018-12-31 00:00:00\n"
          ]
        }
      ],
      "source": [
        "# para interpretar bien los datos, convertiremos el tipo de dato de...\n",
        "# message_date (object) a DateTime.\n",
        "\n",
        "messages_df['message_date'] = pd.to_datetime(messages_df['message_date'], format='%Y-%m-%d')\n",
        "messages_df.head()\n",
        "\n",
        "# confirmando rangos de fechas\n",
        "min_date_messages = messages_df['message_date'].min()\n",
        "max_date_messages = messages_df['message_date'].max()\n",
        "\n",
        "print(f'Fecha mínima de nuestro dataset {min_date_messages}')\n",
        "print(f'Fecha máxima de nuestro dataset {max_date_messages}')"
      ]
    },
    {
      "cell_type": "code",
      "execution_count": null,
      "metadata": {
        "id": "qd-lmeOxPywH",
        "outputId": "737530f7-e01e-404d-b35b-c93952c16303"
      },
      "outputs": [
        {
          "name": "stdout",
          "output_type": "stream",
          "text": [
            "<class 'pandas.core.frame.DataFrame'>\n",
            "RangeIndex: 76051 entries, 0 to 76050\n",
            "Data columns (total 4 columns):\n",
            " #   Column        Non-Null Count  Dtype         \n",
            "---  ------        --------------  -----         \n",
            " 0   message_id    76051 non-null  object        \n",
            " 1   user_id       76051 non-null  int64         \n",
            " 2   message_date  76051 non-null  datetime64[ns]\n",
            " 3   month         76051 non-null  int64         \n",
            "dtypes: datetime64[ns](1), int64(2), object(1)\n",
            "memory usage: 2.3+ MB\n"
          ]
        }
      ],
      "source": [
        "# normalmente las empresas, analizan mes a mes su información.\n",
        "# crearemos una nueva columna en donde extraeremos el mes con el constructor DatetimeIndex\n",
        "\n",
        "messages_df['month'] = pd.DatetimeIndex(messages_df['message_date']).month\n",
        "messages_df.info()"
      ]
    },
    {
      "cell_type": "code",
      "execution_count": null,
      "metadata": {
        "id": "wxj24q6-PywH",
        "outputId": "80ad1fd2-b172-453f-8765-45f9a38cd120"
      },
      "outputs": [
        {
          "data": {
            "text/html": [
              "<div>\n",
              "<style scoped>\n",
              "    .dataframe tbody tr th:only-of-type {\n",
              "        vertical-align: middle;\n",
              "    }\n",
              "\n",
              "    .dataframe tbody tr th {\n",
              "        vertical-align: top;\n",
              "    }\n",
              "\n",
              "    .dataframe thead th {\n",
              "        text-align: right;\n",
              "    }\n",
              "</style>\n",
              "<table border=\"1\" class=\"dataframe\">\n",
              "  <thead>\n",
              "    <tr style=\"text-align: right;\">\n",
              "      <th></th>\n",
              "      <th>message_id</th>\n",
              "      <th>user_id</th>\n",
              "      <th>message_date</th>\n",
              "      <th>month</th>\n",
              "    </tr>\n",
              "  </thead>\n",
              "  <tbody>\n",
              "    <tr>\n",
              "      <th>0</th>\n",
              "      <td>1000_125</td>\n",
              "      <td>1000</td>\n",
              "      <td>2018-12-27</td>\n",
              "      <td>12</td>\n",
              "    </tr>\n",
              "    <tr>\n",
              "      <th>1</th>\n",
              "      <td>1000_160</td>\n",
              "      <td>1000</td>\n",
              "      <td>2018-12-31</td>\n",
              "      <td>12</td>\n",
              "    </tr>\n",
              "    <tr>\n",
              "      <th>2</th>\n",
              "      <td>1000_223</td>\n",
              "      <td>1000</td>\n",
              "      <td>2018-12-31</td>\n",
              "      <td>12</td>\n",
              "    </tr>\n",
              "    <tr>\n",
              "      <th>3</th>\n",
              "      <td>1000_251</td>\n",
              "      <td>1000</td>\n",
              "      <td>2018-12-27</td>\n",
              "      <td>12</td>\n",
              "    </tr>\n",
              "    <tr>\n",
              "      <th>4</th>\n",
              "      <td>1000_255</td>\n",
              "      <td>1000</td>\n",
              "      <td>2018-12-26</td>\n",
              "      <td>12</td>\n",
              "    </tr>\n",
              "  </tbody>\n",
              "</table>\n",
              "</div>"
            ],
            "text/plain": [
              "  message_id  user_id message_date  month\n",
              "0   1000_125     1000   2018-12-27     12\n",
              "1   1000_160     1000   2018-12-31     12\n",
              "2   1000_223     1000   2018-12-31     12\n",
              "3   1000_251     1000   2018-12-27     12\n",
              "4   1000_255     1000   2018-12-26     12"
            ]
          },
          "execution_count": 24,
          "metadata": {},
          "output_type": "execute_result"
        }
      ],
      "source": [
        "messages_df.head()"
      ]
    },
    {
      "cell_type": "markdown",
      "metadata": {
        "id": "bStkaxn40q1C"
      },
      "source": [
        "## Internet"
      ]
    },
    {
      "cell_type": "code",
      "execution_count": null,
      "metadata": {
        "id": "e-Uz5qyn0q1C",
        "outputId": "ad0c862f-1835-4c9d-a8dd-df35d4b4ea1d"
      },
      "outputs": [
        {
          "name": "stdout",
          "output_type": "stream",
          "text": [
            "<class 'pandas.core.frame.DataFrame'>\n",
            "RangeIndex: 104825 entries, 0 to 104824\n",
            "Data columns (total 4 columns):\n",
            " #   Column        Non-Null Count   Dtype  \n",
            "---  ------        --------------   -----  \n",
            " 0   id            104825 non-null  object \n",
            " 1   user_id       104825 non-null  int64  \n",
            " 2   session_date  104825 non-null  object \n",
            " 3   mb_used       104825 non-null  float64\n",
            "dtypes: float64(1), int64(1), object(2)\n",
            "memory usage: 3.2+ MB\n"
          ]
        },
        {
          "data": {
            "text/html": [
              "<div>\n",
              "<style scoped>\n",
              "    .dataframe tbody tr th:only-of-type {\n",
              "        vertical-align: middle;\n",
              "    }\n",
              "\n",
              "    .dataframe tbody tr th {\n",
              "        vertical-align: top;\n",
              "    }\n",
              "\n",
              "    .dataframe thead th {\n",
              "        text-align: right;\n",
              "    }\n",
              "</style>\n",
              "<table border=\"1\" class=\"dataframe\">\n",
              "  <thead>\n",
              "    <tr style=\"text-align: right;\">\n",
              "      <th></th>\n",
              "      <th>user_id</th>\n",
              "      <th>mb_used</th>\n",
              "    </tr>\n",
              "  </thead>\n",
              "  <tbody>\n",
              "    <tr>\n",
              "      <th>count</th>\n",
              "      <td>104825.000000</td>\n",
              "      <td>104825.000000</td>\n",
              "    </tr>\n",
              "    <tr>\n",
              "      <th>mean</th>\n",
              "      <td>1242.496361</td>\n",
              "      <td>366.713701</td>\n",
              "    </tr>\n",
              "    <tr>\n",
              "      <th>std</th>\n",
              "      <td>142.053913</td>\n",
              "      <td>277.170542</td>\n",
              "    </tr>\n",
              "    <tr>\n",
              "      <th>min</th>\n",
              "      <td>1000.000000</td>\n",
              "      <td>0.000000</td>\n",
              "    </tr>\n",
              "    <tr>\n",
              "      <th>25%</th>\n",
              "      <td>1122.000000</td>\n",
              "      <td>136.080000</td>\n",
              "    </tr>\n",
              "    <tr>\n",
              "      <th>50%</th>\n",
              "      <td>1236.000000</td>\n",
              "      <td>343.980000</td>\n",
              "    </tr>\n",
              "    <tr>\n",
              "      <th>75%</th>\n",
              "      <td>1367.000000</td>\n",
              "      <td>554.610000</td>\n",
              "    </tr>\n",
              "    <tr>\n",
              "      <th>max</th>\n",
              "      <td>1499.000000</td>\n",
              "      <td>1693.470000</td>\n",
              "    </tr>\n",
              "  </tbody>\n",
              "</table>\n",
              "</div>"
            ],
            "text/plain": [
              "             user_id        mb_used\n",
              "count  104825.000000  104825.000000\n",
              "mean     1242.496361     366.713701\n",
              "std       142.053913     277.170542\n",
              "min      1000.000000       0.000000\n",
              "25%      1122.000000     136.080000\n",
              "50%      1236.000000     343.980000\n",
              "75%      1367.000000     554.610000\n",
              "max      1499.000000    1693.470000"
            ]
          },
          "execution_count": 25,
          "metadata": {},
          "output_type": "execute_result"
        }
      ],
      "source": [
        "# Imprime la información general/resumida sobre el DataFrame de internet\n",
        "internet_df.info()\n",
        "internet_df.describe()"
      ]
    },
    {
      "cell_type": "code",
      "execution_count": null,
      "metadata": {
        "id": "9r3x_XLw0q1C",
        "outputId": "6c036be5-9699-4608-8121-ba8aa49be801"
      },
      "outputs": [
        {
          "data": {
            "text/html": [
              "<div>\n",
              "<style scoped>\n",
              "    .dataframe tbody tr th:only-of-type {\n",
              "        vertical-align: middle;\n",
              "    }\n",
              "\n",
              "    .dataframe tbody tr th {\n",
              "        vertical-align: top;\n",
              "    }\n",
              "\n",
              "    .dataframe thead th {\n",
              "        text-align: right;\n",
              "    }\n",
              "</style>\n",
              "<table border=\"1\" class=\"dataframe\">\n",
              "  <thead>\n",
              "    <tr style=\"text-align: right;\">\n",
              "      <th></th>\n",
              "      <th>id</th>\n",
              "      <th>user_id</th>\n",
              "      <th>session_date</th>\n",
              "      <th>mb_used</th>\n",
              "    </tr>\n",
              "  </thead>\n",
              "  <tbody>\n",
              "    <tr>\n",
              "      <th>0</th>\n",
              "      <td>1000_13</td>\n",
              "      <td>1000</td>\n",
              "      <td>2018-12-29</td>\n",
              "      <td>89.86</td>\n",
              "    </tr>\n",
              "    <tr>\n",
              "      <th>1</th>\n",
              "      <td>1000_204</td>\n",
              "      <td>1000</td>\n",
              "      <td>2018-12-31</td>\n",
              "      <td>0.00</td>\n",
              "    </tr>\n",
              "    <tr>\n",
              "      <th>2</th>\n",
              "      <td>1000_379</td>\n",
              "      <td>1000</td>\n",
              "      <td>2018-12-28</td>\n",
              "      <td>660.40</td>\n",
              "    </tr>\n",
              "    <tr>\n",
              "      <th>3</th>\n",
              "      <td>1000_413</td>\n",
              "      <td>1000</td>\n",
              "      <td>2018-12-26</td>\n",
              "      <td>270.99</td>\n",
              "    </tr>\n",
              "    <tr>\n",
              "      <th>4</th>\n",
              "      <td>1000_442</td>\n",
              "      <td>1000</td>\n",
              "      <td>2018-12-27</td>\n",
              "      <td>880.22</td>\n",
              "    </tr>\n",
              "  </tbody>\n",
              "</table>\n",
              "</div>"
            ],
            "text/plain": [
              "         id  user_id session_date  mb_used\n",
              "0   1000_13     1000   2018-12-29    89.86\n",
              "1  1000_204     1000   2018-12-31     0.00\n",
              "2  1000_379     1000   2018-12-28   660.40\n",
              "3  1000_413     1000   2018-12-26   270.99\n",
              "4  1000_442     1000   2018-12-27   880.22"
            ]
          },
          "execution_count": 26,
          "metadata": {},
          "output_type": "execute_result"
        }
      ],
      "source": [
        "# Imprime una muestra de datos para el tráfico de internet\n",
        "\n",
        "internet_df.head()"
      ]
    },
    {
      "cell_type": "markdown",
      "metadata": {
        "id": "yA0tkPFg0q1D"
      },
      "source": [
        "### Corregir los datos"
      ]
    },
    {
      "cell_type": "code",
      "execution_count": null,
      "metadata": {
        "id": "zVeanzdd0q1E",
        "outputId": "48fab341-9df7-4784-cec4-4c002b502d40"
      },
      "outputs": [
        {
          "name": "stdout",
          "output_type": "stream",
          "text": [
            "id              0\n",
            "user_id         0\n",
            "session_date    0\n",
            "mb_used         0\n",
            "dtype: int64\n",
            "\n",
            "Hay 0 datos duplicados\n"
          ]
        }
      ],
      "source": [
        "# comprobamos si hay datos nulos\n",
        "print(internet_df.isna().sum())\n",
        "\n",
        "# verificamos si hay datos duplicados\n",
        "print(f'\\nHay {internet_df.duplicated().sum()} datos duplicados')"
      ]
    },
    {
      "cell_type": "markdown",
      "metadata": {
        "id": "e8_mLF4a0q1E"
      },
      "source": [
        "### Enriquecer los datos"
      ]
    },
    {
      "cell_type": "code",
      "execution_count": null,
      "metadata": {
        "id": "ESiYPIEK0q1E",
        "outputId": "a9ef3a27-6d0a-4cfd-8056-9cc65beb9d71"
      },
      "outputs": [
        {
          "data": {
            "text/html": [
              "<div>\n",
              "<style scoped>\n",
              "    .dataframe tbody tr th:only-of-type {\n",
              "        vertical-align: middle;\n",
              "    }\n",
              "\n",
              "    .dataframe tbody tr th {\n",
              "        vertical-align: top;\n",
              "    }\n",
              "\n",
              "    .dataframe thead th {\n",
              "        text-align: right;\n",
              "    }\n",
              "</style>\n",
              "<table border=\"1\" class=\"dataframe\">\n",
              "  <thead>\n",
              "    <tr style=\"text-align: right;\">\n",
              "      <th></th>\n",
              "      <th>internet_id</th>\n",
              "      <th>user_id</th>\n",
              "      <th>session_date</th>\n",
              "      <th>mb_used</th>\n",
              "    </tr>\n",
              "  </thead>\n",
              "  <tbody>\n",
              "    <tr>\n",
              "      <th>0</th>\n",
              "      <td>1000_13</td>\n",
              "      <td>1000</td>\n",
              "      <td>2018-12-29</td>\n",
              "      <td>89.86</td>\n",
              "    </tr>\n",
              "    <tr>\n",
              "      <th>1</th>\n",
              "      <td>1000_204</td>\n",
              "      <td>1000</td>\n",
              "      <td>2018-12-31</td>\n",
              "      <td>0.00</td>\n",
              "    </tr>\n",
              "    <tr>\n",
              "      <th>2</th>\n",
              "      <td>1000_379</td>\n",
              "      <td>1000</td>\n",
              "      <td>2018-12-28</td>\n",
              "      <td>660.40</td>\n",
              "    </tr>\n",
              "    <tr>\n",
              "      <th>3</th>\n",
              "      <td>1000_413</td>\n",
              "      <td>1000</td>\n",
              "      <td>2018-12-26</td>\n",
              "      <td>270.99</td>\n",
              "    </tr>\n",
              "    <tr>\n",
              "      <th>4</th>\n",
              "      <td>1000_442</td>\n",
              "      <td>1000</td>\n",
              "      <td>2018-12-27</td>\n",
              "      <td>880.22</td>\n",
              "    </tr>\n",
              "  </tbody>\n",
              "</table>\n",
              "</div>"
            ],
            "text/plain": [
              "  internet_id  user_id session_date  mb_used\n",
              "0     1000_13     1000   2018-12-29    89.86\n",
              "1    1000_204     1000   2018-12-31     0.00\n",
              "2    1000_379     1000   2018-12-28   660.40\n",
              "3    1000_413     1000   2018-12-26   270.99\n",
              "4    1000_442     1000   2018-12-27   880.22"
            ]
          },
          "execution_count": 28,
          "metadata": {},
          "output_type": "execute_result"
        }
      ],
      "source": [
        "# cambiaremos el id a internet_id para facilitar su uso\n",
        "\n",
        "internet_df.rename(columns={'id':'internet_id'}, inplace=True)\n",
        "internet_df.head()"
      ]
    },
    {
      "cell_type": "code",
      "execution_count": null,
      "metadata": {
        "id": "hRgYPJ-HPywJ",
        "outputId": "ae571b10-52d5-4d27-cfc9-ff622e8bc830"
      },
      "outputs": [
        {
          "name": "stdout",
          "output_type": "stream",
          "text": [
            "<class 'pandas.core.frame.DataFrame'>\n",
            "RangeIndex: 104825 entries, 0 to 104824\n",
            "Data columns (total 4 columns):\n",
            " #   Column        Non-Null Count   Dtype         \n",
            "---  ------        --------------   -----         \n",
            " 0   internet_id   104825 non-null  object        \n",
            " 1   user_id       104825 non-null  int64         \n",
            " 2   session_date  104825 non-null  datetime64[ns]\n",
            " 3   mb_used       104825 non-null  float64       \n",
            "dtypes: datetime64[ns](1), float64(1), int64(1), object(1)\n",
            "memory usage: 3.2+ MB\n"
          ]
        }
      ],
      "source": [
        "# para interpretar bien los datos, convertiremos el tipo de dato de...\n",
        "# session_date (object) a DateTime.\n",
        "\n",
        "internet_df['session_date'] = pd.to_datetime(internet_df['session_date'], format='%Y-%m-%d')\n",
        "internet_df.info()"
      ]
    },
    {
      "cell_type": "code",
      "execution_count": null,
      "metadata": {
        "id": "ZLQ9HRbtPywK"
      },
      "outputs": [],
      "source": [
        "# normalmente las empresas, analizan mes a mes su información.\n",
        "# crearemos una nueva columna en donde extraeremos el mes con el constructor DatetimeIndex\n",
        "\n",
        "internet_df['month'] = pd.DatetimeIndex(internet_df['session_date']).month"
      ]
    },
    {
      "cell_type": "code",
      "execution_count": null,
      "metadata": {
        "id": "_WffsCyzPywK",
        "outputId": "03f6e2f0-7da2-4c38-a702-1f04f1d753d2"
      },
      "outputs": [
        {
          "name": "stdout",
          "output_type": "stream",
          "text": [
            "<class 'pandas.core.frame.DataFrame'>\n",
            "RangeIndex: 104825 entries, 0 to 104824\n",
            "Data columns (total 5 columns):\n",
            " #   Column        Non-Null Count   Dtype         \n",
            "---  ------        --------------   -----         \n",
            " 0   internet_id   104825 non-null  object        \n",
            " 1   user_id       104825 non-null  int64         \n",
            " 2   session_date  104825 non-null  datetime64[ns]\n",
            " 3   mb_used       104825 non-null  float64       \n",
            " 4   month         104825 non-null  int64         \n",
            "dtypes: datetime64[ns](1), float64(1), int64(2), object(1)\n",
            "memory usage: 4.0+ MB\n",
            "\n"
          ]
        },
        {
          "data": {
            "text/html": [
              "<div>\n",
              "<style scoped>\n",
              "    .dataframe tbody tr th:only-of-type {\n",
              "        vertical-align: middle;\n",
              "    }\n",
              "\n",
              "    .dataframe tbody tr th {\n",
              "        vertical-align: top;\n",
              "    }\n",
              "\n",
              "    .dataframe thead th {\n",
              "        text-align: right;\n",
              "    }\n",
              "</style>\n",
              "<table border=\"1\" class=\"dataframe\">\n",
              "  <thead>\n",
              "    <tr style=\"text-align: right;\">\n",
              "      <th></th>\n",
              "      <th>internet_id</th>\n",
              "      <th>user_id</th>\n",
              "      <th>session_date</th>\n",
              "      <th>mb_used</th>\n",
              "      <th>month</th>\n",
              "    </tr>\n",
              "  </thead>\n",
              "  <tbody>\n",
              "    <tr>\n",
              "      <th>0</th>\n",
              "      <td>1000_13</td>\n",
              "      <td>1000</td>\n",
              "      <td>2018-12-29</td>\n",
              "      <td>89.86</td>\n",
              "      <td>12</td>\n",
              "    </tr>\n",
              "    <tr>\n",
              "      <th>1</th>\n",
              "      <td>1000_204</td>\n",
              "      <td>1000</td>\n",
              "      <td>2018-12-31</td>\n",
              "      <td>0.00</td>\n",
              "      <td>12</td>\n",
              "    </tr>\n",
              "    <tr>\n",
              "      <th>2</th>\n",
              "      <td>1000_379</td>\n",
              "      <td>1000</td>\n",
              "      <td>2018-12-28</td>\n",
              "      <td>660.40</td>\n",
              "      <td>12</td>\n",
              "    </tr>\n",
              "    <tr>\n",
              "      <th>3</th>\n",
              "      <td>1000_413</td>\n",
              "      <td>1000</td>\n",
              "      <td>2018-12-26</td>\n",
              "      <td>270.99</td>\n",
              "      <td>12</td>\n",
              "    </tr>\n",
              "    <tr>\n",
              "      <th>4</th>\n",
              "      <td>1000_442</td>\n",
              "      <td>1000</td>\n",
              "      <td>2018-12-27</td>\n",
              "      <td>880.22</td>\n",
              "      <td>12</td>\n",
              "    </tr>\n",
              "  </tbody>\n",
              "</table>\n",
              "</div>"
            ],
            "text/plain": [
              "  internet_id  user_id session_date  mb_used  month\n",
              "0     1000_13     1000   2018-12-29    89.86     12\n",
              "1    1000_204     1000   2018-12-31     0.00     12\n",
              "2    1000_379     1000   2018-12-28   660.40     12\n",
              "3    1000_413     1000   2018-12-26   270.99     12\n",
              "4    1000_442     1000   2018-12-27   880.22     12"
            ]
          },
          "execution_count": 31,
          "metadata": {},
          "output_type": "execute_result"
        }
      ],
      "source": [
        "internet_df.info()\n",
        "print('')\n",
        "internet_df.head()"
      ]
    },
    {
      "cell_type": "code",
      "execution_count": null,
      "metadata": {
        "id": "JbMAjVVIPywL",
        "outputId": "6366b935-7b19-495f-81f4-80c4ed283f0c"
      },
      "outputs": [
        {
          "name": "stdout",
          "output_type": "stream",
          "text": [
            "El 13% usuarios que no utilizan MB de internet.\n"
          ]
        }
      ],
      "source": [
        "# porcentaje de usuarios que usan 0 megas\n",
        "\n",
        "percentage_users_megas_not_used = round((len(internet_df.query('mb_used == 0'))/len(internet_df))*100)\n",
        "print(f'El {percentage_users_megas_not_used}% usuarios que no utilizan MB de internet.')"
      ]
    },
    {
      "cell_type": "markdown",
      "metadata": {
        "id": "3UA2cqIW0q1E"
      },
      "source": [
        "## Estudiar las condiciones de las tarifas"
      ]
    },
    {
      "cell_type": "code",
      "execution_count": null,
      "metadata": {
        "id": "i409op8p0q1F"
      },
      "outputs": [],
      "source": [
        "# Imprime las condiciones de la tarifa y asegúrate de que te quedan claras\n",
        "\n",
        "surf_monthly_charge = 20\n",
        "surf_monthly_minutes = 500\n",
        "surf_monthly_messages = 50\n",
        "surf_monthly_data = 15\n",
        "surf_call_charge = 0.03\n",
        "surf_message_charge = 0.03\n",
        "surf_data_charge = 10\n",
        "\n",
        "ultimate_monthly_charge = 70\n",
        "ultimate_monthly_minutes = 3000\n",
        "ultimate_monthly_messages = 1000\n",
        "ultimate_monthly_data = 30\n",
        "ultimate_call_charge = 0.01\n",
        "ultimate_message_charge = 0.01\n",
        "ultimate_data_charge = 7"
      ]
    },
    {
      "cell_type": "code",
      "execution_count": null,
      "metadata": {
        "id": "XH0RMjc8PywL"
      },
      "outputs": [],
      "source": [
        "# verificando el consumo de usuarios por ciudad"
      ]
    },
    {
      "cell_type": "code",
      "execution_count": null,
      "metadata": {
        "id": "GQJBgDpgPywM"
      },
      "outputs": [],
      "source": [
        "plan_analytics = users_df[['user_id', 'plan_id', 'city']]"
      ]
    },
    {
      "cell_type": "code",
      "execution_count": null,
      "metadata": {
        "id": "nIIhYZqVPywM",
        "outputId": "213e160b-a880-466a-b8ed-e3e871da7b76"
      },
      "outputs": [
        {
          "data": {
            "text/html": [
              "<div>\n",
              "<style scoped>\n",
              "    .dataframe tbody tr th:only-of-type {\n",
              "        vertical-align: middle;\n",
              "    }\n",
              "\n",
              "    .dataframe tbody tr th {\n",
              "        vertical-align: top;\n",
              "    }\n",
              "\n",
              "    .dataframe thead th {\n",
              "        text-align: right;\n",
              "    }\n",
              "</style>\n",
              "<table border=\"1\" class=\"dataframe\">\n",
              "  <thead>\n",
              "    <tr style=\"text-align: right;\">\n",
              "      <th></th>\n",
              "      <th>user_id</th>\n",
              "      <th>plan_id</th>\n",
              "      <th>city</th>\n",
              "    </tr>\n",
              "  </thead>\n",
              "  <tbody>\n",
              "    <tr>\n",
              "      <th>0</th>\n",
              "      <td>1000</td>\n",
              "      <td>ultimate</td>\n",
              "      <td>Atlanta-Sandy Springs-Roswell, GA MSA</td>\n",
              "    </tr>\n",
              "    <tr>\n",
              "      <th>1</th>\n",
              "      <td>1001</td>\n",
              "      <td>surf</td>\n",
              "      <td>Seattle-Tacoma-Bellevue, WA MSA</td>\n",
              "    </tr>\n",
              "    <tr>\n",
              "      <th>2</th>\n",
              "      <td>1002</td>\n",
              "      <td>surf</td>\n",
              "      <td>Las Vegas-Henderson-Paradise, NV MSA</td>\n",
              "    </tr>\n",
              "    <tr>\n",
              "      <th>3</th>\n",
              "      <td>1003</td>\n",
              "      <td>surf</td>\n",
              "      <td>Tulsa, OK MSA</td>\n",
              "    </tr>\n",
              "    <tr>\n",
              "      <th>4</th>\n",
              "      <td>1004</td>\n",
              "      <td>surf</td>\n",
              "      <td>Seattle-Tacoma-Bellevue, WA MSA</td>\n",
              "    </tr>\n",
              "    <tr>\n",
              "      <th>...</th>\n",
              "      <td>...</td>\n",
              "      <td>...</td>\n",
              "      <td>...</td>\n",
              "    </tr>\n",
              "    <tr>\n",
              "      <th>495</th>\n",
              "      <td>1495</td>\n",
              "      <td>surf</td>\n",
              "      <td>New York-Newark-Jersey City, NY-NJ-PA MSA</td>\n",
              "    </tr>\n",
              "    <tr>\n",
              "      <th>496</th>\n",
              "      <td>1496</td>\n",
              "      <td>surf</td>\n",
              "      <td>New Orleans-Metairie, LA MSA</td>\n",
              "    </tr>\n",
              "    <tr>\n",
              "      <th>497</th>\n",
              "      <td>1497</td>\n",
              "      <td>ultimate</td>\n",
              "      <td>Los Angeles-Long Beach-Anaheim, CA MSA</td>\n",
              "    </tr>\n",
              "    <tr>\n",
              "      <th>498</th>\n",
              "      <td>1498</td>\n",
              "      <td>surf</td>\n",
              "      <td>New York-Newark-Jersey City, NY-NJ-PA MSA</td>\n",
              "    </tr>\n",
              "    <tr>\n",
              "      <th>499</th>\n",
              "      <td>1499</td>\n",
              "      <td>surf</td>\n",
              "      <td>Orlando-Kissimmee-Sanford, FL MSA</td>\n",
              "    </tr>\n",
              "  </tbody>\n",
              "</table>\n",
              "<p>500 rows × 3 columns</p>\n",
              "</div>"
            ],
            "text/plain": [
              "     user_id   plan_id                                       city\n",
              "0       1000  ultimate      Atlanta-Sandy Springs-Roswell, GA MSA\n",
              "1       1001      surf            Seattle-Tacoma-Bellevue, WA MSA\n",
              "2       1002      surf       Las Vegas-Henderson-Paradise, NV MSA\n",
              "3       1003      surf                              Tulsa, OK MSA\n",
              "4       1004      surf            Seattle-Tacoma-Bellevue, WA MSA\n",
              "..       ...       ...                                        ...\n",
              "495     1495      surf  New York-Newark-Jersey City, NY-NJ-PA MSA\n",
              "496     1496      surf               New Orleans-Metairie, LA MSA\n",
              "497     1497  ultimate     Los Angeles-Long Beach-Anaheim, CA MSA\n",
              "498     1498      surf  New York-Newark-Jersey City, NY-NJ-PA MSA\n",
              "499     1499      surf          Orlando-Kissimmee-Sanford, FL MSA\n",
              "\n",
              "[500 rows x 3 columns]"
            ]
          },
          "execution_count": 36,
          "metadata": {},
          "output_type": "execute_result"
        }
      ],
      "source": [
        "plan_analytics"
      ]
    },
    {
      "cell_type": "markdown",
      "metadata": {
        "id": "hMR1tP5d0q1F"
      },
      "source": [
        "## Agregar datos por usuario\n",
        "\n"
      ]
    },
    {
      "cell_type": "code",
      "execution_count": null,
      "metadata": {
        "id": "A332cedB0q1G"
      },
      "outputs": [],
      "source": [
        "# Calcula el número de llamadas hechas por cada usuario al mes. Guarda el resultado.\n",
        "# Calcula la cantidad de minutos usados por cada usuario al mes. Guarda el resultado.\n",
        "\n",
        "# Para cumplir con estas indicaciones, se realizó de esta manera:"
      ]
    },
    {
      "cell_type": "code",
      "execution_count": null,
      "metadata": {
        "id": "ykXscEk0PywN"
      },
      "outputs": [],
      "source": [
        "import math\n",
        "def redondeo_llamadas(duracion):\n",
        "    redondeo = math.ceil(duracion)\n",
        "    return redondeo\n",
        "calls_df['duracion_redondeada'] = calls_df['duration'].apply(redondeo_llamadas)"
      ]
    },
    {
      "cell_type": "code",
      "execution_count": null,
      "metadata": {
        "id": "H_3O0ebtPywN",
        "outputId": "bb74f466-90a4-4111-dec2-b4ca362764cc"
      },
      "outputs": [
        {
          "data": {
            "text/html": [
              "<div>\n",
              "<style scoped>\n",
              "    .dataframe tbody tr th:only-of-type {\n",
              "        vertical-align: middle;\n",
              "    }\n",
              "\n",
              "    .dataframe tbody tr th {\n",
              "        vertical-align: top;\n",
              "    }\n",
              "\n",
              "    .dataframe thead th {\n",
              "        text-align: right;\n",
              "    }\n",
              "</style>\n",
              "<table border=\"1\" class=\"dataframe\">\n",
              "  <thead>\n",
              "    <tr style=\"text-align: right;\">\n",
              "      <th></th>\n",
              "      <th>call_id</th>\n",
              "      <th>user_id</th>\n",
              "      <th>call_date</th>\n",
              "      <th>duration</th>\n",
              "      <th>month</th>\n",
              "      <th>duracion_redondeada</th>\n",
              "    </tr>\n",
              "  </thead>\n",
              "  <tbody>\n",
              "    <tr>\n",
              "      <th>0</th>\n",
              "      <td>1000_93</td>\n",
              "      <td>1000</td>\n",
              "      <td>2018-12-27</td>\n",
              "      <td>8.52</td>\n",
              "      <td>12</td>\n",
              "      <td>9</td>\n",
              "    </tr>\n",
              "    <tr>\n",
              "      <th>1</th>\n",
              "      <td>1000_145</td>\n",
              "      <td>1000</td>\n",
              "      <td>2018-12-27</td>\n",
              "      <td>13.66</td>\n",
              "      <td>12</td>\n",
              "      <td>14</td>\n",
              "    </tr>\n",
              "    <tr>\n",
              "      <th>2</th>\n",
              "      <td>1000_247</td>\n",
              "      <td>1000</td>\n",
              "      <td>2018-12-27</td>\n",
              "      <td>14.48</td>\n",
              "      <td>12</td>\n",
              "      <td>15</td>\n",
              "    </tr>\n",
              "    <tr>\n",
              "      <th>3</th>\n",
              "      <td>1000_309</td>\n",
              "      <td>1000</td>\n",
              "      <td>2018-12-28</td>\n",
              "      <td>5.76</td>\n",
              "      <td>12</td>\n",
              "      <td>6</td>\n",
              "    </tr>\n",
              "    <tr>\n",
              "      <th>4</th>\n",
              "      <td>1000_380</td>\n",
              "      <td>1000</td>\n",
              "      <td>2018-12-30</td>\n",
              "      <td>4.22</td>\n",
              "      <td>12</td>\n",
              "      <td>5</td>\n",
              "    </tr>\n",
              "    <tr>\n",
              "      <th>...</th>\n",
              "      <td>...</td>\n",
              "      <td>...</td>\n",
              "      <td>...</td>\n",
              "      <td>...</td>\n",
              "      <td>...</td>\n",
              "      <td>...</td>\n",
              "    </tr>\n",
              "    <tr>\n",
              "      <th>137730</th>\n",
              "      <td>1499_199</td>\n",
              "      <td>1499</td>\n",
              "      <td>2018-11-21</td>\n",
              "      <td>8.72</td>\n",
              "      <td>11</td>\n",
              "      <td>9</td>\n",
              "    </tr>\n",
              "    <tr>\n",
              "      <th>137731</th>\n",
              "      <td>1499_200</td>\n",
              "      <td>1499</td>\n",
              "      <td>2018-10-20</td>\n",
              "      <td>10.89</td>\n",
              "      <td>10</td>\n",
              "      <td>11</td>\n",
              "    </tr>\n",
              "    <tr>\n",
              "      <th>137732</th>\n",
              "      <td>1499_201</td>\n",
              "      <td>1499</td>\n",
              "      <td>2018-09-21</td>\n",
              "      <td>8.12</td>\n",
              "      <td>9</td>\n",
              "      <td>9</td>\n",
              "    </tr>\n",
              "    <tr>\n",
              "      <th>137733</th>\n",
              "      <td>1499_202</td>\n",
              "      <td>1499</td>\n",
              "      <td>2018-10-10</td>\n",
              "      <td>0.37</td>\n",
              "      <td>10</td>\n",
              "      <td>1</td>\n",
              "    </tr>\n",
              "    <tr>\n",
              "      <th>137734</th>\n",
              "      <td>1499_203</td>\n",
              "      <td>1499</td>\n",
              "      <td>2018-12-29</td>\n",
              "      <td>13.86</td>\n",
              "      <td>12</td>\n",
              "      <td>14</td>\n",
              "    </tr>\n",
              "  </tbody>\n",
              "</table>\n",
              "<p>137735 rows × 6 columns</p>\n",
              "</div>"
            ],
            "text/plain": [
              "         call_id  user_id  call_date  duration  month  duracion_redondeada\n",
              "0        1000_93     1000 2018-12-27      8.52     12                    9\n",
              "1       1000_145     1000 2018-12-27     13.66     12                   14\n",
              "2       1000_247     1000 2018-12-27     14.48     12                   15\n",
              "3       1000_309     1000 2018-12-28      5.76     12                    6\n",
              "4       1000_380     1000 2018-12-30      4.22     12                    5\n",
              "...          ...      ...        ...       ...    ...                  ...\n",
              "137730  1499_199     1499 2018-11-21      8.72     11                    9\n",
              "137731  1499_200     1499 2018-10-20     10.89     10                   11\n",
              "137732  1499_201     1499 2018-09-21      8.12      9                    9\n",
              "137733  1499_202     1499 2018-10-10      0.37     10                    1\n",
              "137734  1499_203     1499 2018-12-29     13.86     12                   14\n",
              "\n",
              "[137735 rows x 6 columns]"
            ]
          },
          "execution_count": 39,
          "metadata": {},
          "output_type": "execute_result"
        }
      ],
      "source": [
        "calls_df"
      ]
    },
    {
      "cell_type": "code",
      "execution_count": null,
      "metadata": {
        "id": "_H6GkHtBPywN",
        "outputId": "64bbaf5b-e03d-4f7b-a770-ff3cc52902fb"
      },
      "outputs": [
        {
          "data": {
            "text/html": [
              "<div>\n",
              "<style scoped>\n",
              "    .dataframe tbody tr th:only-of-type {\n",
              "        vertical-align: middle;\n",
              "    }\n",
              "\n",
              "    .dataframe tbody tr th {\n",
              "        vertical-align: top;\n",
              "    }\n",
              "\n",
              "    .dataframe thead tr th {\n",
              "        text-align: left;\n",
              "    }\n",
              "\n",
              "    .dataframe thead tr:last-of-type th {\n",
              "        text-align: right;\n",
              "    }\n",
              "</style>\n",
              "<table border=\"1\" class=\"dataframe\">\n",
              "  <thead>\n",
              "    <tr>\n",
              "      <th></th>\n",
              "      <th></th>\n",
              "      <th>sum</th>\n",
              "      <th>count</th>\n",
              "    </tr>\n",
              "    <tr>\n",
              "      <th></th>\n",
              "      <th></th>\n",
              "      <th>duracion_redondeada</th>\n",
              "      <th>duracion_redondeada</th>\n",
              "    </tr>\n",
              "    <tr>\n",
              "      <th>user_id</th>\n",
              "      <th>month</th>\n",
              "      <th></th>\n",
              "      <th></th>\n",
              "    </tr>\n",
              "  </thead>\n",
              "  <tbody>\n",
              "    <tr>\n",
              "      <th>1000</th>\n",
              "      <th>12</th>\n",
              "      <td>124</td>\n",
              "      <td>16</td>\n",
              "    </tr>\n",
              "    <tr>\n",
              "      <th rowspan=\"5\" valign=\"top\">1001</th>\n",
              "      <th>8</th>\n",
              "      <td>182</td>\n",
              "      <td>27</td>\n",
              "    </tr>\n",
              "    <tr>\n",
              "      <th>9</th>\n",
              "      <td>315</td>\n",
              "      <td>49</td>\n",
              "    </tr>\n",
              "    <tr>\n",
              "      <th>10</th>\n",
              "      <td>393</td>\n",
              "      <td>65</td>\n",
              "    </tr>\n",
              "    <tr>\n",
              "      <th>11</th>\n",
              "      <td>426</td>\n",
              "      <td>64</td>\n",
              "    </tr>\n",
              "    <tr>\n",
              "      <th>12</th>\n",
              "      <td>412</td>\n",
              "      <td>56</td>\n",
              "    </tr>\n",
              "    <tr>\n",
              "      <th rowspan=\"3\" valign=\"top\">1002</th>\n",
              "      <th>10</th>\n",
              "      <td>59</td>\n",
              "      <td>11</td>\n",
              "    </tr>\n",
              "    <tr>\n",
              "      <th>11</th>\n",
              "      <td>386</td>\n",
              "      <td>55</td>\n",
              "    </tr>\n",
              "    <tr>\n",
              "      <th>12</th>\n",
              "      <td>384</td>\n",
              "      <td>47</td>\n",
              "    </tr>\n",
              "    <tr>\n",
              "      <th>1003</th>\n",
              "      <th>12</th>\n",
              "      <td>1104</td>\n",
              "      <td>149</td>\n",
              "    </tr>\n",
              "  </tbody>\n",
              "</table>\n",
              "</div>"
            ],
            "text/plain": [
              "                              sum               count\n",
              "              duracion_redondeada duracion_redondeada\n",
              "user_id month                                        \n",
              "1000    12                    124                  16\n",
              "1001    8                     182                  27\n",
              "        9                     315                  49\n",
              "        10                    393                  65\n",
              "        11                    426                  64\n",
              "        12                    412                  56\n",
              "1002    10                     59                  11\n",
              "        11                    386                  55\n",
              "        12                    384                  47\n",
              "1003    12                   1104                 149"
            ]
          },
          "execution_count": 40,
          "metadata": {},
          "output_type": "execute_result"
        }
      ],
      "source": [
        "# cuánto gasta un usuario al mes en llamadas, el total\n",
        "\n",
        "analytics_calls = calls_df.pivot_table(index=['user_id', 'month'],\n",
        "                                       values='duracion_redondeada',\n",
        "                                       aggfunc=['sum', 'count'])\n",
        "analytics_calls.head(10)"
      ]
    },
    {
      "cell_type": "code",
      "execution_count": null,
      "metadata": {
        "id": "13B0HsWePywN",
        "outputId": "70cf8048-876b-4b9b-c7ed-52725af879d9"
      },
      "outputs": [
        {
          "data": {
            "text/html": [
              "<div>\n",
              "<style scoped>\n",
              "    .dataframe tbody tr th:only-of-type {\n",
              "        vertical-align: middle;\n",
              "    }\n",
              "\n",
              "    .dataframe tbody tr th {\n",
              "        vertical-align: top;\n",
              "    }\n",
              "\n",
              "    .dataframe thead th {\n",
              "        text-align: right;\n",
              "    }\n",
              "</style>\n",
              "<table border=\"1\" class=\"dataframe\">\n",
              "  <thead>\n",
              "    <tr style=\"text-align: right;\">\n",
              "      <th></th>\n",
              "      <th></th>\n",
              "      <th>minutos_usados</th>\n",
              "      <th>llamadas_realizadas</th>\n",
              "    </tr>\n",
              "    <tr>\n",
              "      <th>user_id</th>\n",
              "      <th>month</th>\n",
              "      <th></th>\n",
              "      <th></th>\n",
              "    </tr>\n",
              "  </thead>\n",
              "  <tbody>\n",
              "    <tr>\n",
              "      <th>1000</th>\n",
              "      <th>12</th>\n",
              "      <td>124</td>\n",
              "      <td>16</td>\n",
              "    </tr>\n",
              "    <tr>\n",
              "      <th rowspan=\"5\" valign=\"top\">1001</th>\n",
              "      <th>8</th>\n",
              "      <td>182</td>\n",
              "      <td>27</td>\n",
              "    </tr>\n",
              "    <tr>\n",
              "      <th>9</th>\n",
              "      <td>315</td>\n",
              "      <td>49</td>\n",
              "    </tr>\n",
              "    <tr>\n",
              "      <th>10</th>\n",
              "      <td>393</td>\n",
              "      <td>65</td>\n",
              "    </tr>\n",
              "    <tr>\n",
              "      <th>11</th>\n",
              "      <td>426</td>\n",
              "      <td>64</td>\n",
              "    </tr>\n",
              "    <tr>\n",
              "      <th>12</th>\n",
              "      <td>412</td>\n",
              "      <td>56</td>\n",
              "    </tr>\n",
              "    <tr>\n",
              "      <th rowspan=\"3\" valign=\"top\">1002</th>\n",
              "      <th>10</th>\n",
              "      <td>59</td>\n",
              "      <td>11</td>\n",
              "    </tr>\n",
              "    <tr>\n",
              "      <th>11</th>\n",
              "      <td>386</td>\n",
              "      <td>55</td>\n",
              "    </tr>\n",
              "    <tr>\n",
              "      <th>12</th>\n",
              "      <td>384</td>\n",
              "      <td>47</td>\n",
              "    </tr>\n",
              "    <tr>\n",
              "      <th>1003</th>\n",
              "      <th>12</th>\n",
              "      <td>1104</td>\n",
              "      <td>149</td>\n",
              "    </tr>\n",
              "  </tbody>\n",
              "</table>\n",
              "</div>"
            ],
            "text/plain": [
              "               minutos_usados  llamadas_realizadas\n",
              "user_id month                                     \n",
              "1000    12                124                   16\n",
              "1001    8                 182                   27\n",
              "        9                 315                   49\n",
              "        10                393                   65\n",
              "        11                426                   64\n",
              "        12                412                   56\n",
              "1002    10                 59                   11\n",
              "        11                386                   55\n",
              "        12                384                   47\n",
              "1003    12               1104                  149"
            ]
          },
          "execution_count": 41,
          "metadata": {},
          "output_type": "execute_result"
        }
      ],
      "source": [
        "analytics_calls.columns = ['minutos_usados', 'llamadas_realizadas'] # cambiamos los nombres de columnas\n",
        "analytics_calls.head(10)"
      ]
    },
    {
      "cell_type": "code",
      "execution_count": null,
      "metadata": {
        "id": "21_eE3BKPywO",
        "outputId": "5e9dc0da-09a6-4451-e31a-f8b9bf504abf"
      },
      "outputs": [
        {
          "data": {
            "text/html": [
              "<div>\n",
              "<style scoped>\n",
              "    .dataframe tbody tr th:only-of-type {\n",
              "        vertical-align: middle;\n",
              "    }\n",
              "\n",
              "    .dataframe tbody tr th {\n",
              "        vertical-align: top;\n",
              "    }\n",
              "\n",
              "    .dataframe thead th {\n",
              "        text-align: right;\n",
              "    }\n",
              "</style>\n",
              "<table border=\"1\" class=\"dataframe\">\n",
              "  <thead>\n",
              "    <tr style=\"text-align: right;\">\n",
              "      <th></th>\n",
              "      <th>user_id</th>\n",
              "      <th>month</th>\n",
              "      <th>minutos_usados</th>\n",
              "      <th>llamadas_realizadas</th>\n",
              "    </tr>\n",
              "  </thead>\n",
              "  <tbody>\n",
              "    <tr>\n",
              "      <th>0</th>\n",
              "      <td>1000</td>\n",
              "      <td>12</td>\n",
              "      <td>124</td>\n",
              "      <td>16</td>\n",
              "    </tr>\n",
              "    <tr>\n",
              "      <th>1</th>\n",
              "      <td>1001</td>\n",
              "      <td>8</td>\n",
              "      <td>182</td>\n",
              "      <td>27</td>\n",
              "    </tr>\n",
              "    <tr>\n",
              "      <th>2</th>\n",
              "      <td>1001</td>\n",
              "      <td>9</td>\n",
              "      <td>315</td>\n",
              "      <td>49</td>\n",
              "    </tr>\n",
              "    <tr>\n",
              "      <th>3</th>\n",
              "      <td>1001</td>\n",
              "      <td>10</td>\n",
              "      <td>393</td>\n",
              "      <td>65</td>\n",
              "    </tr>\n",
              "    <tr>\n",
              "      <th>4</th>\n",
              "      <td>1001</td>\n",
              "      <td>11</td>\n",
              "      <td>426</td>\n",
              "      <td>64</td>\n",
              "    </tr>\n",
              "    <tr>\n",
              "      <th>...</th>\n",
              "      <td>...</td>\n",
              "      <td>...</td>\n",
              "      <td>...</td>\n",
              "      <td>...</td>\n",
              "    </tr>\n",
              "    <tr>\n",
              "      <th>2253</th>\n",
              "      <td>1498</td>\n",
              "      <td>12</td>\n",
              "      <td>339</td>\n",
              "      <td>39</td>\n",
              "    </tr>\n",
              "    <tr>\n",
              "      <th>2254</th>\n",
              "      <td>1499</td>\n",
              "      <td>9</td>\n",
              "      <td>346</td>\n",
              "      <td>41</td>\n",
              "    </tr>\n",
              "    <tr>\n",
              "      <th>2255</th>\n",
              "      <td>1499</td>\n",
              "      <td>10</td>\n",
              "      <td>385</td>\n",
              "      <td>53</td>\n",
              "    </tr>\n",
              "    <tr>\n",
              "      <th>2256</th>\n",
              "      <td>1499</td>\n",
              "      <td>11</td>\n",
              "      <td>308</td>\n",
              "      <td>45</td>\n",
              "    </tr>\n",
              "    <tr>\n",
              "      <th>2257</th>\n",
              "      <td>1499</td>\n",
              "      <td>12</td>\n",
              "      <td>496</td>\n",
              "      <td>65</td>\n",
              "    </tr>\n",
              "  </tbody>\n",
              "</table>\n",
              "<p>2258 rows × 4 columns</p>\n",
              "</div>"
            ],
            "text/plain": [
              "      user_id  month  minutos_usados  llamadas_realizadas\n",
              "0        1000     12             124                   16\n",
              "1        1001      8             182                   27\n",
              "2        1001      9             315                   49\n",
              "3        1001     10             393                   65\n",
              "4        1001     11             426                   64\n",
              "...       ...    ...             ...                  ...\n",
              "2253     1498     12             339                   39\n",
              "2254     1499      9             346                   41\n",
              "2255     1499     10             385                   53\n",
              "2256     1499     11             308                   45\n",
              "2257     1499     12             496                   65\n",
              "\n",
              "[2258 rows x 4 columns]"
            ]
          },
          "execution_count": 42,
          "metadata": {},
          "output_type": "execute_result"
        }
      ],
      "source": [
        "analytics_calls = analytics_calls.reset_index() # el índice se vuelve columna\n",
        "analytics_calls"
      ]
    },
    {
      "cell_type": "code",
      "execution_count": null,
      "metadata": {
        "id": "M3v6fcnbPywO"
      },
      "outputs": [],
      "source": [
        "# -----------------------------------------------------------------------------------------"
      ]
    },
    {
      "cell_type": "code",
      "execution_count": null,
      "metadata": {
        "id": "CcQvNHn60q1G"
      },
      "outputs": [],
      "source": [
        "# Calcula el número de mensajes enviados por cada usuario al mes. Guarda el resultado.\n",
        "\n",
        "# calcular la cant de mensajes por usuario y por mes\n",
        "# cuánto gasta un usuario al mes en mensajes, el total"
      ]
    },
    {
      "cell_type": "code",
      "execution_count": null,
      "metadata": {
        "id": "aw2cmuql0q1G",
        "outputId": "32018b01-f824-42bf-a804-e5b5ba4b424e"
      },
      "outputs": [
        {
          "data": {
            "text/html": [
              "<div>\n",
              "<style scoped>\n",
              "    .dataframe tbody tr th:only-of-type {\n",
              "        vertical-align: middle;\n",
              "    }\n",
              "\n",
              "    .dataframe tbody tr th {\n",
              "        vertical-align: top;\n",
              "    }\n",
              "\n",
              "    .dataframe thead th {\n",
              "        text-align: right;\n",
              "    }\n",
              "</style>\n",
              "<table border=\"1\" class=\"dataframe\">\n",
              "  <thead>\n",
              "    <tr style=\"text-align: right;\">\n",
              "      <th></th>\n",
              "      <th></th>\n",
              "      <th>message_id</th>\n",
              "    </tr>\n",
              "    <tr>\n",
              "      <th>user_id</th>\n",
              "      <th>month</th>\n",
              "      <th></th>\n",
              "    </tr>\n",
              "  </thead>\n",
              "  <tbody>\n",
              "    <tr>\n",
              "      <th>1000</th>\n",
              "      <th>12</th>\n",
              "      <td>11</td>\n",
              "    </tr>\n",
              "    <tr>\n",
              "      <th rowspan=\"4\" valign=\"top\">1001</th>\n",
              "      <th>8</th>\n",
              "      <td>30</td>\n",
              "    </tr>\n",
              "    <tr>\n",
              "      <th>9</th>\n",
              "      <td>44</td>\n",
              "    </tr>\n",
              "    <tr>\n",
              "      <th>10</th>\n",
              "      <td>53</td>\n",
              "    </tr>\n",
              "    <tr>\n",
              "      <th>11</th>\n",
              "      <td>36</td>\n",
              "    </tr>\n",
              "  </tbody>\n",
              "</table>\n",
              "</div>"
            ],
            "text/plain": [
              "               message_id\n",
              "user_id month            \n",
              "1000    12             11\n",
              "1001    8              30\n",
              "        9              44\n",
              "        10             53\n",
              "        11             36"
            ]
          },
          "execution_count": 45,
          "metadata": {},
          "output_type": "execute_result"
        }
      ],
      "source": [
        "analytics_messages = messages_df.pivot_table(index=['user_id', 'month'],\n",
        "                                       values='message_id',\n",
        "                                       aggfunc='count')\n",
        "analytics_messages.head()"
      ]
    },
    {
      "cell_type": "code",
      "execution_count": null,
      "metadata": {
        "id": "Yr1-4TakPywP"
      },
      "outputs": [],
      "source": [
        "# cambiamos nombres de columnas\n",
        "analytics_messages.columns = ['amount_of_messages']\n",
        "\n",
        "# índice a columnas\n",
        "analytics_messages = analytics_messages.reset_index()"
      ]
    },
    {
      "cell_type": "code",
      "execution_count": null,
      "metadata": {
        "id": "_lPL-lWgPywP",
        "outputId": "e9fe5268-35d7-4279-e727-6f024503f045"
      },
      "outputs": [
        {
          "data": {
            "text/html": [
              "<div>\n",
              "<style scoped>\n",
              "    .dataframe tbody tr th:only-of-type {\n",
              "        vertical-align: middle;\n",
              "    }\n",
              "\n",
              "    .dataframe tbody tr th {\n",
              "        vertical-align: top;\n",
              "    }\n",
              "\n",
              "    .dataframe thead th {\n",
              "        text-align: right;\n",
              "    }\n",
              "</style>\n",
              "<table border=\"1\" class=\"dataframe\">\n",
              "  <thead>\n",
              "    <tr style=\"text-align: right;\">\n",
              "      <th></th>\n",
              "      <th>user_id</th>\n",
              "      <th>month</th>\n",
              "      <th>amount_of_messages</th>\n",
              "    </tr>\n",
              "  </thead>\n",
              "  <tbody>\n",
              "    <tr>\n",
              "      <th>0</th>\n",
              "      <td>1000</td>\n",
              "      <td>12</td>\n",
              "      <td>11</td>\n",
              "    </tr>\n",
              "    <tr>\n",
              "      <th>1</th>\n",
              "      <td>1001</td>\n",
              "      <td>8</td>\n",
              "      <td>30</td>\n",
              "    </tr>\n",
              "    <tr>\n",
              "      <th>2</th>\n",
              "      <td>1001</td>\n",
              "      <td>9</td>\n",
              "      <td>44</td>\n",
              "    </tr>\n",
              "    <tr>\n",
              "      <th>3</th>\n",
              "      <td>1001</td>\n",
              "      <td>10</td>\n",
              "      <td>53</td>\n",
              "    </tr>\n",
              "    <tr>\n",
              "      <th>4</th>\n",
              "      <td>1001</td>\n",
              "      <td>11</td>\n",
              "      <td>36</td>\n",
              "    </tr>\n",
              "    <tr>\n",
              "      <th>...</th>\n",
              "      <td>...</td>\n",
              "      <td>...</td>\n",
              "      <td>...</td>\n",
              "    </tr>\n",
              "    <tr>\n",
              "      <th>1801</th>\n",
              "      <td>1496</td>\n",
              "      <td>9</td>\n",
              "      <td>21</td>\n",
              "    </tr>\n",
              "    <tr>\n",
              "      <th>1802</th>\n",
              "      <td>1496</td>\n",
              "      <td>10</td>\n",
              "      <td>18</td>\n",
              "    </tr>\n",
              "    <tr>\n",
              "      <th>1803</th>\n",
              "      <td>1496</td>\n",
              "      <td>11</td>\n",
              "      <td>13</td>\n",
              "    </tr>\n",
              "    <tr>\n",
              "      <th>1804</th>\n",
              "      <td>1496</td>\n",
              "      <td>12</td>\n",
              "      <td>11</td>\n",
              "    </tr>\n",
              "    <tr>\n",
              "      <th>1805</th>\n",
              "      <td>1497</td>\n",
              "      <td>12</td>\n",
              "      <td>50</td>\n",
              "    </tr>\n",
              "  </tbody>\n",
              "</table>\n",
              "<p>1806 rows × 3 columns</p>\n",
              "</div>"
            ],
            "text/plain": [
              "      user_id  month  amount_of_messages\n",
              "0        1000     12                  11\n",
              "1        1001      8                  30\n",
              "2        1001      9                  44\n",
              "3        1001     10                  53\n",
              "4        1001     11                  36\n",
              "...       ...    ...                 ...\n",
              "1801     1496      9                  21\n",
              "1802     1496     10                  18\n",
              "1803     1496     11                  13\n",
              "1804     1496     12                  11\n",
              "1805     1497     12                  50\n",
              "\n",
              "[1806 rows x 3 columns]"
            ]
          },
          "execution_count": 47,
          "metadata": {},
          "output_type": "execute_result"
        }
      ],
      "source": [
        "analytics_messages"
      ]
    },
    {
      "cell_type": "code",
      "execution_count": null,
      "metadata": {
        "id": "ULxFkFeOPywP"
      },
      "outputs": [],
      "source": [
        "# -----------------------------------------------------------------------------------------"
      ]
    },
    {
      "cell_type": "code",
      "execution_count": null,
      "metadata": {
        "id": "H1AqN2eG0q1H"
      },
      "outputs": [],
      "source": [
        "# Calcula el volumen del tráfico de Internet usado por cada usuario al mes. Guarda el resultado.\n",
        "\n",
        "# calcular la cant de internet por ususario y por mes\n",
        "# cuánto gasta un usuario al mes en internet, el total"
      ]
    },
    {
      "cell_type": "code",
      "execution_count": null,
      "metadata": {
        "id": "uZI7yDn2PywQ"
      },
      "outputs": [],
      "source": [
        "analytics_internet = internet_df.pivot_table(index=['user_id', 'month'],\n",
        "                                       values='mb_used',\n",
        "                                       aggfunc='sum')"
      ]
    },
    {
      "cell_type": "code",
      "execution_count": null,
      "metadata": {
        "id": "N8EXnL90PywR"
      },
      "outputs": [],
      "source": [
        "analytics_internet.columns = ['total_mg_used']\n",
        "analytics_internet = analytics_internet.reset_index()"
      ]
    },
    {
      "cell_type": "code",
      "execution_count": null,
      "metadata": {
        "id": "5nZoTGhJPywR",
        "outputId": "1393cb90-6abd-4061-8b21-e9fa4c287c34"
      },
      "outputs": [
        {
          "data": {
            "text/html": [
              "<div>\n",
              "<style scoped>\n",
              "    .dataframe tbody tr th:only-of-type {\n",
              "        vertical-align: middle;\n",
              "    }\n",
              "\n",
              "    .dataframe tbody tr th {\n",
              "        vertical-align: top;\n",
              "    }\n",
              "\n",
              "    .dataframe thead th {\n",
              "        text-align: right;\n",
              "    }\n",
              "</style>\n",
              "<table border=\"1\" class=\"dataframe\">\n",
              "  <thead>\n",
              "    <tr style=\"text-align: right;\">\n",
              "      <th></th>\n",
              "      <th>user_id</th>\n",
              "      <th>month</th>\n",
              "      <th>total_mg_used</th>\n",
              "    </tr>\n",
              "  </thead>\n",
              "  <tbody>\n",
              "    <tr>\n",
              "      <th>0</th>\n",
              "      <td>1000</td>\n",
              "      <td>12</td>\n",
              "      <td>1901.47</td>\n",
              "    </tr>\n",
              "    <tr>\n",
              "      <th>1</th>\n",
              "      <td>1001</td>\n",
              "      <td>8</td>\n",
              "      <td>6919.15</td>\n",
              "    </tr>\n",
              "    <tr>\n",
              "      <th>2</th>\n",
              "      <td>1001</td>\n",
              "      <td>9</td>\n",
              "      <td>13314.82</td>\n",
              "    </tr>\n",
              "    <tr>\n",
              "      <th>3</th>\n",
              "      <td>1001</td>\n",
              "      <td>10</td>\n",
              "      <td>22330.49</td>\n",
              "    </tr>\n",
              "    <tr>\n",
              "      <th>4</th>\n",
              "      <td>1001</td>\n",
              "      <td>11</td>\n",
              "      <td>18504.30</td>\n",
              "    </tr>\n",
              "    <tr>\n",
              "      <th>...</th>\n",
              "      <td>...</td>\n",
              "      <td>...</td>\n",
              "      <td>...</td>\n",
              "    </tr>\n",
              "    <tr>\n",
              "      <th>2272</th>\n",
              "      <td>1498</td>\n",
              "      <td>12</td>\n",
              "      <td>23137.69</td>\n",
              "    </tr>\n",
              "    <tr>\n",
              "      <th>2273</th>\n",
              "      <td>1499</td>\n",
              "      <td>9</td>\n",
              "      <td>12984.76</td>\n",
              "    </tr>\n",
              "    <tr>\n",
              "      <th>2274</th>\n",
              "      <td>1499</td>\n",
              "      <td>10</td>\n",
              "      <td>19492.43</td>\n",
              "    </tr>\n",
              "    <tr>\n",
              "      <th>2275</th>\n",
              "      <td>1499</td>\n",
              "      <td>11</td>\n",
              "      <td>16813.83</td>\n",
              "    </tr>\n",
              "    <tr>\n",
              "      <th>2276</th>\n",
              "      <td>1499</td>\n",
              "      <td>12</td>\n",
              "      <td>22059.21</td>\n",
              "    </tr>\n",
              "  </tbody>\n",
              "</table>\n",
              "<p>2277 rows × 3 columns</p>\n",
              "</div>"
            ],
            "text/plain": [
              "      user_id  month  total_mg_used\n",
              "0        1000     12        1901.47\n",
              "1        1001      8        6919.15\n",
              "2        1001      9       13314.82\n",
              "3        1001     10       22330.49\n",
              "4        1001     11       18504.30\n",
              "...       ...    ...            ...\n",
              "2272     1498     12       23137.69\n",
              "2273     1499      9       12984.76\n",
              "2274     1499     10       19492.43\n",
              "2275     1499     11       16813.83\n",
              "2276     1499     12       22059.21\n",
              "\n",
              "[2277 rows x 3 columns]"
            ]
          },
          "execution_count": 52,
          "metadata": {},
          "output_type": "execute_result"
        }
      ],
      "source": [
        "analytics_internet"
      ]
    },
    {
      "cell_type": "code",
      "execution_count": null,
      "metadata": {
        "id": "2V8BhFTIPywR"
      },
      "outputs": [],
      "source": [
        "# calcular la cantidad extra o lo que no llegaron a gastar los clientes en internet\n",
        "# esta función nos ayuda a convertir megabytes a gigabytes y nos redondea hacia arriba"
      ]
    },
    {
      "cell_type": "code",
      "execution_count": null,
      "metadata": {
        "id": "P_8X931APywS"
      },
      "outputs": [],
      "source": [
        "def datos_redondeo(mb):\n",
        "    redondeo = math.ceil(mb/1024)\n",
        "    return redondeo"
      ]
    },
    {
      "cell_type": "code",
      "execution_count": null,
      "metadata": {
        "id": "tphvdPLWPywS"
      },
      "outputs": [],
      "source": [
        "analytics_internet['total_gb_used_rounded'] = analytics_internet['total_mg_used'].apply(datos_redondeo)"
      ]
    },
    {
      "cell_type": "code",
      "execution_count": null,
      "metadata": {
        "id": "MVolAfQlPywS",
        "outputId": "6ab86297-b749-45ef-b8fe-f168970a2454"
      },
      "outputs": [
        {
          "data": {
            "text/html": [
              "<div>\n",
              "<style scoped>\n",
              "    .dataframe tbody tr th:only-of-type {\n",
              "        vertical-align: middle;\n",
              "    }\n",
              "\n",
              "    .dataframe tbody tr th {\n",
              "        vertical-align: top;\n",
              "    }\n",
              "\n",
              "    .dataframe thead th {\n",
              "        text-align: right;\n",
              "    }\n",
              "</style>\n",
              "<table border=\"1\" class=\"dataframe\">\n",
              "  <thead>\n",
              "    <tr style=\"text-align: right;\">\n",
              "      <th></th>\n",
              "      <th>user_id</th>\n",
              "      <th>month</th>\n",
              "      <th>total_mg_used</th>\n",
              "      <th>total_gb_used_rounded</th>\n",
              "    </tr>\n",
              "  </thead>\n",
              "  <tbody>\n",
              "    <tr>\n",
              "      <th>0</th>\n",
              "      <td>1000</td>\n",
              "      <td>12</td>\n",
              "      <td>1901.47</td>\n",
              "      <td>2</td>\n",
              "    </tr>\n",
              "    <tr>\n",
              "      <th>1</th>\n",
              "      <td>1001</td>\n",
              "      <td>8</td>\n",
              "      <td>6919.15</td>\n",
              "      <td>7</td>\n",
              "    </tr>\n",
              "    <tr>\n",
              "      <th>2</th>\n",
              "      <td>1001</td>\n",
              "      <td>9</td>\n",
              "      <td>13314.82</td>\n",
              "      <td>14</td>\n",
              "    </tr>\n",
              "    <tr>\n",
              "      <th>3</th>\n",
              "      <td>1001</td>\n",
              "      <td>10</td>\n",
              "      <td>22330.49</td>\n",
              "      <td>22</td>\n",
              "    </tr>\n",
              "    <tr>\n",
              "      <th>4</th>\n",
              "      <td>1001</td>\n",
              "      <td>11</td>\n",
              "      <td>18504.30</td>\n",
              "      <td>19</td>\n",
              "    </tr>\n",
              "    <tr>\n",
              "      <th>...</th>\n",
              "      <td>...</td>\n",
              "      <td>...</td>\n",
              "      <td>...</td>\n",
              "      <td>...</td>\n",
              "    </tr>\n",
              "    <tr>\n",
              "      <th>2272</th>\n",
              "      <td>1498</td>\n",
              "      <td>12</td>\n",
              "      <td>23137.69</td>\n",
              "      <td>23</td>\n",
              "    </tr>\n",
              "    <tr>\n",
              "      <th>2273</th>\n",
              "      <td>1499</td>\n",
              "      <td>9</td>\n",
              "      <td>12984.76</td>\n",
              "      <td>13</td>\n",
              "    </tr>\n",
              "    <tr>\n",
              "      <th>2274</th>\n",
              "      <td>1499</td>\n",
              "      <td>10</td>\n",
              "      <td>19492.43</td>\n",
              "      <td>20</td>\n",
              "    </tr>\n",
              "    <tr>\n",
              "      <th>2275</th>\n",
              "      <td>1499</td>\n",
              "      <td>11</td>\n",
              "      <td>16813.83</td>\n",
              "      <td>17</td>\n",
              "    </tr>\n",
              "    <tr>\n",
              "      <th>2276</th>\n",
              "      <td>1499</td>\n",
              "      <td>12</td>\n",
              "      <td>22059.21</td>\n",
              "      <td>22</td>\n",
              "    </tr>\n",
              "  </tbody>\n",
              "</table>\n",
              "<p>2277 rows × 4 columns</p>\n",
              "</div>"
            ],
            "text/plain": [
              "      user_id  month  total_mg_used  total_gb_used_rounded\n",
              "0        1000     12        1901.47                      2\n",
              "1        1001      8        6919.15                      7\n",
              "2        1001      9       13314.82                     14\n",
              "3        1001     10       22330.49                     22\n",
              "4        1001     11       18504.30                     19\n",
              "...       ...    ...            ...                    ...\n",
              "2272     1498     12       23137.69                     23\n",
              "2273     1499      9       12984.76                     13\n",
              "2274     1499     10       19492.43                     20\n",
              "2275     1499     11       16813.83                     17\n",
              "2276     1499     12       22059.21                     22\n",
              "\n",
              "[2277 rows x 4 columns]"
            ]
          },
          "execution_count": 56,
          "metadata": {},
          "output_type": "execute_result"
        }
      ],
      "source": [
        "analytics_internet"
      ]
    },
    {
      "cell_type": "markdown",
      "metadata": {
        "id": "VDfYXnj80q1H"
      },
      "source": [
        "[Junta los datos agregados en un DataFrame para que haya un registro que represente lo que consumió un usuario único en un mes determinado.]"
      ]
    },
    {
      "cell_type": "markdown",
      "metadata": {
        "id": "WWm0tBMRPywT"
      },
      "source": [
        "Puedo concluir que los usuarios se exceden más en llamadas que en mensajes. Se cobrarán más llamadas que mensajes"
      ]
    },
    {
      "cell_type": "code",
      "execution_count": null,
      "metadata": {
        "id": "FW99ykyf0q1H"
      },
      "outputs": [],
      "source": [
        "# Fusiona los datos de llamadas, minutos, mensajes e Internet con base en user_id y month:"
      ]
    },
    {
      "cell_type": "code",
      "execution_count": null,
      "metadata": {
        "id": "bjSzYe-OPywT",
        "outputId": "dca1718d-dea6-4843-81bb-398f6d3feecd"
      },
      "outputs": [
        {
          "data": {
            "text/html": [
              "<div>\n",
              "<style scoped>\n",
              "    .dataframe tbody tr th:only-of-type {\n",
              "        vertical-align: middle;\n",
              "    }\n",
              "\n",
              "    .dataframe tbody tr th {\n",
              "        vertical-align: top;\n",
              "    }\n",
              "\n",
              "    .dataframe thead th {\n",
              "        text-align: right;\n",
              "    }\n",
              "</style>\n",
              "<table border=\"1\" class=\"dataframe\">\n",
              "  <thead>\n",
              "    <tr style=\"text-align: right;\">\n",
              "      <th></th>\n",
              "      <th>user_id</th>\n",
              "      <th>month</th>\n",
              "      <th>minutos_usados</th>\n",
              "      <th>llamadas_realizadas</th>\n",
              "      <th>amount_of_messages</th>\n",
              "    </tr>\n",
              "  </thead>\n",
              "  <tbody>\n",
              "    <tr>\n",
              "      <th>0</th>\n",
              "      <td>1000</td>\n",
              "      <td>12</td>\n",
              "      <td>124.0</td>\n",
              "      <td>16.0</td>\n",
              "      <td>11.0</td>\n",
              "    </tr>\n",
              "    <tr>\n",
              "      <th>1</th>\n",
              "      <td>1001</td>\n",
              "      <td>8</td>\n",
              "      <td>182.0</td>\n",
              "      <td>27.0</td>\n",
              "      <td>30.0</td>\n",
              "    </tr>\n",
              "    <tr>\n",
              "      <th>2</th>\n",
              "      <td>1001</td>\n",
              "      <td>9</td>\n",
              "      <td>315.0</td>\n",
              "      <td>49.0</td>\n",
              "      <td>44.0</td>\n",
              "    </tr>\n",
              "    <tr>\n",
              "      <th>3</th>\n",
              "      <td>1001</td>\n",
              "      <td>10</td>\n",
              "      <td>393.0</td>\n",
              "      <td>65.0</td>\n",
              "      <td>53.0</td>\n",
              "    </tr>\n",
              "    <tr>\n",
              "      <th>4</th>\n",
              "      <td>1001</td>\n",
              "      <td>11</td>\n",
              "      <td>426.0</td>\n",
              "      <td>64.0</td>\n",
              "      <td>36.0</td>\n",
              "    </tr>\n",
              "    <tr>\n",
              "      <th>...</th>\n",
              "      <td>...</td>\n",
              "      <td>...</td>\n",
              "      <td>...</td>\n",
              "      <td>...</td>\n",
              "      <td>...</td>\n",
              "    </tr>\n",
              "    <tr>\n",
              "      <th>2286</th>\n",
              "      <td>1349</td>\n",
              "      <td>10</td>\n",
              "      <td>NaN</td>\n",
              "      <td>NaN</td>\n",
              "      <td>76.0</td>\n",
              "    </tr>\n",
              "    <tr>\n",
              "      <th>2287</th>\n",
              "      <td>1349</td>\n",
              "      <td>11</td>\n",
              "      <td>NaN</td>\n",
              "      <td>NaN</td>\n",
              "      <td>72.0</td>\n",
              "    </tr>\n",
              "    <tr>\n",
              "      <th>2288</th>\n",
              "      <td>1349</td>\n",
              "      <td>12</td>\n",
              "      <td>NaN</td>\n",
              "      <td>NaN</td>\n",
              "      <td>61.0</td>\n",
              "    </tr>\n",
              "    <tr>\n",
              "      <th>2289</th>\n",
              "      <td>1361</td>\n",
              "      <td>5</td>\n",
              "      <td>NaN</td>\n",
              "      <td>NaN</td>\n",
              "      <td>2.0</td>\n",
              "    </tr>\n",
              "    <tr>\n",
              "      <th>2290</th>\n",
              "      <td>1482</td>\n",
              "      <td>10</td>\n",
              "      <td>NaN</td>\n",
              "      <td>NaN</td>\n",
              "      <td>2.0</td>\n",
              "    </tr>\n",
              "  </tbody>\n",
              "</table>\n",
              "<p>2291 rows × 5 columns</p>\n",
              "</div>"
            ],
            "text/plain": [
              "      user_id  month  minutos_usados  llamadas_realizadas  amount_of_messages\n",
              "0        1000     12           124.0                 16.0                11.0\n",
              "1        1001      8           182.0                 27.0                30.0\n",
              "2        1001      9           315.0                 49.0                44.0\n",
              "3        1001     10           393.0                 65.0                53.0\n",
              "4        1001     11           426.0                 64.0                36.0\n",
              "...       ...    ...             ...                  ...                 ...\n",
              "2286     1349     10             NaN                  NaN                76.0\n",
              "2287     1349     11             NaN                  NaN                72.0\n",
              "2288     1349     12             NaN                  NaN                61.0\n",
              "2289     1361      5             NaN                  NaN                 2.0\n",
              "2290     1482     10             NaN                  NaN                 2.0\n",
              "\n",
              "[2291 rows x 5 columns]"
            ]
          },
          "execution_count": 58,
          "metadata": {},
          "output_type": "execute_result"
        }
      ],
      "source": [
        "# Unimos los analytics, para tener una tabla amplia donde se pueda ver todos los analytics así se facilita a las personas que no saben mucho de los datos, entender.\n",
        "# unimos analytics_calls y analytics_messages\n",
        "\n",
        "calls_and_messages = analytics_calls.merge(analytics_messages, on=['user_id', 'month'], how='outer')\n",
        "calls_and_messages"
      ]
    },
    {
      "cell_type": "code",
      "execution_count": null,
      "metadata": {
        "id": "GKx9NtdxPywT"
      },
      "outputs": [],
      "source": [
        "# unimos calls_and_messages con analytics_internet\n",
        "consumption_table = calls_and_messages.merge(analytics_internet,\n",
        "                                             on=['user_id', 'month'],\n",
        "                                             how='outer')"
      ]
    },
    {
      "cell_type": "code",
      "execution_count": null,
      "metadata": {
        "id": "0dNOXHag0q1H"
      },
      "outputs": [],
      "source": [
        "# Añade la información de la tarifa:"
      ]
    },
    {
      "cell_type": "code",
      "execution_count": null,
      "metadata": {
        "id": "XnE-lWXGPywU",
        "outputId": "9835a4a8-cbbd-4cd3-846d-b7aab75ebb62"
      },
      "outputs": [
        {
          "data": {
            "text/html": [
              "<div>\n",
              "<style scoped>\n",
              "    .dataframe tbody tr th:only-of-type {\n",
              "        vertical-align: middle;\n",
              "    }\n",
              "\n",
              "    .dataframe tbody tr th {\n",
              "        vertical-align: top;\n",
              "    }\n",
              "\n",
              "    .dataframe thead th {\n",
              "        text-align: right;\n",
              "    }\n",
              "</style>\n",
              "<table border=\"1\" class=\"dataframe\">\n",
              "  <thead>\n",
              "    <tr style=\"text-align: right;\">\n",
              "      <th></th>\n",
              "      <th>user_id</th>\n",
              "      <th>month</th>\n",
              "      <th>minutos_usados</th>\n",
              "      <th>llamadas_realizadas</th>\n",
              "      <th>amount_of_messages</th>\n",
              "      <th>total_mg_used</th>\n",
              "      <th>total_gb_used_rounded</th>\n",
              "      <th>plan_id</th>\n",
              "      <th>city</th>\n",
              "    </tr>\n",
              "  </thead>\n",
              "  <tbody>\n",
              "    <tr>\n",
              "      <th>0</th>\n",
              "      <td>1000</td>\n",
              "      <td>12</td>\n",
              "      <td>124.0</td>\n",
              "      <td>16.0</td>\n",
              "      <td>11.0</td>\n",
              "      <td>1901.47</td>\n",
              "      <td>2.0</td>\n",
              "      <td>ultimate</td>\n",
              "      <td>Atlanta-Sandy Springs-Roswell, GA MSA</td>\n",
              "    </tr>\n",
              "    <tr>\n",
              "      <th>1</th>\n",
              "      <td>1001</td>\n",
              "      <td>8</td>\n",
              "      <td>182.0</td>\n",
              "      <td>27.0</td>\n",
              "      <td>30.0</td>\n",
              "      <td>6919.15</td>\n",
              "      <td>7.0</td>\n",
              "      <td>surf</td>\n",
              "      <td>Seattle-Tacoma-Bellevue, WA MSA</td>\n",
              "    </tr>\n",
              "    <tr>\n",
              "      <th>2</th>\n",
              "      <td>1001</td>\n",
              "      <td>9</td>\n",
              "      <td>315.0</td>\n",
              "      <td>49.0</td>\n",
              "      <td>44.0</td>\n",
              "      <td>13314.82</td>\n",
              "      <td>14.0</td>\n",
              "      <td>surf</td>\n",
              "      <td>Seattle-Tacoma-Bellevue, WA MSA</td>\n",
              "    </tr>\n",
              "    <tr>\n",
              "      <th>3</th>\n",
              "      <td>1001</td>\n",
              "      <td>10</td>\n",
              "      <td>393.0</td>\n",
              "      <td>65.0</td>\n",
              "      <td>53.0</td>\n",
              "      <td>22330.49</td>\n",
              "      <td>22.0</td>\n",
              "      <td>surf</td>\n",
              "      <td>Seattle-Tacoma-Bellevue, WA MSA</td>\n",
              "    </tr>\n",
              "    <tr>\n",
              "      <th>4</th>\n",
              "      <td>1001</td>\n",
              "      <td>11</td>\n",
              "      <td>426.0</td>\n",
              "      <td>64.0</td>\n",
              "      <td>36.0</td>\n",
              "      <td>18504.30</td>\n",
              "      <td>19.0</td>\n",
              "      <td>surf</td>\n",
              "      <td>Seattle-Tacoma-Bellevue, WA MSA</td>\n",
              "    </tr>\n",
              "    <tr>\n",
              "      <th>...</th>\n",
              "      <td>...</td>\n",
              "      <td>...</td>\n",
              "      <td>...</td>\n",
              "      <td>...</td>\n",
              "      <td>...</td>\n",
              "      <td>...</td>\n",
              "      <td>...</td>\n",
              "      <td>...</td>\n",
              "      <td>...</td>\n",
              "    </tr>\n",
              "    <tr>\n",
              "      <th>2288</th>\n",
              "      <td>1204</td>\n",
              "      <td>12</td>\n",
              "      <td>NaN</td>\n",
              "      <td>NaN</td>\n",
              "      <td>78.0</td>\n",
              "      <td>36730.05</td>\n",
              "      <td>36.0</td>\n",
              "      <td>ultimate</td>\n",
              "      <td>Chicago-Naperville-Elgin, IL-IN-WI MSA</td>\n",
              "    </tr>\n",
              "    <tr>\n",
              "      <th>2289</th>\n",
              "      <td>1349</td>\n",
              "      <td>10</td>\n",
              "      <td>NaN</td>\n",
              "      <td>NaN</td>\n",
              "      <td>76.0</td>\n",
              "      <td>13093.55</td>\n",
              "      <td>13.0</td>\n",
              "      <td>surf</td>\n",
              "      <td>Boston-Cambridge-Newton, MA-NH MSA</td>\n",
              "    </tr>\n",
              "    <tr>\n",
              "      <th>2290</th>\n",
              "      <td>1349</td>\n",
              "      <td>11</td>\n",
              "      <td>NaN</td>\n",
              "      <td>NaN</td>\n",
              "      <td>72.0</td>\n",
              "      <td>17128.26</td>\n",
              "      <td>17.0</td>\n",
              "      <td>surf</td>\n",
              "      <td>Boston-Cambridge-Newton, MA-NH MSA</td>\n",
              "    </tr>\n",
              "    <tr>\n",
              "      <th>2291</th>\n",
              "      <td>1349</td>\n",
              "      <td>12</td>\n",
              "      <td>NaN</td>\n",
              "      <td>NaN</td>\n",
              "      <td>61.0</td>\n",
              "      <td>13039.91</td>\n",
              "      <td>13.0</td>\n",
              "      <td>surf</td>\n",
              "      <td>Boston-Cambridge-Newton, MA-NH MSA</td>\n",
              "    </tr>\n",
              "    <tr>\n",
              "      <th>2292</th>\n",
              "      <td>1108</td>\n",
              "      <td>12</td>\n",
              "      <td>NaN</td>\n",
              "      <td>NaN</td>\n",
              "      <td>NaN</td>\n",
              "      <td>233.17</td>\n",
              "      <td>1.0</td>\n",
              "      <td>ultimate</td>\n",
              "      <td>Salt Lake City, UT MSA</td>\n",
              "    </tr>\n",
              "  </tbody>\n",
              "</table>\n",
              "<p>2293 rows × 9 columns</p>\n",
              "</div>"
            ],
            "text/plain": [
              "      user_id  month  minutos_usados  llamadas_realizadas  amount_of_messages  \\\n",
              "0        1000     12           124.0                 16.0                11.0   \n",
              "1        1001      8           182.0                 27.0                30.0   \n",
              "2        1001      9           315.0                 49.0                44.0   \n",
              "3        1001     10           393.0                 65.0                53.0   \n",
              "4        1001     11           426.0                 64.0                36.0   \n",
              "...       ...    ...             ...                  ...                 ...   \n",
              "2288     1204     12             NaN                  NaN                78.0   \n",
              "2289     1349     10             NaN                  NaN                76.0   \n",
              "2290     1349     11             NaN                  NaN                72.0   \n",
              "2291     1349     12             NaN                  NaN                61.0   \n",
              "2292     1108     12             NaN                  NaN                 NaN   \n",
              "\n",
              "      total_mg_used  total_gb_used_rounded   plan_id  \\\n",
              "0           1901.47                    2.0  ultimate   \n",
              "1           6919.15                    7.0      surf   \n",
              "2          13314.82                   14.0      surf   \n",
              "3          22330.49                   22.0      surf   \n",
              "4          18504.30                   19.0      surf   \n",
              "...             ...                    ...       ...   \n",
              "2288       36730.05                   36.0  ultimate   \n",
              "2289       13093.55                   13.0      surf   \n",
              "2290       17128.26                   17.0      surf   \n",
              "2291       13039.91                   13.0      surf   \n",
              "2292         233.17                    1.0  ultimate   \n",
              "\n",
              "                                        city  \n",
              "0      Atlanta-Sandy Springs-Roswell, GA MSA  \n",
              "1            Seattle-Tacoma-Bellevue, WA MSA  \n",
              "2            Seattle-Tacoma-Bellevue, WA MSA  \n",
              "3            Seattle-Tacoma-Bellevue, WA MSA  \n",
              "4            Seattle-Tacoma-Bellevue, WA MSA  \n",
              "...                                      ...  \n",
              "2288  Chicago-Naperville-Elgin, IL-IN-WI MSA  \n",
              "2289      Boston-Cambridge-Newton, MA-NH MSA  \n",
              "2290      Boston-Cambridge-Newton, MA-NH MSA  \n",
              "2291      Boston-Cambridge-Newton, MA-NH MSA  \n",
              "2292                  Salt Lake City, UT MSA  \n",
              "\n",
              "[2293 rows x 9 columns]"
            ]
          },
          "execution_count": 61,
          "metadata": {},
          "output_type": "execute_result"
        }
      ],
      "source": [
        "# Tabla amplia de consumo de la telefonía - fact table\n",
        "\n",
        "plan_consumption_table =  consumption_table.merge(plan_analytics, on=['user_id'])\n",
        "plan_consumption_table"
      ]
    },
    {
      "cell_type": "code",
      "execution_count": null,
      "metadata": {
        "id": "5FGCf_c60q1I"
      },
      "outputs": [],
      "source": [
        "# Calcula el ingreso mensual para cada usuario\n",
        "\n",
        "# al final de los costos se encuentra la función final para responder a la petición. Punto: 1.12.4"
      ]
    },
    {
      "cell_type": "markdown",
      "metadata": {
        "id": "M2E0Y6QrPywU"
      },
      "source": [
        "### Costos llamadas"
      ]
    },
    {
      "cell_type": "code",
      "execution_count": null,
      "metadata": {
        "id": "zwZcv9VCPywV"
      },
      "outputs": [],
      "source": [
        "# cálculo llamadas por cobrar"
      ]
    },
    {
      "cell_type": "code",
      "execution_count": null,
      "metadata": {
        "id": "8KGK8zNXPywV"
      },
      "outputs": [],
      "source": [
        "def llamadas_por_cobrar(fila):\n",
        "    plan = fila['plan_id']\n",
        "    minutos_usados = fila['minutos_usados']\n",
        "\n",
        "    minutos_cobrables = 0\n",
        "\n",
        "    if plan == 'surf':\n",
        "        if minutos_usados > surf_monthly_minutes:\n",
        "            minutos_cobrables = minutos_usados - surf_monthly_minutes\n",
        "        # si es menor no lo cobro nada\n",
        "\n",
        "    elif plan == 'ultimate':\n",
        "        if minutos_usados > ultimate_monthly_minutes:\n",
        "            minutos_cobrables = minutos_usados - ultimate_monthly_minutes\n",
        "        # si es menor no lo cobro nada\n",
        "\n",
        "    return minutos_cobrables"
      ]
    },
    {
      "cell_type": "code",
      "execution_count": null,
      "metadata": {
        "id": "1Lu6BnP-PywV"
      },
      "outputs": [],
      "source": [
        "plan_consumption_table['minutos_cobrables'] = plan_consumption_table.apply(llamadas_por_cobrar, axis=1)"
      ]
    },
    {
      "cell_type": "code",
      "execution_count": null,
      "metadata": {
        "scrolled": false,
        "id": "oBlluGcZPywW",
        "outputId": "980db71a-9b2d-4436-9db1-766573114896"
      },
      "outputs": [
        {
          "data": {
            "text/html": [
              "<div>\n",
              "<style scoped>\n",
              "    .dataframe tbody tr th:only-of-type {\n",
              "        vertical-align: middle;\n",
              "    }\n",
              "\n",
              "    .dataframe tbody tr th {\n",
              "        vertical-align: top;\n",
              "    }\n",
              "\n",
              "    .dataframe thead th {\n",
              "        text-align: right;\n",
              "    }\n",
              "</style>\n",
              "<table border=\"1\" class=\"dataframe\">\n",
              "  <thead>\n",
              "    <tr style=\"text-align: right;\">\n",
              "      <th></th>\n",
              "      <th>user_id</th>\n",
              "      <th>month</th>\n",
              "      <th>minutos_usados</th>\n",
              "      <th>llamadas_realizadas</th>\n",
              "      <th>amount_of_messages</th>\n",
              "      <th>total_mg_used</th>\n",
              "      <th>total_gb_used_rounded</th>\n",
              "      <th>plan_id</th>\n",
              "      <th>city</th>\n",
              "      <th>minutos_cobrables</th>\n",
              "    </tr>\n",
              "  </thead>\n",
              "  <tbody>\n",
              "    <tr>\n",
              "      <th>0</th>\n",
              "      <td>1000</td>\n",
              "      <td>12</td>\n",
              "      <td>124.0</td>\n",
              "      <td>16.0</td>\n",
              "      <td>11.0</td>\n",
              "      <td>1901.47</td>\n",
              "      <td>2.0</td>\n",
              "      <td>ultimate</td>\n",
              "      <td>Atlanta-Sandy Springs-Roswell, GA MSA</td>\n",
              "      <td>0.0</td>\n",
              "    </tr>\n",
              "    <tr>\n",
              "      <th>1</th>\n",
              "      <td>1001</td>\n",
              "      <td>8</td>\n",
              "      <td>182.0</td>\n",
              "      <td>27.0</td>\n",
              "      <td>30.0</td>\n",
              "      <td>6919.15</td>\n",
              "      <td>7.0</td>\n",
              "      <td>surf</td>\n",
              "      <td>Seattle-Tacoma-Bellevue, WA MSA</td>\n",
              "      <td>0.0</td>\n",
              "    </tr>\n",
              "    <tr>\n",
              "      <th>2</th>\n",
              "      <td>1001</td>\n",
              "      <td>9</td>\n",
              "      <td>315.0</td>\n",
              "      <td>49.0</td>\n",
              "      <td>44.0</td>\n",
              "      <td>13314.82</td>\n",
              "      <td>14.0</td>\n",
              "      <td>surf</td>\n",
              "      <td>Seattle-Tacoma-Bellevue, WA MSA</td>\n",
              "      <td>0.0</td>\n",
              "    </tr>\n",
              "    <tr>\n",
              "      <th>3</th>\n",
              "      <td>1001</td>\n",
              "      <td>10</td>\n",
              "      <td>393.0</td>\n",
              "      <td>65.0</td>\n",
              "      <td>53.0</td>\n",
              "      <td>22330.49</td>\n",
              "      <td>22.0</td>\n",
              "      <td>surf</td>\n",
              "      <td>Seattle-Tacoma-Bellevue, WA MSA</td>\n",
              "      <td>0.0</td>\n",
              "    </tr>\n",
              "    <tr>\n",
              "      <th>4</th>\n",
              "      <td>1001</td>\n",
              "      <td>11</td>\n",
              "      <td>426.0</td>\n",
              "      <td>64.0</td>\n",
              "      <td>36.0</td>\n",
              "      <td>18504.30</td>\n",
              "      <td>19.0</td>\n",
              "      <td>surf</td>\n",
              "      <td>Seattle-Tacoma-Bellevue, WA MSA</td>\n",
              "      <td>0.0</td>\n",
              "    </tr>\n",
              "    <tr>\n",
              "      <th>...</th>\n",
              "      <td>...</td>\n",
              "      <td>...</td>\n",
              "      <td>...</td>\n",
              "      <td>...</td>\n",
              "      <td>...</td>\n",
              "      <td>...</td>\n",
              "      <td>...</td>\n",
              "      <td>...</td>\n",
              "      <td>...</td>\n",
              "      <td>...</td>\n",
              "    </tr>\n",
              "    <tr>\n",
              "      <th>2288</th>\n",
              "      <td>1204</td>\n",
              "      <td>12</td>\n",
              "      <td>NaN</td>\n",
              "      <td>NaN</td>\n",
              "      <td>78.0</td>\n",
              "      <td>36730.05</td>\n",
              "      <td>36.0</td>\n",
              "      <td>ultimate</td>\n",
              "      <td>Chicago-Naperville-Elgin, IL-IN-WI MSA</td>\n",
              "      <td>0.0</td>\n",
              "    </tr>\n",
              "    <tr>\n",
              "      <th>2289</th>\n",
              "      <td>1349</td>\n",
              "      <td>10</td>\n",
              "      <td>NaN</td>\n",
              "      <td>NaN</td>\n",
              "      <td>76.0</td>\n",
              "      <td>13093.55</td>\n",
              "      <td>13.0</td>\n",
              "      <td>surf</td>\n",
              "      <td>Boston-Cambridge-Newton, MA-NH MSA</td>\n",
              "      <td>0.0</td>\n",
              "    </tr>\n",
              "    <tr>\n",
              "      <th>2290</th>\n",
              "      <td>1349</td>\n",
              "      <td>11</td>\n",
              "      <td>NaN</td>\n",
              "      <td>NaN</td>\n",
              "      <td>72.0</td>\n",
              "      <td>17128.26</td>\n",
              "      <td>17.0</td>\n",
              "      <td>surf</td>\n",
              "      <td>Boston-Cambridge-Newton, MA-NH MSA</td>\n",
              "      <td>0.0</td>\n",
              "    </tr>\n",
              "    <tr>\n",
              "      <th>2291</th>\n",
              "      <td>1349</td>\n",
              "      <td>12</td>\n",
              "      <td>NaN</td>\n",
              "      <td>NaN</td>\n",
              "      <td>61.0</td>\n",
              "      <td>13039.91</td>\n",
              "      <td>13.0</td>\n",
              "      <td>surf</td>\n",
              "      <td>Boston-Cambridge-Newton, MA-NH MSA</td>\n",
              "      <td>0.0</td>\n",
              "    </tr>\n",
              "    <tr>\n",
              "      <th>2292</th>\n",
              "      <td>1108</td>\n",
              "      <td>12</td>\n",
              "      <td>NaN</td>\n",
              "      <td>NaN</td>\n",
              "      <td>NaN</td>\n",
              "      <td>233.17</td>\n",
              "      <td>1.0</td>\n",
              "      <td>ultimate</td>\n",
              "      <td>Salt Lake City, UT MSA</td>\n",
              "      <td>0.0</td>\n",
              "    </tr>\n",
              "  </tbody>\n",
              "</table>\n",
              "<p>2293 rows × 10 columns</p>\n",
              "</div>"
            ],
            "text/plain": [
              "      user_id  month  minutos_usados  llamadas_realizadas  amount_of_messages  \\\n",
              "0        1000     12           124.0                 16.0                11.0   \n",
              "1        1001      8           182.0                 27.0                30.0   \n",
              "2        1001      9           315.0                 49.0                44.0   \n",
              "3        1001     10           393.0                 65.0                53.0   \n",
              "4        1001     11           426.0                 64.0                36.0   \n",
              "...       ...    ...             ...                  ...                 ...   \n",
              "2288     1204     12             NaN                  NaN                78.0   \n",
              "2289     1349     10             NaN                  NaN                76.0   \n",
              "2290     1349     11             NaN                  NaN                72.0   \n",
              "2291     1349     12             NaN                  NaN                61.0   \n",
              "2292     1108     12             NaN                  NaN                 NaN   \n",
              "\n",
              "      total_mg_used  total_gb_used_rounded   plan_id  \\\n",
              "0           1901.47                    2.0  ultimate   \n",
              "1           6919.15                    7.0      surf   \n",
              "2          13314.82                   14.0      surf   \n",
              "3          22330.49                   22.0      surf   \n",
              "4          18504.30                   19.0      surf   \n",
              "...             ...                    ...       ...   \n",
              "2288       36730.05                   36.0  ultimate   \n",
              "2289       13093.55                   13.0      surf   \n",
              "2290       17128.26                   17.0      surf   \n",
              "2291       13039.91                   13.0      surf   \n",
              "2292         233.17                    1.0  ultimate   \n",
              "\n",
              "                                        city  minutos_cobrables  \n",
              "0      Atlanta-Sandy Springs-Roswell, GA MSA                0.0  \n",
              "1            Seattle-Tacoma-Bellevue, WA MSA                0.0  \n",
              "2            Seattle-Tacoma-Bellevue, WA MSA                0.0  \n",
              "3            Seattle-Tacoma-Bellevue, WA MSA                0.0  \n",
              "4            Seattle-Tacoma-Bellevue, WA MSA                0.0  \n",
              "...                                      ...                ...  \n",
              "2288  Chicago-Naperville-Elgin, IL-IN-WI MSA                0.0  \n",
              "2289      Boston-Cambridge-Newton, MA-NH MSA                0.0  \n",
              "2290      Boston-Cambridge-Newton, MA-NH MSA                0.0  \n",
              "2291      Boston-Cambridge-Newton, MA-NH MSA                0.0  \n",
              "2292                  Salt Lake City, UT MSA                0.0  \n",
              "\n",
              "[2293 rows x 10 columns]"
            ]
          },
          "execution_count": 66,
          "metadata": {},
          "output_type": "execute_result"
        }
      ],
      "source": [
        "plan_consumption_table"
      ]
    },
    {
      "cell_type": "code",
      "execution_count": null,
      "metadata": {
        "id": "mFhd1uKKPywW",
        "outputId": "b1908889-dce4-4d7d-a8ae-b0e28d40a59b"
      },
      "outputs": [
        {
          "data": {
            "text/plain": [
              "0.24683820322721325"
            ]
          },
          "execution_count": 67,
          "metadata": {},
          "output_type": "execute_result"
        }
      ],
      "source": [
        "# verificando que hayan valors diferentes a 0\n",
        "# cuantos son los usuarios que tienen que pagar demás en relación a todos los demás - cobrables\n",
        "# el portentaje de minutos cobrables frente a todos los minutos que se facturaron\n",
        "len(plan_consumption_table.query('minutos_cobrables > 0'))/len(plan_consumption_table)"
      ]
    },
    {
      "cell_type": "markdown",
      "metadata": {
        "id": "-nCKwlg9PywW"
      },
      "source": [
        "Al 24% de los minutos totales son minutos extra que se cobrarán"
      ]
    },
    {
      "cell_type": "markdown",
      "metadata": {
        "id": "y-dO-wFDPywW"
      },
      "source": [
        "### Costos mensajes"
      ]
    },
    {
      "cell_type": "code",
      "execution_count": null,
      "metadata": {
        "id": "xDCkgszGPywX"
      },
      "outputs": [],
      "source": [
        "# cálculo mensajes por cobrar"
      ]
    },
    {
      "cell_type": "code",
      "execution_count": null,
      "metadata": {
        "id": "WJOa2O7nPywX"
      },
      "outputs": [],
      "source": [
        "def mensajes_por_cobrar(fila):\n",
        "    plan = fila['plan_id']\n",
        "    mensajes_usados = fila['amount_of_messages']\n",
        "\n",
        "    mensajes_cobrables = 0\n",
        "\n",
        "    if plan == 'surf':\n",
        "        if mensajes_usados > surf_monthly_messages:\n",
        "            mensajes_cobrables = mensajes_usados - surf_monthly_messages\n",
        "        # si es menor no lo cobro nada\n",
        "\n",
        "    elif plan == 'ultimate':\n",
        "        if mensajes_usados > ultimate_monthly_messages:\n",
        "            mensajes_cobrables = mensajes_usados - ultimate_monthly_messages\n",
        "        # si es menor no lo cobro nada\n",
        "\n",
        "    return mensajes_cobrables\n"
      ]
    },
    {
      "cell_type": "code",
      "execution_count": null,
      "metadata": {
        "id": "imOqm-XQPywX",
        "outputId": "bf8aaac6-a6ab-4bbe-9138-756faa371a13"
      },
      "outputs": [
        {
          "data": {
            "text/html": [
              "<div>\n",
              "<style scoped>\n",
              "    .dataframe tbody tr th:only-of-type {\n",
              "        vertical-align: middle;\n",
              "    }\n",
              "\n",
              "    .dataframe tbody tr th {\n",
              "        vertical-align: top;\n",
              "    }\n",
              "\n",
              "    .dataframe thead th {\n",
              "        text-align: right;\n",
              "    }\n",
              "</style>\n",
              "<table border=\"1\" class=\"dataframe\">\n",
              "  <thead>\n",
              "    <tr style=\"text-align: right;\">\n",
              "      <th></th>\n",
              "      <th>user_id</th>\n",
              "      <th>month</th>\n",
              "      <th>minutos_usados</th>\n",
              "      <th>llamadas_realizadas</th>\n",
              "      <th>amount_of_messages</th>\n",
              "      <th>total_mg_used</th>\n",
              "      <th>total_gb_used_rounded</th>\n",
              "      <th>plan_id</th>\n",
              "      <th>city</th>\n",
              "      <th>minutos_cobrables</th>\n",
              "    </tr>\n",
              "  </thead>\n",
              "  <tbody>\n",
              "    <tr>\n",
              "      <th>0</th>\n",
              "      <td>1000</td>\n",
              "      <td>12</td>\n",
              "      <td>124.0</td>\n",
              "      <td>16.0</td>\n",
              "      <td>11.0</td>\n",
              "      <td>1901.47</td>\n",
              "      <td>2.0</td>\n",
              "      <td>ultimate</td>\n",
              "      <td>Atlanta-Sandy Springs-Roswell, GA MSA</td>\n",
              "      <td>0.0</td>\n",
              "    </tr>\n",
              "    <tr>\n",
              "      <th>1</th>\n",
              "      <td>1001</td>\n",
              "      <td>8</td>\n",
              "      <td>182.0</td>\n",
              "      <td>27.0</td>\n",
              "      <td>30.0</td>\n",
              "      <td>6919.15</td>\n",
              "      <td>7.0</td>\n",
              "      <td>surf</td>\n",
              "      <td>Seattle-Tacoma-Bellevue, WA MSA</td>\n",
              "      <td>0.0</td>\n",
              "    </tr>\n",
              "    <tr>\n",
              "      <th>2</th>\n",
              "      <td>1001</td>\n",
              "      <td>9</td>\n",
              "      <td>315.0</td>\n",
              "      <td>49.0</td>\n",
              "      <td>44.0</td>\n",
              "      <td>13314.82</td>\n",
              "      <td>14.0</td>\n",
              "      <td>surf</td>\n",
              "      <td>Seattle-Tacoma-Bellevue, WA MSA</td>\n",
              "      <td>0.0</td>\n",
              "    </tr>\n",
              "    <tr>\n",
              "      <th>3</th>\n",
              "      <td>1001</td>\n",
              "      <td>10</td>\n",
              "      <td>393.0</td>\n",
              "      <td>65.0</td>\n",
              "      <td>53.0</td>\n",
              "      <td>22330.49</td>\n",
              "      <td>22.0</td>\n",
              "      <td>surf</td>\n",
              "      <td>Seattle-Tacoma-Bellevue, WA MSA</td>\n",
              "      <td>0.0</td>\n",
              "    </tr>\n",
              "    <tr>\n",
              "      <th>4</th>\n",
              "      <td>1001</td>\n",
              "      <td>11</td>\n",
              "      <td>426.0</td>\n",
              "      <td>64.0</td>\n",
              "      <td>36.0</td>\n",
              "      <td>18504.30</td>\n",
              "      <td>19.0</td>\n",
              "      <td>surf</td>\n",
              "      <td>Seattle-Tacoma-Bellevue, WA MSA</td>\n",
              "      <td>0.0</td>\n",
              "    </tr>\n",
              "    <tr>\n",
              "      <th>...</th>\n",
              "      <td>...</td>\n",
              "      <td>...</td>\n",
              "      <td>...</td>\n",
              "      <td>...</td>\n",
              "      <td>...</td>\n",
              "      <td>...</td>\n",
              "      <td>...</td>\n",
              "      <td>...</td>\n",
              "      <td>...</td>\n",
              "      <td>...</td>\n",
              "    </tr>\n",
              "    <tr>\n",
              "      <th>2288</th>\n",
              "      <td>1204</td>\n",
              "      <td>12</td>\n",
              "      <td>NaN</td>\n",
              "      <td>NaN</td>\n",
              "      <td>78.0</td>\n",
              "      <td>36730.05</td>\n",
              "      <td>36.0</td>\n",
              "      <td>ultimate</td>\n",
              "      <td>Chicago-Naperville-Elgin, IL-IN-WI MSA</td>\n",
              "      <td>0.0</td>\n",
              "    </tr>\n",
              "    <tr>\n",
              "      <th>2289</th>\n",
              "      <td>1349</td>\n",
              "      <td>10</td>\n",
              "      <td>NaN</td>\n",
              "      <td>NaN</td>\n",
              "      <td>76.0</td>\n",
              "      <td>13093.55</td>\n",
              "      <td>13.0</td>\n",
              "      <td>surf</td>\n",
              "      <td>Boston-Cambridge-Newton, MA-NH MSA</td>\n",
              "      <td>0.0</td>\n",
              "    </tr>\n",
              "    <tr>\n",
              "      <th>2290</th>\n",
              "      <td>1349</td>\n",
              "      <td>11</td>\n",
              "      <td>NaN</td>\n",
              "      <td>NaN</td>\n",
              "      <td>72.0</td>\n",
              "      <td>17128.26</td>\n",
              "      <td>17.0</td>\n",
              "      <td>surf</td>\n",
              "      <td>Boston-Cambridge-Newton, MA-NH MSA</td>\n",
              "      <td>0.0</td>\n",
              "    </tr>\n",
              "    <tr>\n",
              "      <th>2291</th>\n",
              "      <td>1349</td>\n",
              "      <td>12</td>\n",
              "      <td>NaN</td>\n",
              "      <td>NaN</td>\n",
              "      <td>61.0</td>\n",
              "      <td>13039.91</td>\n",
              "      <td>13.0</td>\n",
              "      <td>surf</td>\n",
              "      <td>Boston-Cambridge-Newton, MA-NH MSA</td>\n",
              "      <td>0.0</td>\n",
              "    </tr>\n",
              "    <tr>\n",
              "      <th>2292</th>\n",
              "      <td>1108</td>\n",
              "      <td>12</td>\n",
              "      <td>NaN</td>\n",
              "      <td>NaN</td>\n",
              "      <td>NaN</td>\n",
              "      <td>233.17</td>\n",
              "      <td>1.0</td>\n",
              "      <td>ultimate</td>\n",
              "      <td>Salt Lake City, UT MSA</td>\n",
              "      <td>0.0</td>\n",
              "    </tr>\n",
              "  </tbody>\n",
              "</table>\n",
              "<p>2293 rows × 10 columns</p>\n",
              "</div>"
            ],
            "text/plain": [
              "      user_id  month  minutos_usados  llamadas_realizadas  amount_of_messages  \\\n",
              "0        1000     12           124.0                 16.0                11.0   \n",
              "1        1001      8           182.0                 27.0                30.0   \n",
              "2        1001      9           315.0                 49.0                44.0   \n",
              "3        1001     10           393.0                 65.0                53.0   \n",
              "4        1001     11           426.0                 64.0                36.0   \n",
              "...       ...    ...             ...                  ...                 ...   \n",
              "2288     1204     12             NaN                  NaN                78.0   \n",
              "2289     1349     10             NaN                  NaN                76.0   \n",
              "2290     1349     11             NaN                  NaN                72.0   \n",
              "2291     1349     12             NaN                  NaN                61.0   \n",
              "2292     1108     12             NaN                  NaN                 NaN   \n",
              "\n",
              "      total_mg_used  total_gb_used_rounded   plan_id  \\\n",
              "0           1901.47                    2.0  ultimate   \n",
              "1           6919.15                    7.0      surf   \n",
              "2          13314.82                   14.0      surf   \n",
              "3          22330.49                   22.0      surf   \n",
              "4          18504.30                   19.0      surf   \n",
              "...             ...                    ...       ...   \n",
              "2288       36730.05                   36.0  ultimate   \n",
              "2289       13093.55                   13.0      surf   \n",
              "2290       17128.26                   17.0      surf   \n",
              "2291       13039.91                   13.0      surf   \n",
              "2292         233.17                    1.0  ultimate   \n",
              "\n",
              "                                        city  minutos_cobrables  \n",
              "0      Atlanta-Sandy Springs-Roswell, GA MSA                0.0  \n",
              "1            Seattle-Tacoma-Bellevue, WA MSA                0.0  \n",
              "2            Seattle-Tacoma-Bellevue, WA MSA                0.0  \n",
              "3            Seattle-Tacoma-Bellevue, WA MSA                0.0  \n",
              "4            Seattle-Tacoma-Bellevue, WA MSA                0.0  \n",
              "...                                      ...                ...  \n",
              "2288  Chicago-Naperville-Elgin, IL-IN-WI MSA                0.0  \n",
              "2289      Boston-Cambridge-Newton, MA-NH MSA                0.0  \n",
              "2290      Boston-Cambridge-Newton, MA-NH MSA                0.0  \n",
              "2291      Boston-Cambridge-Newton, MA-NH MSA                0.0  \n",
              "2292                  Salt Lake City, UT MSA                0.0  \n",
              "\n",
              "[2293 rows x 10 columns]"
            ]
          },
          "execution_count": 70,
          "metadata": {},
          "output_type": "execute_result"
        }
      ],
      "source": [
        "plan_consumption_table"
      ]
    },
    {
      "cell_type": "code",
      "execution_count": null,
      "metadata": {
        "id": "DaCZfvkFPywX"
      },
      "outputs": [],
      "source": [
        "plan_consumption_table['mensajes_cobrables'] = plan_consumption_table.apply(mensajes_por_cobrar, axis=1)"
      ]
    },
    {
      "cell_type": "code",
      "execution_count": null,
      "metadata": {
        "id": "5SQ-Oa9ZPywY",
        "outputId": "b22e7ebd-e322-44fc-c0d8-6a5e7a4d8d61"
      },
      "outputs": [
        {
          "data": {
            "text/plain": [
              "0.14827736589620585"
            ]
          },
          "execution_count": 72,
          "metadata": {},
          "output_type": "execute_result"
        }
      ],
      "source": [
        "# cuantos mensajes voy a cobrar en total\n",
        "\n",
        "len(plan_consumption_table.query('mensajes_cobrables > 0'))/len(plan_consumption_table)"
      ]
    },
    {
      "cell_type": "markdown",
      "metadata": {
        "id": "z9LsYp9fPywY"
      },
      "source": [
        "El 14% de los mensaje totales son mensajes extra que se cobrarán al usuario"
      ]
    },
    {
      "cell_type": "markdown",
      "metadata": {
        "id": "3Nk98UGsPywY"
      },
      "source": [
        "### Costos internet"
      ]
    },
    {
      "cell_type": "code",
      "execution_count": null,
      "metadata": {
        "id": "6CBhPcFJPywY"
      },
      "outputs": [],
      "source": [
        "# cálculo internet por cobrar"
      ]
    },
    {
      "cell_type": "code",
      "execution_count": null,
      "metadata": {
        "id": "D_0qo02sPywZ"
      },
      "outputs": [],
      "source": [
        "def datos_por_cobrar(fila): # chargeable_data\n",
        "    plan = fila['plan_id']\n",
        "    datos_usados = fila['total_gb_used_rounded']\n",
        "\n",
        "    datos_cobrables = 0\n",
        "\n",
        "    if plan == 'surf':\n",
        "        if datos_usados > surf_monthly_data :\n",
        "            datos_cobrables = datos_usados - surf_monthly_data\n",
        "        # si es menor no lo cobro nada\n",
        "\n",
        "    elif plan == 'ultimate':\n",
        "        if datos_usados > ultimate_monthly_data:\n",
        "            datos_cobrables = datos_usados - ultimate_monthly_data\n",
        "        # si es menor no lo cobro nada\n",
        "\n",
        "    return datos_cobrables"
      ]
    },
    {
      "cell_type": "code",
      "execution_count": null,
      "metadata": {
        "id": "yxNo2PH3PywZ"
      },
      "outputs": [],
      "source": [
        "plan_consumption_table['datos_cobrables'] = plan_consumption_table.apply(datos_por_cobrar, axis=1)"
      ]
    },
    {
      "cell_type": "code",
      "execution_count": null,
      "metadata": {
        "id": "nTyroOP5PywZ",
        "outputId": "d993dcee-c267-4c27-eadd-38fda5459766"
      },
      "outputs": [
        {
          "data": {
            "text/html": [
              "<div>\n",
              "<style scoped>\n",
              "    .dataframe tbody tr th:only-of-type {\n",
              "        vertical-align: middle;\n",
              "    }\n",
              "\n",
              "    .dataframe tbody tr th {\n",
              "        vertical-align: top;\n",
              "    }\n",
              "\n",
              "    .dataframe thead th {\n",
              "        text-align: right;\n",
              "    }\n",
              "</style>\n",
              "<table border=\"1\" class=\"dataframe\">\n",
              "  <thead>\n",
              "    <tr style=\"text-align: right;\">\n",
              "      <th></th>\n",
              "      <th>user_id</th>\n",
              "      <th>month</th>\n",
              "      <th>minutos_usados</th>\n",
              "      <th>llamadas_realizadas</th>\n",
              "      <th>amount_of_messages</th>\n",
              "      <th>total_mg_used</th>\n",
              "      <th>total_gb_used_rounded</th>\n",
              "      <th>plan_id</th>\n",
              "      <th>city</th>\n",
              "      <th>minutos_cobrables</th>\n",
              "      <th>mensajes_cobrables</th>\n",
              "      <th>datos_cobrables</th>\n",
              "    </tr>\n",
              "  </thead>\n",
              "  <tbody>\n",
              "    <tr>\n",
              "      <th>0</th>\n",
              "      <td>1000</td>\n",
              "      <td>12</td>\n",
              "      <td>124.0</td>\n",
              "      <td>16.0</td>\n",
              "      <td>11.0</td>\n",
              "      <td>1901.47</td>\n",
              "      <td>2.0</td>\n",
              "      <td>ultimate</td>\n",
              "      <td>Atlanta-Sandy Springs-Roswell, GA MSA</td>\n",
              "      <td>0.0</td>\n",
              "      <td>0.0</td>\n",
              "      <td>0.0</td>\n",
              "    </tr>\n",
              "    <tr>\n",
              "      <th>1</th>\n",
              "      <td>1001</td>\n",
              "      <td>8</td>\n",
              "      <td>182.0</td>\n",
              "      <td>27.0</td>\n",
              "      <td>30.0</td>\n",
              "      <td>6919.15</td>\n",
              "      <td>7.0</td>\n",
              "      <td>surf</td>\n",
              "      <td>Seattle-Tacoma-Bellevue, WA MSA</td>\n",
              "      <td>0.0</td>\n",
              "      <td>0.0</td>\n",
              "      <td>0.0</td>\n",
              "    </tr>\n",
              "    <tr>\n",
              "      <th>2</th>\n",
              "      <td>1001</td>\n",
              "      <td>9</td>\n",
              "      <td>315.0</td>\n",
              "      <td>49.0</td>\n",
              "      <td>44.0</td>\n",
              "      <td>13314.82</td>\n",
              "      <td>14.0</td>\n",
              "      <td>surf</td>\n",
              "      <td>Seattle-Tacoma-Bellevue, WA MSA</td>\n",
              "      <td>0.0</td>\n",
              "      <td>0.0</td>\n",
              "      <td>0.0</td>\n",
              "    </tr>\n",
              "    <tr>\n",
              "      <th>3</th>\n",
              "      <td>1001</td>\n",
              "      <td>10</td>\n",
              "      <td>393.0</td>\n",
              "      <td>65.0</td>\n",
              "      <td>53.0</td>\n",
              "      <td>22330.49</td>\n",
              "      <td>22.0</td>\n",
              "      <td>surf</td>\n",
              "      <td>Seattle-Tacoma-Bellevue, WA MSA</td>\n",
              "      <td>0.0</td>\n",
              "      <td>3.0</td>\n",
              "      <td>7.0</td>\n",
              "    </tr>\n",
              "    <tr>\n",
              "      <th>4</th>\n",
              "      <td>1001</td>\n",
              "      <td>11</td>\n",
              "      <td>426.0</td>\n",
              "      <td>64.0</td>\n",
              "      <td>36.0</td>\n",
              "      <td>18504.30</td>\n",
              "      <td>19.0</td>\n",
              "      <td>surf</td>\n",
              "      <td>Seattle-Tacoma-Bellevue, WA MSA</td>\n",
              "      <td>0.0</td>\n",
              "      <td>0.0</td>\n",
              "      <td>4.0</td>\n",
              "    </tr>\n",
              "    <tr>\n",
              "      <th>...</th>\n",
              "      <td>...</td>\n",
              "      <td>...</td>\n",
              "      <td>...</td>\n",
              "      <td>...</td>\n",
              "      <td>...</td>\n",
              "      <td>...</td>\n",
              "      <td>...</td>\n",
              "      <td>...</td>\n",
              "      <td>...</td>\n",
              "      <td>...</td>\n",
              "      <td>...</td>\n",
              "      <td>...</td>\n",
              "    </tr>\n",
              "    <tr>\n",
              "      <th>2288</th>\n",
              "      <td>1204</td>\n",
              "      <td>12</td>\n",
              "      <td>NaN</td>\n",
              "      <td>NaN</td>\n",
              "      <td>78.0</td>\n",
              "      <td>36730.05</td>\n",
              "      <td>36.0</td>\n",
              "      <td>ultimate</td>\n",
              "      <td>Chicago-Naperville-Elgin, IL-IN-WI MSA</td>\n",
              "      <td>0.0</td>\n",
              "      <td>0.0</td>\n",
              "      <td>6.0</td>\n",
              "    </tr>\n",
              "    <tr>\n",
              "      <th>2289</th>\n",
              "      <td>1349</td>\n",
              "      <td>10</td>\n",
              "      <td>NaN</td>\n",
              "      <td>NaN</td>\n",
              "      <td>76.0</td>\n",
              "      <td>13093.55</td>\n",
              "      <td>13.0</td>\n",
              "      <td>surf</td>\n",
              "      <td>Boston-Cambridge-Newton, MA-NH MSA</td>\n",
              "      <td>0.0</td>\n",
              "      <td>26.0</td>\n",
              "      <td>0.0</td>\n",
              "    </tr>\n",
              "    <tr>\n",
              "      <th>2290</th>\n",
              "      <td>1349</td>\n",
              "      <td>11</td>\n",
              "      <td>NaN</td>\n",
              "      <td>NaN</td>\n",
              "      <td>72.0</td>\n",
              "      <td>17128.26</td>\n",
              "      <td>17.0</td>\n",
              "      <td>surf</td>\n",
              "      <td>Boston-Cambridge-Newton, MA-NH MSA</td>\n",
              "      <td>0.0</td>\n",
              "      <td>22.0</td>\n",
              "      <td>2.0</td>\n",
              "    </tr>\n",
              "    <tr>\n",
              "      <th>2291</th>\n",
              "      <td>1349</td>\n",
              "      <td>12</td>\n",
              "      <td>NaN</td>\n",
              "      <td>NaN</td>\n",
              "      <td>61.0</td>\n",
              "      <td>13039.91</td>\n",
              "      <td>13.0</td>\n",
              "      <td>surf</td>\n",
              "      <td>Boston-Cambridge-Newton, MA-NH MSA</td>\n",
              "      <td>0.0</td>\n",
              "      <td>11.0</td>\n",
              "      <td>0.0</td>\n",
              "    </tr>\n",
              "    <tr>\n",
              "      <th>2292</th>\n",
              "      <td>1108</td>\n",
              "      <td>12</td>\n",
              "      <td>NaN</td>\n",
              "      <td>NaN</td>\n",
              "      <td>NaN</td>\n",
              "      <td>233.17</td>\n",
              "      <td>1.0</td>\n",
              "      <td>ultimate</td>\n",
              "      <td>Salt Lake City, UT MSA</td>\n",
              "      <td>0.0</td>\n",
              "      <td>0.0</td>\n",
              "      <td>0.0</td>\n",
              "    </tr>\n",
              "  </tbody>\n",
              "</table>\n",
              "<p>2293 rows × 12 columns</p>\n",
              "</div>"
            ],
            "text/plain": [
              "      user_id  month  minutos_usados  llamadas_realizadas  amount_of_messages  \\\n",
              "0        1000     12           124.0                 16.0                11.0   \n",
              "1        1001      8           182.0                 27.0                30.0   \n",
              "2        1001      9           315.0                 49.0                44.0   \n",
              "3        1001     10           393.0                 65.0                53.0   \n",
              "4        1001     11           426.0                 64.0                36.0   \n",
              "...       ...    ...             ...                  ...                 ...   \n",
              "2288     1204     12             NaN                  NaN                78.0   \n",
              "2289     1349     10             NaN                  NaN                76.0   \n",
              "2290     1349     11             NaN                  NaN                72.0   \n",
              "2291     1349     12             NaN                  NaN                61.0   \n",
              "2292     1108     12             NaN                  NaN                 NaN   \n",
              "\n",
              "      total_mg_used  total_gb_used_rounded   plan_id  \\\n",
              "0           1901.47                    2.0  ultimate   \n",
              "1           6919.15                    7.0      surf   \n",
              "2          13314.82                   14.0      surf   \n",
              "3          22330.49                   22.0      surf   \n",
              "4          18504.30                   19.0      surf   \n",
              "...             ...                    ...       ...   \n",
              "2288       36730.05                   36.0  ultimate   \n",
              "2289       13093.55                   13.0      surf   \n",
              "2290       17128.26                   17.0      surf   \n",
              "2291       13039.91                   13.0      surf   \n",
              "2292         233.17                    1.0  ultimate   \n",
              "\n",
              "                                        city  minutos_cobrables  \\\n",
              "0      Atlanta-Sandy Springs-Roswell, GA MSA                0.0   \n",
              "1            Seattle-Tacoma-Bellevue, WA MSA                0.0   \n",
              "2            Seattle-Tacoma-Bellevue, WA MSA                0.0   \n",
              "3            Seattle-Tacoma-Bellevue, WA MSA                0.0   \n",
              "4            Seattle-Tacoma-Bellevue, WA MSA                0.0   \n",
              "...                                      ...                ...   \n",
              "2288  Chicago-Naperville-Elgin, IL-IN-WI MSA                0.0   \n",
              "2289      Boston-Cambridge-Newton, MA-NH MSA                0.0   \n",
              "2290      Boston-Cambridge-Newton, MA-NH MSA                0.0   \n",
              "2291      Boston-Cambridge-Newton, MA-NH MSA                0.0   \n",
              "2292                  Salt Lake City, UT MSA                0.0   \n",
              "\n",
              "      mensajes_cobrables  datos_cobrables  \n",
              "0                    0.0              0.0  \n",
              "1                    0.0              0.0  \n",
              "2                    0.0              0.0  \n",
              "3                    3.0              7.0  \n",
              "4                    0.0              4.0  \n",
              "...                  ...              ...  \n",
              "2288                 0.0              6.0  \n",
              "2289                26.0              0.0  \n",
              "2290                22.0              2.0  \n",
              "2291                11.0              0.0  \n",
              "2292                 0.0              0.0  \n",
              "\n",
              "[2293 rows x 12 columns]"
            ]
          },
          "execution_count": 76,
          "metadata": {},
          "output_type": "execute_result"
        }
      ],
      "source": [
        "plan_consumption_table"
      ]
    },
    {
      "cell_type": "code",
      "execution_count": null,
      "metadata": {
        "id": "1WI8xR8JPywZ",
        "outputId": "b018b793-da55-412c-ac43-e7a920817457"
      },
      "outputs": [
        {
          "data": {
            "text/plain": [
              "0.41517662450937637"
            ]
          },
          "execution_count": 77,
          "metadata": {},
          "output_type": "execute_result"
        }
      ],
      "source": [
        "len(plan_consumption_table.query('datos_cobrables > 0'))/len(plan_consumption_table)"
      ]
    },
    {
      "cell_type": "markdown",
      "metadata": {
        "id": "OqjufbaAPywa"
      },
      "source": [
        "El 41% de usuarios consumen más datos de los que incluye el plan. Más rentabilidad ofrece."
      ]
    },
    {
      "cell_type": "markdown",
      "metadata": {
        "id": "niaw7Zy3Pywa"
      },
      "source": [
        "### Ingreso final"
      ]
    },
    {
      "cell_type": "code",
      "execution_count": null,
      "metadata": {
        "id": "tz-dq_V00q1O"
      },
      "outputs": [],
      "source": [
        "# rentabilidad mensual function"
      ]
    },
    {
      "cell_type": "code",
      "execution_count": null,
      "metadata": {
        "id": "iPfPHLESPywa"
      },
      "outputs": [],
      "source": [
        "def rentabilidad_mensual(fila): #ingreso_mensual\n",
        "    plan = fila['plan_id']\n",
        "\n",
        "    llamadas_cobrables = fila['minutos_cobrables']\n",
        "    mensajes_cobrables = fila['mensajes_cobrables']\n",
        "    datos_cobrables = fila['datos_cobrables']\n",
        "\n",
        "    rentabilidad = 0\n",
        "\n",
        "    if plan == 'surf':\n",
        "        rentabilidad = surf_monthly_charge + (llamadas_cobrables * surf_call_charge) + (mensajes_cobrables * surf_message_charge) + (datos_cobrables * surf_data_charge)\n",
        "\n",
        "    elif plan == 'ultimate':\n",
        "                rentabilidad = ultimate_monthly_charge + (llamadas_cobrables * ultimate_call_charge) + (mensajes_cobrables * ultimate_message_charge) + (datos_cobrables * ultimate_data_charge)\n",
        "\n",
        "    return rentabilidad"
      ]
    },
    {
      "cell_type": "code",
      "execution_count": null,
      "metadata": {
        "id": "mM8_JRjfPywb"
      },
      "outputs": [],
      "source": [
        "plan_consumption_table['rentabilidad mensual'] = plan_consumption_table.apply(rentabilidad_mensual, axis=1)"
      ]
    },
    {
      "cell_type": "code",
      "execution_count": null,
      "metadata": {
        "scrolled": true,
        "id": "ydrVMa__Pywb",
        "outputId": "9c1cd44c-e2cc-4843-9e9b-bd34ec9f2eba"
      },
      "outputs": [
        {
          "data": {
            "text/html": [
              "<div>\n",
              "<style scoped>\n",
              "    .dataframe tbody tr th:only-of-type {\n",
              "        vertical-align: middle;\n",
              "    }\n",
              "\n",
              "    .dataframe tbody tr th {\n",
              "        vertical-align: top;\n",
              "    }\n",
              "\n",
              "    .dataframe thead th {\n",
              "        text-align: right;\n",
              "    }\n",
              "</style>\n",
              "<table border=\"1\" class=\"dataframe\">\n",
              "  <thead>\n",
              "    <tr style=\"text-align: right;\">\n",
              "      <th></th>\n",
              "      <th>user_id</th>\n",
              "      <th>month</th>\n",
              "      <th>minutos_usados</th>\n",
              "      <th>llamadas_realizadas</th>\n",
              "      <th>amount_of_messages</th>\n",
              "      <th>total_mg_used</th>\n",
              "      <th>total_gb_used_rounded</th>\n",
              "      <th>plan_id</th>\n",
              "      <th>city</th>\n",
              "      <th>minutos_cobrables</th>\n",
              "      <th>mensajes_cobrables</th>\n",
              "      <th>datos_cobrables</th>\n",
              "      <th>rentabilidad mensual</th>\n",
              "    </tr>\n",
              "  </thead>\n",
              "  <tbody>\n",
              "    <tr>\n",
              "      <th>0</th>\n",
              "      <td>1000</td>\n",
              "      <td>12</td>\n",
              "      <td>124.0</td>\n",
              "      <td>16.0</td>\n",
              "      <td>11.0</td>\n",
              "      <td>1901.47</td>\n",
              "      <td>2.0</td>\n",
              "      <td>ultimate</td>\n",
              "      <td>Atlanta-Sandy Springs-Roswell, GA MSA</td>\n",
              "      <td>0.0</td>\n",
              "      <td>0.0</td>\n",
              "      <td>0.0</td>\n",
              "      <td>70.00</td>\n",
              "    </tr>\n",
              "    <tr>\n",
              "      <th>1</th>\n",
              "      <td>1001</td>\n",
              "      <td>8</td>\n",
              "      <td>182.0</td>\n",
              "      <td>27.0</td>\n",
              "      <td>30.0</td>\n",
              "      <td>6919.15</td>\n",
              "      <td>7.0</td>\n",
              "      <td>surf</td>\n",
              "      <td>Seattle-Tacoma-Bellevue, WA MSA</td>\n",
              "      <td>0.0</td>\n",
              "      <td>0.0</td>\n",
              "      <td>0.0</td>\n",
              "      <td>20.00</td>\n",
              "    </tr>\n",
              "    <tr>\n",
              "      <th>2</th>\n",
              "      <td>1001</td>\n",
              "      <td>9</td>\n",
              "      <td>315.0</td>\n",
              "      <td>49.0</td>\n",
              "      <td>44.0</td>\n",
              "      <td>13314.82</td>\n",
              "      <td>14.0</td>\n",
              "      <td>surf</td>\n",
              "      <td>Seattle-Tacoma-Bellevue, WA MSA</td>\n",
              "      <td>0.0</td>\n",
              "      <td>0.0</td>\n",
              "      <td>0.0</td>\n",
              "      <td>20.00</td>\n",
              "    </tr>\n",
              "    <tr>\n",
              "      <th>3</th>\n",
              "      <td>1001</td>\n",
              "      <td>10</td>\n",
              "      <td>393.0</td>\n",
              "      <td>65.0</td>\n",
              "      <td>53.0</td>\n",
              "      <td>22330.49</td>\n",
              "      <td>22.0</td>\n",
              "      <td>surf</td>\n",
              "      <td>Seattle-Tacoma-Bellevue, WA MSA</td>\n",
              "      <td>0.0</td>\n",
              "      <td>3.0</td>\n",
              "      <td>7.0</td>\n",
              "      <td>90.09</td>\n",
              "    </tr>\n",
              "    <tr>\n",
              "      <th>4</th>\n",
              "      <td>1001</td>\n",
              "      <td>11</td>\n",
              "      <td>426.0</td>\n",
              "      <td>64.0</td>\n",
              "      <td>36.0</td>\n",
              "      <td>18504.30</td>\n",
              "      <td>19.0</td>\n",
              "      <td>surf</td>\n",
              "      <td>Seattle-Tacoma-Bellevue, WA MSA</td>\n",
              "      <td>0.0</td>\n",
              "      <td>0.0</td>\n",
              "      <td>4.0</td>\n",
              "      <td>60.00</td>\n",
              "    </tr>\n",
              "    <tr>\n",
              "      <th>...</th>\n",
              "      <td>...</td>\n",
              "      <td>...</td>\n",
              "      <td>...</td>\n",
              "      <td>...</td>\n",
              "      <td>...</td>\n",
              "      <td>...</td>\n",
              "      <td>...</td>\n",
              "      <td>...</td>\n",
              "      <td>...</td>\n",
              "      <td>...</td>\n",
              "      <td>...</td>\n",
              "      <td>...</td>\n",
              "      <td>...</td>\n",
              "    </tr>\n",
              "    <tr>\n",
              "      <th>2288</th>\n",
              "      <td>1204</td>\n",
              "      <td>12</td>\n",
              "      <td>NaN</td>\n",
              "      <td>NaN</td>\n",
              "      <td>78.0</td>\n",
              "      <td>36730.05</td>\n",
              "      <td>36.0</td>\n",
              "      <td>ultimate</td>\n",
              "      <td>Chicago-Naperville-Elgin, IL-IN-WI MSA</td>\n",
              "      <td>0.0</td>\n",
              "      <td>0.0</td>\n",
              "      <td>6.0</td>\n",
              "      <td>112.00</td>\n",
              "    </tr>\n",
              "    <tr>\n",
              "      <th>2289</th>\n",
              "      <td>1349</td>\n",
              "      <td>10</td>\n",
              "      <td>NaN</td>\n",
              "      <td>NaN</td>\n",
              "      <td>76.0</td>\n",
              "      <td>13093.55</td>\n",
              "      <td>13.0</td>\n",
              "      <td>surf</td>\n",
              "      <td>Boston-Cambridge-Newton, MA-NH MSA</td>\n",
              "      <td>0.0</td>\n",
              "      <td>26.0</td>\n",
              "      <td>0.0</td>\n",
              "      <td>20.78</td>\n",
              "    </tr>\n",
              "    <tr>\n",
              "      <th>2290</th>\n",
              "      <td>1349</td>\n",
              "      <td>11</td>\n",
              "      <td>NaN</td>\n",
              "      <td>NaN</td>\n",
              "      <td>72.0</td>\n",
              "      <td>17128.26</td>\n",
              "      <td>17.0</td>\n",
              "      <td>surf</td>\n",
              "      <td>Boston-Cambridge-Newton, MA-NH MSA</td>\n",
              "      <td>0.0</td>\n",
              "      <td>22.0</td>\n",
              "      <td>2.0</td>\n",
              "      <td>40.66</td>\n",
              "    </tr>\n",
              "    <tr>\n",
              "      <th>2291</th>\n",
              "      <td>1349</td>\n",
              "      <td>12</td>\n",
              "      <td>NaN</td>\n",
              "      <td>NaN</td>\n",
              "      <td>61.0</td>\n",
              "      <td>13039.91</td>\n",
              "      <td>13.0</td>\n",
              "      <td>surf</td>\n",
              "      <td>Boston-Cambridge-Newton, MA-NH MSA</td>\n",
              "      <td>0.0</td>\n",
              "      <td>11.0</td>\n",
              "      <td>0.0</td>\n",
              "      <td>20.33</td>\n",
              "    </tr>\n",
              "    <tr>\n",
              "      <th>2292</th>\n",
              "      <td>1108</td>\n",
              "      <td>12</td>\n",
              "      <td>NaN</td>\n",
              "      <td>NaN</td>\n",
              "      <td>NaN</td>\n",
              "      <td>233.17</td>\n",
              "      <td>1.0</td>\n",
              "      <td>ultimate</td>\n",
              "      <td>Salt Lake City, UT MSA</td>\n",
              "      <td>0.0</td>\n",
              "      <td>0.0</td>\n",
              "      <td>0.0</td>\n",
              "      <td>70.00</td>\n",
              "    </tr>\n",
              "  </tbody>\n",
              "</table>\n",
              "<p>2293 rows × 13 columns</p>\n",
              "</div>"
            ],
            "text/plain": [
              "      user_id  month  minutos_usados  llamadas_realizadas  amount_of_messages  \\\n",
              "0        1000     12           124.0                 16.0                11.0   \n",
              "1        1001      8           182.0                 27.0                30.0   \n",
              "2        1001      9           315.0                 49.0                44.0   \n",
              "3        1001     10           393.0                 65.0                53.0   \n",
              "4        1001     11           426.0                 64.0                36.0   \n",
              "...       ...    ...             ...                  ...                 ...   \n",
              "2288     1204     12             NaN                  NaN                78.0   \n",
              "2289     1349     10             NaN                  NaN                76.0   \n",
              "2290     1349     11             NaN                  NaN                72.0   \n",
              "2291     1349     12             NaN                  NaN                61.0   \n",
              "2292     1108     12             NaN                  NaN                 NaN   \n",
              "\n",
              "      total_mg_used  total_gb_used_rounded   plan_id  \\\n",
              "0           1901.47                    2.0  ultimate   \n",
              "1           6919.15                    7.0      surf   \n",
              "2          13314.82                   14.0      surf   \n",
              "3          22330.49                   22.0      surf   \n",
              "4          18504.30                   19.0      surf   \n",
              "...             ...                    ...       ...   \n",
              "2288       36730.05                   36.0  ultimate   \n",
              "2289       13093.55                   13.0      surf   \n",
              "2290       17128.26                   17.0      surf   \n",
              "2291       13039.91                   13.0      surf   \n",
              "2292         233.17                    1.0  ultimate   \n",
              "\n",
              "                                        city  minutos_cobrables  \\\n",
              "0      Atlanta-Sandy Springs-Roswell, GA MSA                0.0   \n",
              "1            Seattle-Tacoma-Bellevue, WA MSA                0.0   \n",
              "2            Seattle-Tacoma-Bellevue, WA MSA                0.0   \n",
              "3            Seattle-Tacoma-Bellevue, WA MSA                0.0   \n",
              "4            Seattle-Tacoma-Bellevue, WA MSA                0.0   \n",
              "...                                      ...                ...   \n",
              "2288  Chicago-Naperville-Elgin, IL-IN-WI MSA                0.0   \n",
              "2289      Boston-Cambridge-Newton, MA-NH MSA                0.0   \n",
              "2290      Boston-Cambridge-Newton, MA-NH MSA                0.0   \n",
              "2291      Boston-Cambridge-Newton, MA-NH MSA                0.0   \n",
              "2292                  Salt Lake City, UT MSA                0.0   \n",
              "\n",
              "      mensajes_cobrables  datos_cobrables  rentabilidad mensual  \n",
              "0                    0.0              0.0                 70.00  \n",
              "1                    0.0              0.0                 20.00  \n",
              "2                    0.0              0.0                 20.00  \n",
              "3                    3.0              7.0                 90.09  \n",
              "4                    0.0              4.0                 60.00  \n",
              "...                  ...              ...                   ...  \n",
              "2288                 0.0              6.0                112.00  \n",
              "2289                26.0              0.0                 20.78  \n",
              "2290                22.0              2.0                 40.66  \n",
              "2291                11.0              0.0                 20.33  \n",
              "2292                 0.0              0.0                 70.00  \n",
              "\n",
              "[2293 rows x 13 columns]"
            ]
          },
          "execution_count": 81,
          "metadata": {},
          "output_type": "execute_result"
        }
      ],
      "source": [
        "plan_consumption_table\n"
      ]
    },
    {
      "cell_type": "markdown",
      "metadata": {
        "id": "-jtyHzJb0q1I"
      },
      "source": [
        "## Estudiar el comportamiento de usuario"
      ]
    },
    {
      "cell_type": "markdown",
      "metadata": {
        "id": "vtW4CJEe0q1J"
      },
      "source": [
        "### Llamadas"
      ]
    },
    {
      "cell_type": "code",
      "execution_count": null,
      "metadata": {
        "id": "Jf5v5--k0q1J"
      },
      "outputs": [],
      "source": [
        "# Compara la duración promedio de llamadas por cada plan y por cada mes. Traza un gráfico de barras para visualizarla."
      ]
    },
    {
      "cell_type": "code",
      "execution_count": null,
      "metadata": {
        "id": "t0NJ-cB9Pywc",
        "outputId": "b387a69b-970c-4922-a456-3d6ddc25e48a"
      },
      "outputs": [
        {
          "data": {
            "image/png": "[encoded data removed]",
            "text/plain": [
              "<Figure size 1200x600 with 1 Axes>"
            ]
          },
          "metadata": {},
          "output_type": "display_data"
        }
      ],
      "source": [
        "# añadimos la información del plan a analytics_calls\n",
        "analytics_calls_w_plan = analytics_calls.merge(users_df[['user_id', 'plan_id']], on='user_id')\n",
        "\n",
        "# duración promedio de llamadas\n",
        "analytics_calls_w_plan['duracion_promedio'] = analytics_calls_w_plan['minutos_usados'] / analytics_calls_w_plan['llamadas_realizadas']\n",
        "\n",
        "# segrupamos por plan y mes, y calculamos el promedio\n",
        "avg_duration_by_plan_month = analytics_calls_w_plan.groupby(['plan_id', 'month'])['duracion_promedio'].mean().reset_index()\n",
        "\n",
        "# graficamos\n",
        "plt.figure(figsize=(12, 6))\n",
        "sns.barplot(x='month', y='duracion_promedio', hue='plan_id', data=avg_duration_by_plan_month)\n",
        "plt.title('Duración promedio de llamadas por plan y mes')\n",
        "plt.xlabel('Mes')\n",
        "plt.ylabel('Duración promedio (minutos)')\n",
        "plt.show()"
      ]
    },
    {
      "cell_type": "code",
      "execution_count": null,
      "metadata": {
        "id": "QoLqW1S_0q1J",
        "outputId": "d2de9e3f-9aeb-4288-d12c-f9ac9875326b"
      },
      "outputs": [
        {
          "data": {
            "image/png": "[encoded data removed]",
            "text/plain": [
              "<Figure size 640x480 with 1 Axes>"
            ]
          },
          "metadata": {},
          "output_type": "display_data"
        }
      ],
      "source": [
        "# Compara el número de minutos mensuales que necesitan los usuarios de cada plan. Traza un histograma.\n",
        "\n",
        "sns.histplot(data=analytics_calls_w_plan[analytics_calls_w_plan['plan_id'] == 'surf'],\n",
        "             x='minutos_usados',\n",
        "             label='surf',\n",
        "             kde=False,\n",
        "             color='blue'\n",
        "            )\n",
        "\n",
        "sns.histplot(data=analytics_calls_w_plan[analytics_calls_w_plan['plan_id'] == 'ultimate'],\n",
        "             x='minutos_usados',\n",
        "             label='ultimate',\n",
        "             kde=False,\n",
        "             color='orange'\n",
        "            )\n",
        "\n",
        "plt.title('Distribución de minutos mensuales por plan')\n",
        "plt.xlabel('Minutos usados')\n",
        "plt.ylabel('Frecuencia')\n",
        "plt.legend()\n",
        "plt.show()\n"
      ]
    },
    {
      "cell_type": "code",
      "execution_count": null,
      "metadata": {
        "id": "oSndbAnt0q1K",
        "outputId": "6cfc9b00-3950-4746-cad6-a102ef130423"
      },
      "outputs": [
        {
          "data": {
            "text/html": [
              "<div>\n",
              "<style scoped>\n",
              "    .dataframe tbody tr th:only-of-type {\n",
              "        vertical-align: middle;\n",
              "    }\n",
              "\n",
              "    .dataframe tbody tr th {\n",
              "        vertical-align: top;\n",
              "    }\n",
              "\n",
              "    .dataframe thead th {\n",
              "        text-align: right;\n",
              "    }\n",
              "</style>\n",
              "<table border=\"1\" class=\"dataframe\">\n",
              "  <thead>\n",
              "    <tr style=\"text-align: right;\">\n",
              "      <th></th>\n",
              "      <th>plan_id</th>\n",
              "      <th>mean</th>\n",
              "      <th>var</th>\n",
              "    </tr>\n",
              "  </thead>\n",
              "  <tbody>\n",
              "    <tr>\n",
              "      <th>0</th>\n",
              "      <td>surf</td>\n",
              "      <td>436.519741</td>\n",
              "      <td>52571.063243</td>\n",
              "    </tr>\n",
              "    <tr>\n",
              "      <th>1</th>\n",
              "      <td>ultimate</td>\n",
              "      <td>434.676017</td>\n",
              "      <td>56573.632247</td>\n",
              "    </tr>\n",
              "  </tbody>\n",
              "</table>\n",
              "</div>"
            ],
            "text/plain": [
              "    plan_id        mean           var\n",
              "0      surf  436.519741  52571.063243\n",
              "1  ultimate  434.676017  56573.632247"
            ]
          },
          "execution_count": 85,
          "metadata": {},
          "output_type": "execute_result"
        }
      ],
      "source": [
        "# Calcula la media y la varianza de la duración mensual de llamadas.\n",
        "\n",
        "calls_main_stats = plan_consumption_table.groupby('plan_id')['minutos_usados'].agg(['mean','var']).reset_index()\n",
        "calls_main_stats\n"
      ]
    },
    {
      "cell_type": "code",
      "execution_count": null,
      "metadata": {
        "id": "nZzoRUKc0q1K",
        "outputId": "f7e769d3-9838-416a-e1b9-728a45d0f189"
      },
      "outputs": [
        {
          "data": {
            "image/png": "[encoded data removed]",
            "text/plain": [
              "<Figure size 640x480 with 1 Axes>"
            ]
          },
          "metadata": {},
          "output_type": "display_data"
        }
      ],
      "source": [
        "# Traza un diagrama de caja para visualizar la distribución de la duración mensual de llamadas\n",
        "plan_consumption_table.boxplot(column='minutos_usados',\n",
        "                               by='plan_id',\n",
        "                               grid=False\n",
        "                              )\n",
        "\n",
        "plt.title('Distribución de la duración mensual de llamadas por plan')\n",
        "plt.suptitle('')\n",
        "plt.xlabel('Plan')\n",
        "plt.ylabel('Minutos usados')\n",
        "plt.show()"
      ]
    },
    {
      "cell_type": "markdown",
      "metadata": {
        "id": "r627zBO50q1K"
      },
      "source": [
        "El comportamiento de los clientes varía en función del plan ya que se ve que hay más personas que compran el plan **surf** que el plan **ultimate**."
      ]
    },
    {
      "cell_type": "markdown",
      "metadata": {
        "id": "8idKy8Wh0q1L"
      },
      "source": [
        "### Mensajes"
      ]
    },
    {
      "cell_type": "code",
      "execution_count": null,
      "metadata": {
        "id": "NXLxiTit0q1L",
        "outputId": "3b7336ea-084d-4fd3-9286-b298d3cd06b3"
      },
      "outputs": [
        {
          "data": {
            "image/png": "[encoded data removed]",
            "text/plain": [
              "<Figure size 1000x600 with 1 Axes>"
            ]
          },
          "metadata": {},
          "output_type": "display_data"
        }
      ],
      "source": [
        "# Comprara el número de mensajes que tienden a enviar cada mes los usuarios de cada plan\n",
        "avg_messages = plan_consumption_table.groupby(['plan_id', 'month'])['amount_of_messages'].mean().reset_index()\n",
        "\n",
        "pivot_avg_messages = avg_messages.pivot(index='month',\n",
        "                                         columns='plan_id',\n",
        "                                         values='amount_of_messages'\n",
        "                                        )\n",
        "pivot_avg_messages.plot(kind='bar',\n",
        "                        figsize=(10, 6),\n",
        "                        title='Número promedio de mensajes por plan y por mes'\n",
        "                       )\n",
        "plt.show()"
      ]
    },
    {
      "cell_type": "markdown",
      "metadata": {
        "id": "42YSypXz0q1M"
      },
      "source": [
        "### Internet"
      ]
    },
    {
      "cell_type": "code",
      "execution_count": null,
      "metadata": {
        "id": "GRI_R7xF0q1L",
        "outputId": "6d7b7d62-63f0-4357-81a2-00f002544146"
      },
      "outputs": [
        {
          "data": {
            "image/png": "[encoded data removed]",
            "text/plain": [
              "<Figure size 1000x600 with 1 Axes>"
            ]
          },
          "metadata": {},
          "output_type": "display_data"
        }
      ],
      "source": [
        "# Compara la cantidad de tráfico de Internet consumido por usuarios por plan\n",
        "\n",
        "avg_internet = plan_consumption_table.groupby(['plan_id', 'month'])['total_gb_used_rounded'].mean().reset_index()\n",
        "\n",
        "avg_internet_pivot = avg_internet.pivot(index='month',\n",
        "                                        columns='plan_id',\n",
        "                                        values='total_gb_used_rounded'\n",
        "                                       )\n",
        "avg_internet_pivot.plot(kind='bar',\n",
        "                        figsize=(10, 6),\n",
        "                        title='Tráfico promedio de Internet por plan y por mes'\n",
        "                       )\n",
        "plt.show()\n"
      ]
    },
    {
      "cell_type": "markdown",
      "metadata": {
        "id": "h4lEcr5oPywg"
      },
      "source": [
        "### Otra forma"
      ]
    },
    {
      "cell_type": "markdown",
      "metadata": {
        "id": "NH8jAoJFPywg"
      },
      "source": [
        "De esta forma, se muestran todos las métricas en un sólo código"
      ]
    },
    {
      "cell_type": "markdown",
      "metadata": {
        "id": "f9CEf-BnPywg"
      },
      "source": [
        "Analizamos con un gráfico para analizar los planes, la cant de minutos, texto y volumen de datos usados\n",
        "\n",
        "Da como resultado la distribución (histograma) para c/plan con sus métricas (minutos, mensajes y datos).\n",
        "Se compara entre planes, los minutos que se usaron, los números de mensajes, y el total de datos usados entre todos los clientes"
      ]
    },
    {
      "cell_type": "code",
      "execution_count": null,
      "metadata": {
        "id": "4ndt34qKPywg"
      },
      "outputs": [],
      "source": [
        "variables = ['minutos_usados', 'amount_of_messages', 'total_gb_used_rounded']"
      ]
    },
    {
      "cell_type": "code",
      "execution_count": null,
      "metadata": {
        "id": "3dND5R1PPywg"
      },
      "outputs": [],
      "source": [
        "planes = ['surf', 'ultimate']"
      ]
    },
    {
      "cell_type": "code",
      "execution_count": null,
      "metadata": {
        "id": "Cv-EAsMlPywh",
        "outputId": "73318758-8026-48b9-b220-9b477cb39a59"
      },
      "outputs": [
        {
          "data": {
            "image/png": "[encoded data removed]",
            "text/plain": [
              "<Figure size 640x480 with 1 Axes>"
            ]
          },
          "metadata": {},
          "output_type": "display_data"
        },
        {
          "data": {
            "image/png": "[encoded data removed]",
            "text/plain": [
              "<Figure size 640x480 with 1 Axes>"
            ]
          },
          "metadata": {},
          "output_type": "display_data"
        },
        {
          "data": {
            "image/png": "[encoded data removed]",
            "text/plain": [
              "<Figure size 640x480 with 1 Axes>"
            ]
          },
          "metadata": {},
          "output_type": "display_data"
        },
        {
          "data": {
            "image/png": "[encoded data removed]",
            "text/plain": [
              "<Figure size 640x480 with 1 Axes>"
            ]
          },
          "metadata": {},
          "output_type": "display_data"
        },
        {
          "data": {
            "image/png": "[encoded data removed]",
            "text/plain": [
              "<Figure size 640x480 with 1 Axes>"
            ]
          },
          "metadata": {},
          "output_type": "display_data"
        },
        {
          "data": {
            "image/png": "[encoded data removed]",
            "text/plain": [
              "<Figure size 640x480 with 1 Axes>"
            ]
          },
          "metadata": {},
          "output_type": "display_data"
        },
        {
          "data": {
            "image/png": "[encoded data removed]",
            "text/plain": [
              "<Figure size 640x480 with 1 Axes>"
            ]
          },
          "metadata": {},
          "output_type": "display_data"
        },
        {
          "data": {
            "image/png": "[encoded data removed]",
            "text/plain": [
              "<Figure size 640x480 with 1 Axes>"
            ]
          },
          "metadata": {},
          "output_type": "display_data"
        },
        {
          "data": {
            "image/png": "[encoded data removed]",
            "text/plain": [
              "<Figure size 640x480 with 1 Axes>"
            ]
          },
          "metadata": {},
          "output_type": "display_data"
        }
      ],
      "source": [
        "for metrica in variables:\n",
        "    for plan in planes:\n",
        "        plan_consumption_table[plan_consumption_table['plan_id'] == plan][metrica].plot(kind='hist')\n",
        "\n",
        "    plt.title(metrica)\n",
        "    plt.legend(planes)\n",
        "    plt.show()\n",
        "\n",
        "    for plan in planes:\n",
        "        plt.boxplot(plan_consumption_table[plan_consumption_table['plan_id'] == plan][metrica].dropna())\n",
        "        plt.title(plan)\n",
        "        plt.show()\n",
        "        # los valores nulos no se pueden graficar en este diagrama, por lo tanto se eliminan\n",
        "\n",
        ""
      ]
    },
    {
      "cell_type": "markdown",
      "metadata": {
        "id": "tCijq3260q1N"
      },
      "source": [
        "## Ingreso"
      ]
    },
    {
      "cell_type": "code",
      "execution_count": null,
      "metadata": {
        "id": "gu05GnoGPywh",
        "outputId": "fd2f0baa-7df0-4b44-a4bc-051a967a4938"
      },
      "outputs": [
        {
          "name": "stdout",
          "output_type": "stream",
          "text": [
            "\n",
            "Estadísticas descriptivas para el plan Surf:\n",
            "count    1573.000000\n",
            "mean       60.706408\n",
            "std        55.388042\n",
            "min        20.000000\n",
            "25%        20.000000\n",
            "50%        40.360000\n",
            "75%        80.360000\n",
            "max       590.370000\n",
            "Name: rentabilidad mensual, dtype: float64\n",
            "\n",
            "Estadísticas descriptivas para el plan Ultimate:\n",
            "count    720.000000\n",
            "mean      72.313889\n",
            "std       11.395108\n",
            "min       70.000000\n",
            "25%       70.000000\n",
            "50%       70.000000\n",
            "75%       70.000000\n",
            "max      182.000000\n",
            "Name: rentabilidad mensual, dtype: float64\n"
          ]
        }
      ],
      "source": [
        "# estadísticas descriptivas para rentabilidad mensual\n",
        "ingresos_stats = plan_consumption_table['rentabilidad mensual'].describe()\n",
        "# Separar por planes para análisis individual\n",
        "ingresos_surf = plan_consumption_table[plan_consumption_table['plan_id'] == 'surf']['rentabilidad mensual']\n",
        "ingresos_ultimate = plan_consumption_table[plan_consumption_table['plan_id'] == 'ultimate']['rentabilidad mensual']\n",
        "\n",
        "# Estadísticas descriptivas por plan\n",
        "ingresos_surf_stats = ingresos_surf.describe()\n",
        "ingresos_ultimate_stats = ingresos_ultimate.describe()\n",
        "\n",
        "print(\"\\nEstadísticas descriptivas para el plan Surf:\")\n",
        "print(ingresos_surf_stats)\n",
        "print(\"\\nEstadísticas descriptivas para el plan Ultimate:\")\n",
        "print(ingresos_ultimate_stats)\n"
      ]
    },
    {
      "cell_type": "markdown",
      "metadata": {
        "id": "KAFidcXZ0q1P"
      },
      "source": [
        "Los datos muestran que el plan Ultimate tiende a generar ingresos mensuales más consistentes y elevados en comparación con el plan Surf. La media de ingresos para el plan Ultimate es de aproximadamente 72.31 unidades monetarias, con una desviación estándar de 11.39, indicando una variabilidad relativamente baja en los ingresos generados. En contraste, el plan Surf tiene una media de ingresos menor, alrededor de 60.71 unidades monetarias, pero presenta una desviación estándar considerablemente mayor de 55.39, lo que refleja una mayor variabilidad en los ingresos mensuales. Además, mientras que el ingreso máximo en el plan Surf puede alcanzar hasta 590.37 unidades monetarias, en el plan Ultimate el ingreso máximo es de 182 unidades monetarias. Esto sugiere que, aunque el plan Surf puede generar ingresos significativamente más altos en algunos casos, el plan Ultimate ofrece una fuente de ingresos más estable y predecible."
      ]
    },
    {
      "cell_type": "markdown",
      "metadata": {
        "id": "ajJ7VKeI0q1Q"
      },
      "source": [
        "## Prueba las hipótesis estadísticas"
      ]
    },
    {
      "cell_type": "code",
      "execution_count": null,
      "metadata": {
        "id": "jCE2yghoPywj"
      },
      "outputs": [],
      "source": [
        "variables = ['minutos_usados', 'amount_of_messages', 'total_gb_used_rounded']"
      ]
    },
    {
      "cell_type": "code",
      "execution_count": null,
      "metadata": {
        "id": "JLnwJOdnPywj"
      },
      "outputs": [],
      "source": [
        "planes = ['surf', 'ultimate']"
      ]
    },
    {
      "cell_type": "code",
      "execution_count": null,
      "metadata": {
        "id": "TjfHlNstPywj",
        "outputId": "9456ba5b-0579-49d9-ab59-8d5460f1db62"
      },
      "outputs": [
        {
          "name": "stdout",
          "output_type": "stream",
          "text": [
            "La rentabilidad del plan surf es de 95491.18\n",
            "La rentabilidad del plan surf es de 60.706408137317226\n",
            "\n",
            "La rentabilidad del plan ultimate es de 52066.0\n",
            "La rentabilidad del plan ultimate es de 72.31388888888888\n",
            "\n"
          ]
        }
      ],
      "source": [
        "for plan in planes:\n",
        "    rentabilidad_mensual_suma = plan_consumption_table[plan_consumption_table['plan_id'] == plan]['rentabilidad mensual'].sum()\n",
        "    rentabilidad_mensual_promedio = plan_consumption_table[plan_consumption_table['plan_id'] == plan]['rentabilidad mensual'].mean()\n",
        "\n",
        "    print(f'La rentabilidad del plan {plan} es de {rentabilidad_mensual_suma}')\n",
        "    print(f'La rentabilidad del plan {plan} es de {rentabilidad_mensual_promedio}')\n",
        "    print('')"
      ]
    },
    {
      "cell_type": "markdown",
      "metadata": {
        "id": "AdXAZ-yL0q1Q"
      },
      "source": [
        "Tal pareciera que las ganancias mensuales que genera el plan ultimate son mayores a las ganancias mensuales que generan el plan surf.\n",
        "Así sea que la suma total de dólares que da surf es mayor que la suma total que da ultimate."
      ]
    },
    {
      "cell_type": "markdown",
      "metadata": {
        "id": "IQwa_hsh0q1Q"
      },
      "source": [
        "[Elabora las hipótesis nula y alternativa, escoge la prueba estadística, determina el valor alfa.]"
      ]
    },
    {
      "cell_type": "code",
      "execution_count": null,
      "metadata": {
        "id": "nFoPNlPq0q1R"
      },
      "outputs": [],
      "source": [
        "# cuál es el plan más rentable"
      ]
    },
    {
      "cell_type": "code",
      "execution_count": null,
      "metadata": {
        "id": "xdxgXrsBPywk"
      },
      "outputs": [],
      "source": [
        "alpha = 0.05 # valor sensible"
      ]
    },
    {
      "cell_type": "code",
      "execution_count": null,
      "metadata": {
        "id": "rowxfwBwPywl",
        "outputId": "c47a0894-27ee-419f-9545-7248d1b2ced7"
      },
      "outputs": [
        {
          "name": "stdout",
          "output_type": "stream",
          "text": [
            "1        20.00\n",
            "2        20.00\n",
            "3        90.09\n",
            "4        60.00\n",
            "5        60.00\n",
            "         ...  \n",
            "2285    290.36\n",
            "2286    180.18\n",
            "2289     20.78\n",
            "2290     40.66\n",
            "2291     20.33\n",
            "Name: rentabilidad mensual, Length: 1573, dtype: float64\n",
            "\n",
            "-Cantidad de datos tomados para nuestra primera prueba: 1573-\n"
          ]
        }
      ],
      "source": [
        "# sample_1: ganancia del plan surf\n",
        "\n",
        "sample_1 = plan_consumption_table.query('plan_id == \"surf\"')['rentabilidad mensual']\n",
        "\n",
        "print(sample_1)\n",
        "\n",
        "sample_1_count = len(plan_consumption_table.query('plan_id == \"surf\"')['rentabilidad mensual'])\n",
        "\n",
        "print(f'\\n-Cantidad de datos tomados para nuestra primera prueba: {sample_1_count}-')"
      ]
    },
    {
      "cell_type": "code",
      "execution_count": null,
      "metadata": {
        "id": "Wf8QjaBsPywl",
        "outputId": "09a2beff-8028-40bb-ffb7-436fdd0c5507"
      },
      "outputs": [
        {
          "name": "stdout",
          "output_type": "stream",
          "text": [
            "0        70.0\n",
            "19       70.0\n",
            "20       84.0\n",
            "26       70.0\n",
            "27       70.0\n",
            "        ...  \n",
            "2231     70.0\n",
            "2247     70.0\n",
            "2287     70.0\n",
            "2288    112.0\n",
            "2292     70.0\n",
            "Name: rentabilidad mensual, Length: 720, dtype: float64\n",
            "\n",
            "-Cantidad de datos tomados para nuestra segunda prueba: 720-\n"
          ]
        }
      ],
      "source": [
        "# sample_2: ganancia del plan ultimate\n",
        "\n",
        "sample_2 = plan_consumption_table.query('plan_id == \"ultimate\"')['rentabilidad mensual']\n",
        "\n",
        "print(sample_2)\n",
        "\n",
        "sample_2_count = len(plan_consumption_table.query('plan_id == \"ultimate\"')['rentabilidad mensual'])\n",
        "\n",
        "print(f'\\n-Cantidad de datos tomados para nuestra segunda prueba: {sample_2_count}-')"
      ]
    },
    {
      "cell_type": "markdown",
      "metadata": {
        "id": "Jby_mkFMPywl"
      },
      "source": [
        "Vemos que para el plan **surf**, se toman 1573 datos. En canbio, para el plan **ultimate** tenemos 720 datos.\n",
        "\n",
        "\n",
        "_Hipótesis nula (H0)_: Los promedios mensuales del plan _surf_ son **iguales** al plan _ultimate_\n",
        "\n",
        "\n",
        "_Hipótesis alternativa (H1)_: Los promedios mensules del plan _surf_ son **diferentes** al plan _ultimate_\n"
      ]
    },
    {
      "cell_type": "code",
      "execution_count": null,
      "metadata": {
        "id": "X9fGOuXePywl",
        "outputId": "231c02fd-f64e-419d-93ba-c03b66893f2e"
      },
      "outputs": [
        {
          "name": "stdout",
          "output_type": "stream",
          "text": [
            "p-value: 3.1703905481135734e-15\n"
          ]
        }
      ],
      "source": [
        "results = st.ttest_ind(sample_1, sample_2, equal_var=False)\n",
        "\n",
        "p_value = results.pvalue\n",
        "print(f'p-value: {p_value}')"
      ]
    },
    {
      "cell_type": "code",
      "execution_count": null,
      "metadata": {
        "id": "1RzsdnZRPywm",
        "outputId": "13e4c32e-9423-499c-de10-c1153a477285"
      },
      "outputs": [
        {
          "name": "stdout",
          "output_type": "stream",
          "text": [
            "Rechazamos la hipótesis nula.\n"
          ]
        }
      ],
      "source": [
        "if p_value < alpha:\n",
        "    print('Rechazamos la hipótesis nula.')\n",
        "else:\n",
        "    print('No se puede rechazar la hipótesis nula.')"
      ]
    },
    {
      "cell_type": "markdown",
      "metadata": {
        "id": "tCcAruM60q1R"
      },
      "source": [
        "[Prueba la hipótesis de que el ingreso promedio de los usuarios del área NY-NJ es diferente al de los usuarios de otras regiones.]"
      ]
    },
    {
      "cell_type": "markdown",
      "metadata": {
        "id": "LsBgitqj0q1R"
      },
      "source": [
        "_Hipótesis nula (H0)_: El ingreso promedio de los usuarios del área NY-NJ es igual al ingreso promedio de los usuarios de otras regiones.\n",
        "\n",
        "_Hipótesis alternativa (H1)_: El ingreso promedio de los usuarios del área NY-NJ es diferente al ingreso promedio de los usuarios de otras regiones."
      ]
    },
    {
      "cell_type": "code",
      "execution_count": null,
      "metadata": {
        "id": "iilSqw_CPywm"
      },
      "outputs": [],
      "source": [
        "# filtramos los usuarios del área NY-NJ\n",
        "ny_nj_users = plan_consumption_table.query('city == \"NY-NJ\"')['rentabilidad mensual']\n",
        "# cant muestras\n",
        "ny_nj_count = len(ny_nj_users)"
      ]
    },
    {
      "cell_type": "code",
      "execution_count": null,
      "metadata": {
        "id": "BG4i4FiTPywn"
      },
      "outputs": [],
      "source": [
        "# filtramos los usuarios de otras regiones\n",
        "other_users = plan_consumption_table.query('city != \"NY-NJ\"')['rentabilidad mensual']\n",
        "# cant muestras\n",
        "other_users_count = len(other_users)"
      ]
    },
    {
      "cell_type": "code",
      "execution_count": null,
      "metadata": {
        "id": "Cqcj7wrZ0q1S",
        "outputId": "5acb90a4-a78e-4625-a3b8-1173c32015e0"
      },
      "outputs": [
        {
          "name": "stdout",
          "output_type": "stream",
          "text": [
            "Cantidad de usuarios en NY-NJ: 0\n",
            "Cantidad de usuarios en otras regiones: 2293\n",
            "p-value: nan\n"
          ]
        }
      ],
      "source": [
        "# Prueba las hipótesis\n",
        "\n",
        "alpha = 0.05\n",
        "results = st.ttest_ind(ny_nj_users, other_users, equal_var=False)\n",
        "\n",
        "p_value = results.pvalue\n",
        "\n",
        "\n",
        "print(f'Cantidad de usuarios en NY-NJ: {ny_nj_count}')\n",
        "print(f'Cantidad de usuarios en otras regiones: {other_users_count}')\n",
        "print(f'p-value: {p_value}')\n"
      ]
    },
    {
      "cell_type": "code",
      "execution_count": null,
      "metadata": {
        "id": "2bVaUoo1Pywn",
        "outputId": "a5563fd9-de7d-4dc6-9b5d-d1ee89377113"
      },
      "outputs": [
        {
          "name": "stdout",
          "output_type": "stream",
          "text": [
            "No se puede rechazar la hipótesis nula. No hay una diferencia significativa en el ingreso promedio entre los usuarios de NY-NJ y los usuarios de otras regiones.\n"
          ]
        }
      ],
      "source": [
        "if p_value < alpha:\n",
        "    print('Rechazamos la hipótesis nula. Hay una diferencia significativa en el ingreso promedio entre los usuarios de NY-NJ y los usuarios de otras regiones.')\n",
        "else:\n",
        "    print('No se puede rechazar la hipótesis nula. No hay una diferencia significativa en el ingreso promedio entre los usuarios de NY-NJ y los usuarios de otras regiones.')\n"
      ]
    },
    {
      "cell_type": "code",
      "execution_count": null,
      "metadata": {
        "scrolled": true,
        "id": "T0D-95rNPywo",
        "outputId": "b5892fba-49b4-433e-9c60-8a960b5e8d87"
      },
      "outputs": [
        {
          "name": "stdout",
          "output_type": "stream",
          "text": [
            "['Atlanta-Sandy Springs-Roswell, GA MSA' 'Seattle-Tacoma-Bellevue, WA MSA'\n",
            " 'Las Vegas-Henderson-Paradise, NV MSA' 'Tulsa, OK MSA'\n",
            " 'Dallas-Fort Worth-Arlington, TX MSA'\n",
            " 'San Francisco-Oakland-Berkeley, CA MSA' 'Grand Rapids-Kentwood, MI MSA'\n",
            " 'Orlando-Kissimmee-Sanford, FL MSA'\n",
            " 'San Jose-Sunnyvale-Santa Clara, CA MSA' 'Cleveland-Elyria, OH MSA'\n",
            " 'Chicago-Naperville-Elgin, IL-IN-WI MSA' 'Knoxville, TN MSA'\n",
            " 'New York-Newark-Jersey City, NY-NJ-PA MSA' 'Pittsburgh, PA MSA'\n",
            " 'Fresno, CA MSA' 'Washington-Arlington-Alexandria, DC-VA-MD-WV MSA'\n",
            " 'Indianapolis-Carmel-Anderson, IN MSA' 'Jacksonville, FL MSA'\n",
            " 'Los Angeles-Long Beach-Anaheim, CA MSA'\n",
            " 'Omaha-Council Bluffs, NE-IA MSA'\n",
            " 'Houston-The Woodlands-Sugar Land, TX MSA'\n",
            " 'Philadelphia-Camden-Wilmington, PA-NJ-DE-MD MSA'\n",
            " 'Tampa-St. Petersburg-Clearwater, FL MSA' 'Birmingham-Hoover, AL MSA'\n",
            " 'Oklahoma City, OK MSA' 'Charlotte-Concord-Gastonia, NC-SC MSA'\n",
            " 'Denver-Aurora-Lakewood, CO MSA'\n",
            " 'Nashville-Davidson–Murfreesboro–Franklin, TN MSA' 'Columbus, OH MSA'\n",
            " 'Albuquerque, NM MSA' 'Boston-Cambridge-Newton, MA-NH MSA'\n",
            " 'Miami-Fort Lauderdale-West Palm Beach, FL MSA'\n",
            " 'San Diego-Chula Vista-Carlsbad, CA MSA' 'Phoenix-Mesa-Chandler, AZ MSA'\n",
            " 'Portland-Vancouver-Hillsboro, OR-WA MSA' 'Cincinnati, OH-KY-IN MSA'\n",
            " 'Columbia, SC MSA' 'San Antonio-New Braunfels, TX MSA'\n",
            " 'Buffalo-Cheektowaga, NY MSA' 'Memphis, TN-MS-AR MSA'\n",
            " 'Riverside-San Bernardino-Ontario, CA MSA'\n",
            " 'Louisville/Jefferson County, KY-IN MSA'\n",
            " 'Albany-Schenectady-Troy, NY MSA' 'Providence-Warwick, RI-MA MSA'\n",
            " 'Urban Honolulu, HI MSA' 'El Paso, TX MSA' 'New Haven-Milford, CT MSA'\n",
            " 'North Port-Sarasota-Bradenton, FL MSA' 'New Orleans-Metairie, LA MSA'\n",
            " 'Bridgeport-Stamford-Norwalk, CT MSA'\n",
            " 'Virginia Beach-Norfolk-Newport News, VA-NC MSA'\n",
            " 'Baltimore-Columbia-Towson, MD MSA' 'Milwaukee-Waukesha, WI MSA'\n",
            " 'Oxnard-Thousand Oaks-Ventura, CA MSA'\n",
            " 'Sacramento–Roseville–Folsom, CA MSA'\n",
            " 'Austin-Round Rock-Georgetown, TX MSA' 'Richmond, VA MSA'\n",
            " 'St. Louis, MO-IL MSA' 'Minneapolis-St. Paul-Bloomington, MN-WI MSA'\n",
            " 'Dayton-Kettering, OH MSA' 'Bakersfield, CA MSA'\n",
            " 'Detroit-Warren-Dearborn, MI MSA' 'Baton Rouge, LA MSA'\n",
            " 'Kansas City, MO-KS MSA' 'Charleston-North Charleston, SC MSA'\n",
            " 'Rochester, NY MSA' 'Raleigh-Cary, NC MSA'\n",
            " 'Greensboro-High Point, NC MSA' 'Tucson, AZ MSA'\n",
            " 'Colorado Springs, CO MSA' 'Stockton, CA MSA' 'Salt Lake City, UT MSA'\n",
            " 'Cape Coral-Fort Myers, FL MSA']\n"
          ]
        }
      ],
      "source": [
        "# valores únicos en la columna 'city'\n",
        "print(plan_consumption_table['city'].unique())"
      ]
    },
    {
      "cell_type": "markdown",
      "metadata": {
        "id": "bbTR8UQO0q1T"
      },
      "source": [
        "## Conclusión general"
      ]
    },
    {
      "cell_type": "markdown",
      "metadata": {
        "id": "MTNxifNbPywp"
      },
      "source": [
        "**Rentabilidad de las Tarifas**: Se observó que el plan Ultimate genera ingresos mensuales más consistentes y elevados en comparación con el plan Surf. La media de ingresos para el plan Ultimate es aproximadamente de 72.31 unidades monetarias, mientras que para el plan Surf es de alrededor de 60.71 unidades monetarias. Además, el plan Ultimate muestra una variabilidad menor en los ingresos generados, lo que sugiere una fuente de ingresos más estable y predecible.\n",
        "\n",
        "**Pruebas Estadísticas**: Al realizar pruebas estadísticas para comparar la rentabilidad mensual entre ambos planes, se rechazó la hipótesis nula, indicando que hay una diferencia significativa en los promedios mensuales de rentabilidad entre los planes Surf y Ultimate. Esto refuerza la idea de que el plan Ultimate es más rentable en términos de ingresos promedio por usuario.\n",
        "\n",
        "**Análisis Regional**: En cuanto a la hipótesis sobre si el ingreso promedio de los usuarios del área NY-NJ es diferente al de los usuarios de otras regiones, no se pudo rechazar la hipótesis nula debido a la falta de datos suficientes específicamente para la región de NY-NJ. Sin embargo, este análisis destaca la importancia de tener en cuenta factores geográficos en futuros estudios para entender mejor las diferencias regionales en la rentabilidad."
      ]
    }
  ],
  "metadata": {
    "ExecuteTimeLog": [
      {
        "duration": 828,
        "start_time": "2021-11-16T09:21:11.304Z"
      },
      {
        "duration": 893,
        "start_time": "2021-11-16T09:21:17.728Z"
      },
      {
        "duration": 1150,
        "start_time": "2021-11-16T09:21:29.568Z"
      },
      {
        "duration": 3,
        "start_time": "2021-11-16T09:24:14.495Z"
      },
      {
        "duration": 120,
        "start_time": "2021-11-16T09:24:46.630Z"
      },
      {
        "duration": 3,
        "start_time": "2021-11-16T09:28:27.882Z"
      },
      {
        "duration": 4,
        "start_time": "2021-11-16T09:29:54.281Z"
      },
      {
        "duration": 3,
        "start_time": "2021-11-16T09:30:45.936Z"
      },
      {
        "duration": 4,
        "start_time": "2021-11-16T09:31:06.300Z"
      },
      {
        "duration": 113,
        "start_time": "2021-11-16T09:31:37.208Z"
      },
      {
        "duration": 143,
        "start_time": "2021-11-16T09:31:48.656Z"
      },
      {
        "duration": 98,
        "start_time": "2021-11-16T09:31:55.678Z"
      },
      {
        "duration": 3,
        "start_time": "2021-11-16T09:32:08.535Z"
      },
      {
        "duration": 111,
        "start_time": "2021-11-16T09:32:10.120Z"
      },
      {
        "duration": 3,
        "start_time": "2021-11-16T09:32:15.732Z"
      },
      {
        "duration": 4,
        "start_time": "2021-11-16T09:32:29.423Z"
      },
      {
        "duration": 3,
        "start_time": "2021-11-16T10:03:03.074Z"
      },
      {
        "duration": 3,
        "start_time": "2021-11-16T10:10:01.288Z"
      },
      {
        "duration": 3,
        "start_time": "2021-11-16T10:10:46.923Z"
      },
      {
        "duration": 121,
        "start_time": "2021-11-16T10:37:46.494Z"
      },
      {
        "duration": 125,
        "start_time": "2021-11-16T10:38:20.632Z"
      },
      {
        "duration": 112,
        "start_time": "2021-11-16T10:46:53.001Z"
      },
      {
        "duration": 110,
        "start_time": "2021-11-16T10:48:25.775Z"
      },
      {
        "duration": 3,
        "start_time": "2021-11-16T10:50:18.720Z"
      },
      {
        "duration": 4,
        "start_time": "2021-11-16T10:50:37.649Z"
      },
      {
        "duration": 2,
        "start_time": "2021-11-16T10:50:51.884Z"
      },
      {
        "duration": 3,
        "start_time": "2021-11-16T10:51:56.237Z"
      },
      {
        "duration": 101,
        "start_time": "2021-11-16T10:53:13.791Z"
      },
      {
        "duration": 3,
        "start_time": "2021-11-16T10:55:59.186Z"
      },
      {
        "duration": 3,
        "start_time": "2021-11-16T10:56:10.751Z"
      },
      {
        "duration": 3,
        "start_time": "2021-11-16T10:56:49.038Z"
      },
      {
        "duration": 3,
        "start_time": "2021-11-16T10:56:49.174Z"
      },
      {
        "duration": 4,
        "start_time": "2021-11-16T10:56:49.414Z"
      },
      {
        "duration": 3,
        "start_time": "2021-11-16T10:56:49.680Z"
      },
      {
        "duration": 3,
        "start_time": "2021-11-16T10:56:50.370Z"
      },
      {
        "duration": 114,
        "start_time": "2021-11-16T10:59:34.518Z"
      },
      {
        "duration": 3,
        "start_time": "2021-11-16T11:01:41.201Z"
      },
      {
        "duration": 116,
        "start_time": "2021-11-16T11:01:48.754Z"
      },
      {
        "duration": 3,
        "start_time": "2021-11-16T11:02:16.685Z"
      },
      {
        "duration": 3,
        "start_time": "2021-11-16T11:02:19.479Z"
      },
      {
        "duration": 3,
        "start_time": "2021-11-16T11:02:47.067Z"
      },
      {
        "duration": 3,
        "start_time": "2021-11-16T11:02:49.353Z"
      },
      {
        "duration": 3,
        "start_time": "2021-11-16T11:03:07.835Z"
      },
      {
        "duration": 3,
        "start_time": "2021-11-16T11:03:07.953Z"
      },
      {
        "duration": 112,
        "start_time": "2021-11-16T11:07:52.072Z"
      },
      {
        "duration": 187,
        "start_time": "2021-11-16T11:09:23.468Z"
      },
      {
        "duration": 4,
        "start_time": "2021-11-16T11:10:01.455Z"
      },
      {
        "duration": 3,
        "start_time": "2021-11-16T11:10:05.069Z"
      },
      {
        "duration": 4,
        "start_time": "2021-11-16T11:10:13.376Z"
      },
      {
        "duration": 3,
        "start_time": "2021-11-16T11:10:14.434Z"
      },
      {
        "duration": 3,
        "start_time": "2021-11-16T11:10:22.853Z"
      },
      {
        "duration": 4,
        "start_time": "2021-11-16T11:27:29.279Z"
      },
      {
        "duration": 4,
        "start_time": "2021-11-16T11:29:08.919Z"
      },
      {
        "duration": 118,
        "start_time": "2021-11-16T11:29:46.703Z"
      },
      {
        "duration": 437,
        "start_time": "2021-11-16T11:36:02.181Z"
      },
      {
        "duration": 157,
        "start_time": "2021-11-16T11:36:14.388Z"
      },
      {
        "duration": 207,
        "start_time": "2021-11-16T11:47:15.898Z"
      },
      {
        "duration": 3,
        "start_time": "2021-11-16T11:53:52.092Z"
      },
      {
        "duration": 3,
        "start_time": "2021-11-16T11:53:52.236Z"
      },
      {
        "duration": 3,
        "start_time": "2021-11-16T11:59:12.005Z"
      },
      {
        "duration": 112,
        "start_time": "2021-11-16T12:00:33.446Z"
      },
      {
        "duration": 3,
        "start_time": "2021-11-16T12:02:14.453Z"
      },
      {
        "duration": 3,
        "start_time": "2021-11-16T12:02:39.512Z"
      },
      {
        "duration": 106,
        "start_time": "2021-11-16T12:03:03.460Z"
      },
      {
        "duration": 3,
        "start_time": "2021-11-17T20:37:21.139Z"
      },
      {
        "duration": 3,
        "start_time": "2021-11-17T20:37:22.229Z"
      },
      {
        "duration": 3,
        "start_time": "2021-11-17T20:38:38.806Z"
      },
      {
        "duration": 3,
        "start_time": "2021-11-17T20:38:41.958Z"
      },
      {
        "duration": 3,
        "start_time": "2021-11-17T20:43:46.551Z"
      },
      {
        "duration": 4,
        "start_time": "2021-11-17T20:58:21.835Z"
      },
      {
        "duration": 3,
        "start_time": "2021-11-17T20:59:21.872Z"
      },
      {
        "duration": 4,
        "start_time": "2021-11-17T20:59:45.352Z"
      },
      {
        "duration": 4,
        "start_time": "2021-11-17T20:59:49.646Z"
      },
      {
        "duration": 159,
        "start_time": "2021-11-17T21:02:26.949Z"
      },
      {
        "duration": 3,
        "start_time": "2021-11-17T21:03:53.461Z"
      },
      {
        "duration": 3,
        "start_time": "2021-11-17T21:03:53.694Z"
      },
      {
        "duration": 3,
        "start_time": "2021-11-17T21:05:28.145Z"
      },
      {
        "duration": 116,
        "start_time": "2021-11-17T21:05:57.787Z"
      },
      {
        "duration": 3,
        "start_time": "2021-11-17T21:06:37.993Z"
      },
      {
        "duration": 3,
        "start_time": "2021-11-17T21:06:38.261Z"
      },
      {
        "duration": 3,
        "start_time": "2021-11-17T21:11:54.358Z"
      },
      {
        "duration": 3,
        "start_time": "2021-11-17T21:12:43.846Z"
      },
      {
        "duration": 4,
        "start_time": "2021-11-17T21:13:08.773Z"
      },
      {
        "duration": 3,
        "start_time": "2021-11-17T21:14:44.441Z"
      },
      {
        "duration": 3,
        "start_time": "2021-11-17T21:15:42.059Z"
      },
      {
        "duration": 4,
        "start_time": "2021-11-17T21:15:51.995Z"
      },
      {
        "duration": 3,
        "start_time": "2021-11-17T21:15:53.923Z"
      },
      {
        "duration": 3,
        "start_time": "2021-11-17T21:15:55.282Z"
      },
      {
        "duration": 3,
        "start_time": "2021-11-17T21:16:28.492Z"
      },
      {
        "duration": 3,
        "start_time": "2021-11-17T21:16:32.603Z"
      },
      {
        "duration": 3,
        "start_time": "2021-11-17T21:17:06.941Z"
      },
      {
        "duration": 98,
        "start_time": "2021-11-17T21:18:05.733Z"
      },
      {
        "duration": 4,
        "start_time": "2021-11-17T21:21:35.255Z"
      },
      {
        "duration": 3,
        "start_time": "2021-11-17T21:21:37.804Z"
      },
      {
        "duration": 4,
        "start_time": "2021-11-17T21:23:06.071Z"
      },
      {
        "duration": 3,
        "start_time": "2021-11-17T21:23:24.799Z"
      },
      {
        "duration": 3,
        "start_time": "2021-11-17T21:23:32.591Z"
      },
      {
        "duration": 98,
        "start_time": "2021-11-17T21:28:31.559Z"
      },
      {
        "duration": 3,
        "start_time": "2021-11-17T21:28:45.448Z"
      },
      {
        "duration": 3,
        "start_time": "2021-11-17T21:29:17.303Z"
      },
      {
        "duration": 3,
        "start_time": "2021-11-17T21:29:29.617Z"
      },
      {
        "duration": 3,
        "start_time": "2021-11-17T21:29:32.681Z"
      },
      {
        "duration": 3,
        "start_time": "2021-11-17T21:36:11.474Z"
      },
      {
        "duration": 3,
        "start_time": "2021-11-17T21:36:14.791Z"
      },
      {
        "duration": 3,
        "start_time": "2021-11-17T21:36:53.943Z"
      },
      {
        "duration": 3,
        "start_time": "2021-11-17T21:36:56.165Z"
      },
      {
        "duration": 4,
        "start_time": "2021-11-17T21:37:16.590Z"
      },
      {
        "duration": 3,
        "start_time": "2021-11-17T21:37:22.702Z"
      },
      {
        "duration": 4,
        "start_time": "2021-11-17T21:38:03.479Z"
      },
      {
        "duration": 3,
        "start_time": "2021-11-17T21:38:08.601Z"
      },
      {
        "duration": 3,
        "start_time": "2021-11-17T21:38:12.928Z"
      },
      {
        "duration": 3,
        "start_time": "2021-11-17T21:38:48.896Z"
      },
      {
        "duration": 2,
        "start_time": "2021-11-17T21:38:49.171Z"
      },
      {
        "duration": 4,
        "start_time": "2021-11-17T21:39:57.889Z"
      },
      {
        "duration": 3,
        "start_time": "2021-11-17T21:39:58.057Z"
      },
      {
        "duration": 3,
        "start_time": "2021-11-17T21:41:20.108Z"
      },
      {
        "duration": 3,
        "start_time": "2021-11-17T21:41:20.629Z"
      },
      {
        "duration": 3,
        "start_time": "2021-11-17T21:42:49.136Z"
      },
      {
        "duration": 3,
        "start_time": "2021-11-17T21:43:15.137Z"
      },
      {
        "duration": 4,
        "start_time": "2021-11-17T21:43:16.766Z"
      },
      {
        "duration": 4,
        "start_time": "2021-11-17T21:43:31.711Z"
      },
      {
        "duration": 3,
        "start_time": "2021-11-17T21:43:36.312Z"
      },
      {
        "duration": 4,
        "start_time": "2021-11-17T21:45:08.825Z"
      },
      {
        "duration": 4,
        "start_time": "2021-11-17T21:45:10.119Z"
      },
      {
        "duration": 4,
        "start_time": "2021-11-17T21:45:13.748Z"
      },
      {
        "duration": 3,
        "start_time": "2021-11-17T21:45:22.219Z"
      },
      {
        "duration": 3,
        "start_time": "2021-11-17T21:45:33.412Z"
      },
      {
        "duration": 2,
        "start_time": "2021-11-17T21:46:01.885Z"
      },
      {
        "duration": 3,
        "start_time": "2021-11-17T21:46:03.628Z"
      },
      {
        "duration": 107,
        "start_time": "2021-11-17T21:47:32.512Z"
      },
      {
        "duration": 103,
        "start_time": "2021-11-17T21:50:36.243Z"
      },
      {
        "duration": 3,
        "start_time": "2021-11-18T06:28:31.440Z"
      },
      {
        "duration": 3,
        "start_time": "2021-11-18T06:29:00.168Z"
      },
      {
        "duration": 3,
        "start_time": "2021-11-18T06:31:27.008Z"
      },
      {
        "duration": 2,
        "start_time": "2021-11-18T06:35:34.288Z"
      },
      {
        "duration": 2,
        "start_time": "2021-11-18T06:38:04.527Z"
      },
      {
        "duration": 4845,
        "start_time": "2024-07-29T15:20:28.100Z"
      },
      {
        "duration": 342,
        "start_time": "2024-07-29T15:22:53.423Z"
      },
      {
        "duration": 16,
        "start_time": "2024-07-29T15:32:10.284Z"
      },
      {
        "duration": 230,
        "start_time": "2024-07-29T15:39:35.179Z"
      },
      {
        "duration": 57,
        "start_time": "2024-07-29T15:39:52.801Z"
      },
      {
        "duration": 448,
        "start_time": "2024-07-29T15:40:10.541Z"
      },
      {
        "duration": 34,
        "start_time": "2024-07-29T15:40:23.188Z"
      },
      {
        "duration": 41,
        "start_time": "2024-07-29T15:40:44.160Z"
      },
      {
        "duration": 16,
        "start_time": "2024-07-29T15:41:07.624Z"
      },
      {
        "duration": 13,
        "start_time": "2024-07-29T15:41:17.754Z"
      },
      {
        "duration": 11,
        "start_time": "2024-07-29T16:08:59.103Z"
      },
      {
        "duration": 12,
        "start_time": "2024-07-29T16:12:35.387Z"
      },
      {
        "duration": 12,
        "start_time": "2024-07-29T16:15:02.154Z"
      },
      {
        "duration": 11,
        "start_time": "2024-07-29T16:15:59.987Z"
      },
      {
        "duration": 25,
        "start_time": "2024-07-29T16:16:02.667Z"
      },
      {
        "duration": 19,
        "start_time": "2024-07-29T16:16:44.224Z"
      },
      {
        "duration": 83,
        "start_time": "2024-07-29T16:23:22.833Z"
      },
      {
        "duration": 67,
        "start_time": "2024-07-29T16:23:31.805Z"
      },
      {
        "duration": 7,
        "start_time": "2024-07-29T16:24:09.442Z"
      },
      {
        "duration": 6,
        "start_time": "2024-07-29T16:24:29.030Z"
      },
      {
        "duration": 70,
        "start_time": "2024-07-29T16:24:37.752Z"
      },
      {
        "duration": 66,
        "start_time": "2024-07-29T16:24:51.619Z"
      },
      {
        "duration": 71,
        "start_time": "2024-07-29T16:25:16.568Z"
      },
      {
        "duration": 69,
        "start_time": "2024-07-29T16:25:22.318Z"
      },
      {
        "duration": 103,
        "start_time": "2024-07-29T16:28:02.408Z"
      },
      {
        "duration": 99,
        "start_time": "2024-07-29T16:28:09.660Z"
      },
      {
        "duration": 25,
        "start_time": "2024-07-29T16:44:41.474Z"
      },
      {
        "duration": 340,
        "start_time": "2024-07-29T16:46:49.586Z"
      },
      {
        "duration": 31,
        "start_time": "2024-07-29T16:47:15.318Z"
      },
      {
        "duration": 37,
        "start_time": "2024-07-29T16:47:36.733Z"
      },
      {
        "duration": 36,
        "start_time": "2024-07-29T16:47:57.883Z"
      },
      {
        "duration": 45,
        "start_time": "2024-07-29T16:48:09.895Z"
      },
      {
        "duration": 54,
        "start_time": "2024-07-29T16:48:22.172Z"
      },
      {
        "duration": 61,
        "start_time": "2024-07-29T16:57:03.740Z"
      },
      {
        "duration": 32,
        "start_time": "2024-07-29T16:57:14.454Z"
      },
      {
        "duration": 47,
        "start_time": "2024-07-29T16:57:23.097Z"
      },
      {
        "duration": 14,
        "start_time": "2024-07-29T16:59:37.997Z"
      },
      {
        "duration": 19,
        "start_time": "2024-07-29T16:59:40.941Z"
      },
      {
        "duration": 27,
        "start_time": "2024-07-29T16:59:45.968Z"
      },
      {
        "duration": 29,
        "start_time": "2024-07-29T16:59:48.418Z"
      },
      {
        "duration": 22,
        "start_time": "2024-07-29T17:10:54.563Z"
      },
      {
        "duration": 11,
        "start_time": "2024-07-29T17:11:17.214Z"
      },
      {
        "duration": 12,
        "start_time": "2024-07-29T17:12:32.014Z"
      },
      {
        "duration": 12,
        "start_time": "2024-07-29T17:12:45.716Z"
      },
      {
        "duration": 5,
        "start_time": "2024-07-29T17:12:58.187Z"
      },
      {
        "duration": 22,
        "start_time": "2024-07-29T17:12:59.739Z"
      },
      {
        "duration": 8,
        "start_time": "2024-07-29T17:13:04.551Z"
      },
      {
        "duration": 37,
        "start_time": "2024-07-29T17:13:14.250Z"
      },
      {
        "duration": 41,
        "start_time": "2024-07-29T17:13:20.213Z"
      },
      {
        "duration": 12,
        "start_time": "2024-07-29T17:14:18.888Z"
      },
      {
        "duration": 14,
        "start_time": "2024-07-29T17:14:32.951Z"
      },
      {
        "duration": 12,
        "start_time": "2024-07-29T17:14:52.520Z"
      },
      {
        "duration": 29,
        "start_time": "2024-07-29T17:16:00.729Z"
      },
      {
        "duration": 35,
        "start_time": "2024-07-29T17:16:06.176Z"
      },
      {
        "duration": 982,
        "start_time": "2024-07-29T17:17:58.362Z"
      },
      {
        "duration": 26,
        "start_time": "2024-07-29T17:18:10.021Z"
      },
      {
        "duration": 36,
        "start_time": "2024-07-29T17:18:37.420Z"
      },
      {
        "duration": 51,
        "start_time": "2024-07-29T17:19:09.547Z"
      },
      {
        "duration": 51,
        "start_time": "2024-07-29T17:19:29.971Z"
      },
      {
        "duration": 30,
        "start_time": "2024-07-29T17:20:22.633Z"
      },
      {
        "duration": 36,
        "start_time": "2024-07-29T17:26:05.095Z"
      },
      {
        "duration": 6,
        "start_time": "2024-07-29T17:28:07.273Z"
      },
      {
        "duration": 6,
        "start_time": "2024-07-29T17:28:41.634Z"
      },
      {
        "duration": 6,
        "start_time": "2024-07-29T17:28:44.616Z"
      },
      {
        "duration": 6,
        "start_time": "2024-07-29T17:28:47.345Z"
      },
      {
        "duration": 6,
        "start_time": "2024-07-29T17:28:49.583Z"
      },
      {
        "duration": 5,
        "start_time": "2024-07-29T17:28:51.816Z"
      },
      {
        "duration": 6,
        "start_time": "2024-07-29T17:29:50.555Z"
      },
      {
        "duration": 6,
        "start_time": "2024-07-29T17:29:56.598Z"
      },
      {
        "duration": 7,
        "start_time": "2024-07-29T17:31:29.964Z"
      },
      {
        "duration": 7,
        "start_time": "2024-07-29T17:31:35.165Z"
      },
      {
        "duration": 29,
        "start_time": "2024-07-29T17:31:50.083Z"
      },
      {
        "duration": 6,
        "start_time": "2024-07-29T17:32:02.388Z"
      },
      {
        "duration": 8,
        "start_time": "2024-07-29T17:32:04.761Z"
      },
      {
        "duration": 32,
        "start_time": "2024-07-29T17:32:16.575Z"
      },
      {
        "duration": 30,
        "start_time": "2024-07-29T17:32:27.671Z"
      },
      {
        "duration": 29,
        "start_time": "2024-07-29T17:33:10.514Z"
      },
      {
        "duration": 29,
        "start_time": "2024-07-29T17:33:18.826Z"
      },
      {
        "duration": 26,
        "start_time": "2024-07-29T17:33:53.674Z"
      },
      {
        "duration": 33,
        "start_time": "2024-07-29T17:36:16.280Z"
      },
      {
        "duration": 15,
        "start_time": "2024-07-29T17:36:35.592Z"
      },
      {
        "duration": 30,
        "start_time": "2024-07-29T17:36:38.990Z"
      },
      {
        "duration": 11,
        "start_time": "2024-07-29T17:36:56.292Z"
      },
      {
        "duration": 19,
        "start_time": "2024-07-29T17:37:09.740Z"
      },
      {
        "duration": 38,
        "start_time": "2024-07-29T17:39:18.054Z"
      },
      {
        "duration": 52,
        "start_time": "2024-07-29T17:39:55.696Z"
      },
      {
        "duration": 13,
        "start_time": "2024-07-29T17:41:11.065Z"
      },
      {
        "duration": 10,
        "start_time": "2024-07-29T17:41:21.877Z"
      },
      {
        "duration": 25,
        "start_time": "2024-07-29T17:42:06.856Z"
      },
      {
        "duration": 22,
        "start_time": "2024-07-29T17:46:26.051Z"
      },
      {
        "duration": 23,
        "start_time": "2024-07-29T17:46:33.285Z"
      },
      {
        "duration": 20,
        "start_time": "2024-07-29T17:46:38.226Z"
      },
      {
        "duration": 23,
        "start_time": "2024-07-29T17:46:48.659Z"
      },
      {
        "duration": 7,
        "start_time": "2024-07-29T17:47:47.050Z"
      },
      {
        "duration": 6,
        "start_time": "2024-07-29T17:48:06.324Z"
      },
      {
        "duration": 6,
        "start_time": "2024-07-29T17:48:20.604Z"
      },
      {
        "duration": 8,
        "start_time": "2024-07-29T17:49:28.086Z"
      },
      {
        "duration": 7,
        "start_time": "2024-07-29T17:49:37.048Z"
      },
      {
        "duration": 20,
        "start_time": "2024-07-29T17:49:47.113Z"
      },
      {
        "duration": 20,
        "start_time": "2024-07-29T17:49:53.162Z"
      },
      {
        "duration": 23,
        "start_time": "2024-07-29T17:50:11.524Z"
      },
      {
        "duration": 312,
        "start_time": "2024-07-30T00:03:08.033Z"
      },
      {
        "duration": 4845,
        "start_time": "2024-07-30T00:03:25.485Z"
      },
      {
        "duration": 390,
        "start_time": "2024-07-30T00:03:30.334Z"
      },
      {
        "duration": 43,
        "start_time": "2024-07-30T00:03:30.727Z"
      },
      {
        "duration": 17,
        "start_time": "2024-07-30T00:03:30.772Z"
      },
      {
        "duration": 32,
        "start_time": "2024-07-30T00:03:30.794Z"
      },
      {
        "duration": 3,
        "start_time": "2024-07-30T00:03:30.829Z"
      },
      {
        "duration": 49,
        "start_time": "2024-07-30T00:03:30.836Z"
      },
      {
        "duration": 41,
        "start_time": "2024-07-30T00:03:30.888Z"
      },
      {
        "duration": 907,
        "start_time": "2024-07-30T00:03:30.932Z"
      },
      {
        "duration": 0,
        "start_time": "2024-07-30T00:03:31.844Z"
      },
      {
        "duration": 0,
        "start_time": "2024-07-30T00:03:31.846Z"
      },
      {
        "duration": 0,
        "start_time": "2024-07-30T00:03:31.849Z"
      },
      {
        "duration": 0,
        "start_time": "2024-07-30T00:03:31.851Z"
      },
      {
        "duration": 0,
        "start_time": "2024-07-30T00:03:31.853Z"
      },
      {
        "duration": 0,
        "start_time": "2024-07-30T00:03:31.855Z"
      },
      {
        "duration": 0,
        "start_time": "2024-07-30T00:03:31.858Z"
      },
      {
        "duration": 0,
        "start_time": "2024-07-30T00:03:31.860Z"
      },
      {
        "duration": 0,
        "start_time": "2024-07-30T00:03:31.862Z"
      },
      {
        "duration": 0,
        "start_time": "2024-07-30T00:03:31.864Z"
      },
      {
        "duration": 0,
        "start_time": "2024-07-30T00:03:31.867Z"
      },
      {
        "duration": 0,
        "start_time": "2024-07-30T00:03:31.869Z"
      },
      {
        "duration": 0,
        "start_time": "2024-07-30T00:03:31.871Z"
      },
      {
        "duration": 0,
        "start_time": "2024-07-30T00:03:31.872Z"
      },
      {
        "duration": 0,
        "start_time": "2024-07-30T00:03:31.875Z"
      },
      {
        "duration": 0,
        "start_time": "2024-07-30T00:03:31.926Z"
      },
      {
        "duration": 0,
        "start_time": "2024-07-30T00:03:31.928Z"
      },
      {
        "duration": 0,
        "start_time": "2024-07-30T00:03:31.930Z"
      },
      {
        "duration": 0,
        "start_time": "2024-07-30T00:03:31.931Z"
      },
      {
        "duration": 0,
        "start_time": "2024-07-30T00:03:31.933Z"
      },
      {
        "duration": 0,
        "start_time": "2024-07-30T00:03:31.935Z"
      },
      {
        "duration": 0,
        "start_time": "2024-07-30T00:03:31.936Z"
      },
      {
        "duration": 0,
        "start_time": "2024-07-30T00:03:31.938Z"
      },
      {
        "duration": 0,
        "start_time": "2024-07-30T00:03:31.941Z"
      },
      {
        "duration": 0,
        "start_time": "2024-07-30T00:03:31.943Z"
      },
      {
        "duration": 0,
        "start_time": "2024-07-30T00:03:31.944Z"
      },
      {
        "duration": 0,
        "start_time": "2024-07-30T00:03:31.946Z"
      },
      {
        "duration": 0,
        "start_time": "2024-07-30T00:03:31.948Z"
      },
      {
        "duration": 0,
        "start_time": "2024-07-30T00:03:31.950Z"
      },
      {
        "duration": 0,
        "start_time": "2024-07-30T00:03:31.951Z"
      },
      {
        "duration": 0,
        "start_time": "2024-07-30T00:03:31.953Z"
      },
      {
        "duration": 0,
        "start_time": "2024-07-30T00:03:31.954Z"
      },
      {
        "duration": 58,
        "start_time": "2024-07-30T00:06:35.424Z"
      },
      {
        "duration": 68,
        "start_time": "2024-07-30T00:08:11.453Z"
      },
      {
        "duration": 14,
        "start_time": "2024-07-30T00:10:20.264Z"
      },
      {
        "duration": 13,
        "start_time": "2024-07-30T00:10:37.387Z"
      },
      {
        "duration": 9,
        "start_time": "2024-07-30T00:17:10.072Z"
      },
      {
        "duration": 14,
        "start_time": "2024-07-30T00:20:19.671Z"
      },
      {
        "duration": 16,
        "start_time": "2024-07-30T00:20:29.095Z"
      },
      {
        "duration": 17,
        "start_time": "2024-07-30T00:20:48.256Z"
      },
      {
        "duration": 560,
        "start_time": "2024-07-30T00:27:03.481Z"
      },
      {
        "duration": 33,
        "start_time": "2024-07-30T00:27:47.649Z"
      },
      {
        "duration": 11,
        "start_time": "2024-07-30T00:34:18.883Z"
      },
      {
        "duration": 24,
        "start_time": "2024-07-30T00:34:42.792Z"
      },
      {
        "duration": 4,
        "start_time": "2024-07-30T00:34:46.442Z"
      },
      {
        "duration": 260,
        "start_time": "2024-07-30T00:34:47.430Z"
      },
      {
        "duration": 4,
        "start_time": "2024-07-30T00:35:22.904Z"
      },
      {
        "duration": 4,
        "start_time": "2024-07-30T00:35:23.602Z"
      },
      {
        "duration": 76,
        "start_time": "2024-07-30T00:35:24.164Z"
      },
      {
        "duration": 11,
        "start_time": "2024-07-30T00:35:28.391Z"
      },
      {
        "duration": 26,
        "start_time": "2024-07-30T00:37:05.861Z"
      },
      {
        "duration": 14,
        "start_time": "2024-07-30T00:42:03.959Z"
      },
      {
        "duration": 36,
        "start_time": "2024-07-30T00:42:07.009Z"
      },
      {
        "duration": 30,
        "start_time": "2024-07-30T00:42:09.945Z"
      },
      {
        "duration": 89,
        "start_time": "2024-07-30T00:42:27.446Z"
      },
      {
        "duration": 13,
        "start_time": "2024-07-30T00:42:28.585Z"
      },
      {
        "duration": 20,
        "start_time": "2024-07-30T00:42:33.760Z"
      },
      {
        "duration": 31,
        "start_time": "2024-07-30T00:43:30.274Z"
      },
      {
        "duration": 14,
        "start_time": "2024-07-30T00:43:55.735Z"
      },
      {
        "duration": 28,
        "start_time": "2024-07-30T00:45:25.237Z"
      },
      {
        "duration": 13,
        "start_time": "2024-07-30T00:45:33.023Z"
      },
      {
        "duration": 11,
        "start_time": "2024-07-30T00:45:42.529Z"
      },
      {
        "duration": 11,
        "start_time": "2024-07-30T00:45:44.987Z"
      },
      {
        "duration": 21,
        "start_time": "2024-07-30T00:48:59.601Z"
      },
      {
        "duration": 19,
        "start_time": "2024-07-30T00:49:14.639Z"
      },
      {
        "duration": 21,
        "start_time": "2024-07-30T00:49:23.690Z"
      },
      {
        "duration": 39,
        "start_time": "2024-07-30T00:49:26.909Z"
      },
      {
        "duration": 10,
        "start_time": "2024-07-30T00:49:43.726Z"
      },
      {
        "duration": 1222,
        "start_time": "2024-07-30T00:50:14.674Z"
      },
      {
        "duration": 282,
        "start_time": "2024-07-30T00:50:15.900Z"
      },
      {
        "duration": 43,
        "start_time": "2024-07-30T00:50:16.185Z"
      },
      {
        "duration": 16,
        "start_time": "2024-07-30T00:50:16.234Z"
      },
      {
        "duration": 3,
        "start_time": "2024-07-30T00:50:16.253Z"
      },
      {
        "duration": 13,
        "start_time": "2024-07-30T00:50:16.260Z"
      },
      {
        "duration": 50,
        "start_time": "2024-07-30T00:50:16.276Z"
      },
      {
        "duration": 13,
        "start_time": "2024-07-30T00:50:16.329Z"
      },
      {
        "duration": 10,
        "start_time": "2024-07-30T00:50:16.345Z"
      },
      {
        "duration": 71,
        "start_time": "2024-07-30T00:50:16.361Z"
      },
      {
        "duration": 50,
        "start_time": "2024-07-30T00:50:16.434Z"
      },
      {
        "duration": 40,
        "start_time": "2024-07-30T00:50:16.487Z"
      },
      {
        "duration": 69,
        "start_time": "2024-07-30T00:50:16.531Z"
      },
      {
        "duration": 13,
        "start_time": "2024-07-30T00:50:16.627Z"
      },
      {
        "duration": 36,
        "start_time": "2024-07-30T00:50:16.642Z"
      },
      {
        "duration": 58,
        "start_time": "2024-07-30T00:50:16.681Z"
      },
      {
        "duration": 12,
        "start_time": "2024-07-30T00:50:16.742Z"
      },
      {
        "duration": 19,
        "start_time": "2024-07-30T00:50:16.757Z"
      },
      {
        "duration": 47,
        "start_time": "2024-07-30T00:50:16.779Z"
      },
      {
        "duration": 52,
        "start_time": "2024-07-30T00:50:16.828Z"
      },
      {
        "duration": 12,
        "start_time": "2024-07-30T00:50:16.883Z"
      },
      {
        "duration": 44,
        "start_time": "2024-07-30T00:50:16.898Z"
      },
      {
        "duration": 22,
        "start_time": "2024-07-30T00:50:16.945Z"
      },
      {
        "duration": 13,
        "start_time": "2024-07-30T00:50:16.971Z"
      },
      {
        "duration": 78,
        "start_time": "2024-07-30T00:50:16.988Z"
      },
      {
        "duration": 12,
        "start_time": "2024-07-30T00:50:17.069Z"
      },
      {
        "duration": 128,
        "start_time": "2024-07-30T00:50:17.084Z"
      },
      {
        "duration": 13,
        "start_time": "2024-07-30T00:50:17.229Z"
      },
      {
        "duration": 37,
        "start_time": "2024-07-30T00:50:17.244Z"
      },
      {
        "duration": 62,
        "start_time": "2024-07-30T00:50:17.285Z"
      },
      {
        "duration": 13,
        "start_time": "2024-07-30T00:50:17.350Z"
      },
      {
        "duration": 4,
        "start_time": "2024-07-30T00:50:17.367Z"
      },
      {
        "duration": 4,
        "start_time": "2024-07-30T00:50:17.374Z"
      },
      {
        "duration": 118,
        "start_time": "2024-07-30T00:50:17.381Z"
      },
      {
        "duration": 27,
        "start_time": "2024-07-30T00:50:17.502Z"
      },
      {
        "duration": 27,
        "start_time": "2024-07-30T00:50:17.533Z"
      },
      {
        "duration": 492,
        "start_time": "2024-07-30T00:50:17.563Z"
      },
      {
        "duration": 0,
        "start_time": "2024-07-30T00:50:18.058Z"
      },
      {
        "duration": 0,
        "start_time": "2024-07-30T00:50:18.059Z"
      },
      {
        "duration": 0,
        "start_time": "2024-07-30T00:50:18.062Z"
      },
      {
        "duration": 0,
        "start_time": "2024-07-30T00:50:18.063Z"
      },
      {
        "duration": 0,
        "start_time": "2024-07-30T00:50:18.064Z"
      },
      {
        "duration": 0,
        "start_time": "2024-07-30T00:50:18.067Z"
      },
      {
        "duration": 0,
        "start_time": "2024-07-30T00:50:18.069Z"
      },
      {
        "duration": 0,
        "start_time": "2024-07-30T00:50:18.072Z"
      },
      {
        "duration": 0,
        "start_time": "2024-07-30T00:50:18.074Z"
      },
      {
        "duration": 0,
        "start_time": "2024-07-30T00:50:18.079Z"
      },
      {
        "duration": 0,
        "start_time": "2024-07-30T00:50:18.082Z"
      },
      {
        "duration": 0,
        "start_time": "2024-07-30T00:50:18.084Z"
      },
      {
        "duration": 0,
        "start_time": "2024-07-30T00:50:18.127Z"
      },
      {
        "duration": 0,
        "start_time": "2024-07-30T00:50:18.129Z"
      },
      {
        "duration": 0,
        "start_time": "2024-07-30T00:50:18.131Z"
      },
      {
        "duration": 0,
        "start_time": "2024-07-30T00:50:18.132Z"
      },
      {
        "duration": 4,
        "start_time": "2024-07-30T00:51:23.394Z"
      },
      {
        "duration": 12,
        "start_time": "2024-07-30T00:51:24.551Z"
      },
      {
        "duration": 899,
        "start_time": "2024-07-30T00:52:18.807Z"
      },
      {
        "duration": 32,
        "start_time": "2024-07-30T00:52:27.358Z"
      },
      {
        "duration": 43,
        "start_time": "2024-07-30T00:54:19.218Z"
      },
      {
        "duration": 12,
        "start_time": "2024-07-30T00:54:26.291Z"
      },
      {
        "duration": 12,
        "start_time": "2024-07-30T00:54:29.680Z"
      },
      {
        "duration": 4,
        "start_time": "2024-07-30T00:55:49.945Z"
      },
      {
        "duration": 10,
        "start_time": "2024-07-30T00:55:50.768Z"
      },
      {
        "duration": 7,
        "start_time": "2024-07-30T00:56:49.583Z"
      },
      {
        "duration": 10,
        "start_time": "2024-07-30T00:56:50.231Z"
      },
      {
        "duration": 10,
        "start_time": "2024-07-30T00:57:07.608Z"
      },
      {
        "duration": 14,
        "start_time": "2024-07-30T00:57:15.295Z"
      },
      {
        "duration": 11,
        "start_time": "2024-07-30T01:00:37.599Z"
      },
      {
        "duration": 170,
        "start_time": "2024-07-30T01:02:12.636Z"
      },
      {
        "duration": 144,
        "start_time": "2024-07-30T01:02:24.401Z"
      },
      {
        "duration": 26,
        "start_time": "2024-07-30T01:03:29.441Z"
      },
      {
        "duration": 9,
        "start_time": "2024-07-30T01:04:25.838Z"
      },
      {
        "duration": 4,
        "start_time": "2024-07-30T01:06:10.266Z"
      },
      {
        "duration": 6,
        "start_time": "2024-07-30T01:06:15.592Z"
      },
      {
        "duration": 10,
        "start_time": "2024-07-30T01:06:16.500Z"
      },
      {
        "duration": 12,
        "start_time": "2024-07-30T01:09:48.700Z"
      },
      {
        "duration": 65,
        "start_time": "2024-07-30T01:10:45.579Z"
      },
      {
        "duration": 22,
        "start_time": "2024-07-30T01:11:11.493Z"
      },
      {
        "duration": 17,
        "start_time": "2024-07-30T01:11:24.505Z"
      },
      {
        "duration": 5,
        "start_time": "2024-07-30T01:12:27.569Z"
      },
      {
        "duration": 15,
        "start_time": "2024-07-30T01:12:31.518Z"
      },
      {
        "duration": 7,
        "start_time": "2024-07-30T01:12:50.583Z"
      },
      {
        "duration": 15,
        "start_time": "2024-07-30T01:12:54.501Z"
      },
      {
        "duration": 4,
        "start_time": "2024-07-30T01:14:47.431Z"
      },
      {
        "duration": 6,
        "start_time": "2024-07-30T01:16:29.270Z"
      },
      {
        "duration": 17,
        "start_time": "2024-07-30T01:16:32.582Z"
      },
      {
        "duration": 5,
        "start_time": "2024-07-30T01:19:41.566Z"
      },
      {
        "duration": 16,
        "start_time": "2024-07-30T01:19:42.659Z"
      },
      {
        "duration": 4,
        "start_time": "2024-07-30T01:20:06.851Z"
      },
      {
        "duration": 16,
        "start_time": "2024-07-30T01:20:07.699Z"
      },
      {
        "duration": 15,
        "start_time": "2024-07-30T01:22:13.499Z"
      },
      {
        "duration": 16,
        "start_time": "2024-07-30T01:22:18.112Z"
      },
      {
        "duration": 16,
        "start_time": "2024-07-30T01:22:19.861Z"
      },
      {
        "duration": 19,
        "start_time": "2024-07-30T01:27:01.467Z"
      },
      {
        "duration": 19,
        "start_time": "2024-07-30T01:28:02.855Z"
      },
      {
        "duration": 4949,
        "start_time": "2024-07-30T13:54:49.588Z"
      },
      {
        "duration": 374,
        "start_time": "2024-07-30T13:54:54.541Z"
      },
      {
        "duration": 42,
        "start_time": "2024-07-30T13:54:54.918Z"
      },
      {
        "duration": 15,
        "start_time": "2024-07-30T13:54:54.969Z"
      },
      {
        "duration": 3,
        "start_time": "2024-07-30T13:54:54.988Z"
      },
      {
        "duration": 14,
        "start_time": "2024-07-30T13:54:54.994Z"
      },
      {
        "duration": 56,
        "start_time": "2024-07-30T13:54:55.012Z"
      },
      {
        "duration": 20,
        "start_time": "2024-07-30T13:54:55.071Z"
      },
      {
        "duration": 11,
        "start_time": "2024-07-30T13:54:55.093Z"
      },
      {
        "duration": 66,
        "start_time": "2024-07-30T13:54:55.110Z"
      },
      {
        "duration": 48,
        "start_time": "2024-07-30T13:54:55.179Z"
      },
      {
        "duration": 12,
        "start_time": "2024-07-30T13:54:55.229Z"
      },
      {
        "duration": 70,
        "start_time": "2024-07-30T13:54:55.269Z"
      },
      {
        "duration": 36,
        "start_time": "2024-07-30T13:54:55.342Z"
      },
      {
        "duration": 38,
        "start_time": "2024-07-30T13:54:55.382Z"
      },
      {
        "duration": 63,
        "start_time": "2024-07-30T13:54:55.422Z"
      },
      {
        "duration": 11,
        "start_time": "2024-07-30T13:54:55.491Z"
      },
      {
        "duration": 20,
        "start_time": "2024-07-30T13:54:55.505Z"
      },
      {
        "duration": 40,
        "start_time": "2024-07-30T13:54:55.528Z"
      },
      {
        "duration": 52,
        "start_time": "2024-07-30T13:54:55.571Z"
      },
      {
        "duration": 41,
        "start_time": "2024-07-30T13:54:55.626Z"
      },
      {
        "duration": 22,
        "start_time": "2024-07-30T13:54:55.670Z"
      },
      {
        "duration": 22,
        "start_time": "2024-07-30T13:54:55.695Z"
      },
      {
        "duration": 11,
        "start_time": "2024-07-30T13:54:55.722Z"
      },
      {
        "duration": 43,
        "start_time": "2024-07-30T13:54:55.768Z"
      },
      {
        "duration": 11,
        "start_time": "2024-07-30T13:54:55.814Z"
      },
      {
        "duration": 120,
        "start_time": "2024-07-30T13:54:55.829Z"
      },
      {
        "duration": 12,
        "start_time": "2024-07-30T13:54:55.972Z"
      },
      {
        "duration": 36,
        "start_time": "2024-07-30T13:54:55.987Z"
      },
      {
        "duration": 44,
        "start_time": "2024-07-30T13:54:56.026Z"
      },
      {
        "duration": 29,
        "start_time": "2024-07-30T13:54:56.073Z"
      },
      {
        "duration": 13,
        "start_time": "2024-07-30T13:54:56.105Z"
      },
      {
        "duration": 3,
        "start_time": "2024-07-30T13:54:56.122Z"
      },
      {
        "duration": 8,
        "start_time": "2024-07-30T13:54:56.169Z"
      },
      {
        "duration": 0,
        "start_time": "2024-07-30T13:54:56.180Z"
      },
      {
        "duration": 0,
        "start_time": "2024-07-30T13:54:56.183Z"
      },
      {
        "duration": 0,
        "start_time": "2024-07-30T13:54:56.185Z"
      },
      {
        "duration": 0,
        "start_time": "2024-07-30T13:54:56.187Z"
      },
      {
        "duration": 0,
        "start_time": "2024-07-30T13:54:56.188Z"
      },
      {
        "duration": 0,
        "start_time": "2024-07-30T13:54:56.191Z"
      },
      {
        "duration": 0,
        "start_time": "2024-07-30T13:54:56.193Z"
      },
      {
        "duration": 0,
        "start_time": "2024-07-30T13:54:56.196Z"
      },
      {
        "duration": 0,
        "start_time": "2024-07-30T13:54:56.199Z"
      },
      {
        "duration": 0,
        "start_time": "2024-07-30T13:54:56.201Z"
      },
      {
        "duration": 0,
        "start_time": "2024-07-30T13:54:56.205Z"
      },
      {
        "duration": 0,
        "start_time": "2024-07-30T13:54:56.210Z"
      },
      {
        "duration": 0,
        "start_time": "2024-07-30T13:54:56.212Z"
      },
      {
        "duration": 0,
        "start_time": "2024-07-30T13:54:56.267Z"
      },
      {
        "duration": 0,
        "start_time": "2024-07-30T13:54:56.270Z"
      },
      {
        "duration": 0,
        "start_time": "2024-07-30T13:54:56.273Z"
      },
      {
        "duration": 0,
        "start_time": "2024-07-30T13:54:56.276Z"
      },
      {
        "duration": 0,
        "start_time": "2024-07-30T13:54:56.279Z"
      },
      {
        "duration": 0,
        "start_time": "2024-07-30T13:54:56.281Z"
      },
      {
        "duration": 0,
        "start_time": "2024-07-30T13:54:56.285Z"
      },
      {
        "duration": 0,
        "start_time": "2024-07-30T13:54:56.287Z"
      },
      {
        "duration": 0,
        "start_time": "2024-07-30T13:54:56.289Z"
      },
      {
        "duration": 0,
        "start_time": "2024-07-30T13:54:56.291Z"
      },
      {
        "duration": 0,
        "start_time": "2024-07-30T13:54:56.294Z"
      },
      {
        "duration": 0,
        "start_time": "2024-07-30T13:54:56.296Z"
      },
      {
        "duration": 0,
        "start_time": "2024-07-30T13:54:56.299Z"
      },
      {
        "duration": 0,
        "start_time": "2024-07-30T13:54:56.301Z"
      },
      {
        "duration": 0,
        "start_time": "2024-07-30T13:54:56.304Z"
      },
      {
        "duration": 0,
        "start_time": "2024-07-30T13:54:56.305Z"
      },
      {
        "duration": 0,
        "start_time": "2024-07-30T13:54:56.369Z"
      },
      {
        "duration": 0,
        "start_time": "2024-07-30T13:54:56.372Z"
      },
      {
        "duration": 0,
        "start_time": "2024-07-30T13:54:56.375Z"
      },
      {
        "duration": 0,
        "start_time": "2024-07-30T13:54:56.377Z"
      },
      {
        "duration": 0,
        "start_time": "2024-07-30T13:54:56.380Z"
      },
      {
        "duration": 0,
        "start_time": "2024-07-30T13:54:56.383Z"
      },
      {
        "duration": 0,
        "start_time": "2024-07-30T13:54:56.385Z"
      },
      {
        "duration": 0,
        "start_time": "2024-07-30T13:54:56.387Z"
      },
      {
        "duration": 0,
        "start_time": "2024-07-30T13:54:56.390Z"
      },
      {
        "duration": 0,
        "start_time": "2024-07-30T13:54:56.393Z"
      },
      {
        "duration": 0,
        "start_time": "2024-07-30T13:54:56.395Z"
      },
      {
        "duration": 0,
        "start_time": "2024-07-30T13:54:56.397Z"
      },
      {
        "duration": 0,
        "start_time": "2024-07-30T13:54:56.400Z"
      },
      {
        "duration": 0,
        "start_time": "2024-07-30T13:54:56.402Z"
      },
      {
        "duration": 0,
        "start_time": "2024-07-30T13:54:56.405Z"
      },
      {
        "duration": 0,
        "start_time": "2024-07-30T13:54:56.406Z"
      },
      {
        "duration": 0,
        "start_time": "2024-07-30T13:54:56.408Z"
      },
      {
        "duration": 0,
        "start_time": "2024-07-30T13:54:56.409Z"
      },
      {
        "duration": 3,
        "start_time": "2024-07-30T13:59:37.258Z"
      },
      {
        "duration": 3,
        "start_time": "2024-07-30T13:59:38.142Z"
      },
      {
        "duration": 79,
        "start_time": "2024-07-30T13:59:38.641Z"
      },
      {
        "duration": 12,
        "start_time": "2024-07-30T13:59:39.011Z"
      },
      {
        "duration": 19,
        "start_time": "2024-07-30T13:59:39.362Z"
      },
      {
        "duration": 44,
        "start_time": "2024-07-30T13:59:41.661Z"
      },
      {
        "duration": 13,
        "start_time": "2024-07-30T13:59:41.894Z"
      },
      {
        "duration": 4,
        "start_time": "2024-07-30T13:59:42.132Z"
      },
      {
        "duration": 11,
        "start_time": "2024-07-30T13:59:42.588Z"
      },
      {
        "duration": 6,
        "start_time": "2024-07-30T13:59:42.983Z"
      },
      {
        "duration": 14,
        "start_time": "2024-07-30T13:59:43.357Z"
      },
      {
        "duration": 10,
        "start_time": "2024-07-30T13:59:45.822Z"
      },
      {
        "duration": 24,
        "start_time": "2024-07-30T13:59:46.097Z"
      },
      {
        "duration": 10,
        "start_time": "2024-07-30T13:59:47.673Z"
      },
      {
        "duration": 4,
        "start_time": "2024-07-30T13:59:48.680Z"
      },
      {
        "duration": 7,
        "start_time": "2024-07-30T13:59:49.982Z"
      },
      {
        "duration": 9,
        "start_time": "2024-07-30T13:59:50.356Z"
      },
      {
        "duration": 12,
        "start_time": "2024-07-30T13:59:52.286Z"
      },
      {
        "duration": 19,
        "start_time": "2024-07-30T13:59:53.956Z"
      },
      {
        "duration": 4,
        "start_time": "2024-07-30T13:59:54.309Z"
      },
      {
        "duration": 19,
        "start_time": "2024-07-30T13:59:55.870Z"
      },
      {
        "duration": 6,
        "start_time": "2024-07-30T13:59:56.209Z"
      },
      {
        "duration": 16,
        "start_time": "2024-07-30T13:59:57.786Z"
      },
      {
        "duration": 3,
        "start_time": "2024-07-30T14:00:00.495Z"
      },
      {
        "duration": 4,
        "start_time": "2024-07-30T14:00:00.907Z"
      },
      {
        "duration": 1346,
        "start_time": "2024-07-30T14:00:01.271Z"
      },
      {
        "duration": 0,
        "start_time": "2024-07-30T14:00:02.620Z"
      },
      {
        "duration": 7,
        "start_time": "2024-07-30T14:00:56.979Z"
      },
      {
        "duration": 17,
        "start_time": "2024-07-30T14:00:58.746Z"
      },
      {
        "duration": 14,
        "start_time": "2024-07-30T14:01:02.956Z"
      },
      {
        "duration": 16,
        "start_time": "2024-07-30T14:01:03.333Z"
      },
      {
        "duration": 15,
        "start_time": "2024-07-30T14:01:04.645Z"
      },
      {
        "duration": 3,
        "start_time": "2024-07-30T14:01:09.766Z"
      },
      {
        "duration": 44,
        "start_time": "2024-07-30T14:05:26.960Z"
      },
      {
        "duration": 37,
        "start_time": "2024-07-30T14:05:41.717Z"
      },
      {
        "duration": 37,
        "start_time": "2024-07-30T14:05:51.188Z"
      },
      {
        "duration": 39,
        "start_time": "2024-07-30T14:06:38.282Z"
      },
      {
        "duration": 38,
        "start_time": "2024-07-30T14:06:43.042Z"
      },
      {
        "duration": 38,
        "start_time": "2024-07-30T14:06:55.195Z"
      },
      {
        "duration": 38,
        "start_time": "2024-07-30T14:07:06.675Z"
      },
      {
        "duration": 39,
        "start_time": "2024-07-30T14:07:26.992Z"
      },
      {
        "duration": 38,
        "start_time": "2024-07-30T14:11:51.794Z"
      },
      {
        "duration": 36,
        "start_time": "2024-07-30T14:11:54.716Z"
      },
      {
        "duration": 11,
        "start_time": "2024-07-30T14:12:16.381Z"
      },
      {
        "duration": 20,
        "start_time": "2024-07-30T14:12:19.657Z"
      },
      {
        "duration": 10,
        "start_time": "2024-07-30T14:14:38.956Z"
      },
      {
        "duration": 21,
        "start_time": "2024-07-30T14:14:39.548Z"
      },
      {
        "duration": 8,
        "start_time": "2024-07-30T14:14:48.444Z"
      },
      {
        "duration": 18,
        "start_time": "2024-07-30T14:14:51.601Z"
      },
      {
        "duration": 510,
        "start_time": "2024-07-30T14:16:04.139Z"
      },
      {
        "duration": 11,
        "start_time": "2024-07-30T14:16:10.794Z"
      },
      {
        "duration": 13,
        "start_time": "2024-07-30T14:18:18.723Z"
      },
      {
        "duration": 13,
        "start_time": "2024-07-30T14:18:31.937Z"
      },
      {
        "duration": 4,
        "start_time": "2024-07-30T14:19:05.144Z"
      },
      {
        "duration": 11,
        "start_time": "2024-07-30T14:19:05.735Z"
      },
      {
        "duration": 4,
        "start_time": "2024-07-30T14:19:34.835Z"
      },
      {
        "duration": 28,
        "start_time": "2024-07-30T14:19:36.196Z"
      },
      {
        "duration": 3,
        "start_time": "2024-07-30T14:20:41.290Z"
      },
      {
        "duration": 4,
        "start_time": "2024-07-30T14:20:41.607Z"
      },
      {
        "duration": 74,
        "start_time": "2024-07-30T14:20:41.967Z"
      },
      {
        "duration": 12,
        "start_time": "2024-07-30T14:20:42.284Z"
      },
      {
        "duration": 21,
        "start_time": "2024-07-30T14:20:43.964Z"
      },
      {
        "duration": 42,
        "start_time": "2024-07-30T14:20:54.735Z"
      },
      {
        "duration": 13,
        "start_time": "2024-07-30T14:20:58.148Z"
      },
      {
        "duration": 4,
        "start_time": "2024-07-30T14:21:07.449Z"
      },
      {
        "duration": 11,
        "start_time": "2024-07-30T14:21:08.124Z"
      },
      {
        "duration": 5,
        "start_time": "2024-07-30T14:21:11.936Z"
      },
      {
        "duration": 13,
        "start_time": "2024-07-30T14:21:12.793Z"
      },
      {
        "duration": 12,
        "start_time": "2024-07-30T14:21:17.757Z"
      },
      {
        "duration": 21,
        "start_time": "2024-07-30T14:21:22.322Z"
      },
      {
        "duration": 10,
        "start_time": "2024-07-30T14:21:24.938Z"
      },
      {
        "duration": 3,
        "start_time": "2024-07-30T14:21:29.287Z"
      },
      {
        "duration": 6,
        "start_time": "2024-07-30T14:21:29.712Z"
      },
      {
        "duration": 10,
        "start_time": "2024-07-30T14:21:30.702Z"
      },
      {
        "duration": 13,
        "start_time": "2024-07-30T14:21:36.084Z"
      },
      {
        "duration": 20,
        "start_time": "2024-07-30T14:21:42.408Z"
      },
      {
        "duration": 4,
        "start_time": "2024-07-30T14:21:45.510Z"
      },
      {
        "duration": 18,
        "start_time": "2024-07-30T14:21:46.209Z"
      },
      {
        "duration": 6,
        "start_time": "2024-07-30T14:21:50.687Z"
      },
      {
        "duration": 14,
        "start_time": "2024-07-30T14:21:52.447Z"
      },
      {
        "duration": 3,
        "start_time": "2024-07-30T14:21:57.200Z"
      },
      {
        "duration": 5,
        "start_time": "2024-07-30T14:21:57.686Z"
      },
      {
        "duration": 6,
        "start_time": "2024-07-30T14:22:02.264Z"
      },
      {
        "duration": 16,
        "start_time": "2024-07-30T14:22:02.799Z"
      },
      {
        "duration": 14,
        "start_time": "2024-07-30T14:22:05.625Z"
      },
      {
        "duration": 16,
        "start_time": "2024-07-30T14:22:08.423Z"
      },
      {
        "duration": 14,
        "start_time": "2024-07-30T14:22:10.071Z"
      },
      {
        "duration": 3,
        "start_time": "2024-07-30T14:22:13.734Z"
      },
      {
        "duration": 11,
        "start_time": "2024-07-30T14:22:20.412Z"
      },
      {
        "duration": 25,
        "start_time": "2024-07-30T14:22:29.566Z"
      },
      {
        "duration": 1359,
        "start_time": "2024-07-30T14:23:06.415Z"
      },
      {
        "duration": 319,
        "start_time": "2024-07-30T14:23:07.778Z"
      },
      {
        "duration": 44,
        "start_time": "2024-07-30T14:23:08.099Z"
      },
      {
        "duration": 31,
        "start_time": "2024-07-30T14:23:08.149Z"
      },
      {
        "duration": 4,
        "start_time": "2024-07-30T14:23:08.183Z"
      },
      {
        "duration": 15,
        "start_time": "2024-07-30T14:23:08.190Z"
      },
      {
        "duration": 14,
        "start_time": "2024-07-30T14:23:08.208Z"
      },
      {
        "duration": 57,
        "start_time": "2024-07-30T14:23:08.225Z"
      },
      {
        "duration": 11,
        "start_time": "2024-07-30T14:23:08.286Z"
      },
      {
        "duration": 68,
        "start_time": "2024-07-30T14:23:08.303Z"
      },
      {
        "duration": 51,
        "start_time": "2024-07-30T14:23:08.374Z"
      },
      {
        "duration": 11,
        "start_time": "2024-07-30T14:23:08.430Z"
      },
      {
        "duration": 94,
        "start_time": "2024-07-30T14:23:08.444Z"
      },
      {
        "duration": 36,
        "start_time": "2024-07-30T14:23:08.541Z"
      },
      {
        "duration": 37,
        "start_time": "2024-07-30T14:23:08.581Z"
      },
      {
        "duration": 61,
        "start_time": "2024-07-30T14:23:08.620Z"
      },
      {
        "duration": 13,
        "start_time": "2024-07-30T14:23:08.684Z"
      },
      {
        "duration": 20,
        "start_time": "2024-07-30T14:23:08.700Z"
      },
      {
        "duration": 45,
        "start_time": "2024-07-30T14:23:08.722Z"
      },
      {
        "duration": 57,
        "start_time": "2024-07-30T14:23:08.771Z"
      },
      {
        "duration": 11,
        "start_time": "2024-07-30T14:23:08.831Z"
      },
      {
        "duration": 25,
        "start_time": "2024-07-30T14:23:08.869Z"
      },
      {
        "duration": 22,
        "start_time": "2024-07-30T14:23:08.897Z"
      },
      {
        "duration": 11,
        "start_time": "2024-07-30T14:23:08.922Z"
      },
      {
        "duration": 78,
        "start_time": "2024-07-30T14:23:08.936Z"
      },
      {
        "duration": 12,
        "start_time": "2024-07-30T14:23:09.016Z"
      },
      {
        "duration": 110,
        "start_time": "2024-07-30T14:23:09.032Z"
      },
      {
        "duration": 12,
        "start_time": "2024-07-30T14:23:09.170Z"
      },
      {
        "duration": 37,
        "start_time": "2024-07-30T14:23:09.185Z"
      },
      {
        "duration": 44,
        "start_time": "2024-07-30T14:23:09.225Z"
      },
      {
        "duration": 29,
        "start_time": "2024-07-30T14:23:09.271Z"
      },
      {
        "duration": 13,
        "start_time": "2024-07-30T14:23:09.303Z"
      },
      {
        "duration": 4,
        "start_time": "2024-07-30T14:23:09.319Z"
      },
      {
        "duration": 46,
        "start_time": "2024-07-30T14:23:09.325Z"
      },
      {
        "duration": 0,
        "start_time": "2024-07-30T14:23:09.374Z"
      },
      {
        "duration": 0,
        "start_time": "2024-07-30T14:23:09.376Z"
      },
      {
        "duration": 0,
        "start_time": "2024-07-30T14:23:09.378Z"
      },
      {
        "duration": 0,
        "start_time": "2024-07-30T14:23:09.381Z"
      },
      {
        "duration": 0,
        "start_time": "2024-07-30T14:23:09.382Z"
      },
      {
        "duration": 0,
        "start_time": "2024-07-30T14:23:09.384Z"
      },
      {
        "duration": 0,
        "start_time": "2024-07-30T14:23:09.386Z"
      },
      {
        "duration": 0,
        "start_time": "2024-07-30T14:23:09.389Z"
      },
      {
        "duration": 0,
        "start_time": "2024-07-30T14:23:09.391Z"
      },
      {
        "duration": 0,
        "start_time": "2024-07-30T14:23:09.393Z"
      },
      {
        "duration": 0,
        "start_time": "2024-07-30T14:23:09.395Z"
      },
      {
        "duration": 0,
        "start_time": "2024-07-30T14:23:09.397Z"
      },
      {
        "duration": 0,
        "start_time": "2024-07-30T14:23:09.398Z"
      },
      {
        "duration": 0,
        "start_time": "2024-07-30T14:23:09.400Z"
      },
      {
        "duration": 0,
        "start_time": "2024-07-30T14:23:09.402Z"
      },
      {
        "duration": 0,
        "start_time": "2024-07-30T14:23:09.404Z"
      },
      {
        "duration": 0,
        "start_time": "2024-07-30T14:23:09.406Z"
      },
      {
        "duration": 0,
        "start_time": "2024-07-30T14:23:09.407Z"
      },
      {
        "duration": 0,
        "start_time": "2024-07-30T14:23:09.410Z"
      },
      {
        "duration": 0,
        "start_time": "2024-07-30T14:23:09.468Z"
      },
      {
        "duration": 0,
        "start_time": "2024-07-30T14:23:09.470Z"
      },
      {
        "duration": 0,
        "start_time": "2024-07-30T14:23:09.473Z"
      },
      {
        "duration": 0,
        "start_time": "2024-07-30T14:23:09.475Z"
      },
      {
        "duration": 0,
        "start_time": "2024-07-30T14:23:09.477Z"
      },
      {
        "duration": 0,
        "start_time": "2024-07-30T14:23:09.479Z"
      },
      {
        "duration": 1,
        "start_time": "2024-07-30T14:23:09.480Z"
      },
      {
        "duration": 0,
        "start_time": "2024-07-30T14:23:09.482Z"
      },
      {
        "duration": 0,
        "start_time": "2024-07-30T14:23:09.483Z"
      },
      {
        "duration": 0,
        "start_time": "2024-07-30T14:23:09.484Z"
      },
      {
        "duration": 0,
        "start_time": "2024-07-30T14:23:09.485Z"
      },
      {
        "duration": 0,
        "start_time": "2024-07-30T14:23:09.487Z"
      },
      {
        "duration": 0,
        "start_time": "2024-07-30T14:23:09.489Z"
      },
      {
        "duration": 0,
        "start_time": "2024-07-30T14:23:09.492Z"
      },
      {
        "duration": 0,
        "start_time": "2024-07-30T14:23:09.495Z"
      },
      {
        "duration": 0,
        "start_time": "2024-07-30T14:23:09.497Z"
      },
      {
        "duration": 0,
        "start_time": "2024-07-30T14:23:09.498Z"
      },
      {
        "duration": 0,
        "start_time": "2024-07-30T14:23:09.502Z"
      },
      {
        "duration": 0,
        "start_time": "2024-07-30T14:23:09.511Z"
      },
      {
        "duration": 0,
        "start_time": "2024-07-30T14:23:09.512Z"
      },
      {
        "duration": 0,
        "start_time": "2024-07-30T14:23:09.568Z"
      },
      {
        "duration": 0,
        "start_time": "2024-07-30T14:23:09.570Z"
      },
      {
        "duration": 1,
        "start_time": "2024-07-30T14:23:09.572Z"
      },
      {
        "duration": 0,
        "start_time": "2024-07-30T14:23:09.574Z"
      },
      {
        "duration": 0,
        "start_time": "2024-07-30T14:23:09.576Z"
      },
      {
        "duration": 0,
        "start_time": "2024-07-30T14:23:09.579Z"
      },
      {
        "duration": 0,
        "start_time": "2024-07-30T14:23:09.582Z"
      },
      {
        "duration": 0,
        "start_time": "2024-07-30T14:23:09.584Z"
      },
      {
        "duration": 0,
        "start_time": "2024-07-30T14:23:09.586Z"
      },
      {
        "duration": 0,
        "start_time": "2024-07-30T14:23:09.588Z"
      },
      {
        "duration": 0,
        "start_time": "2024-07-30T14:23:09.590Z"
      },
      {
        "duration": 1327,
        "start_time": "2024-07-30T14:23:25.817Z"
      },
      {
        "duration": 289,
        "start_time": "2024-07-30T14:23:27.147Z"
      },
      {
        "duration": 49,
        "start_time": "2024-07-30T14:23:27.439Z"
      },
      {
        "duration": 15,
        "start_time": "2024-07-30T14:23:27.493Z"
      },
      {
        "duration": 4,
        "start_time": "2024-07-30T14:23:27.511Z"
      },
      {
        "duration": 51,
        "start_time": "2024-07-30T14:23:27.519Z"
      },
      {
        "duration": 15,
        "start_time": "2024-07-30T14:23:27.574Z"
      },
      {
        "duration": 14,
        "start_time": "2024-07-30T14:23:27.592Z"
      },
      {
        "duration": 11,
        "start_time": "2024-07-30T14:23:27.609Z"
      },
      {
        "duration": 73,
        "start_time": "2024-07-30T14:23:27.625Z"
      },
      {
        "duration": 73,
        "start_time": "2024-07-30T14:23:27.701Z"
      },
      {
        "duration": 11,
        "start_time": "2024-07-30T14:23:27.778Z"
      },
      {
        "duration": 106,
        "start_time": "2024-07-30T14:23:27.791Z"
      },
      {
        "duration": 13,
        "start_time": "2024-07-30T14:23:27.900Z"
      },
      {
        "duration": 58,
        "start_time": "2024-07-30T14:23:27.916Z"
      },
      {
        "duration": 32,
        "start_time": "2024-07-30T14:23:27.977Z"
      },
      {
        "duration": 13,
        "start_time": "2024-07-30T14:23:28.012Z"
      },
      {
        "duration": 61,
        "start_time": "2024-07-30T14:23:28.028Z"
      },
      {
        "duration": 10,
        "start_time": "2024-07-30T14:23:28.093Z"
      },
      {
        "duration": 79,
        "start_time": "2024-07-30T14:23:28.106Z"
      },
      {
        "duration": 11,
        "start_time": "2024-07-30T14:23:28.188Z"
      },
      {
        "duration": 21,
        "start_time": "2024-07-30T14:23:28.202Z"
      },
      {
        "duration": 57,
        "start_time": "2024-07-30T14:23:28.225Z"
      },
      {
        "duration": 11,
        "start_time": "2024-07-30T14:23:28.286Z"
      },
      {
        "duration": 75,
        "start_time": "2024-07-30T14:23:28.300Z"
      },
      {
        "duration": 13,
        "start_time": "2024-07-30T14:23:28.378Z"
      },
      {
        "duration": 110,
        "start_time": "2024-07-30T14:23:28.395Z"
      },
      {
        "duration": 13,
        "start_time": "2024-07-30T14:23:28.516Z"
      },
      {
        "duration": 65,
        "start_time": "2024-07-30T14:23:28.532Z"
      },
      {
        "duration": 12,
        "start_time": "2024-07-30T14:23:28.600Z"
      },
      {
        "duration": 27,
        "start_time": "2024-07-30T14:23:28.614Z"
      },
      {
        "duration": 18,
        "start_time": "2024-07-30T14:23:28.668Z"
      },
      {
        "duration": 4,
        "start_time": "2024-07-30T14:23:28.689Z"
      },
      {
        "duration": 4,
        "start_time": "2024-07-30T14:23:28.696Z"
      },
      {
        "duration": 4,
        "start_time": "2024-07-30T14:23:28.703Z"
      },
      {
        "duration": 3,
        "start_time": "2024-07-30T14:23:28.710Z"
      },
      {
        "duration": 132,
        "start_time": "2024-07-30T14:23:28.716Z"
      },
      {
        "duration": 28,
        "start_time": "2024-07-30T14:23:28.850Z"
      },
      {
        "duration": 22,
        "start_time": "2024-07-30T14:23:28.882Z"
      },
      {
        "duration": 79,
        "start_time": "2024-07-30T14:23:28.907Z"
      },
      {
        "duration": 14,
        "start_time": "2024-07-30T14:23:28.989Z"
      },
      {
        "duration": 4,
        "start_time": "2024-07-30T14:23:29.007Z"
      },
      {
        "duration": 15,
        "start_time": "2024-07-30T14:23:29.014Z"
      },
      {
        "duration": 38,
        "start_time": "2024-07-30T14:23:29.031Z"
      },
      {
        "duration": 16,
        "start_time": "2024-07-30T14:23:29.073Z"
      },
      {
        "duration": 12,
        "start_time": "2024-07-30T14:23:29.091Z"
      },
      {
        "duration": 69,
        "start_time": "2024-07-30T14:23:29.106Z"
      },
      {
        "duration": 11,
        "start_time": "2024-07-30T14:23:29.177Z"
      },
      {
        "duration": 4,
        "start_time": "2024-07-30T14:23:29.192Z"
      },
      {
        "duration": 5,
        "start_time": "2024-07-30T14:23:29.200Z"
      },
      {
        "duration": 10,
        "start_time": "2024-07-30T14:23:29.209Z"
      },
      {
        "duration": 53,
        "start_time": "2024-07-30T14:23:29.223Z"
      },
      {
        "duration": 20,
        "start_time": "2024-07-30T14:23:29.279Z"
      },
      {
        "duration": 6,
        "start_time": "2024-07-30T14:23:29.302Z"
      },
      {
        "duration": 59,
        "start_time": "2024-07-30T14:23:29.311Z"
      },
      {
        "duration": 6,
        "start_time": "2024-07-30T14:23:29.373Z"
      },
      {
        "duration": 16,
        "start_time": "2024-07-30T14:23:29.382Z"
      },
      {
        "duration": 3,
        "start_time": "2024-07-30T14:23:29.401Z"
      },
      {
        "duration": 4,
        "start_time": "2024-07-30T14:23:29.408Z"
      },
      {
        "duration": 55,
        "start_time": "2024-07-30T14:23:29.415Z"
      },
      {
        "duration": 17,
        "start_time": "2024-07-30T14:23:29.473Z"
      },
      {
        "duration": 17,
        "start_time": "2024-07-30T14:23:29.493Z"
      },
      {
        "duration": 53,
        "start_time": "2024-07-30T14:23:29.515Z"
      },
      {
        "duration": 14,
        "start_time": "2024-07-30T14:23:29.571Z"
      },
      {
        "duration": 4,
        "start_time": "2024-07-30T14:23:29.588Z"
      },
      {
        "duration": 12,
        "start_time": "2024-07-30T14:23:29.595Z"
      },
      {
        "duration": 57,
        "start_time": "2024-07-30T14:23:29.610Z"
      },
      {
        "duration": 5,
        "start_time": "2024-07-30T14:23:29.671Z"
      },
      {
        "duration": 0,
        "start_time": "2024-07-30T14:23:29.680Z"
      },
      {
        "duration": 0,
        "start_time": "2024-07-30T14:23:29.682Z"
      },
      {
        "duration": 0,
        "start_time": "2024-07-30T14:23:29.685Z"
      },
      {
        "duration": 1,
        "start_time": "2024-07-30T14:23:29.687Z"
      },
      {
        "duration": 0,
        "start_time": "2024-07-30T14:23:29.689Z"
      },
      {
        "duration": 0,
        "start_time": "2024-07-30T14:23:29.691Z"
      },
      {
        "duration": 0,
        "start_time": "2024-07-30T14:23:29.695Z"
      },
      {
        "duration": 0,
        "start_time": "2024-07-30T14:23:29.697Z"
      },
      {
        "duration": 0,
        "start_time": "2024-07-30T14:23:29.699Z"
      },
      {
        "duration": 0,
        "start_time": "2024-07-30T14:23:29.702Z"
      },
      {
        "duration": 0,
        "start_time": "2024-07-30T14:23:29.704Z"
      },
      {
        "duration": 0,
        "start_time": "2024-07-30T14:23:29.707Z"
      },
      {
        "duration": 0,
        "start_time": "2024-07-30T14:23:29.709Z"
      },
      {
        "duration": 0,
        "start_time": "2024-07-30T14:23:29.711Z"
      },
      {
        "duration": 0,
        "start_time": "2024-07-30T14:23:29.713Z"
      },
      {
        "duration": 0,
        "start_time": "2024-07-30T14:23:29.768Z"
      },
      {
        "duration": 12,
        "start_time": "2024-07-30T14:25:35.738Z"
      },
      {
        "duration": 21,
        "start_time": "2024-07-30T14:25:39.601Z"
      },
      {
        "duration": 7,
        "start_time": "2024-07-30T14:30:24.566Z"
      },
      {
        "duration": 14,
        "start_time": "2024-07-30T14:30:37.204Z"
      },
      {
        "duration": 4,
        "start_time": "2024-07-30T14:32:56.296Z"
      },
      {
        "duration": 6,
        "start_time": "2024-07-30T14:32:57.392Z"
      },
      {
        "duration": 13,
        "start_time": "2024-07-30T14:33:06.321Z"
      },
      {
        "duration": 15,
        "start_time": "2024-07-30T14:33:22.071Z"
      },
      {
        "duration": 399,
        "start_time": "2024-07-30T14:38:42.425Z"
      },
      {
        "duration": 9,
        "start_time": "2024-07-30T14:38:45.289Z"
      },
      {
        "duration": 27,
        "start_time": "2024-07-30T14:38:46.470Z"
      },
      {
        "duration": 4,
        "start_time": "2024-07-30T14:39:33.901Z"
      },
      {
        "duration": 5,
        "start_time": "2024-07-30T15:08:49.306Z"
      },
      {
        "duration": 5,
        "start_time": "2024-07-30T15:26:16.758Z"
      },
      {
        "duration": 23,
        "start_time": "2024-07-30T15:26:29.837Z"
      },
      {
        "duration": 46,
        "start_time": "2024-07-30T15:27:19.687Z"
      },
      {
        "duration": 25,
        "start_time": "2024-07-30T15:27:24.148Z"
      },
      {
        "duration": 29,
        "start_time": "2024-07-30T15:33:33.675Z"
      },
      {
        "duration": 1073,
        "start_time": "2024-07-30T15:34:45.390Z"
      },
      {
        "duration": 9,
        "start_time": "2024-07-30T15:35:09.097Z"
      },
      {
        "duration": 25,
        "start_time": "2024-07-30T15:56:27.939Z"
      },
      {
        "duration": 5,
        "start_time": "2024-07-30T15:56:29.943Z"
      },
      {
        "duration": 43,
        "start_time": "2024-07-30T15:56:30.450Z"
      },
      {
        "duration": 27,
        "start_time": "2024-07-30T15:56:41.767Z"
      },
      {
        "duration": 10,
        "start_time": "2024-07-30T15:58:13.505Z"
      },
      {
        "duration": 32,
        "start_time": "2024-07-30T16:07:33.037Z"
      },
      {
        "duration": 5,
        "start_time": "2024-07-30T16:13:16.673Z"
      },
      {
        "duration": 43,
        "start_time": "2024-07-30T16:13:52.643Z"
      },
      {
        "duration": 28,
        "start_time": "2024-07-30T16:13:56.792Z"
      },
      {
        "duration": 10,
        "start_time": "2024-07-30T16:14:20.963Z"
      },
      {
        "duration": 5,
        "start_time": "2024-07-30T16:16:00.207Z"
      },
      {
        "duration": 42,
        "start_time": "2024-07-30T16:16:02.704Z"
      },
      {
        "duration": 28,
        "start_time": "2024-07-30T16:16:04.415Z"
      },
      {
        "duration": 11,
        "start_time": "2024-07-30T16:16:35.559Z"
      },
      {
        "duration": 322,
        "start_time": "2024-07-31T20:24:40.047Z"
      },
      {
        "duration": 3,
        "start_time": "2024-07-31T20:24:49.351Z"
      },
      {
        "duration": 5022,
        "start_time": "2024-07-31T20:29:34.294Z"
      },
      {
        "duration": 367,
        "start_time": "2024-07-31T20:29:39.322Z"
      },
      {
        "duration": 56,
        "start_time": "2024-07-31T20:29:39.693Z"
      },
      {
        "duration": 15,
        "start_time": "2024-07-31T20:29:39.754Z"
      },
      {
        "duration": 4,
        "start_time": "2024-07-31T20:29:39.771Z"
      },
      {
        "duration": 45,
        "start_time": "2024-07-31T20:29:39.778Z"
      },
      {
        "duration": 19,
        "start_time": "2024-07-31T20:29:39.827Z"
      },
      {
        "duration": 14,
        "start_time": "2024-07-31T20:29:39.849Z"
      },
      {
        "duration": 9,
        "start_time": "2024-07-31T20:29:39.867Z"
      },
      {
        "duration": 36,
        "start_time": "2024-07-31T20:29:39.923Z"
      },
      {
        "duration": 78,
        "start_time": "2024-07-31T20:29:39.962Z"
      },
      {
        "duration": 11,
        "start_time": "2024-07-31T20:29:40.043Z"
      },
      {
        "duration": 95,
        "start_time": "2024-07-31T20:29:40.058Z"
      },
      {
        "duration": 13,
        "start_time": "2024-07-31T20:29:40.156Z"
      },
      {
        "duration": 67,
        "start_time": "2024-07-31T20:29:40.172Z"
      },
      {
        "duration": 31,
        "start_time": "2024-07-31T20:29:40.242Z"
      },
      {
        "duration": 13,
        "start_time": "2024-07-31T20:29:40.276Z"
      },
      {
        "duration": 50,
        "start_time": "2024-07-31T20:29:40.292Z"
      },
      {
        "duration": 10,
        "start_time": "2024-07-31T20:29:40.345Z"
      },
      {
        "duration": 80,
        "start_time": "2024-07-31T20:29:40.359Z"
      },
      {
        "duration": 11,
        "start_time": "2024-07-31T20:29:40.442Z"
      },
      {
        "duration": 22,
        "start_time": "2024-07-31T20:29:40.456Z"
      },
      {
        "duration": 56,
        "start_time": "2024-07-31T20:29:40.480Z"
      },
      {
        "duration": 11,
        "start_time": "2024-07-31T20:29:40.538Z"
      },
      {
        "duration": 71,
        "start_time": "2024-07-31T20:29:40.553Z"
      },
      {
        "duration": 12,
        "start_time": "2024-07-31T20:29:40.627Z"
      },
      {
        "duration": 100,
        "start_time": "2024-07-31T20:29:40.642Z"
      },
      {
        "duration": 13,
        "start_time": "2024-07-31T20:29:40.753Z"
      },
      {
        "duration": 67,
        "start_time": "2024-07-31T20:29:40.769Z"
      },
      {
        "duration": 12,
        "start_time": "2024-07-31T20:29:40.839Z"
      },
      {
        "duration": 27,
        "start_time": "2024-07-31T20:29:40.854Z"
      },
      {
        "duration": 42,
        "start_time": "2024-07-31T20:29:40.884Z"
      },
      {
        "duration": 6,
        "start_time": "2024-07-31T20:29:40.929Z"
      },
      {
        "duration": 4,
        "start_time": "2024-07-31T20:29:40.938Z"
      },
      {
        "duration": 4,
        "start_time": "2024-07-31T20:29:40.945Z"
      },
      {
        "duration": 6,
        "start_time": "2024-07-31T20:29:40.952Z"
      },
      {
        "duration": 4,
        "start_time": "2024-07-31T20:29:40.961Z"
      },
      {
        "duration": 55,
        "start_time": "2024-07-31T20:29:40.968Z"
      },
      {
        "duration": 4,
        "start_time": "2024-07-31T20:29:41.025Z"
      },
      {
        "duration": 4,
        "start_time": "2024-07-31T20:29:41.032Z"
      },
      {
        "duration": 4,
        "start_time": "2024-07-31T20:29:41.039Z"
      },
      {
        "duration": 6,
        "start_time": "2024-07-31T20:29:41.045Z"
      },
      {
        "duration": 4,
        "start_time": "2024-07-31T20:29:41.054Z"
      },
      {
        "duration": 3,
        "start_time": "2024-07-31T20:29:41.061Z"
      },
      {
        "duration": 57,
        "start_time": "2024-07-31T20:29:41.067Z"
      },
      {
        "duration": 4,
        "start_time": "2024-07-31T20:29:41.127Z"
      },
      {
        "duration": 3,
        "start_time": "2024-07-31T20:29:41.134Z"
      },
      {
        "duration": 7,
        "start_time": "2024-07-31T20:29:41.140Z"
      },
      {
        "duration": 5,
        "start_time": "2024-07-31T20:29:41.150Z"
      },
      {
        "duration": 4,
        "start_time": "2024-07-31T20:29:41.159Z"
      },
      {
        "duration": 4,
        "start_time": "2024-07-31T20:29:41.166Z"
      },
      {
        "duration": 49,
        "start_time": "2024-07-31T20:29:41.174Z"
      },
      {
        "duration": 4,
        "start_time": "2024-07-31T20:29:41.226Z"
      },
      {
        "duration": 5,
        "start_time": "2024-07-31T20:29:41.233Z"
      },
      {
        "duration": 4,
        "start_time": "2024-07-31T20:29:41.245Z"
      },
      {
        "duration": 3,
        "start_time": "2024-07-31T20:29:41.252Z"
      },
      {
        "duration": 4,
        "start_time": "2024-07-31T20:29:41.259Z"
      },
      {
        "duration": 58,
        "start_time": "2024-07-31T20:29:41.266Z"
      },
      {
        "duration": 4,
        "start_time": "2024-07-31T20:29:41.328Z"
      },
      {
        "duration": 4,
        "start_time": "2024-07-31T20:29:41.335Z"
      },
      {
        "duration": 3,
        "start_time": "2024-07-31T20:29:41.343Z"
      },
      {
        "duration": 4,
        "start_time": "2024-07-31T20:29:41.349Z"
      },
      {
        "duration": 3,
        "start_time": "2024-07-31T20:29:41.357Z"
      },
      {
        "duration": 58,
        "start_time": "2024-07-31T20:29:41.364Z"
      },
      {
        "duration": 4,
        "start_time": "2024-07-31T20:29:41.425Z"
      },
      {
        "duration": 4,
        "start_time": "2024-07-31T20:29:41.432Z"
      },
      {
        "duration": 3,
        "start_time": "2024-07-31T20:29:41.439Z"
      },
      {
        "duration": 4,
        "start_time": "2024-07-31T20:29:41.446Z"
      },
      {
        "duration": 3,
        "start_time": "2024-07-31T20:29:41.453Z"
      },
      {
        "duration": 4,
        "start_time": "2024-07-31T20:29:41.459Z"
      },
      {
        "duration": 60,
        "start_time": "2024-07-31T20:29:41.466Z"
      },
      {
        "duration": 3,
        "start_time": "2024-07-31T20:29:41.529Z"
      },
      {
        "duration": 4,
        "start_time": "2024-07-31T20:29:41.535Z"
      },
      {
        "duration": 3,
        "start_time": "2024-07-31T20:29:41.542Z"
      },
      {
        "duration": 4,
        "start_time": "2024-07-31T20:29:41.548Z"
      },
      {
        "duration": 3,
        "start_time": "2024-07-31T20:29:41.555Z"
      },
      {
        "duration": 6,
        "start_time": "2024-07-31T20:29:41.562Z"
      },
      {
        "duration": 3,
        "start_time": "2024-07-31T20:29:41.624Z"
      },
      {
        "duration": 6,
        "start_time": "2024-07-31T20:29:41.630Z"
      },
      {
        "duration": 4,
        "start_time": "2024-07-31T20:29:41.638Z"
      },
      {
        "duration": 4,
        "start_time": "2024-07-31T20:29:41.645Z"
      },
      {
        "duration": 3,
        "start_time": "2024-07-31T20:29:41.664Z"
      },
      {
        "duration": 3,
        "start_time": "2024-07-31T20:29:41.671Z"
      },
      {
        "duration": 6,
        "start_time": "2024-07-31T20:29:41.724Z"
      },
      {
        "duration": 4,
        "start_time": "2024-07-31T20:29:41.733Z"
      },
      {
        "duration": 6,
        "start_time": "2024-07-31T20:29:41.740Z"
      },
      {
        "duration": 4,
        "start_time": "2024-07-31T20:29:41.750Z"
      },
      {
        "duration": 4,
        "start_time": "2024-07-31T20:29:41.757Z"
      },
      {
        "duration": 7,
        "start_time": "2024-07-31T20:29:41.764Z"
      },
      {
        "duration": 3,
        "start_time": "2024-07-31T20:29:41.825Z"
      },
      {
        "duration": 4,
        "start_time": "2024-07-31T20:29:41.831Z"
      },
      {
        "duration": 4,
        "start_time": "2024-07-31T20:29:41.838Z"
      },
      {
        "duration": 5,
        "start_time": "2024-07-31T20:29:41.845Z"
      },
      {
        "duration": 1037,
        "start_time": "2024-07-31T20:29:41.853Z"
      },
      {
        "duration": 0,
        "start_time": "2024-07-31T20:29:42.893Z"
      },
      {
        "duration": 0,
        "start_time": "2024-07-31T20:29:42.896Z"
      },
      {
        "duration": 0,
        "start_time": "2024-07-31T20:29:42.898Z"
      },
      {
        "duration": 0,
        "start_time": "2024-07-31T20:29:42.900Z"
      },
      {
        "duration": 0,
        "start_time": "2024-07-31T20:29:42.902Z"
      },
      {
        "duration": 0,
        "start_time": "2024-07-31T20:29:42.905Z"
      },
      {
        "duration": 0,
        "start_time": "2024-07-31T20:29:42.923Z"
      },
      {
        "duration": 0,
        "start_time": "2024-07-31T20:29:42.925Z"
      },
      {
        "duration": 0,
        "start_time": "2024-07-31T20:29:42.927Z"
      },
      {
        "duration": 0,
        "start_time": "2024-07-31T20:29:42.929Z"
      },
      {
        "duration": 0,
        "start_time": "2024-07-31T20:29:42.933Z"
      },
      {
        "duration": 0,
        "start_time": "2024-07-31T20:29:42.935Z"
      },
      {
        "duration": 0,
        "start_time": "2024-07-31T20:29:42.936Z"
      },
      {
        "duration": 0,
        "start_time": "2024-07-31T20:29:42.939Z"
      },
      {
        "duration": 0,
        "start_time": "2024-07-31T20:29:42.940Z"
      },
      {
        "duration": 0,
        "start_time": "2024-07-31T20:29:42.943Z"
      },
      {
        "duration": 0,
        "start_time": "2024-07-31T20:29:42.950Z"
      },
      {
        "duration": 0,
        "start_time": "2024-07-31T20:29:42.952Z"
      },
      {
        "duration": 0,
        "start_time": "2024-07-31T20:29:42.954Z"
      },
      {
        "duration": 0,
        "start_time": "2024-07-31T20:29:42.956Z"
      },
      {
        "duration": 0,
        "start_time": "2024-07-31T20:29:42.958Z"
      },
      {
        "duration": 0,
        "start_time": "2024-07-31T20:29:42.961Z"
      },
      {
        "duration": 0,
        "start_time": "2024-07-31T20:29:42.963Z"
      },
      {
        "duration": 0,
        "start_time": "2024-07-31T20:29:42.965Z"
      },
      {
        "duration": 0,
        "start_time": "2024-07-31T20:29:43.023Z"
      },
      {
        "duration": 0,
        "start_time": "2024-07-31T20:29:43.025Z"
      },
      {
        "duration": 0,
        "start_time": "2024-07-31T20:29:43.028Z"
      },
      {
        "duration": 0,
        "start_time": "2024-07-31T20:29:43.029Z"
      },
      {
        "duration": 0,
        "start_time": "2024-07-31T20:29:43.032Z"
      },
      {
        "duration": 0,
        "start_time": "2024-07-31T20:29:43.036Z"
      },
      {
        "duration": 4,
        "start_time": "2024-07-31T20:30:57.879Z"
      },
      {
        "duration": 4,
        "start_time": "2024-07-31T20:30:58.465Z"
      },
      {
        "duration": 76,
        "start_time": "2024-07-31T20:30:59.357Z"
      },
      {
        "duration": 14,
        "start_time": "2024-07-31T20:30:59.830Z"
      },
      {
        "duration": 21,
        "start_time": "2024-07-31T20:31:00.274Z"
      },
      {
        "duration": 55,
        "start_time": "2024-07-31T20:31:10.158Z"
      },
      {
        "duration": 12,
        "start_time": "2024-07-31T20:31:13.244Z"
      },
      {
        "duration": 16,
        "start_time": "2024-07-31T20:31:13.653Z"
      },
      {
        "duration": 3,
        "start_time": "2024-07-31T20:31:19.591Z"
      },
      {
        "duration": 326,
        "start_time": "2024-07-31T20:31:19.601Z"
      },
      {
        "duration": 43,
        "start_time": "2024-07-31T20:31:19.932Z"
      },
      {
        "duration": 46,
        "start_time": "2024-07-31T20:31:19.978Z"
      },
      {
        "duration": 7,
        "start_time": "2024-07-31T20:31:20.028Z"
      },
      {
        "duration": 15,
        "start_time": "2024-07-31T20:31:20.038Z"
      },
      {
        "duration": 17,
        "start_time": "2024-07-31T20:31:20.056Z"
      },
      {
        "duration": 60,
        "start_time": "2024-07-31T20:31:20.077Z"
      },
      {
        "duration": 10,
        "start_time": "2024-07-31T20:31:20.140Z"
      },
      {
        "duration": 75,
        "start_time": "2024-07-31T20:31:20.154Z"
      },
      {
        "duration": 58,
        "start_time": "2024-07-31T20:31:20.234Z"
      },
      {
        "duration": 38,
        "start_time": "2024-07-31T20:31:20.296Z"
      },
      {
        "duration": 88,
        "start_time": "2024-07-31T20:31:20.337Z"
      },
      {
        "duration": 14,
        "start_time": "2024-07-31T20:31:20.428Z"
      },
      {
        "duration": 35,
        "start_time": "2024-07-31T20:31:20.446Z"
      },
      {
        "duration": 60,
        "start_time": "2024-07-31T20:31:20.484Z"
      },
      {
        "duration": 14,
        "start_time": "2024-07-31T20:31:20.547Z"
      },
      {
        "duration": 20,
        "start_time": "2024-07-31T20:31:20.563Z"
      },
      {
        "duration": 13,
        "start_time": "2024-07-31T20:31:20.622Z"
      },
      {
        "duration": 51,
        "start_time": "2024-07-31T20:31:20.638Z"
      },
      {
        "duration": 36,
        "start_time": "2024-07-31T20:31:20.693Z"
      },
      {
        "duration": 24,
        "start_time": "2024-07-31T20:31:20.732Z"
      },
      {
        "duration": 22,
        "start_time": "2024-07-31T20:31:20.758Z"
      },
      {
        "duration": 44,
        "start_time": "2024-07-31T20:31:20.783Z"
      },
      {
        "duration": 42,
        "start_time": "2024-07-31T20:31:20.830Z"
      },
      {
        "duration": 12,
        "start_time": "2024-07-31T20:31:20.875Z"
      },
      {
        "duration": 68,
        "start_time": "2024-07-31T20:31:20.923Z"
      },
      {
        "duration": 33,
        "start_time": "2024-07-31T20:31:20.994Z"
      },
      {
        "duration": 35,
        "start_time": "2024-07-31T20:31:21.037Z"
      },
      {
        "duration": 12,
        "start_time": "2024-07-31T20:31:21.075Z"
      },
      {
        "duration": 59,
        "start_time": "2024-07-31T20:31:21.090Z"
      },
      {
        "duration": 13,
        "start_time": "2024-07-31T20:31:21.152Z"
      },
      {
        "duration": 5,
        "start_time": "2024-07-31T20:31:21.168Z"
      },
      {
        "duration": 4,
        "start_time": "2024-07-31T20:31:21.176Z"
      },
      {
        "duration": 4,
        "start_time": "2024-07-31T20:31:21.224Z"
      },
      {
        "duration": 4,
        "start_time": "2024-07-31T20:31:21.231Z"
      },
      {
        "duration": 96,
        "start_time": "2024-07-31T20:31:21.238Z"
      },
      {
        "duration": 16,
        "start_time": "2024-07-31T20:31:21.337Z"
      },
      {
        "duration": 24,
        "start_time": "2024-07-31T20:31:21.356Z"
      },
      {
        "duration": 3,
        "start_time": "2024-07-31T20:31:21.383Z"
      },
      {
        "duration": 36,
        "start_time": "2024-07-31T20:31:21.389Z"
      },
      {
        "duration": 3,
        "start_time": "2024-07-31T20:31:21.428Z"
      },
      {
        "duration": 4,
        "start_time": "2024-07-31T20:31:21.434Z"
      },
      {
        "duration": 4,
        "start_time": "2024-07-31T20:31:21.441Z"
      },
      {
        "duration": 3,
        "start_time": "2024-07-31T20:31:21.449Z"
      },
      {
        "duration": 4,
        "start_time": "2024-07-31T20:31:21.456Z"
      },
      {
        "duration": 4,
        "start_time": "2024-07-31T20:31:21.462Z"
      },
      {
        "duration": 4,
        "start_time": "2024-07-31T20:31:21.524Z"
      },
      {
        "duration": 3,
        "start_time": "2024-07-31T20:31:21.531Z"
      },
      {
        "duration": 4,
        "start_time": "2024-07-31T20:31:21.537Z"
      },
      {
        "duration": 4,
        "start_time": "2024-07-31T20:31:21.544Z"
      },
      {
        "duration": 4,
        "start_time": "2024-07-31T20:31:21.551Z"
      },
      {
        "duration": 4,
        "start_time": "2024-07-31T20:31:21.558Z"
      },
      {
        "duration": 4,
        "start_time": "2024-07-31T20:31:21.565Z"
      },
      {
        "duration": 4,
        "start_time": "2024-07-31T20:31:21.624Z"
      },
      {
        "duration": 4,
        "start_time": "2024-07-31T20:31:21.631Z"
      },
      {
        "duration": 4,
        "start_time": "2024-07-31T20:31:21.638Z"
      },
      {
        "duration": 4,
        "start_time": "2024-07-31T20:31:21.645Z"
      },
      {
        "duration": 4,
        "start_time": "2024-07-31T20:31:21.653Z"
      },
      {
        "duration": 5,
        "start_time": "2024-07-31T20:31:21.660Z"
      },
      {
        "duration": 3,
        "start_time": "2024-07-31T20:31:21.723Z"
      },
      {
        "duration": 3,
        "start_time": "2024-07-31T20:31:21.730Z"
      },
      {
        "duration": 3,
        "start_time": "2024-07-31T20:31:21.737Z"
      },
      {
        "duration": 4,
        "start_time": "2024-07-31T20:31:21.743Z"
      },
      {
        "duration": 4,
        "start_time": "2024-07-31T20:31:21.751Z"
      },
      {
        "duration": 4,
        "start_time": "2024-07-31T20:31:21.758Z"
      },
      {
        "duration": 4,
        "start_time": "2024-07-31T20:31:21.764Z"
      },
      {
        "duration": 3,
        "start_time": "2024-07-31T20:31:21.824Z"
      },
      {
        "duration": 5,
        "start_time": "2024-07-31T20:31:21.830Z"
      },
      {
        "duration": 4,
        "start_time": "2024-07-31T20:31:21.838Z"
      },
      {
        "duration": 4,
        "start_time": "2024-07-31T20:31:21.845Z"
      },
      {
        "duration": 3,
        "start_time": "2024-07-31T20:31:21.852Z"
      },
      {
        "duration": 4,
        "start_time": "2024-07-31T20:31:21.858Z"
      },
      {
        "duration": 59,
        "start_time": "2024-07-31T20:31:21.865Z"
      },
      {
        "duration": 6,
        "start_time": "2024-07-31T20:31:21.928Z"
      },
      {
        "duration": 4,
        "start_time": "2024-07-31T20:31:21.937Z"
      },
      {
        "duration": 8,
        "start_time": "2024-07-31T20:31:21.944Z"
      },
      {
        "duration": 5,
        "start_time": "2024-07-31T20:31:21.955Z"
      },
      {
        "duration": 7,
        "start_time": "2024-07-31T20:31:21.964Z"
      },
      {
        "duration": 50,
        "start_time": "2024-07-31T20:31:21.974Z"
      },
      {
        "duration": 3,
        "start_time": "2024-07-31T20:31:22.027Z"
      },
      {
        "duration": 4,
        "start_time": "2024-07-31T20:31:22.033Z"
      },
      {
        "duration": 3,
        "start_time": "2024-07-31T20:31:22.050Z"
      },
      {
        "duration": 7,
        "start_time": "2024-07-31T20:31:22.056Z"
      },
      {
        "duration": 4,
        "start_time": "2024-07-31T20:31:22.066Z"
      },
      {
        "duration": 4,
        "start_time": "2024-07-31T20:31:22.124Z"
      },
      {
        "duration": 3,
        "start_time": "2024-07-31T20:31:22.131Z"
      },
      {
        "duration": 4,
        "start_time": "2024-07-31T20:31:22.137Z"
      },
      {
        "duration": 7,
        "start_time": "2024-07-31T20:31:22.144Z"
      },
      {
        "duration": 3,
        "start_time": "2024-07-31T20:31:22.154Z"
      },
      {
        "duration": 4,
        "start_time": "2024-07-31T20:31:22.160Z"
      },
      {
        "duration": 56,
        "start_time": "2024-07-31T20:31:22.167Z"
      },
      {
        "duration": 4,
        "start_time": "2024-07-31T20:31:22.226Z"
      },
      {
        "duration": 56,
        "start_time": "2024-07-31T20:31:22.234Z"
      },
      {
        "duration": 42,
        "start_time": "2024-07-31T20:31:22.293Z"
      },
      {
        "duration": 16,
        "start_time": "2024-07-31T20:31:22.338Z"
      },
      {
        "duration": 4,
        "start_time": "2024-07-31T20:35:55.458Z"
      },
      {
        "duration": 4,
        "start_time": "2024-07-31T20:38:05.243Z"
      },
      {
        "duration": 302,
        "start_time": "2024-07-31T20:38:05.251Z"
      },
      {
        "duration": 41,
        "start_time": "2024-07-31T20:38:05.555Z"
      },
      {
        "duration": 35,
        "start_time": "2024-07-31T20:38:05.599Z"
      },
      {
        "duration": 3,
        "start_time": "2024-07-31T20:38:05.640Z"
      },
      {
        "duration": 13,
        "start_time": "2024-07-31T20:38:05.647Z"
      },
      {
        "duration": 62,
        "start_time": "2024-07-31T20:38:05.664Z"
      },
      {
        "duration": 18,
        "start_time": "2024-07-31T20:38:05.730Z"
      },
      {
        "duration": 10,
        "start_time": "2024-07-31T20:38:05.751Z"
      },
      {
        "duration": 74,
        "start_time": "2024-07-31T20:38:05.764Z"
      },
      {
        "duration": 46,
        "start_time": "2024-07-31T20:38:05.841Z"
      },
      {
        "duration": 40,
        "start_time": "2024-07-31T20:38:05.890Z"
      },
      {
        "duration": 64,
        "start_time": "2024-07-31T20:38:05.933Z"
      },
      {
        "duration": 12,
        "start_time": "2024-07-31T20:38:06.029Z"
      },
      {
        "duration": 35,
        "start_time": "2024-07-31T20:38:06.045Z"
      },
      {
        "duration": 57,
        "start_time": "2024-07-31T20:38:06.082Z"
      },
      {
        "duration": 12,
        "start_time": "2024-07-31T20:38:06.142Z"
      },
      {
        "duration": 20,
        "start_time": "2024-07-31T20:38:06.158Z"
      },
      {
        "duration": 42,
        "start_time": "2024-07-31T20:38:06.181Z"
      },
      {
        "duration": 52,
        "start_time": "2024-07-31T20:38:06.226Z"
      },
      {
        "duration": 11,
        "start_time": "2024-07-31T20:38:06.281Z"
      },
      {
        "duration": 21,
        "start_time": "2024-07-31T20:38:06.324Z"
      },
      {
        "duration": 22,
        "start_time": "2024-07-31T20:38:06.348Z"
      },
      {
        "duration": 12,
        "start_time": "2024-07-31T20:38:06.373Z"
      },
      {
        "duration": 50,
        "start_time": "2024-07-31T20:38:06.424Z"
      },
      {
        "duration": 12,
        "start_time": "2024-07-31T20:38:06.478Z"
      },
      {
        "duration": 99,
        "start_time": "2024-07-31T20:38:06.492Z"
      },
      {
        "duration": 31,
        "start_time": "2024-07-31T20:38:06.594Z"
      },
      {
        "duration": 37,
        "start_time": "2024-07-31T20:38:06.628Z"
      },
      {
        "duration": 11,
        "start_time": "2024-07-31T20:38:06.668Z"
      },
      {
        "duration": 60,
        "start_time": "2024-07-31T20:38:06.682Z"
      },
      {
        "duration": 11,
        "start_time": "2024-07-31T20:38:06.745Z"
      },
      {
        "duration": 8,
        "start_time": "2024-07-31T20:38:06.759Z"
      },
      {
        "duration": 3,
        "start_time": "2024-07-31T20:38:06.771Z"
      },
      {
        "duration": 4,
        "start_time": "2024-07-31T20:38:06.777Z"
      },
      {
        "duration": 4,
        "start_time": "2024-07-31T20:38:06.826Z"
      },
      {
        "duration": 89,
        "start_time": "2024-07-31T20:38:06.833Z"
      },
      {
        "duration": 13,
        "start_time": "2024-07-31T20:38:06.925Z"
      },
      {
        "duration": 22,
        "start_time": "2024-07-31T20:38:06.940Z"
      },
      {
        "duration": 72,
        "start_time": "2024-07-31T20:38:06.965Z"
      },
      {
        "duration": 13,
        "start_time": "2024-07-31T20:38:07.048Z"
      },
      {
        "duration": 5,
        "start_time": "2024-07-31T20:38:07.063Z"
      },
      {
        "duration": 12,
        "start_time": "2024-07-31T20:38:07.071Z"
      },
      {
        "duration": 6,
        "start_time": "2024-07-31T20:38:07.122Z"
      },
      {
        "duration": 15,
        "start_time": "2024-07-31T20:38:07.131Z"
      },
      {
        "duration": 11,
        "start_time": "2024-07-31T20:38:07.150Z"
      },
      {
        "duration": 59,
        "start_time": "2024-07-31T20:38:07.165Z"
      },
      {
        "duration": 11,
        "start_time": "2024-07-31T20:38:07.226Z"
      },
      {
        "duration": 4,
        "start_time": "2024-07-31T20:38:07.240Z"
      },
      {
        "duration": 6,
        "start_time": "2024-07-31T20:38:07.247Z"
      },
      {
        "duration": 11,
        "start_time": "2024-07-31T20:38:07.256Z"
      },
      {
        "duration": 57,
        "start_time": "2024-07-31T20:38:07.269Z"
      },
      {
        "duration": 22,
        "start_time": "2024-07-31T20:38:07.329Z"
      },
      {
        "duration": 4,
        "start_time": "2024-07-31T20:38:07.354Z"
      },
      {
        "duration": 24,
        "start_time": "2024-07-31T20:38:07.361Z"
      },
      {
        "duration": 6,
        "start_time": "2024-07-31T20:38:07.424Z"
      },
      {
        "duration": 15,
        "start_time": "2024-07-31T20:38:07.433Z"
      },
      {
        "duration": 3,
        "start_time": "2024-07-31T20:38:07.451Z"
      },
      {
        "duration": 8,
        "start_time": "2024-07-31T20:38:07.458Z"
      },
      {
        "duration": 9,
        "start_time": "2024-07-31T20:38:07.469Z"
      },
      {
        "duration": 59,
        "start_time": "2024-07-31T20:38:07.480Z"
      },
      {
        "duration": 3,
        "start_time": "2024-07-31T20:38:07.544Z"
      },
      {
        "duration": 7,
        "start_time": "2024-07-31T20:38:07.550Z"
      },
      {
        "duration": 13,
        "start_time": "2024-07-31T20:38:07.560Z"
      },
      {
        "duration": 59,
        "start_time": "2024-07-31T20:38:07.576Z"
      },
      {
        "duration": 16,
        "start_time": "2024-07-31T20:38:07.639Z"
      },
      {
        "duration": 14,
        "start_time": "2024-07-31T20:38:07.659Z"
      },
      {
        "duration": 49,
        "start_time": "2024-07-31T20:38:07.676Z"
      },
      {
        "duration": 4,
        "start_time": "2024-07-31T20:38:07.728Z"
      },
      {
        "duration": 13,
        "start_time": "2024-07-31T20:38:07.735Z"
      },
      {
        "duration": 20,
        "start_time": "2024-07-31T20:38:07.751Z"
      },
      {
        "duration": 55,
        "start_time": "2024-07-31T20:38:07.773Z"
      },
      {
        "duration": 22,
        "start_time": "2024-07-31T20:38:07.831Z"
      },
      {
        "duration": 4,
        "start_time": "2024-07-31T20:38:07.856Z"
      },
      {
        "duration": 12,
        "start_time": "2024-07-31T20:38:07.863Z"
      },
      {
        "duration": 65,
        "start_time": "2024-07-31T20:38:07.877Z"
      },
      {
        "duration": 6,
        "start_time": "2024-07-31T20:38:07.945Z"
      },
      {
        "duration": 3,
        "start_time": "2024-07-31T20:38:07.955Z"
      },
      {
        "duration": 6,
        "start_time": "2024-07-31T20:38:07.962Z"
      },
      {
        "duration": 90,
        "start_time": "2024-07-31T20:38:07.971Z"
      },
      {
        "duration": 26,
        "start_time": "2024-07-31T20:38:08.064Z"
      },
      {
        "duration": 31,
        "start_time": "2024-07-31T20:38:08.093Z"
      },
      {
        "duration": 3,
        "start_time": "2024-07-31T20:38:08.127Z"
      },
      {
        "duration": 6,
        "start_time": "2024-07-31T20:38:08.133Z"
      },
      {
        "duration": 44,
        "start_time": "2024-07-31T20:38:08.142Z"
      },
      {
        "duration": 57,
        "start_time": "2024-07-31T20:38:08.189Z"
      },
      {
        "duration": 6,
        "start_time": "2024-07-31T20:46:35.919Z"
      },
      {
        "duration": 25,
        "start_time": "2024-07-31T20:47:36.607Z"
      },
      {
        "duration": 172,
        "start_time": "2024-07-31T20:47:45.719Z"
      },
      {
        "duration": 4,
        "start_time": "2024-07-31T20:48:08.194Z"
      },
      {
        "duration": 263,
        "start_time": "2024-07-31T20:48:09.090Z"
      },
      {
        "duration": 39,
        "start_time": "2024-07-31T20:48:10.190Z"
      },
      {
        "duration": 15,
        "start_time": "2024-07-31T20:48:10.421Z"
      },
      {
        "duration": 3,
        "start_time": "2024-07-31T20:48:11.253Z"
      },
      {
        "duration": 14,
        "start_time": "2024-07-31T20:48:11.796Z"
      },
      {
        "duration": 14,
        "start_time": "2024-07-31T20:48:12.177Z"
      },
      {
        "duration": 14,
        "start_time": "2024-07-31T20:48:12.374Z"
      },
      {
        "duration": 10,
        "start_time": "2024-07-31T20:48:13.189Z"
      },
      {
        "duration": 33,
        "start_time": "2024-07-31T20:48:13.841Z"
      },
      {
        "duration": 50,
        "start_time": "2024-07-31T20:48:14.290Z"
      },
      {
        "duration": 11,
        "start_time": "2024-07-31T20:48:14.549Z"
      },
      {
        "duration": 74,
        "start_time": "2024-07-31T20:48:15.420Z"
      },
      {
        "duration": 12,
        "start_time": "2024-07-31T20:48:16.028Z"
      },
      {
        "duration": 36,
        "start_time": "2024-07-31T20:48:16.218Z"
      },
      {
        "duration": 31,
        "start_time": "2024-07-31T20:48:16.441Z"
      },
      {
        "duration": 12,
        "start_time": "2024-07-31T20:48:16.695Z"
      },
      {
        "duration": 18,
        "start_time": "2024-07-31T20:48:17.128Z"
      },
      {
        "duration": 10,
        "start_time": "2024-07-31T20:48:17.318Z"
      },
      {
        "duration": 1298,
        "start_time": "2024-07-31T20:48:32.520Z"
      },
      {
        "duration": 270,
        "start_time": "2024-07-31T20:48:33.822Z"
      },
      {
        "duration": 44,
        "start_time": "2024-07-31T20:48:34.852Z"
      },
      {
        "duration": 16,
        "start_time": "2024-07-31T20:48:35.278Z"
      },
      {
        "duration": 3,
        "start_time": "2024-07-31T20:48:36.491Z"
      },
      {
        "duration": 14,
        "start_time": "2024-07-31T20:48:37.178Z"
      },
      {
        "duration": 15,
        "start_time": "2024-07-31T20:48:37.566Z"
      },
      {
        "duration": 13,
        "start_time": "2024-07-31T20:48:37.813Z"
      },
      {
        "duration": 10,
        "start_time": "2024-07-31T20:48:38.583Z"
      },
      {
        "duration": 33,
        "start_time": "2024-07-31T20:48:39.202Z"
      },
      {
        "duration": 51,
        "start_time": "2024-07-31T20:48:39.615Z"
      },
      {
        "duration": 12,
        "start_time": "2024-07-31T20:48:39.853Z"
      },
      {
        "duration": 74,
        "start_time": "2024-07-31T20:48:40.663Z"
      },
      {
        "duration": 13,
        "start_time": "2024-07-31T20:48:41.275Z"
      },
      {
        "duration": 37,
        "start_time": "2024-07-31T20:48:41.528Z"
      },
      {
        "duration": 31,
        "start_time": "2024-07-31T20:48:41.774Z"
      },
      {
        "duration": 12,
        "start_time": "2024-07-31T20:48:42.014Z"
      },
      {
        "duration": 19,
        "start_time": "2024-07-31T20:48:42.392Z"
      },
      {
        "duration": 10,
        "start_time": "2024-07-31T20:48:42.600Z"
      },
      {
        "duration": 52,
        "start_time": "2024-07-31T20:48:43.374Z"
      },
      {
        "duration": 11,
        "start_time": "2024-07-31T20:48:44.082Z"
      },
      {
        "duration": 22,
        "start_time": "2024-07-31T20:48:44.276Z"
      },
      {
        "duration": 22,
        "start_time": "2024-07-31T20:48:44.480Z"
      },
      {
        "duration": 11,
        "start_time": "2024-07-31T20:48:44.701Z"
      },
      {
        "duration": 41,
        "start_time": "2024-07-31T20:48:45.082Z"
      },
      {
        "duration": 11,
        "start_time": "2024-07-31T20:48:45.321Z"
      },
      {
        "duration": 75,
        "start_time": "2024-07-31T20:48:46.120Z"
      },
      {
        "duration": 13,
        "start_time": "2024-07-31T20:48:46.741Z"
      },
      {
        "duration": 36,
        "start_time": "2024-07-31T20:48:46.943Z"
      },
      {
        "duration": 12,
        "start_time": "2024-07-31T20:48:47.103Z"
      },
      {
        "duration": 28,
        "start_time": "2024-07-31T20:48:47.301Z"
      },
      {
        "duration": 13,
        "start_time": "2024-07-31T20:48:47.914Z"
      },
      {
        "duration": 6,
        "start_time": "2024-07-31T20:48:49.738Z"
      },
      {
        "duration": 3,
        "start_time": "2024-07-31T20:48:50.346Z"
      },
      {
        "duration": 3,
        "start_time": "2024-07-31T20:48:50.694Z"
      },
      {
        "duration": 4,
        "start_time": "2024-07-31T20:48:51.067Z"
      },
      {
        "duration": 76,
        "start_time": "2024-07-31T20:48:51.407Z"
      },
      {
        "duration": 12,
        "start_time": "2024-07-31T20:48:51.711Z"
      },
      {
        "duration": 20,
        "start_time": "2024-07-31T20:48:52.040Z"
      },
      {
        "duration": 48,
        "start_time": "2024-07-31T20:48:52.728Z"
      },
      {
        "duration": 13,
        "start_time": "2024-07-31T20:48:53.118Z"
      },
      {
        "duration": 4,
        "start_time": "2024-07-31T20:48:53.428Z"
      },
      {
        "duration": 12,
        "start_time": "2024-07-31T20:48:53.753Z"
      },
      {
        "duration": 7,
        "start_time": "2024-07-31T20:48:54.006Z"
      },
      {
        "duration": 14,
        "start_time": "2024-07-31T20:48:54.426Z"
      },
      {
        "duration": 10,
        "start_time": "2024-07-31T20:48:55.380Z"
      },
      {
        "duration": 23,
        "start_time": "2024-07-31T20:48:55.615Z"
      },
      {
        "duration": 10,
        "start_time": "2024-07-31T20:48:56.061Z"
      },
      {
        "duration": 4,
        "start_time": "2024-07-31T20:48:56.403Z"
      },
      {
        "duration": 6,
        "start_time": "2024-07-31T20:48:56.652Z"
      },
      {
        "duration": 9,
        "start_time": "2024-07-31T20:48:56.877Z"
      },
      {
        "duration": 11,
        "start_time": "2024-07-31T20:48:57.318Z"
      },
      {
        "duration": 19,
        "start_time": "2024-07-31T20:48:57.500Z"
      },
      {
        "duration": 4,
        "start_time": "2024-07-31T20:48:57.708Z"
      },
      {
        "duration": 17,
        "start_time": "2024-07-31T20:48:57.892Z"
      },
      {
        "duration": 9,
        "start_time": "2024-07-31T20:48:58.121Z"
      },
      {
        "duration": 14,
        "start_time": "2024-07-31T20:48:58.324Z"
      },
      {
        "duration": 4,
        "start_time": "2024-07-31T20:48:58.531Z"
      },
      {
        "duration": 4,
        "start_time": "2024-07-31T20:48:58.743Z"
      },
      {
        "duration": 6,
        "start_time": "2024-07-31T20:48:59.005Z"
      },
      {
        "duration": 19,
        "start_time": "2024-07-31T20:48:59.243Z"
      },
      {
        "duration": 3,
        "start_time": "2024-07-31T20:49:01.426Z"
      },
      {
        "duration": 6,
        "start_time": "2024-07-31T20:49:01.703Z"
      },
      {
        "duration": 14,
        "start_time": "2024-07-31T20:49:02.128Z"
      },
      {
        "duration": 14,
        "start_time": "2024-07-31T20:49:02.676Z"
      },
      {
        "duration": 16,
        "start_time": "2024-07-31T20:49:02.929Z"
      },
      {
        "duration": 13,
        "start_time": "2024-07-31T20:49:03.236Z"
      },
      {
        "duration": 14,
        "start_time": "2024-07-31T20:49:03.395Z"
      },
      {
        "duration": 3,
        "start_time": "2024-07-31T20:49:09.070Z"
      },
      {
        "duration": 11,
        "start_time": "2024-07-31T20:49:09.402Z"
      },
      {
        "duration": 21,
        "start_time": "2024-07-31T20:49:09.779Z"
      },
      {
        "duration": 15,
        "start_time": "2024-07-31T20:49:10.228Z"
      },
      {
        "duration": 23,
        "start_time": "2024-07-31T20:49:11.414Z"
      },
      {
        "duration": 3,
        "start_time": "2024-07-31T20:49:13.252Z"
      },
      {
        "duration": 10,
        "start_time": "2024-07-31T20:49:13.569Z"
      },
      {
        "duration": 23,
        "start_time": "2024-07-31T20:49:13.942Z"
      },
      {
        "duration": 6,
        "start_time": "2024-07-31T20:49:19.173Z"
      },
      {
        "duration": 3,
        "start_time": "2024-07-31T20:49:23.965Z"
      },
      {
        "duration": 5,
        "start_time": "2024-07-31T20:49:24.402Z"
      },
      {
        "duration": 46,
        "start_time": "2024-07-31T20:49:26.468Z"
      },
      {
        "duration": 31,
        "start_time": "2024-07-31T20:49:26.713Z"
      },
      {
        "duration": 10,
        "start_time": "2024-07-31T20:49:29.542Z"
      },
      {
        "duration": 3,
        "start_time": "2024-07-31T20:49:32.254Z"
      },
      {
        "duration": 5,
        "start_time": "2024-07-31T20:49:32.819Z"
      },
      {
        "duration": 44,
        "start_time": "2024-07-31T20:49:34.627Z"
      },
      {
        "duration": 28,
        "start_time": "2024-07-31T20:49:35.096Z"
      },
      {
        "duration": 9,
        "start_time": "2024-07-31T20:49:35.522Z"
      },
      {
        "duration": 3,
        "start_time": "2024-07-31T20:49:38.952Z"
      },
      {
        "duration": 4,
        "start_time": "2024-07-31T20:49:39.340Z"
      },
      {
        "duration": 44,
        "start_time": "2024-07-31T20:49:41.947Z"
      },
      {
        "duration": 29,
        "start_time": "2024-07-31T20:49:42.144Z"
      },
      {
        "duration": 9,
        "start_time": "2024-07-31T20:49:42.480Z"
      },
      {
        "duration": 6,
        "start_time": "2024-07-31T20:49:44.877Z"
      },
      {
        "duration": 6,
        "start_time": "2024-07-31T20:49:55.598Z"
      },
      {
        "duration": 65,
        "start_time": "2024-07-31T20:49:56.091Z"
      },
      {
        "duration": 30,
        "start_time": "2024-07-31T20:50:37.055Z"
      },
      {
        "duration": 4,
        "start_time": "2024-07-31T20:56:27.167Z"
      },
      {
        "duration": 4,
        "start_time": "2024-07-31T20:56:43.142Z"
      },
      {
        "duration": 3,
        "start_time": "2024-07-31T20:57:07.449Z"
      },
      {
        "duration": 4,
        "start_time": "2024-07-31T20:57:07.873Z"
      },
      {
        "duration": 4,
        "start_time": "2024-07-31T21:01:10.202Z"
      },
      {
        "duration": 3,
        "start_time": "2024-07-31T21:01:11.013Z"
      },
      {
        "duration": 710,
        "start_time": "2024-07-31T21:03:03.148Z"
      },
      {
        "duration": 4,
        "start_time": "2024-07-31T21:03:38.718Z"
      },
      {
        "duration": 985,
        "start_time": "2024-07-31T21:03:49.204Z"
      },
      {
        "duration": 13,
        "start_time": "2024-07-31T23:48:49.878Z"
      },
      {
        "duration": 311,
        "start_time": "2024-07-31T23:48:54.998Z"
      },
      {
        "duration": 4942,
        "start_time": "2024-07-31T23:49:04.052Z"
      },
      {
        "duration": 361,
        "start_time": "2024-07-31T23:49:08.998Z"
      },
      {
        "duration": 48,
        "start_time": "2024-07-31T23:49:09.362Z"
      },
      {
        "duration": 19,
        "start_time": "2024-07-31T23:49:09.414Z"
      },
      {
        "duration": 3,
        "start_time": "2024-07-31T23:49:10.746Z"
      },
      {
        "duration": 13,
        "start_time": "2024-07-31T23:49:12.090Z"
      },
      {
        "duration": 14,
        "start_time": "2024-07-31T23:49:13.208Z"
      },
      {
        "duration": 14,
        "start_time": "2024-07-31T23:49:13.658Z"
      },
      {
        "duration": 10,
        "start_time": "2024-07-31T23:49:15.346Z"
      },
      {
        "duration": 33,
        "start_time": "2024-07-31T23:49:16.704Z"
      },
      {
        "duration": 57,
        "start_time": "2024-07-31T23:49:17.515Z"
      },
      {
        "duration": 15,
        "start_time": "2024-07-31T23:49:17.732Z"
      },
      {
        "duration": 68,
        "start_time": "2024-07-31T23:49:18.822Z"
      },
      {
        "duration": 12,
        "start_time": "2024-07-31T23:49:19.125Z"
      },
      {
        "duration": 36,
        "start_time": "2024-07-31T23:49:19.315Z"
      },
      {
        "duration": 30,
        "start_time": "2024-07-31T23:49:19.960Z"
      },
      {
        "duration": 13,
        "start_time": "2024-07-31T23:49:19.993Z"
      },
      {
        "duration": 19,
        "start_time": "2024-07-31T23:49:20.361Z"
      },
      {
        "duration": 10,
        "start_time": "2024-07-31T23:49:20.658Z"
      },
      {
        "duration": 54,
        "start_time": "2024-07-31T23:49:21.744Z"
      },
      {
        "duration": 11,
        "start_time": "2024-07-31T23:49:22.579Z"
      },
      {
        "duration": 20,
        "start_time": "2024-07-31T23:49:22.848Z"
      },
      {
        "duration": 22,
        "start_time": "2024-07-31T23:49:23.100Z"
      },
      {
        "duration": 10,
        "start_time": "2024-07-31T23:49:23.321Z"
      },
      {
        "duration": 59,
        "start_time": "2024-07-31T23:49:23.795Z"
      },
      {
        "duration": 18,
        "start_time": "2024-07-31T23:49:24.050Z"
      },
      {
        "duration": 91,
        "start_time": "2024-07-31T23:49:25.023Z"
      },
      {
        "duration": 15,
        "start_time": "2024-07-31T23:49:25.870Z"
      },
      {
        "duration": 36,
        "start_time": "2024-07-31T23:49:26.122Z"
      },
      {
        "duration": 13,
        "start_time": "2024-07-31T23:49:26.396Z"
      },
      {
        "duration": 33,
        "start_time": "2024-07-31T23:49:26.701Z"
      },
      {
        "duration": 14,
        "start_time": "2024-07-31T23:49:26.964Z"
      },
      {
        "duration": 6,
        "start_time": "2024-07-31T23:49:27.770Z"
      },
      {
        "duration": 4,
        "start_time": "2024-07-31T23:49:28.023Z"
      },
      {
        "duration": 3,
        "start_time": "2024-07-31T23:49:28.272Z"
      },
      {
        "duration": 4,
        "start_time": "2024-07-31T23:49:28.545Z"
      },
      {
        "duration": 77,
        "start_time": "2024-07-31T23:49:28.821Z"
      },
      {
        "duration": 12,
        "start_time": "2024-07-31T23:49:29.081Z"
      },
      {
        "duration": 21,
        "start_time": "2024-07-31T23:49:29.307Z"
      },
      {
        "duration": 53,
        "start_time": "2024-07-31T23:49:29.810Z"
      },
      {
        "duration": 19,
        "start_time": "2024-07-31T23:49:30.074Z"
      },
      {
        "duration": 5,
        "start_time": "2024-07-31T23:49:30.364Z"
      },
      {
        "duration": 13,
        "start_time": "2024-07-31T23:49:30.645Z"
      },
      {
        "duration": 6,
        "start_time": "2024-07-31T23:49:30.960Z"
      },
      {
        "duration": 15,
        "start_time": "2024-07-31T23:49:31.261Z"
      },
      {
        "duration": 12,
        "start_time": "2024-07-31T23:49:31.803Z"
      },
      {
        "duration": 23,
        "start_time": "2024-07-31T23:49:32.020Z"
      },
      {
        "duration": 9,
        "start_time": "2024-07-31T23:49:32.238Z"
      },
      {
        "duration": 4,
        "start_time": "2024-07-31T23:49:32.430Z"
      },
      {
        "duration": 6,
        "start_time": "2024-07-31T23:49:32.592Z"
      },
      {
        "duration": 10,
        "start_time": "2024-07-31T23:49:34.046Z"
      },
      {
        "duration": 12,
        "start_time": "2024-07-31T23:49:34.456Z"
      },
      {
        "duration": 19,
        "start_time": "2024-07-31T23:49:34.673Z"
      },
      {
        "duration": 4,
        "start_time": "2024-07-31T23:49:34.882Z"
      },
      {
        "duration": 18,
        "start_time": "2024-07-31T23:49:35.122Z"
      },
      {
        "duration": 9,
        "start_time": "2024-07-31T23:49:35.357Z"
      },
      {
        "duration": 16,
        "start_time": "2024-07-31T23:49:35.534Z"
      },
      {
        "duration": 3,
        "start_time": "2024-07-31T23:49:35.791Z"
      },
      {
        "duration": 3,
        "start_time": "2024-07-31T23:49:36.023Z"
      },
      {
        "duration": 7,
        "start_time": "2024-07-31T23:49:36.244Z"
      },
      {
        "duration": 17,
        "start_time": "2024-07-31T23:49:37.221Z"
      },
      {
        "duration": 3,
        "start_time": "2024-07-31T23:49:37.766Z"
      },
      {
        "duration": 6,
        "start_time": "2024-07-31T23:49:37.984Z"
      },
      {
        "duration": 14,
        "start_time": "2024-07-31T23:49:38.223Z"
      },
      {
        "duration": 17,
        "start_time": "2024-07-31T23:49:38.749Z"
      },
      {
        "duration": 17,
        "start_time": "2024-07-31T23:49:38.970Z"
      },
      {
        "duration": 13,
        "start_time": "2024-07-31T23:49:39.190Z"
      },
      {
        "duration": 16,
        "start_time": "2024-07-31T23:49:39.384Z"
      },
      {
        "duration": 4,
        "start_time": "2024-07-31T23:49:39.987Z"
      },
      {
        "duration": 12,
        "start_time": "2024-07-31T23:49:40.399Z"
      },
      {
        "duration": 18,
        "start_time": "2024-07-31T23:49:40.820Z"
      },
      {
        "duration": 11,
        "start_time": "2024-07-31T23:49:41.299Z"
      },
      {
        "duration": 22,
        "start_time": "2024-07-31T23:49:41.725Z"
      },
      {
        "duration": 3,
        "start_time": "2024-07-31T23:49:42.136Z"
      },
      {
        "duration": 8,
        "start_time": "2024-07-31T23:49:42.569Z"
      },
      {
        "duration": 26,
        "start_time": "2024-07-31T23:49:43.012Z"
      },
      {
        "duration": 6,
        "start_time": "2024-07-31T23:49:45.833Z"
      },
      {
        "duration": 3,
        "start_time": "2024-07-31T23:49:46.714Z"
      },
      {
        "duration": 6,
        "start_time": "2024-07-31T23:49:47.084Z"
      },
      {
        "duration": 51,
        "start_time": "2024-07-31T23:49:47.471Z"
      },
      {
        "duration": 26,
        "start_time": "2024-07-31T23:49:47.859Z"
      },
      {
        "duration": 9,
        "start_time": "2024-07-31T23:49:48.270Z"
      },
      {
        "duration": 3,
        "start_time": "2024-07-31T23:49:49.511Z"
      },
      {
        "duration": 4,
        "start_time": "2024-07-31T23:49:49.959Z"
      },
      {
        "duration": 43,
        "start_time": "2024-07-31T23:49:50.495Z"
      },
      {
        "duration": 32,
        "start_time": "2024-07-31T23:49:51.025Z"
      },
      {
        "duration": 9,
        "start_time": "2024-07-31T23:49:52.862Z"
      },
      {
        "duration": 3,
        "start_time": "2024-07-31T23:49:54.030Z"
      },
      {
        "duration": 7,
        "start_time": "2024-07-31T23:49:54.252Z"
      },
      {
        "duration": 42,
        "start_time": "2024-07-31T23:49:54.409Z"
      },
      {
        "duration": 31,
        "start_time": "2024-07-31T23:49:54.586Z"
      },
      {
        "duration": 11,
        "start_time": "2024-07-31T23:49:54.818Z"
      },
      {
        "duration": 6,
        "start_time": "2024-07-31T23:49:55.418Z"
      },
      {
        "duration": 64,
        "start_time": "2024-07-31T23:49:56.055Z"
      },
      {
        "duration": 30,
        "start_time": "2024-07-31T23:49:56.487Z"
      },
      {
        "duration": 4,
        "start_time": "2024-07-31T23:50:01.480Z"
      },
      {
        "duration": 4,
        "start_time": "2024-07-31T23:50:01.937Z"
      },
      {
        "duration": 875,
        "start_time": "2024-07-31T23:50:02.659Z"
      },
      {
        "duration": 6,
        "start_time": "2024-07-31T23:56:50.815Z"
      },
      {
        "duration": 152,
        "start_time": "2024-07-31T23:57:02.732Z"
      },
      {
        "duration": 148,
        "start_time": "2024-07-31T23:58:58.518Z"
      },
      {
        "duration": 8,
        "start_time": "2024-08-01T00:11:24.071Z"
      },
      {
        "duration": 1793,
        "start_time": "2024-08-01T00:11:35.680Z"
      },
      {
        "duration": 1646,
        "start_time": "2024-08-01T00:12:18.549Z"
      },
      {
        "duration": 3,
        "start_time": "2024-08-01T00:13:20.870Z"
      },
      {
        "duration": 6,
        "start_time": "2024-08-01T00:15:13.142Z"
      },
      {
        "duration": 6,
        "start_time": "2024-08-01T00:15:22.062Z"
      },
      {
        "duration": 5,
        "start_time": "2024-08-01T00:15:27.889Z"
      },
      {
        "duration": 939,
        "start_time": "2024-08-01T00:18:12.809Z"
      },
      {
        "duration": 9,
        "start_time": "2024-08-01T00:18:50.325Z"
      },
      {
        "duration": 9,
        "start_time": "2024-08-01T00:25:35.271Z"
      },
      {
        "duration": 3,
        "start_time": "2024-08-01T00:25:36.711Z"
      },
      {
        "duration": 16,
        "start_time": "2024-08-01T00:26:50.181Z"
      },
      {
        "duration": 12,
        "start_time": "2024-08-01T00:27:13.538Z"
      },
      {
        "duration": 11,
        "start_time": "2024-08-01T00:29:22.415Z"
      },
      {
        "duration": 12,
        "start_time": "2024-08-01T00:29:30.342Z"
      },
      {
        "duration": 6,
        "start_time": "2024-08-01T00:30:44.265Z"
      },
      {
        "duration": 14,
        "start_time": "2024-08-01T00:30:50.660Z"
      },
      {
        "duration": 7,
        "start_time": "2024-08-01T00:34:04.199Z"
      },
      {
        "duration": 14,
        "start_time": "2024-08-01T00:34:51.169Z"
      },
      {
        "duration": 14,
        "start_time": "2024-08-01T00:35:06.779Z"
      },
      {
        "duration": 13,
        "start_time": "2024-08-01T00:35:08.778Z"
      },
      {
        "duration": 13,
        "start_time": "2024-08-01T00:35:25.186Z"
      },
      {
        "duration": 13,
        "start_time": "2024-08-01T00:35:26.941Z"
      },
      {
        "duration": 11,
        "start_time": "2024-08-01T00:42:28.011Z"
      },
      {
        "duration": 13,
        "start_time": "2024-08-01T00:42:40.331Z"
      },
      {
        "duration": 6,
        "start_time": "2024-08-01T00:51:58.317Z"
      },
      {
        "duration": 6,
        "start_time": "2024-08-01T00:54:40.455Z"
      },
      {
        "duration": 4,
        "start_time": "2024-08-01T00:54:43.673Z"
      },
      {
        "duration": 5,
        "start_time": "2024-08-01T00:54:46.321Z"
      },
      {
        "duration": 271,
        "start_time": "2024-08-01T03:19:43.610Z"
      },
      {
        "duration": 574,
        "start_time": "2024-08-01T03:20:04.766Z"
      },
      {
        "duration": 52,
        "start_time": "2024-08-01T03:20:17.600Z"
      },
      {
        "duration": 15,
        "start_time": "2024-08-01T03:20:20.418Z"
      },
      {
        "duration": 16,
        "start_time": "2024-08-01T03:20:21.149Z"
      },
      {
        "duration": 524,
        "start_time": "2024-08-01T03:20:29.165Z"
      },
      {
        "duration": 3,
        "start_time": "2024-08-01T03:21:35.127Z"
      },
      {
        "duration": 61,
        "start_time": "2024-08-01T03:23:10.938Z"
      },
      {
        "duration": 112,
        "start_time": "2024-08-01T03:23:13.404Z"
      },
      {
        "duration": 48,
        "start_time": "2024-08-01T03:24:38.002Z"
      },
      {
        "duration": 4,
        "start_time": "2024-08-01T03:24:38.871Z"
      },
      {
        "duration": 48,
        "start_time": "2024-08-01T03:25:00.482Z"
      },
      {
        "duration": 6,
        "start_time": "2024-08-01T03:25:00.820Z"
      },
      {
        "duration": 10,
        "start_time": "2024-08-01T03:25:01.180Z"
      },
      {
        "duration": 18,
        "start_time": "2024-08-01T03:25:01.531Z"
      },
      {
        "duration": 521,
        "start_time": "2024-08-01T03:25:04.337Z"
      },
      {
        "duration": 418,
        "start_time": "2024-08-01T03:25:23.130Z"
      },
      {
        "duration": 555,
        "start_time": "2024-08-01T03:25:32.446Z"
      },
      {
        "duration": 757,
        "start_time": "2024-08-01T03:25:51.977Z"
      },
      {
        "duration": 588,
        "start_time": "2024-08-01T03:25:57.890Z"
      },
      {
        "duration": 104,
        "start_time": "2024-08-01T03:28:06.965Z"
      },
      {
        "duration": 726,
        "start_time": "2024-08-01T03:28:30.808Z"
      },
      {
        "duration": 681,
        "start_time": "2024-08-01T03:43:15.504Z"
      },
      {
        "duration": 189,
        "start_time": "2024-08-01T03:43:17.215Z"
      },
      {
        "duration": 694,
        "start_time": "2024-08-01T03:43:35.037Z"
      },
      {
        "duration": 15,
        "start_time": "2024-08-01T03:43:42.993Z"
      },
      {
        "duration": 1326,
        "start_time": "2024-08-01T04:11:36.044Z"
      },
      {
        "duration": 296,
        "start_time": "2024-08-01T04:11:37.374Z"
      },
      {
        "duration": 50,
        "start_time": "2024-08-01T04:11:37.673Z"
      },
      {
        "duration": 17,
        "start_time": "2024-08-01T04:11:37.728Z"
      },
      {
        "duration": 4,
        "start_time": "2024-08-01T04:11:37.748Z"
      },
      {
        "duration": 53,
        "start_time": "2024-08-01T04:11:37.755Z"
      },
      {
        "duration": 16,
        "start_time": "2024-08-01T04:11:37.810Z"
      },
      {
        "duration": 15,
        "start_time": "2024-08-01T04:11:37.829Z"
      },
      {
        "duration": 55,
        "start_time": "2024-08-01T04:11:37.847Z"
      },
      {
        "duration": 35,
        "start_time": "2024-08-01T04:11:37.907Z"
      },
      {
        "duration": 78,
        "start_time": "2024-08-01T04:11:37.946Z"
      },
      {
        "duration": 12,
        "start_time": "2024-08-01T04:11:38.027Z"
      },
      {
        "duration": 95,
        "start_time": "2024-08-01T04:11:38.044Z"
      },
      {
        "duration": 12,
        "start_time": "2024-08-01T04:11:40.558Z"
      },
      {
        "duration": 37,
        "start_time": "2024-08-01T04:11:42.202Z"
      },
      {
        "duration": 31,
        "start_time": "2024-08-01T04:11:42.763Z"
      },
      {
        "duration": 14,
        "start_time": "2024-08-01T04:11:43.277Z"
      },
      {
        "duration": 20,
        "start_time": "2024-08-01T04:11:46.062Z"
      },
      {
        "duration": 11,
        "start_time": "2024-08-01T04:11:46.307Z"
      },
      {
        "duration": 55,
        "start_time": "2024-08-01T04:11:50.590Z"
      },
      {
        "duration": 11,
        "start_time": "2024-08-01T04:11:53.096Z"
      },
      {
        "duration": 22,
        "start_time": "2024-08-01T04:11:53.276Z"
      },
      {
        "duration": 23,
        "start_time": "2024-08-01T04:11:53.503Z"
      },
      {
        "duration": 11,
        "start_time": "2024-08-01T04:11:53.799Z"
      },
      {
        "duration": 46,
        "start_time": "2024-08-01T04:11:56.151Z"
      },
      {
        "duration": 12,
        "start_time": "2024-08-01T04:11:56.411Z"
      },
      {
        "duration": 79,
        "start_time": "2024-08-01T04:11:58.691Z"
      },
      {
        "duration": 12,
        "start_time": "2024-08-01T04:12:02.156Z"
      },
      {
        "duration": 38,
        "start_time": "2024-08-01T04:12:02.515Z"
      },
      {
        "duration": 12,
        "start_time": "2024-08-01T04:12:03.030Z"
      },
      {
        "duration": 39,
        "start_time": "2024-08-01T04:12:03.491Z"
      },
      {
        "duration": 13,
        "start_time": "2024-08-01T04:12:06.177Z"
      },
      {
        "duration": 6,
        "start_time": "2024-08-01T04:12:13.768Z"
      },
      {
        "duration": 3,
        "start_time": "2024-08-01T04:12:21.232Z"
      },
      {
        "duration": 997,
        "start_time": "2024-08-01T04:12:22.258Z"
      },
      {
        "duration": 0,
        "start_time": "2024-08-01T04:12:23.258Z"
      },
      {
        "duration": 1,
        "start_time": "2024-08-01T04:12:23.261Z"
      },
      {
        "duration": 92,
        "start_time": "2024-08-01T04:16:20.447Z"
      },
      {
        "duration": 66,
        "start_time": "2024-08-01T04:16:23.265Z"
      },
      {
        "duration": 19,
        "start_time": "2024-08-01T04:16:51.712Z"
      },
      {
        "duration": 76,
        "start_time": "2024-08-01T04:16:55.510Z"
      },
      {
        "duration": 19,
        "start_time": "2024-08-01T04:17:02.844Z"
      },
      {
        "duration": 53,
        "start_time": "2024-08-01T04:17:03.323Z"
      },
      {
        "duration": 11,
        "start_time": "2024-08-01T04:17:09.637Z"
      },
      {
        "duration": 16,
        "start_time": "2024-08-01T04:17:10.711Z"
      },
      {
        "duration": 4,
        "start_time": "2024-08-01T04:17:12.804Z"
      },
      {
        "duration": 4,
        "start_time": "2024-08-01T04:17:13.092Z"
      },
      {
        "duration": 31,
        "start_time": "2024-08-01T04:17:13.469Z"
      },
      {
        "duration": 6,
        "start_time": "2024-08-01T04:17:15.119Z"
      },
      {
        "duration": 13,
        "start_time": "2024-08-01T04:17:15.493Z"
      },
      {
        "duration": 3,
        "start_time": "2024-08-01T04:17:17.917Z"
      },
      {
        "duration": 4,
        "start_time": "2024-08-01T04:17:18.178Z"
      },
      {
        "duration": 20,
        "start_time": "2024-08-01T04:17:18.457Z"
      },
      {
        "duration": 6,
        "start_time": "2024-08-01T04:17:19.788Z"
      },
      {
        "duration": 16,
        "start_time": "2024-08-01T04:17:20.048Z"
      },
      {
        "duration": 3,
        "start_time": "2024-08-01T04:17:21.480Z"
      },
      {
        "duration": 4,
        "start_time": "2024-08-01T04:17:23.025Z"
      },
      {
        "duration": 7,
        "start_time": "2024-08-01T04:17:24.030Z"
      },
      {
        "duration": 19,
        "start_time": "2024-08-01T04:17:24.473Z"
      },
      {
        "duration": 4,
        "start_time": "2024-08-01T04:17:29.941Z"
      },
      {
        "duration": 25,
        "start_time": "2024-08-01T04:17:30.186Z"
      },
      {
        "duration": 35,
        "start_time": "2024-08-01T04:17:30.769Z"
      },
      {
        "duration": 3,
        "start_time": "2024-08-01T04:17:32.309Z"
      },
      {
        "duration": 27,
        "start_time": "2024-08-01T04:17:32.619Z"
      },
      {
        "duration": 3,
        "start_time": "2024-08-01T04:19:28.801Z"
      },
      {
        "duration": 6,
        "start_time": "2024-08-01T04:19:29.180Z"
      },
      {
        "duration": 14,
        "start_time": "2024-08-01T04:19:29.532Z"
      },
      {
        "duration": 810,
        "start_time": "2024-08-01T04:19:29.969Z"
      },
      {
        "duration": 5,
        "start_time": "2024-08-01T04:19:30.820Z"
      },
      {
        "duration": 3,
        "start_time": "2024-08-01T04:23:19.504Z"
      },
      {
        "duration": 30,
        "start_time": "2024-08-01T04:24:35.683Z"
      },
      {
        "duration": 3,
        "start_time": "2024-08-01T04:25:00.139Z"
      },
      {
        "duration": 532,
        "start_time": "2024-08-01T04:25:02.599Z"
      },
      {
        "duration": 729,
        "start_time": "2024-08-01T04:25:05.729Z"
      },
      {
        "duration": 641,
        "start_time": "2024-08-01T04:25:30.740Z"
      },
      {
        "duration": 16,
        "start_time": "2024-08-01T04:25:41.557Z"
      },
      {
        "duration": 3,
        "start_time": "2024-08-01T04:29:30.452Z"
      },
      {
        "duration": 3,
        "start_time": "2024-08-01T04:29:30.765Z"
      },
      {
        "duration": 1739,
        "start_time": "2024-08-01T04:29:31.145Z"
      },
      {
        "duration": 4,
        "start_time": "2024-08-01T04:30:38.096Z"
      },
      {
        "duration": 6,
        "start_time": "2024-08-01T04:30:38.547Z"
      },
      {
        "duration": 48,
        "start_time": "2024-08-01T04:30:39.271Z"
      },
      {
        "duration": 27,
        "start_time": "2024-08-01T04:30:39.758Z"
      },
      {
        "duration": 11,
        "start_time": "2024-08-01T04:30:40.471Z"
      },
      {
        "duration": 3,
        "start_time": "2024-08-01T04:30:41.593Z"
      },
      {
        "duration": 7,
        "start_time": "2024-08-01T04:30:42.105Z"
      },
      {
        "duration": 722,
        "start_time": "2024-08-01T04:30:43.118Z"
      },
      {
        "duration": 0,
        "start_time": "2024-08-01T04:30:43.843Z"
      },
      {
        "duration": 26,
        "start_time": "2024-08-01T04:31:13.953Z"
      },
      {
        "duration": 6,
        "start_time": "2024-08-01T04:31:29.274Z"
      },
      {
        "duration": 264,
        "start_time": "2024-08-01T04:31:35.801Z"
      },
      {
        "duration": 46,
        "start_time": "2024-08-01T04:31:43.404Z"
      },
      {
        "duration": 10,
        "start_time": "2024-08-01T04:31:44.164Z"
      },
      {
        "duration": 10,
        "start_time": "2024-08-01T04:32:31.426Z"
      },
      {
        "duration": 9,
        "start_time": "2024-08-01T04:32:35.642Z"
      },
      {
        "duration": 3,
        "start_time": "2024-08-01T04:33:59.776Z"
      },
      {
        "duration": 5,
        "start_time": "2024-08-01T04:34:01.617Z"
      },
      {
        "duration": 46,
        "start_time": "2024-08-01T04:34:03.868Z"
      },
      {
        "duration": 30,
        "start_time": "2024-08-01T04:34:04.729Z"
      },
      {
        "duration": 10,
        "start_time": "2024-08-01T04:34:05.166Z"
      },
      {
        "duration": 3,
        "start_time": "2024-08-01T04:35:53.468Z"
      },
      {
        "duration": 6,
        "start_time": "2024-08-01T04:35:54.606Z"
      },
      {
        "duration": 70,
        "start_time": "2024-08-01T04:35:55.768Z"
      },
      {
        "duration": 34,
        "start_time": "2024-08-01T04:35:56.581Z"
      },
      {
        "duration": 3,
        "start_time": "2024-08-01T04:36:24.569Z"
      },
      {
        "duration": 4,
        "start_time": "2024-08-01T04:36:24.945Z"
      },
      {
        "duration": 14,
        "start_time": "2024-08-01T04:36:25.494Z"
      },
      {
        "duration": 10,
        "start_time": "2024-08-01T04:37:20.532Z"
      },
      {
        "duration": 15,
        "start_time": "2024-08-01T04:38:09.617Z"
      },
      {
        "duration": 22,
        "start_time": "2024-08-01T04:40:06.804Z"
      },
      {
        "duration": 21,
        "start_time": "2024-08-01T04:40:46.419Z"
      },
      {
        "duration": 28,
        "start_time": "2024-08-01T04:42:13.947Z"
      },
      {
        "duration": 680,
        "start_time": "2024-08-01T04:42:29.765Z"
      },
      {
        "duration": 6,
        "start_time": "2024-08-01T04:44:50.401Z"
      },
      {
        "duration": 23,
        "start_time": "2024-08-01T04:45:01.648Z"
      },
      {
        "duration": 21,
        "start_time": "2024-08-01T04:45:09.793Z"
      },
      {
        "duration": 263,
        "start_time": "2024-08-01T04:46:14.085Z"
      },
      {
        "duration": 22,
        "start_time": "2024-08-01T04:46:24.638Z"
      },
      {
        "duration": 4,
        "start_time": "2024-08-01T04:46:32.289Z"
      },
      {
        "duration": 7,
        "start_time": "2024-08-01T04:46:38.266Z"
      },
      {
        "duration": 223,
        "start_time": "2024-08-01T04:49:34.162Z"
      },
      {
        "duration": 253,
        "start_time": "2024-08-01T04:49:43.269Z"
      },
      {
        "duration": 9,
        "start_time": "2024-08-01T04:49:47.382Z"
      },
      {
        "duration": 224,
        "start_time": "2024-08-01T04:49:50.068Z"
      },
      {
        "duration": 33,
        "start_time": "2024-08-01T04:52:19.738Z"
      },
      {
        "duration": 340,
        "start_time": "2024-08-01T04:52:25.882Z"
      },
      {
        "duration": 323,
        "start_time": "2024-08-01T04:52:32.684Z"
      },
      {
        "duration": 313,
        "start_time": "2024-08-01T04:55:43.959Z"
      },
      {
        "duration": 34,
        "start_time": "2024-08-01T04:55:52.767Z"
      },
      {
        "duration": 346,
        "start_time": "2024-08-01T04:55:58.949Z"
      },
      {
        "duration": 515,
        "start_time": "2024-08-01T04:58:48.674Z"
      },
      {
        "duration": 870,
        "start_time": "2024-08-01T04:59:05.274Z"
      },
      {
        "duration": 435,
        "start_time": "2024-08-01T04:59:19.637Z"
      },
      {
        "duration": 196,
        "start_time": "2024-08-01T05:01:26.592Z"
      },
      {
        "duration": 457,
        "start_time": "2024-08-01T05:02:15.415Z"
      },
      {
        "duration": 193,
        "start_time": "2024-08-01T05:02:25.588Z"
      },
      {
        "duration": 200,
        "start_time": "2024-08-01T05:03:39.965Z"
      },
      {
        "duration": 193,
        "start_time": "2024-08-01T05:03:50.508Z"
      },
      {
        "duration": 11,
        "start_time": "2024-08-01T05:05:25.167Z"
      },
      {
        "duration": 16,
        "start_time": "2024-08-01T05:05:49.474Z"
      },
      {
        "duration": 15,
        "start_time": "2024-08-01T05:06:31.793Z"
      },
      {
        "duration": 6,
        "start_time": "2024-08-01T05:08:04.805Z"
      },
      {
        "duration": 22,
        "start_time": "2024-08-01T05:08:27.708Z"
      },
      {
        "duration": 15,
        "start_time": "2024-08-01T05:08:33.609Z"
      },
      {
        "duration": 15,
        "start_time": "2024-08-01T05:10:56.158Z"
      },
      {
        "duration": 10,
        "start_time": "2024-08-01T05:11:10.370Z"
      },
      {
        "duration": 14,
        "start_time": "2024-08-01T05:11:16.482Z"
      },
      {
        "duration": 19,
        "start_time": "2024-08-01T05:11:28.909Z"
      },
      {
        "duration": 15,
        "start_time": "2024-08-01T05:11:53.788Z"
      },
      {
        "duration": 196,
        "start_time": "2024-08-01T05:13:16.621Z"
      },
      {
        "duration": 208,
        "start_time": "2024-08-01T05:13:34.337Z"
      },
      {
        "duration": 220,
        "start_time": "2024-08-01T05:13:38.808Z"
      },
      {
        "duration": 381,
        "start_time": "2024-08-01T05:14:22.767Z"
      },
      {
        "duration": 374,
        "start_time": "2024-08-01T05:15:46.211Z"
      },
      {
        "duration": 379,
        "start_time": "2024-08-01T05:16:49.262Z"
      },
      {
        "duration": 374,
        "start_time": "2024-08-01T05:18:01.812Z"
      },
      {
        "duration": 377,
        "start_time": "2024-08-01T05:18:22.210Z"
      },
      {
        "duration": 554,
        "start_time": "2024-08-01T05:19:18.537Z"
      },
      {
        "duration": 41,
        "start_time": "2024-08-01T05:19:30.263Z"
      },
      {
        "duration": 398,
        "start_time": "2024-08-01T05:19:34.290Z"
      },
      {
        "duration": 419,
        "start_time": "2024-08-01T05:20:43.826Z"
      },
      {
        "duration": 434,
        "start_time": "2024-08-01T05:20:56.399Z"
      },
      {
        "duration": 423,
        "start_time": "2024-08-01T05:21:01.478Z"
      },
      {
        "duration": 411,
        "start_time": "2024-08-01T05:21:06.539Z"
      },
      {
        "duration": 383,
        "start_time": "2024-08-01T05:21:17.493Z"
      },
      {
        "duration": 394,
        "start_time": "2024-08-01T05:23:19.147Z"
      },
      {
        "duration": 384,
        "start_time": "2024-08-01T05:23:33.291Z"
      },
      {
        "duration": 391,
        "start_time": "2024-08-01T05:23:42.853Z"
      },
      {
        "duration": 386,
        "start_time": "2024-08-01T05:24:01.643Z"
      },
      {
        "duration": 402,
        "start_time": "2024-08-01T05:24:06.007Z"
      },
      {
        "duration": 393,
        "start_time": "2024-08-01T05:24:12.991Z"
      },
      {
        "duration": 399,
        "start_time": "2024-08-01T05:24:19.129Z"
      },
      {
        "duration": 654,
        "start_time": "2024-08-01T05:24:27.374Z"
      },
      {
        "duration": 168,
        "start_time": "2024-08-01T05:34:17.184Z"
      },
      {
        "duration": 7,
        "start_time": "2024-08-01T05:34:43.599Z"
      },
      {
        "duration": 6,
        "start_time": "2024-08-01T05:35:01.501Z"
      },
      {
        "duration": 7,
        "start_time": "2024-08-01T05:35:01.861Z"
      },
      {
        "duration": 6,
        "start_time": "2024-08-01T05:35:34.697Z"
      },
      {
        "duration": 6,
        "start_time": "2024-08-01T05:35:34.923Z"
      },
      {
        "duration": 6,
        "start_time": "2024-08-01T05:35:35.337Z"
      },
      {
        "duration": 5,
        "start_time": "2024-08-01T05:35:37.898Z"
      },
      {
        "duration": 15,
        "start_time": "2024-08-01T05:36:16.481Z"
      },
      {
        "duration": 16,
        "start_time": "2024-08-01T05:36:26.927Z"
      },
      {
        "duration": 3,
        "start_time": "2024-08-01T05:36:44.676Z"
      },
      {
        "duration": 4,
        "start_time": "2024-08-01T05:36:44.990Z"
      },
      {
        "duration": 15,
        "start_time": "2024-08-01T05:36:45.565Z"
      },
      {
        "duration": 17,
        "start_time": "2024-08-01T05:36:46.100Z"
      },
      {
        "duration": 7,
        "start_time": "2024-08-01T05:36:48.667Z"
      },
      {
        "duration": 4,
        "start_time": "2024-08-01T05:36:49.075Z"
      },
      {
        "duration": 5,
        "start_time": "2024-08-01T05:36:51.824Z"
      },
      {
        "duration": 6,
        "start_time": "2024-08-01T05:36:52.575Z"
      },
      {
        "duration": 7,
        "start_time": "2024-08-01T05:38:24.927Z"
      },
      {
        "duration": 8,
        "start_time": "2024-08-01T05:38:25.253Z"
      },
      {
        "duration": 6,
        "start_time": "2024-08-01T05:38:25.718Z"
      },
      {
        "duration": 5,
        "start_time": "2024-08-01T05:38:48.077Z"
      },
      {
        "duration": 95,
        "start_time": "2024-08-01T05:40:33.778Z"
      },
      {
        "duration": 19,
        "start_time": "2024-08-01T05:41:13.918Z"
      },
      {
        "duration": 6,
        "start_time": "2024-08-01T05:45:49.106Z"
      },
      {
        "duration": 12,
        "start_time": "2024-08-01T05:53:16.250Z"
      },
      {
        "duration": 21,
        "start_time": "2024-08-01T06:06:20.222Z"
      },
      {
        "duration": 18,
        "start_time": "2024-08-01T06:06:45.047Z"
      },
      {
        "duration": 20,
        "start_time": "2024-08-01T06:06:59.537Z"
      },
      {
        "duration": 21,
        "start_time": "2024-08-01T06:07:45.480Z"
      },
      {
        "duration": 1344,
        "start_time": "2024-08-01T06:18:30.816Z"
      },
      {
        "duration": 281,
        "start_time": "2024-08-01T06:18:32.163Z"
      },
      {
        "duration": 45,
        "start_time": "2024-08-01T06:18:32.447Z"
      },
      {
        "duration": 17,
        "start_time": "2024-08-01T06:18:32.502Z"
      },
      {
        "duration": 4,
        "start_time": "2024-08-01T06:18:32.525Z"
      },
      {
        "duration": 14,
        "start_time": "2024-08-01T06:18:32.534Z"
      },
      {
        "duration": 56,
        "start_time": "2024-08-01T06:18:32.551Z"
      },
      {
        "duration": 14,
        "start_time": "2024-08-01T06:18:32.611Z"
      },
      {
        "duration": 10,
        "start_time": "2024-08-01T06:18:32.628Z"
      },
      {
        "duration": 73,
        "start_time": "2024-08-01T06:18:32.641Z"
      },
      {
        "duration": 50,
        "start_time": "2024-08-01T06:18:32.717Z"
      },
      {
        "duration": 37,
        "start_time": "2024-08-01T06:18:32.770Z"
      },
      {
        "duration": 98,
        "start_time": "2024-08-01T06:18:32.810Z"
      },
      {
        "duration": 13,
        "start_time": "2024-08-01T06:18:32.915Z"
      },
      {
        "duration": 39,
        "start_time": "2024-08-01T06:18:32.931Z"
      },
      {
        "duration": 30,
        "start_time": "2024-08-01T06:18:33.001Z"
      },
      {
        "duration": 13,
        "start_time": "2024-08-01T06:18:33.034Z"
      },
      {
        "duration": 50,
        "start_time": "2024-08-01T06:18:33.052Z"
      },
      {
        "duration": 11,
        "start_time": "2024-08-01T06:18:33.106Z"
      },
      {
        "duration": 83,
        "start_time": "2024-08-01T06:18:33.120Z"
      },
      {
        "duration": 11,
        "start_time": "2024-08-01T06:18:33.206Z"
      },
      {
        "duration": 20,
        "start_time": "2024-08-01T06:18:33.220Z"
      },
      {
        "duration": 59,
        "start_time": "2024-08-01T06:18:33.243Z"
      },
      {
        "duration": 13,
        "start_time": "2024-08-01T06:18:33.304Z"
      },
      {
        "duration": 43,
        "start_time": "2024-08-01T06:18:33.320Z"
      },
      {
        "duration": 45,
        "start_time": "2024-08-01T06:18:33.366Z"
      },
      {
        "duration": 102,
        "start_time": "2024-08-01T06:18:33.416Z"
      },
      {
        "duration": 14,
        "start_time": "2024-08-01T06:18:33.521Z"
      },
      {
        "duration": 63,
        "start_time": "2024-08-01T06:18:33.538Z"
      },
      {
        "duration": 12,
        "start_time": "2024-08-01T06:18:33.604Z"
      },
      {
        "duration": 28,
        "start_time": "2024-08-01T06:18:33.619Z"
      },
      {
        "duration": 53,
        "start_time": "2024-08-01T06:18:33.649Z"
      },
      {
        "duration": 6,
        "start_time": "2024-08-01T06:18:33.705Z"
      },
      {
        "duration": 5,
        "start_time": "2024-08-01T06:18:33.713Z"
      },
      {
        "duration": 6,
        "start_time": "2024-08-01T06:18:33.722Z"
      },
      {
        "duration": 16,
        "start_time": "2024-08-01T06:18:33.731Z"
      },
      {
        "duration": 50,
        "start_time": "2024-08-01T06:18:33.750Z"
      },
      {
        "duration": 96,
        "start_time": "2024-08-01T06:18:33.805Z"
      },
      {
        "duration": 24,
        "start_time": "2024-08-01T06:18:33.905Z"
      },
      {
        "duration": 84,
        "start_time": "2024-08-01T06:18:33.933Z"
      },
      {
        "duration": 13,
        "start_time": "2024-08-01T06:18:34.029Z"
      },
      {
        "duration": 16,
        "start_time": "2024-08-01T06:18:34.045Z"
      },
      {
        "duration": 4,
        "start_time": "2024-08-01T06:18:34.064Z"
      },
      {
        "duration": 4,
        "start_time": "2024-08-01T06:18:34.101Z"
      },
      {
        "duration": 31,
        "start_time": "2024-08-01T06:18:34.108Z"
      },
      {
        "duration": 7,
        "start_time": "2024-08-01T06:18:34.142Z"
      },
      {
        "duration": 58,
        "start_time": "2024-08-01T06:18:34.152Z"
      },
      {
        "duration": 4,
        "start_time": "2024-08-01T06:18:34.213Z"
      },
      {
        "duration": 4,
        "start_time": "2024-08-01T06:18:34.221Z"
      },
      {
        "duration": 20,
        "start_time": "2024-08-01T06:18:34.229Z"
      },
      {
        "duration": 50,
        "start_time": "2024-08-01T06:18:34.252Z"
      },
      {
        "duration": 15,
        "start_time": "2024-08-01T06:18:34.305Z"
      },
      {
        "duration": 3,
        "start_time": "2024-08-01T06:18:34.323Z"
      },
      {
        "duration": 4,
        "start_time": "2024-08-01T06:18:34.329Z"
      },
      {
        "duration": 7,
        "start_time": "2024-08-01T06:18:34.336Z"
      },
      {
        "duration": 57,
        "start_time": "2024-08-01T06:18:34.346Z"
      },
      {
        "duration": 4,
        "start_time": "2024-08-01T06:18:34.406Z"
      },
      {
        "duration": 26,
        "start_time": "2024-08-01T06:18:34.413Z"
      },
      {
        "duration": 12,
        "start_time": "2024-08-01T06:18:34.442Z"
      },
      {
        "duration": 46,
        "start_time": "2024-08-01T06:18:34.457Z"
      },
      {
        "duration": 32,
        "start_time": "2024-08-01T06:18:34.506Z"
      },
      {
        "duration": 4,
        "start_time": "2024-08-01T06:18:34.541Z"
      },
      {
        "duration": 5,
        "start_time": "2024-08-01T06:18:34.548Z"
      },
      {
        "duration": 49,
        "start_time": "2024-08-01T06:18:34.556Z"
      },
      {
        "duration": 46,
        "start_time": "2024-08-01T06:18:34.608Z"
      },
      {
        "duration": 52,
        "start_time": "2024-08-01T06:18:34.657Z"
      },
      {
        "duration": 12,
        "start_time": "2024-08-01T06:18:34.712Z"
      },
      {
        "duration": 4,
        "start_time": "2024-08-01T06:18:34.727Z"
      },
      {
        "duration": 6,
        "start_time": "2024-08-01T06:18:34.735Z"
      },
      {
        "duration": 71,
        "start_time": "2024-08-01T06:18:34.744Z"
      },
      {
        "duration": 45,
        "start_time": "2024-08-01T06:18:34.818Z"
      },
      {
        "duration": 36,
        "start_time": "2024-08-01T06:18:34.866Z"
      },
      {
        "duration": 4,
        "start_time": "2024-08-01T06:18:34.905Z"
      },
      {
        "duration": 6,
        "start_time": "2024-08-01T06:18:34.912Z"
      },
      {
        "duration": 81,
        "start_time": "2024-08-01T06:18:34.921Z"
      },
      {
        "duration": 36,
        "start_time": "2024-08-01T06:18:35.005Z"
      },
      {
        "duration": 12,
        "start_time": "2024-08-01T06:18:35.044Z"
      },
      {
        "duration": 5,
        "start_time": "2024-08-01T06:18:35.059Z"
      },
      {
        "duration": 39,
        "start_time": "2024-08-01T06:18:35.067Z"
      },
      {
        "duration": 66,
        "start_time": "2024-08-01T06:18:35.110Z"
      },
      {
        "duration": 51,
        "start_time": "2024-08-01T06:18:35.179Z"
      },
      {
        "duration": 4,
        "start_time": "2024-08-01T06:18:35.237Z"
      },
      {
        "duration": 587,
        "start_time": "2024-08-01T06:18:35.244Z"
      },
      {
        "duration": 576,
        "start_time": "2024-08-01T06:18:35.834Z"
      },
      {
        "duration": 0,
        "start_time": "2024-08-01T06:18:36.413Z"
      },
      {
        "duration": 0,
        "start_time": "2024-08-01T06:18:36.415Z"
      },
      {
        "duration": 0,
        "start_time": "2024-08-01T06:18:36.419Z"
      },
      {
        "duration": 0,
        "start_time": "2024-08-01T06:18:36.420Z"
      },
      {
        "duration": 0,
        "start_time": "2024-08-01T06:18:36.424Z"
      },
      {
        "duration": 0,
        "start_time": "2024-08-01T06:18:36.426Z"
      },
      {
        "duration": 0,
        "start_time": "2024-08-01T06:18:36.428Z"
      },
      {
        "duration": 0,
        "start_time": "2024-08-01T06:18:36.431Z"
      },
      {
        "duration": 0,
        "start_time": "2024-08-01T06:18:36.433Z"
      },
      {
        "duration": 0,
        "start_time": "2024-08-01T06:18:36.436Z"
      },
      {
        "duration": 0,
        "start_time": "2024-08-01T06:18:36.438Z"
      },
      {
        "duration": 0,
        "start_time": "2024-08-01T06:18:36.444Z"
      },
      {
        "duration": 0,
        "start_time": "2024-08-01T06:18:36.446Z"
      },
      {
        "duration": 0,
        "start_time": "2024-08-01T06:18:36.502Z"
      },
      {
        "duration": 0,
        "start_time": "2024-08-01T06:18:36.504Z"
      },
      {
        "duration": 0,
        "start_time": "2024-08-01T06:18:36.507Z"
      },
      {
        "duration": 0,
        "start_time": "2024-08-01T06:18:36.509Z"
      },
      {
        "duration": 0,
        "start_time": "2024-08-01T06:18:36.510Z"
      },
      {
        "duration": 0,
        "start_time": "2024-08-01T06:18:36.512Z"
      },
      {
        "duration": 0,
        "start_time": "2024-08-01T06:18:36.515Z"
      },
      {
        "duration": 0,
        "start_time": "2024-08-01T06:18:36.517Z"
      },
      {
        "duration": 0,
        "start_time": "2024-08-01T06:18:36.518Z"
      },
      {
        "duration": 388,
        "start_time": "2024-08-01T06:19:01.245Z"
      },
      {
        "duration": 1313,
        "start_time": "2024-08-01T06:19:10.569Z"
      },
      {
        "duration": 279,
        "start_time": "2024-08-01T06:19:11.886Z"
      },
      {
        "duration": 49,
        "start_time": "2024-08-01T06:19:12.168Z"
      },
      {
        "duration": 16,
        "start_time": "2024-08-01T06:19:12.221Z"
      },
      {
        "duration": 3,
        "start_time": "2024-08-01T06:19:12.241Z"
      },
      {
        "duration": 53,
        "start_time": "2024-08-01T06:19:12.248Z"
      },
      {
        "duration": 14,
        "start_time": "2024-08-01T06:19:12.304Z"
      },
      {
        "duration": 14,
        "start_time": "2024-08-01T06:19:12.322Z"
      },
      {
        "duration": 11,
        "start_time": "2024-08-01T06:19:12.339Z"
      },
      {
        "duration": 72,
        "start_time": "2024-08-01T06:19:12.355Z"
      },
      {
        "duration": 49,
        "start_time": "2024-08-01T06:19:12.430Z"
      },
      {
        "duration": 11,
        "start_time": "2024-08-01T06:19:12.503Z"
      },
      {
        "duration": 98,
        "start_time": "2024-08-01T06:19:12.518Z"
      },
      {
        "duration": 17,
        "start_time": "2024-08-01T06:19:12.619Z"
      },
      {
        "duration": 62,
        "start_time": "2024-08-01T06:19:12.642Z"
      },
      {
        "duration": 31,
        "start_time": "2024-08-01T06:19:12.707Z"
      },
      {
        "duration": 12,
        "start_time": "2024-08-01T06:19:12.741Z"
      },
      {
        "duration": 56,
        "start_time": "2024-08-01T06:19:12.756Z"
      },
      {
        "duration": 10,
        "start_time": "2024-08-01T06:19:12.815Z"
      },
      {
        "duration": 77,
        "start_time": "2024-08-01T06:19:12.828Z"
      },
      {
        "duration": 11,
        "start_time": "2024-08-01T06:19:12.908Z"
      },
      {
        "duration": 26,
        "start_time": "2024-08-01T06:19:12.923Z"
      },
      {
        "duration": 49,
        "start_time": "2024-08-01T06:19:12.952Z"
      },
      {
        "duration": 11,
        "start_time": "2024-08-01T06:19:13.005Z"
      },
      {
        "duration": 43,
        "start_time": "2024-08-01T06:19:13.019Z"
      },
      {
        "duration": 44,
        "start_time": "2024-08-01T06:19:13.065Z"
      },
      {
        "duration": 96,
        "start_time": "2024-08-01T06:19:13.112Z"
      },
      {
        "duration": 12,
        "start_time": "2024-08-01T06:19:13.218Z"
      },
      {
        "duration": 37,
        "start_time": "2024-08-01T06:19:13.233Z"
      },
      {
        "duration": 38,
        "start_time": "2024-08-01T06:19:13.273Z"
      },
      {
        "duration": 28,
        "start_time": "2024-08-01T06:19:13.314Z"
      },
      {
        "duration": 15,
        "start_time": "2024-08-01T06:19:13.344Z"
      },
      {
        "duration": 42,
        "start_time": "2024-08-01T06:19:13.362Z"
      },
      {
        "duration": 4,
        "start_time": "2024-08-01T06:19:13.407Z"
      },
      {
        "duration": 6,
        "start_time": "2024-08-01T06:19:13.415Z"
      },
      {
        "duration": 14,
        "start_time": "2024-08-01T06:19:13.424Z"
      },
      {
        "duration": 4,
        "start_time": "2024-08-01T06:19:13.441Z"
      },
      {
        "duration": 125,
        "start_time": "2024-08-01T06:19:13.448Z"
      },
      {
        "duration": 39,
        "start_time": "2024-08-01T06:19:13.576Z"
      },
      {
        "duration": 84,
        "start_time": "2024-08-01T06:19:13.618Z"
      },
      {
        "duration": 12,
        "start_time": "2024-08-01T06:19:13.706Z"
      },
      {
        "duration": 18,
        "start_time": "2024-08-01T06:19:13.722Z"
      },
      {
        "duration": 4,
        "start_time": "2024-08-01T06:19:13.744Z"
      },
      {
        "duration": 49,
        "start_time": "2024-08-01T06:19:13.751Z"
      },
      {
        "duration": 31,
        "start_time": "2024-08-01T06:19:13.804Z"
      },
      {
        "duration": 7,
        "start_time": "2024-08-01T06:19:13.838Z"
      },
      {
        "duration": 13,
        "start_time": "2024-08-01T06:19:13.849Z"
      },
      {
        "duration": 3,
        "start_time": "2024-08-01T06:19:13.901Z"
      },
      {
        "duration": 3,
        "start_time": "2024-08-01T06:19:13.908Z"
      },
      {
        "duration": 20,
        "start_time": "2024-08-01T06:19:13.914Z"
      },
      {
        "duration": 7,
        "start_time": "2024-08-01T06:19:13.936Z"
      },
      {
        "duration": 57,
        "start_time": "2024-08-01T06:19:13.946Z"
      },
      {
        "duration": 4,
        "start_time": "2024-08-01T06:19:14.006Z"
      },
      {
        "duration": 4,
        "start_time": "2024-08-01T06:19:14.013Z"
      },
      {
        "duration": 7,
        "start_time": "2024-08-01T06:19:14.021Z"
      },
      {
        "duration": 19,
        "start_time": "2024-08-01T06:19:14.031Z"
      },
      {
        "duration": 49,
        "start_time": "2024-08-01T06:19:14.054Z"
      },
      {
        "duration": 26,
        "start_time": "2024-08-01T06:19:14.107Z"
      },
      {
        "duration": 13,
        "start_time": "2024-08-01T06:19:14.136Z"
      },
      {
        "duration": 4,
        "start_time": "2024-08-01T06:19:14.152Z"
      },
      {
        "duration": 28,
        "start_time": "2024-08-01T06:19:14.203Z"
      },
      {
        "duration": 4,
        "start_time": "2024-08-01T06:19:14.234Z"
      },
      {
        "duration": 4,
        "start_time": "2024-08-01T06:19:14.241Z"
      },
      {
        "duration": 5,
        "start_time": "2024-08-01T06:19:14.248Z"
      },
      {
        "duration": 89,
        "start_time": "2024-08-01T06:19:14.256Z"
      },
      {
        "duration": 27,
        "start_time": "2024-08-01T06:19:14.347Z"
      },
      {
        "duration": 30,
        "start_time": "2024-08-01T06:19:14.377Z"
      },
      {
        "duration": 4,
        "start_time": "2024-08-01T06:19:14.410Z"
      },
      {
        "duration": 5,
        "start_time": "2024-08-01T06:19:14.418Z"
      },
      {
        "duration": 27,
        "start_time": "2024-08-01T06:19:14.427Z"
      },
      {
        "duration": 86,
        "start_time": "2024-08-01T06:19:14.457Z"
      },
      {
        "duration": 11,
        "start_time": "2024-08-01T06:19:14.546Z"
      },
      {
        "duration": 4,
        "start_time": "2024-08-01T06:19:14.561Z"
      },
      {
        "duration": 6,
        "start_time": "2024-08-01T06:19:14.603Z"
      },
      {
        "duration": 46,
        "start_time": "2024-08-01T06:19:14.613Z"
      },
      {
        "duration": 65,
        "start_time": "2024-08-01T06:19:14.662Z"
      },
      {
        "duration": 13,
        "start_time": "2024-08-01T06:19:14.731Z"
      },
      {
        "duration": 4,
        "start_time": "2024-08-01T06:19:14.746Z"
      },
      {
        "duration": 48,
        "start_time": "2024-08-01T06:19:14.754Z"
      },
      {
        "duration": 67,
        "start_time": "2024-08-01T06:19:14.805Z"
      },
      {
        "duration": 43,
        "start_time": "2024-08-01T06:19:14.875Z"
      },
      {
        "duration": 4,
        "start_time": "2024-08-01T06:19:14.931Z"
      },
      {
        "duration": 554,
        "start_time": "2024-08-01T06:19:14.938Z"
      },
      {
        "duration": 473,
        "start_time": "2024-08-01T06:19:15.503Z"
      },
      {
        "duration": 34,
        "start_time": "2024-08-01T06:19:15.980Z"
      },
      {
        "duration": 224,
        "start_time": "2024-08-01T06:19:16.017Z"
      },
      {
        "duration": 439,
        "start_time": "2024-08-01T06:19:16.244Z"
      },
      {
        "duration": 0,
        "start_time": "2024-08-01T06:19:16.686Z"
      },
      {
        "duration": 0,
        "start_time": "2024-08-01T06:19:16.689Z"
      },
      {
        "duration": 0,
        "start_time": "2024-08-01T06:19:16.702Z"
      },
      {
        "duration": 0,
        "start_time": "2024-08-01T06:19:16.705Z"
      },
      {
        "duration": 0,
        "start_time": "2024-08-01T06:19:16.711Z"
      },
      {
        "duration": 0,
        "start_time": "2024-08-01T06:19:16.716Z"
      },
      {
        "duration": 0,
        "start_time": "2024-08-01T06:19:16.718Z"
      },
      {
        "duration": 0,
        "start_time": "2024-08-01T06:19:16.722Z"
      },
      {
        "duration": 0,
        "start_time": "2024-08-01T06:19:16.724Z"
      },
      {
        "duration": 0,
        "start_time": "2024-08-01T06:19:16.726Z"
      },
      {
        "duration": 0,
        "start_time": "2024-08-01T06:19:16.729Z"
      },
      {
        "duration": 0,
        "start_time": "2024-08-01T06:19:16.731Z"
      },
      {
        "duration": 0,
        "start_time": "2024-08-01T06:19:16.734Z"
      },
      {
        "duration": 0,
        "start_time": "2024-08-01T06:19:16.736Z"
      },
      {
        "duration": 0,
        "start_time": "2024-08-01T06:19:16.739Z"
      },
      {
        "duration": 0,
        "start_time": "2024-08-01T06:19:16.742Z"
      },
      {
        "duration": 0,
        "start_time": "2024-08-01T06:19:16.745Z"
      },
      {
        "duration": 0,
        "start_time": "2024-08-01T06:19:16.801Z"
      },
      {
        "duration": 0,
        "start_time": "2024-08-01T06:19:16.803Z"
      },
      {
        "duration": 1328,
        "start_time": "2024-08-01T06:19:42.544Z"
      },
      {
        "duration": 291,
        "start_time": "2024-08-01T06:19:43.876Z"
      },
      {
        "duration": 51,
        "start_time": "2024-08-01T06:19:44.171Z"
      },
      {
        "duration": 15,
        "start_time": "2024-08-01T06:19:44.227Z"
      },
      {
        "duration": 4,
        "start_time": "2024-08-01T06:19:44.245Z"
      },
      {
        "duration": 15,
        "start_time": "2024-08-01T06:19:44.252Z"
      },
      {
        "duration": 15,
        "start_time": "2024-08-01T06:19:44.303Z"
      },
      {
        "duration": 15,
        "start_time": "2024-08-01T06:19:44.321Z"
      },
      {
        "duration": 11,
        "start_time": "2024-08-01T06:19:44.340Z"
      },
      {
        "duration": 35,
        "start_time": "2024-08-01T06:19:44.401Z"
      },
      {
        "duration": 70,
        "start_time": "2024-08-01T06:19:44.440Z"
      },
      {
        "duration": 12,
        "start_time": "2024-08-01T06:19:44.513Z"
      },
      {
        "duration": 102,
        "start_time": "2024-08-01T06:19:44.529Z"
      },
      {
        "duration": 13,
        "start_time": "2024-08-01T06:19:44.634Z"
      },
      {
        "duration": 64,
        "start_time": "2024-08-01T06:19:44.650Z"
      },
      {
        "duration": 31,
        "start_time": "2024-08-01T06:19:44.717Z"
      },
      {
        "duration": 14,
        "start_time": "2024-08-01T06:19:44.751Z"
      },
      {
        "duration": 52,
        "start_time": "2024-08-01T06:19:44.768Z"
      },
      {
        "duration": 13,
        "start_time": "2024-08-01T06:19:44.825Z"
      },
      {
        "duration": 90,
        "start_time": "2024-08-01T06:19:44.842Z"
      },
      {
        "duration": 11,
        "start_time": "2024-08-01T06:19:44.936Z"
      },
      {
        "duration": 21,
        "start_time": "2024-08-01T06:19:44.950Z"
      },
      {
        "duration": 22,
        "start_time": "2024-08-01T06:19:45.004Z"
      },
      {
        "duration": 11,
        "start_time": "2024-08-01T06:19:45.030Z"
      },
      {
        "duration": 83,
        "start_time": "2024-08-01T06:19:45.045Z"
      },
      {
        "duration": 12,
        "start_time": "2024-08-01T06:19:45.131Z"
      },
      {
        "duration": 104,
        "start_time": "2024-08-01T06:19:45.146Z"
      },
      {
        "duration": 12,
        "start_time": "2024-08-01T06:19:45.260Z"
      },
      {
        "duration": 52,
        "start_time": "2024-08-01T06:19:45.275Z"
      },
      {
        "duration": 12,
        "start_time": "2024-08-01T06:19:45.330Z"
      },
      {
        "duration": 27,
        "start_time": "2024-08-01T06:19:45.344Z"
      },
      {
        "duration": 12,
        "start_time": "2024-08-01T06:19:45.403Z"
      },
      {
        "duration": 6,
        "start_time": "2024-08-01T06:19:45.418Z"
      },
      {
        "duration": 3,
        "start_time": "2024-08-01T06:19:45.427Z"
      },
      {
        "duration": 7,
        "start_time": "2024-08-01T06:19:45.433Z"
      },
      {
        "duration": 59,
        "start_time": "2024-08-01T06:19:45.444Z"
      },
      {
        "duration": 4,
        "start_time": "2024-08-01T06:19:45.506Z"
      },
      {
        "duration": 103,
        "start_time": "2024-08-01T06:19:45.513Z"
      },
      {
        "duration": 20,
        "start_time": "2024-08-01T06:19:45.619Z"
      },
      {
        "duration": 78,
        "start_time": "2024-08-01T06:19:45.642Z"
      },
      {
        "duration": 11,
        "start_time": "2024-08-01T06:19:45.723Z"
      },
      {
        "duration": 16,
        "start_time": "2024-08-01T06:19:45.738Z"
      },
      {
        "duration": 3,
        "start_time": "2024-08-01T06:19:45.757Z"
      },
      {
        "duration": 3,
        "start_time": "2024-08-01T06:19:45.802Z"
      },
      {
        "duration": 31,
        "start_time": "2024-08-01T06:19:45.809Z"
      },
      {
        "duration": 7,
        "start_time": "2024-08-01T06:19:45.844Z"
      },
      {
        "duration": 52,
        "start_time": "2024-08-01T06:19:45.854Z"
      },
      {
        "duration": 3,
        "start_time": "2024-08-01T06:19:45.910Z"
      },
      {
        "duration": 5,
        "start_time": "2024-08-01T06:19:45.916Z"
      },
      {
        "duration": 26,
        "start_time": "2024-08-01T06:19:45.923Z"
      },
      {
        "duration": 6,
        "start_time": "2024-08-01T06:19:45.954Z"
      },
      {
        "duration": 18,
        "start_time": "2024-08-01T06:19:46.001Z"
      },
      {
        "duration": 3,
        "start_time": "2024-08-01T06:19:46.023Z"
      },
      {
        "duration": 4,
        "start_time": "2024-08-01T06:19:46.029Z"
      },
      {
        "duration": 7,
        "start_time": "2024-08-01T06:19:46.037Z"
      },
      {
        "duration": 64,
        "start_time": "2024-08-01T06:19:46.047Z"
      },
      {
        "duration": 7,
        "start_time": "2024-08-01T06:19:46.117Z"
      },
      {
        "duration": 24,
        "start_time": "2024-08-01T06:19:46.129Z"
      },
      {
        "duration": 12,
        "start_time": "2024-08-01T06:19:46.156Z"
      },
      {
        "duration": 5,
        "start_time": "2024-08-01T06:19:46.201Z"
      },
      {
        "duration": 31,
        "start_time": "2024-08-01T06:19:46.210Z"
      },
      {
        "duration": 4,
        "start_time": "2024-08-01T06:19:46.244Z"
      },
      {
        "duration": 5,
        "start_time": "2024-08-01T06:19:46.251Z"
      },
      {
        "duration": 44,
        "start_time": "2024-08-01T06:19:46.259Z"
      },
      {
        "duration": 47,
        "start_time": "2024-08-01T06:19:46.307Z"
      },
      {
        "duration": 60,
        "start_time": "2024-08-01T06:19:46.357Z"
      },
      {
        "duration": 11,
        "start_time": "2024-08-01T06:19:46.419Z"
      },
      {
        "duration": 4,
        "start_time": "2024-08-01T06:19:46.433Z"
      },
      {
        "duration": 6,
        "start_time": "2024-08-01T06:19:46.439Z"
      },
      {
        "duration": 68,
        "start_time": "2024-08-01T06:19:46.449Z"
      },
      {
        "duration": 45,
        "start_time": "2024-08-01T06:19:46.520Z"
      },
      {
        "duration": 40,
        "start_time": "2024-08-01T06:19:46.568Z"
      },
      {
        "duration": 4,
        "start_time": "2024-08-01T06:19:46.610Z"
      },
      {
        "duration": 9,
        "start_time": "2024-08-01T06:19:46.618Z"
      },
      {
        "duration": 45,
        "start_time": "2024-08-01T06:19:46.629Z"
      },
      {
        "duration": 35,
        "start_time": "2024-08-01T06:19:46.703Z"
      },
      {
        "duration": 11,
        "start_time": "2024-08-01T06:19:46.741Z"
      },
      {
        "duration": 3,
        "start_time": "2024-08-01T06:19:46.756Z"
      },
      {
        "duration": 45,
        "start_time": "2024-08-01T06:19:46.763Z"
      },
      {
        "duration": 68,
        "start_time": "2024-08-01T06:19:46.812Z"
      },
      {
        "duration": 54,
        "start_time": "2024-08-01T06:19:46.883Z"
      },
      {
        "duration": 3,
        "start_time": "2024-08-01T06:19:46.951Z"
      },
      {
        "duration": 561,
        "start_time": "2024-08-01T06:19:46.958Z"
      },
      {
        "duration": 485,
        "start_time": "2024-08-01T06:19:47.523Z"
      },
      {
        "duration": 15,
        "start_time": "2024-08-01T06:19:48.011Z"
      },
      {
        "duration": 244,
        "start_time": "2024-08-01T06:19:48.030Z"
      },
      {
        "duration": 333,
        "start_time": "2024-08-01T06:19:48.277Z"
      },
      {
        "duration": 346,
        "start_time": "2024-08-01T06:19:48.612Z"
      },
      {
        "duration": 4,
        "start_time": "2024-08-01T06:19:48.961Z"
      },
      {
        "duration": 5,
        "start_time": "2024-08-01T06:19:48.968Z"
      },
      {
        "duration": 1792,
        "start_time": "2024-08-01T06:19:49.001Z"
      },
      {
        "duration": 22,
        "start_time": "2024-08-01T06:19:50.803Z"
      },
      {
        "duration": 5,
        "start_time": "2024-08-01T06:19:50.828Z"
      },
      {
        "duration": 4,
        "start_time": "2024-08-01T06:19:50.837Z"
      },
      {
        "duration": 13,
        "start_time": "2024-08-01T06:19:50.845Z"
      },
      {
        "duration": 6,
        "start_time": "2024-08-01T06:19:50.903Z"
      },
      {
        "duration": 4,
        "start_time": "2024-08-01T06:19:50.912Z"
      },
      {
        "duration": 17,
        "start_time": "2024-08-01T06:19:50.919Z"
      },
      {
        "duration": 15,
        "start_time": "2024-08-01T06:19:50.939Z"
      },
      {
        "duration": 7,
        "start_time": "2024-08-01T06:19:51.001Z"
      },
      {
        "duration": 5,
        "start_time": "2024-08-01T06:19:51.012Z"
      },
      {
        "duration": 8,
        "start_time": "2024-08-01T06:19:51.020Z"
      },
      {
        "duration": 9,
        "start_time": "2024-08-01T06:19:51.031Z"
      },
      {
        "duration": 61,
        "start_time": "2024-08-01T06:19:51.044Z"
      },
      {
        "duration": 10,
        "start_time": "2024-08-01T06:19:51.109Z"
      },
      {
        "duration": 6,
        "start_time": "2024-08-01T06:19:51.123Z"
      },
      {
        "duration": 4864,
        "start_time": "2024-08-04T17:27:00.570Z"
      },
      {
        "duration": 364,
        "start_time": "2024-08-04T17:27:05.438Z"
      },
      {
        "duration": 44,
        "start_time": "2024-08-04T17:27:05.805Z"
      },
      {
        "duration": 15,
        "start_time": "2024-08-04T17:27:05.853Z"
      },
      {
        "duration": 4,
        "start_time": "2024-08-04T17:27:05.871Z"
      },
      {
        "duration": 14,
        "start_time": "2024-08-04T17:27:05.878Z"
      },
      {
        "duration": 58,
        "start_time": "2024-08-04T17:27:05.895Z"
      },
      {
        "duration": 21,
        "start_time": "2024-08-04T17:27:05.957Z"
      },
      {
        "duration": 10,
        "start_time": "2024-08-04T17:27:05.981Z"
      },
      {
        "duration": 57,
        "start_time": "2024-08-04T17:27:05.996Z"
      },
      {
        "duration": 49,
        "start_time": "2024-08-04T17:27:06.056Z"
      },
      {
        "duration": 45,
        "start_time": "2024-08-04T17:27:06.107Z"
      },
      {
        "duration": 109,
        "start_time": "2024-08-04T17:27:06.156Z"
      },
      {
        "duration": 13,
        "start_time": "2024-08-04T17:27:06.268Z"
      },
      {
        "duration": 63,
        "start_time": "2024-08-04T17:27:06.285Z"
      },
      {
        "duration": 30,
        "start_time": "2024-08-04T17:27:06.351Z"
      },
      {
        "duration": 12,
        "start_time": "2024-08-04T17:27:06.386Z"
      },
      {
        "duration": 46,
        "start_time": "2024-08-04T17:27:06.401Z"
      },
      {
        "duration": 12,
        "start_time": "2024-08-04T17:27:06.449Z"
      },
      {
        "duration": 83,
        "start_time": "2024-08-04T17:27:06.464Z"
      },
      {
        "duration": 12,
        "start_time": "2024-08-04T17:27:06.550Z"
      },
      {
        "duration": 21,
        "start_time": "2024-08-04T17:27:06.565Z"
      },
      {
        "duration": 56,
        "start_time": "2024-08-04T17:27:06.589Z"
      },
      {
        "duration": 11,
        "start_time": "2024-08-04T17:27:06.648Z"
      },
      {
        "duration": 46,
        "start_time": "2024-08-04T17:27:06.662Z"
      },
      {
        "duration": 13,
        "start_time": "2024-08-04T17:27:06.735Z"
      },
      {
        "duration": 100,
        "start_time": "2024-08-04T17:27:06.751Z"
      },
      {
        "duration": 12,
        "start_time": "2024-08-04T17:27:06.862Z"
      },
      {
        "duration": 63,
        "start_time": "2024-08-04T17:27:06.877Z"
      },
      {
        "duration": 12,
        "start_time": "2024-08-04T17:27:06.943Z"
      },
      {
        "duration": 27,
        "start_time": "2024-08-04T17:27:06.957Z"
      },
      {
        "duration": 13,
        "start_time": "2024-08-04T17:27:06.987Z"
      },
      {
        "duration": 9,
        "start_time": "2024-08-04T17:27:07.036Z"
      },
      {
        "duration": 4,
        "start_time": "2024-08-04T17:27:07.048Z"
      },
      {
        "duration": 7,
        "start_time": "2024-08-04T17:27:07.055Z"
      },
      {
        "duration": 14,
        "start_time": "2024-08-04T17:27:07.066Z"
      },
      {
        "duration": 4,
        "start_time": "2024-08-04T17:27:07.082Z"
      },
      {
        "duration": 82,
        "start_time": "2024-08-04T17:27:07.134Z"
      },
      {
        "duration": 33,
        "start_time": "2024-08-04T17:27:07.219Z"
      },
      {
        "duration": 57,
        "start_time": "2024-08-04T17:27:07.254Z"
      },
      {
        "duration": 11,
        "start_time": "2024-08-04T17:27:07.334Z"
      },
      {
        "duration": 16,
        "start_time": "2024-08-04T17:27:07.349Z"
      },
      {
        "duration": 3,
        "start_time": "2024-08-04T17:27:07.368Z"
      },
      {
        "duration": 4,
        "start_time": "2024-08-04T17:27:07.374Z"
      },
      {
        "duration": 77,
        "start_time": "2024-08-04T17:27:07.381Z"
      },
      {
        "duration": 6,
        "start_time": "2024-08-04T17:27:07.461Z"
      },
      {
        "duration": 13,
        "start_time": "2024-08-04T17:27:07.470Z"
      },
      {
        "duration": 3,
        "start_time": "2024-08-04T17:27:07.486Z"
      },
      {
        "duration": 41,
        "start_time": "2024-08-04T17:27:07.493Z"
      },
      {
        "duration": 19,
        "start_time": "2024-08-04T17:27:07.537Z"
      },
      {
        "duration": 7,
        "start_time": "2024-08-04T17:27:07.559Z"
      },
      {
        "duration": 15,
        "start_time": "2024-08-04T17:27:07.569Z"
      },
      {
        "duration": 3,
        "start_time": "2024-08-04T17:27:07.588Z"
      },
      {
        "duration": 4,
        "start_time": "2024-08-04T17:27:07.634Z"
      },
      {
        "duration": 7,
        "start_time": "2024-08-04T17:27:07.642Z"
      },
      {
        "duration": 19,
        "start_time": "2024-08-04T17:27:07.652Z"
      },
      {
        "duration": 4,
        "start_time": "2024-08-04T17:27:07.674Z"
      },
      {
        "duration": 67,
        "start_time": "2024-08-04T17:27:07.681Z"
      },
      {
        "duration": 12,
        "start_time": "2024-08-04T17:27:07.751Z"
      },
      {
        "duration": 4,
        "start_time": "2024-08-04T17:27:07.765Z"
      },
      {
        "duration": 28,
        "start_time": "2024-08-04T17:27:07.772Z"
      },
      {
        "duration": 4,
        "start_time": "2024-08-04T17:27:07.836Z"
      },
      {
        "duration": 4,
        "start_time": "2024-08-04T17:27:07.842Z"
      },
      {
        "duration": 5,
        "start_time": "2024-08-04T17:27:07.849Z"
      },
      {
        "duration": 84,
        "start_time": "2024-08-04T17:27:07.857Z"
      },
      {
        "duration": 25,
        "start_time": "2024-08-04T17:27:07.944Z"
      },
      {
        "duration": 10,
        "start_time": "2024-08-04T17:27:07.972Z"
      },
      {
        "duration": 4,
        "start_time": "2024-08-04T17:27:07.985Z"
      },
      {
        "duration": 5,
        "start_time": "2024-08-04T17:27:07.992Z"
      },
      {
        "duration": 26,
        "start_time": "2024-08-04T17:27:08.035Z"
      },
      {
        "duration": 71,
        "start_time": "2024-08-04T17:27:08.063Z"
      },
      {
        "duration": 10,
        "start_time": "2024-08-04T17:27:08.138Z"
      },
      {
        "duration": 6,
        "start_time": "2024-08-04T17:27:08.151Z"
      },
      {
        "duration": 7,
        "start_time": "2024-08-04T17:27:08.160Z"
      },
      {
        "duration": 87,
        "start_time": "2024-08-04T17:27:08.171Z"
      },
      {
        "duration": 31,
        "start_time": "2024-08-04T17:27:08.261Z"
      },
      {
        "duration": 10,
        "start_time": "2024-08-04T17:27:08.295Z"
      },
      {
        "duration": 3,
        "start_time": "2024-08-04T17:27:08.334Z"
      },
      {
        "duration": 7,
        "start_time": "2024-08-04T17:27:08.341Z"
      },
      {
        "duration": 88,
        "start_time": "2024-08-04T17:27:08.350Z"
      },
      {
        "duration": 31,
        "start_time": "2024-08-04T17:27:08.441Z"
      },
      {
        "duration": 3,
        "start_time": "2024-08-04T17:27:08.484Z"
      },
      {
        "duration": 543,
        "start_time": "2024-08-04T17:27:08.491Z"
      },
      {
        "duration": 384,
        "start_time": "2024-08-04T17:27:09.038Z"
      },
      {
        "duration": 20,
        "start_time": "2024-08-04T17:27:09.425Z"
      },
      {
        "duration": 229,
        "start_time": "2024-08-04T17:27:09.448Z"
      },
      {
        "duration": 387,
        "start_time": "2024-08-04T17:27:09.680Z"
      },
      {
        "duration": 348,
        "start_time": "2024-08-04T17:27:10.071Z"
      },
      {
        "duration": 13,
        "start_time": "2024-08-04T17:27:10.422Z"
      },
      {
        "duration": 4,
        "start_time": "2024-08-04T17:27:10.438Z"
      },
      {
        "duration": 1895,
        "start_time": "2024-08-04T17:27:10.445Z"
      },
      {
        "duration": 29,
        "start_time": "2024-08-04T17:27:12.342Z"
      },
      {
        "duration": 5,
        "start_time": "2024-08-04T17:27:12.375Z"
      },
      {
        "duration": 4,
        "start_time": "2024-08-04T17:27:12.384Z"
      },
      {
        "duration": 49,
        "start_time": "2024-08-04T17:27:12.392Z"
      },
      {
        "duration": 5,
        "start_time": "2024-08-04T17:27:12.445Z"
      },
      {
        "duration": 4,
        "start_time": "2024-08-04T17:27:12.454Z"
      },
      {
        "duration": 17,
        "start_time": "2024-08-04T17:27:12.462Z"
      },
      {
        "duration": 57,
        "start_time": "2024-08-04T17:27:12.484Z"
      },
      {
        "duration": 12,
        "start_time": "2024-08-04T17:27:12.546Z"
      },
      {
        "duration": 5,
        "start_time": "2024-08-04T17:27:12.560Z"
      },
      {
        "duration": 8,
        "start_time": "2024-08-04T17:27:12.568Z"
      },
      {
        "duration": 8,
        "start_time": "2024-08-04T17:27:12.580Z"
      },
      {
        "duration": 6,
        "start_time": "2024-08-04T17:27:12.634Z"
      },
      {
        "duration": 5,
        "start_time": "2024-08-04T17:27:12.643Z"
      },
      {
        "duration": 6,
        "start_time": "2024-08-04T17:27:12.651Z"
      }
    ],
    "colab": {
      "provenance": []
    },
    "kernelspec": {
      "display_name": "Python 3 (ipykernel)",
      "language": "python",
      "name": "python3"
    },
    "language_info": {
      "codemirror_mode": {
        "name": "ipython",
        "version": 3
      },
      "file_extension": ".py",
      "mimetype": "text/x-python",
      "name": "python",
      "nbconvert_exporter": "python",
      "pygments_lexer": "ipython3",
      "version": "3.9.19"
    },
    "toc": {
      "base_numbering": 1,
      "nav_menu": {},
      "number_sections": true,
      "sideBar": true,
      "skip_h1_title": false,
      "title_cell": "Table of Contents",
      "title_sidebar": "Contents",
      "toc_cell": false,
      "toc_position": {
        "height": "calc(100% - 180px)",
        "left": "10px",
        "top": "150px",
        "width": "314.174px"
      },
      "toc_section_display": true,
      "toc_window_display": true
    }
  },
  "nbformat": 4,
  "nbformat_minor": 0
}